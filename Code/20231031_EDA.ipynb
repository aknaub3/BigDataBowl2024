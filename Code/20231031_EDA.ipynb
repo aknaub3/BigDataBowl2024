{
 "cells": [
  {
   "cell_type": "code",
   "execution_count": 1,
   "id": "a078cd3d-50b4-42ff-aecc-68e6be2a705c",
   "metadata": {},
   "outputs": [],
   "source": [
    "import pandas as pd\n",
    "import numpy as np\n",
    "import matplotlib.pyplot as plt\n",
    "import seaborn as sns\n",
    "import plotly.express as px\n",
    "from datetime import datetime\n",
    "import math\n",
    "import statsmodels.api as sm\n",
    "import warnings\n",
    "from IPython.core.interactiveshell import InteractiveShell\n",
    "from scipy import stats\n",
    "import multiprocessing as mp\n",
    "\n",
    "from sklearn.model_selection import train_test_split\n",
    "import tensorflow as tf\n",
    "from tensorflow import keras\n",
    "\n",
    "mp.set_start_method(\"fork\")\n",
    "\n",
    "\n",
    "InteractiveShell.ast_node_interactivity = \"all\"\n",
    "warnings.filterwarnings('ignore')"
   ]
  },
  {
   "cell_type": "code",
   "execution_count": 2,
   "id": "350c03e9-cb40-4977-adc5-1a4de1ced83c",
   "metadata": {},
   "outputs": [],
   "source": [
    "#Read-In Data\n",
    "df = pd.read_csv('20231031_AllGames_wAdvancedTracking.csv')"
   ]
  },
  {
   "cell_type": "code",
   "execution_count": 3,
   "id": "402e879f-2105-4c74-9e43-0e9b58a4d4ef",
   "metadata": {},
   "outputs": [],
   "source": [
    "#Drop Columns that Can Lead to Memorizaton\n",
    "df = df.drop(columns = ['gameId','playId','event','tackle_x','tackle_y','playTime'])\n",
    "\n",
    "#One-Hot Encode \"Position\" Variable\n",
    "df = df.join(pd.get_dummies(df['position'], dtype=float))\n",
    "df = df.drop(columns = ['position'])\n",
    "\n",
    "#Replacing playerType with defense\n",
    "df.loc[(df.playerType != 'Offense')&(df.playerType != 'ballCarrier'), 'playerType'] = 'Defense'\n",
    "\n",
    "#One-Hot Encode \"playerType\" Variable\n",
    "df = df.join(pd.get_dummies(df['playerType'], dtype=float))\n",
    "df = df.drop(columns = ['playerType'])"
   ]
  },
  {
   "cell_type": "code",
   "execution_count": 4,
   "id": "92b6b22b-a6b0-4615-9e23-26e2a74b53a4",
   "metadata": {},
   "outputs": [],
   "source": [
    "from sklearn.preprocessing import MinMaxScaler, StandardScaler\n",
    "\n",
    "##Normalize the Data (MINMAX)\n",
    "columns_to_normalize = ['x', 'y', 's', 'a', 'dis', 'o', 'dir','distance_to_ballCarrier']\n",
    "scaler = MinMaxScaler()\n",
    "df[columns_to_normalize] = scaler.fit_transform(df[columns_to_normalize])\n",
    "\n",
    "##Normalize the Data (STANDARD)\n",
    "columns_to_normalize = ['age', 'height','weight']\n",
    "scaler = StandardScaler()\n",
    "df[columns_to_normalize] = scaler.fit_transform(df[columns_to_normalize])"
   ]
  },
  {
   "cell_type": "code",
   "execution_count": 5,
   "id": "2755f838-a84d-4432-bca1-2052cb7d134a",
   "metadata": {},
   "outputs": [],
   "source": [
    "df = df[['key', 'nflId', 'frameId', 'tackle', 'x', 'y', 's', 'a', 'dis', 'o', 'dir',\n",
    "       'height', 'weight', 'age', 'distance_to_ballCarrier', 'C', 'CB',\n",
    "       'DB', 'DE', 'DT', 'FB', 'FS', 'G', 'ILB', 'MLB', 'NT', 'OLB', 'QB',\n",
    "       'RB', 'SS', 'T', 'TE', 'WR', 'Defense', 'Offense', 'ballCarrier']]"
   ]
  },
  {
   "cell_type": "code",
   "execution_count": 6,
   "id": "c8c02b06-11f3-4222-958b-1413f16daf7b",
   "metadata": {},
   "outputs": [
    {
     "name": "stdout",
     "output_type": "stream",
     "text": [
      "100  Keys Completed of 10041.\n",
      "200  Keys Completed of 10041.\n",
      "300  Keys Completed of 10041.\n",
      "400  Keys Completed of 10041.\n",
      "500  Keys Completed of 10041.\n",
      "600  Keys Completed of 10041.\n",
      "700  Keys Completed of 10041.\n",
      "800  Keys Completed of 10041.\n",
      "900  Keys Completed of 10041.\n",
      "1000  Keys Completed of 10041.\n",
      "1100  Keys Completed of 10041.\n",
      "1200  Keys Completed of 10041.\n",
      "1300  Keys Completed of 10041.\n",
      "1400  Keys Completed of 10041.\n",
      "1500  Keys Completed of 10041.\n",
      "1600  Keys Completed of 10041.\n",
      "1700  Keys Completed of 10041.\n",
      "1800  Keys Completed of 10041.\n",
      "1900  Keys Completed of 10041.\n",
      "2000  Keys Completed of 10041.\n",
      "2100  Keys Completed of 10041.\n",
      "2200  Keys Completed of 10041.\n",
      "2300  Keys Completed of 10041.\n",
      "2400  Keys Completed of 10041.\n",
      "2500  Keys Completed of 10041.\n",
      "2600  Keys Completed of 10041.\n",
      "2700  Keys Completed of 10041.\n",
      "2800  Keys Completed of 10041.\n",
      "2900  Keys Completed of 10041.\n",
      "3000  Keys Completed of 10041.\n",
      "3100  Keys Completed of 10041.\n",
      "3200  Keys Completed of 10041.\n",
      "3300  Keys Completed of 10041.\n",
      "3400  Keys Completed of 10041.\n",
      "3500  Keys Completed of 10041.\n",
      "3600  Keys Completed of 10041.\n",
      "3700  Keys Completed of 10041.\n",
      "3800  Keys Completed of 10041.\n",
      "3900  Keys Completed of 10041.\n",
      "4000  Keys Completed of 10041.\n",
      "4100  Keys Completed of 10041.\n",
      "4200  Keys Completed of 10041.\n",
      "4300  Keys Completed of 10041.\n",
      "4400  Keys Completed of 10041.\n",
      "4500  Keys Completed of 10041.\n",
      "4600  Keys Completed of 10041.\n",
      "4700  Keys Completed of 10041.\n",
      "4800  Keys Completed of 10041.\n",
      "4900  Keys Completed of 10041.\n",
      "5000  Keys Completed of 10041.\n",
      "5100  Keys Completed of 10041.\n",
      "5200  Keys Completed of 10041.\n",
      "5300  Keys Completed of 10041.\n",
      "5400  Keys Completed of 10041.\n",
      "5500  Keys Completed of 10041.\n",
      "5600  Keys Completed of 10041.\n",
      "5700  Keys Completed of 10041.\n",
      "5800  Keys Completed of 10041.\n",
      "5900  Keys Completed of 10041.\n",
      "6000  Keys Completed of 10041.\n",
      "6100  Keys Completed of 10041.\n",
      "6200  Keys Completed of 10041.\n",
      "6300  Keys Completed of 10041.\n",
      "6400  Keys Completed of 10041.\n",
      "6500  Keys Completed of 10041.\n",
      "6600  Keys Completed of 10041.\n",
      "6700  Keys Completed of 10041.\n",
      "6800  Keys Completed of 10041.\n",
      "6900  Keys Completed of 10041.\n",
      "7000  Keys Completed of 10041.\n",
      "7100  Keys Completed of 10041.\n",
      "7200  Keys Completed of 10041.\n",
      "7300  Keys Completed of 10041.\n",
      "7400  Keys Completed of 10041.\n",
      "7500  Keys Completed of 10041.\n",
      "7600  Keys Completed of 10041.\n",
      "7700  Keys Completed of 10041.\n",
      "7800  Keys Completed of 10041.\n",
      "7900  Keys Completed of 10041.\n",
      "8000  Keys Completed of 10041.\n",
      "8100  Keys Completed of 10041.\n",
      "8200  Keys Completed of 10041.\n",
      "8300  Keys Completed of 10041.\n",
      "8400  Keys Completed of 10041.\n",
      "8500  Keys Completed of 10041.\n",
      "8600  Keys Completed of 10041.\n",
      "8700  Keys Completed of 10041.\n",
      "8800  Keys Completed of 10041.\n",
      "8900  Keys Completed of 10041.\n",
      "9000  Keys Completed of 10041.\n",
      "9100  Keys Completed of 10041.\n",
      "9200  Keys Completed of 10041.\n",
      "9300  Keys Completed of 10041.\n",
      "9400  Keys Completed of 10041.\n",
      "9500  Keys Completed of 10041.\n",
      "9600  Keys Completed of 10041.\n",
      "9700  Keys Completed of 10041.\n",
      "9800  Keys Completed of 10041.\n",
      "9900  Keys Completed of 10041.\n",
      "10000  Keys Completed of 10041.\n"
     ]
    }
   ],
   "source": [
    "#List of Unique Plays\n",
    "keys = df['key'].unique()\n",
    "\n",
    "#Max Number of Frames in One Play\n",
    "max_frames = df['frameId'].unique().max()\n",
    "\n",
    "#Number of Players per Frame\n",
    "num_players = 22\n",
    "\n",
    "#Empty arrays for Input Data (X) and target data (y)\n",
    "X = []\n",
    "y = []\n",
    "\n",
    "i = 0\n",
    "\n",
    "for key in keys:\n",
    "    play_data = df[df.key == key]\n",
    "        \n",
    "    #List of Frames for this Key\n",
    "    frames = np.zeros((max_frames, 22, 32))\n",
    "    tackle_labels = np.zeros((max_frames, 22))\n",
    "    play_data = play_data.sort_values(by = ['frameId', 'nflId']).reset_index(drop = True)\n",
    "    \n",
    "    for frame in play_data['frameId'].unique():\n",
    "        frame_data_acc = []\n",
    "        tackle_label_acc = []\n",
    "    \n",
    "        frame_data_rows = play_data[play_data['frameId'] == frame]\n",
    "        \n",
    "        for _, row in frame_data_rows.iterrows():\n",
    "            frame_data = row.iloc[4:].values\n",
    "            frame_data_acc.append(frame_data)\n",
    "            tackle_label_acc.append(row['tackle'])\n",
    "    \n",
    "        frame_data = np.stack(frame_data_acc, axis = 0)\n",
    "        tackle_label = np.array(tackle_label_acc)\n",
    "        \n",
    "        frames[frame - 1] = frame_data\n",
    "        tackle_labels[frame - 1] = tackle_label\n",
    "\n",
    "    i += 1\n",
    "    if i % 100 == 0:\n",
    "        print(i, ' Keys Completed of 10041.')\n",
    "\n",
    "    X.append(frames)\n",
    "    y.append(tackle_labels)"
   ]
  },
  {
   "cell_type": "code",
   "execution_count": 7,
   "id": "8c27d90b-1bee-4344-adf1-719eceb787b4",
   "metadata": {},
   "outputs": [],
   "source": [
    "#Shaping the data to the correct form\n",
    "X_reshaped = np.array(X) #(10041, 127, 22, 32)\n",
    "y_reshaped = np.array(y) #(10041, 127, 22)"
   ]
  },
  {
   "cell_type": "code",
   "execution_count": 8,
   "id": "638a873b-36f3-4d7a-8126-b53b03e72872",
   "metadata": {},
   "outputs": [],
   "source": [
    "np.savez('data.npz', X = X_reshaped, y = y_reshaped)"
   ]
  },
  {
   "cell_type": "code",
   "execution_count": 325,
   "id": "55d6cb17-e9df-4cd9-bb4a-64c0a4f8830d",
   "metadata": {},
   "outputs": [],
   "source": [
    "#Splitting into training and testing data\n",
    "X_train, X_test, y_train, y_test = train_test_split(X_reshaped, y_reshaped, test_size = 0.2, random_state = 42)\n",
    "\n",
    "y_train = y_train[:, 0, :]"
   ]
  },
  {
   "cell_type": "code",
   "execution_count": 327,
   "id": "24907ee8-7842-45ac-96c2-69bfb00a67c9",
   "metadata": {},
   "outputs": [
    {
     "name": "stdout",
     "output_type": "stream",
     "text": [
      "Model: \"sequential_41\"\n",
      "_________________________________________________________________\n",
      " Layer (type)                Output Shape              Param #   \n",
      "=================================================================\n",
      " conv2d_10 (Conv2D)          (None, 125, 20, 64)       18496     \n",
      "                                                                 \n",
      " max_pooling2d_10 (MaxPoolin  (None, 62, 10, 64)       0         \n",
      " g2D)                                                            \n",
      "                                                                 \n",
      " conv2d_11 (Conv2D)          (None, 60, 8, 127)        73279     \n",
      "                                                                 \n",
      " max_pooling2d_11 (MaxPoolin  (None, 30, 4, 127)       0         \n",
      " g2D)                                                            \n",
      "                                                                 \n",
      " flatten_5 (Flatten)         (None, 15240)             0         \n",
      "                                                                 \n",
      " dense_87 (Dense)            (None, 256)               3901696   \n",
      "                                                                 \n",
      " dropout_5 (Dropout)         (None, 256)               0         \n",
      "                                                                 \n",
      " dense_88 (Dense)            (None, 22)                5654      \n",
      "                                                                 \n",
      "=================================================================\n",
      "Total params: 3,999,125\n",
      "Trainable params: 3,999,125\n",
      "Non-trainable params: 0\n",
      "_________________________________________________________________\n"
     ]
    }
   ],
   "source": [
    "#Define the Input Shape (127 frames, 22 players, 32 field of data)\n",
    "input_shape = (127, 22, 32)\n",
    "num_players = 22\n",
    "\n",
    "#Create a Sequential Model for TF\n",
    "model = keras.models.Sequential()\n",
    "\n",
    "#Add Input Layer to the Model (Trying 2D CNN as it is like image data)\n",
    "model.add(keras.layers.Input(shape = input_shape))\n",
    "\n",
    "#Add Convolution Layers\n",
    "model.add(keras.layers.Conv2D(64, (3,3), activation = 'relu'))\n",
    "model.add(keras.layers.MaxPooling2D((2,2)))\n",
    "model.add(keras.layers.Conv2D(127, (3,3), activation = 'relu'))\n",
    "model.add(keras.layers.MaxPooling2D((2,2)))\n",
    "\n",
    "#Flatten and Add Dense Layers\n",
    "model.add(keras.layers.Flatten())\n",
    "model.add(keras.layers.Dense(256, activation = 'relu'))\n",
    "model.add(keras.layers.Dropout(0.5))\n",
    "model.add(keras.layers.Dense(num_players, activation = 'sigmoid'))\n",
    "\n",
    "#Compile the model\n",
    "model.compile(optimizer = 'adam',\n",
    "              loss = 'binary_crossentropy',\n",
    "              metrics = ['accuracy'])\n",
    "\n",
    "#Summarize the model\n",
    "model.summary()"
   ]
  },
  {
   "cell_type": "code",
   "execution_count": null,
   "id": "1a56987a-1138-4631-892b-186e3f8800f5",
   "metadata": {},
   "outputs": [],
   "source": [
    "#Fit the Model\n",
    "history = model.fit(X_train, y_train,\n",
    "                    epochs = 10,\n",
    "                    validation_split = 0.2,\n",
    "                    batch_size = 32,\n",
    "                    callbacks=[keras.callbacks.ModelCheckpoint(\"DNN_model.h5\",save_best_only=True,save_weights_only=False),\n",
    "                               keras.callbacks.EarlyStopping(monitor='val_accuracy', patience=2)])"
   ]
  },
  {
   "cell_type": "code",
   "execution_count": 320,
   "id": "af666885-4cb4-4146-a7dd-3a562e5c9a8f",
   "metadata": {},
   "outputs": [
    {
     "data": {
      "text/plain": [
       "(8032, 127, 22, 32)"
      ]
     },
     "execution_count": 320,
     "metadata": {},
     "output_type": "execute_result"
    }
   ],
   "source": [
    "X_train.shape"
   ]
  },
  {
   "cell_type": "code",
   "execution_count": 326,
   "id": "8503a86c-47fc-4c54-851e-628447a9d878",
   "metadata": {},
   "outputs": [
    {
     "data": {
      "text/plain": [
       "(8032, 22)"
      ]
     },
     "execution_count": 326,
     "metadata": {},
     "output_type": "execute_result"
    }
   ],
   "source": [
    "y_train.shape"
   ]
  },
  {
   "cell_type": "code",
   "execution_count": null,
   "id": "80668c8e-b058-4c28-b80d-ecffadf87873",
   "metadata": {},
   "outputs": [],
   "source": []
  }
 ],
 "metadata": {
  "kernelspec": {
   "display_name": "Python 3 (ipykernel)",
   "language": "python",
   "name": "python3"
  },
  "language_info": {
   "codemirror_mode": {
    "name": "ipython",
    "version": 3
   },
   "file_extension": ".py",
   "mimetype": "text/x-python",
   "name": "python",
   "nbconvert_exporter": "python",
   "pygments_lexer": "ipython3",
   "version": "3.10.12"
  }
 },
 "nbformat": 4,
 "nbformat_minor": 5
}
