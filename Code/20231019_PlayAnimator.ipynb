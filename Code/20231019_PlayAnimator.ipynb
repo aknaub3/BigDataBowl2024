{
 "cells": [
  {
   "cell_type": "code",
   "execution_count": 1,
   "id": "984efb29",
   "metadata": {},
   "outputs": [],
   "source": [
    "import pandas as pd\n",
    "import numpy as np\n",
    "import matplotlib.pyplot as plt\n",
    "import seaborn as sns\n",
    "import plotly.express as px\n",
    "from datetime import datetime\n",
    "import math\n",
    "import statsmodels.api as sm\n",
    "import warnings\n",
    "from IPython.core.interactiveshell import InteractiveShell\n",
    "\n",
    "InteractiveShell.ast_node_interactivity = \"all\"\n",
    "warnings.filterwarnings('ignore')"
   ]
  },
  {
   "cell_type": "code",
   "execution_count": 2,
   "id": "493d1fae",
   "metadata": {},
   "outputs": [],
   "source": [
    "#Importing Files from Competition\n",
    "\n",
    "games = pd.read_csv('games.csv')\n",
    "players = pd.read_csv('players.csv')\n",
    "plays = pd.read_csv('plays.csv')\n",
    "tackles = pd.read_csv('tackles.csv')"
   ]
  },
  {
   "cell_type": "markdown",
   "id": "5191e338",
   "metadata": {},
   "source": [
    "### Game EDA"
   ]
  },
  {
   "cell_type": "code",
   "execution_count": 3,
   "id": "07f2cc20",
   "metadata": {},
   "outputs": [
    {
     "name": "stdout",
     "output_type": "stream",
     "text": [
      "Number of Weeks:  9\n",
      "Number of Games:  136\n"
     ]
    }
   ],
   "source": [
    "print('Number of Weeks: ', games['week'].nunique())\n",
    "print('Number of Games: ', games['gameId'].nunique())"
   ]
  },
  {
   "cell_type": "code",
   "execution_count": 4,
   "id": "43115252",
   "metadata": {},
   "outputs": [
    {
     "name": "stdout",
     "output_type": "stream",
     "text": [
      "Home Team Score: \n"
     ]
    },
    {
     "data": {
      "text/plain": [
       "count    136.000000\n",
       "mean      22.669118\n",
       "std        8.659874\n",
       "min        3.000000\n",
       "25%       17.000000\n",
       "50%       22.500000\n",
       "75%       27.000000\n",
       "max       49.000000\n",
       "Name: homeFinalScore, dtype: float64"
      ]
     },
     "execution_count": 4,
     "metadata": {},
     "output_type": "execute_result"
    },
    {
     "name": "stdout",
     "output_type": "stream",
     "text": [
      "Visitor Team Score: \n"
     ]
    },
    {
     "data": {
      "text/plain": [
       "count    136.000000\n",
       "mean      20.948529\n",
       "std        9.731446\n",
       "min        0.000000\n",
       "25%       14.750000\n",
       "50%       20.000000\n",
       "75%       27.000000\n",
       "max       48.000000\n",
       "Name: visitorFinalScore, dtype: float64"
      ]
     },
     "execution_count": 4,
     "metadata": {},
     "output_type": "execute_result"
    }
   ],
   "source": [
    "#Describing Score Metrics\n",
    "\n",
    "print('Home Team Score: ')\n",
    "games.homeFinalScore.describe()\n",
    "\n",
    "print('Visitor Team Score: ')\n",
    "games.visitorFinalScore.describe()"
   ]
  },
  {
   "cell_type": "code",
   "execution_count": 5,
   "id": "cb767e2f",
   "metadata": {},
   "outputs": [],
   "source": [
    "#Converting gameDate to DateTime for Day of Week Analysis\n",
    "games['gameDate'] = pd.to_datetime(games['gameDate'])\n",
    "\n",
    "#Finding Day of Week\n",
    "games['dayOfWeek'] = games['gameDate'].dt.day_name()\n",
    "\n",
    "#Denoting if Game is Primetime\n",
    "games['primeTime'] = 'No'\n",
    "games.loc[games.dayOfWeek == 'Thursday', 'primeTime'] = 'Yes'\n",
    "games.loc[games.dayOfWeek == 'Monday', 'primeTime'] = 'Yes'\n",
    "games.loc[(games.dayOfWeek == 'Sunday') & (games.gameTimeEastern.str[0:2] == '20'), 'primeTime'] = 'Yes'"
   ]
  },
  {
   "cell_type": "markdown",
   "id": "d36c0228",
   "metadata": {},
   "source": [
    "### Tracking EDA"
   ]
  },
  {
   "cell_type": "code",
   "execution_count": 6,
   "id": "e0f3a555",
   "metadata": {},
   "outputs": [],
   "source": [
    "#Importing Tracking from Week 1\n",
    "tracking_1 = pd.read_csv('tracking_week_1.csv')\n",
    "tracking_1['x'] = tracking_1.x.round(2)"
   ]
  },
  {
   "cell_type": "markdown",
   "id": "573868b5",
   "metadata": {},
   "source": [
    "### Play Animation"
   ]
  },
  {
   "cell_type": "code",
   "execution_count": 7,
   "id": "37585f7d",
   "metadata": {},
   "outputs": [
    {
     "data": {
      "text/html": [
       "<div>\n",
       "<style scoped>\n",
       "    .dataframe tbody tr th:only-of-type {\n",
       "        vertical-align: middle;\n",
       "    }\n",
       "\n",
       "    .dataframe tbody tr th {\n",
       "        vertical-align: top;\n",
       "    }\n",
       "\n",
       "    .dataframe thead th {\n",
       "        text-align: right;\n",
       "    }\n",
       "</style>\n",
       "<table border=\"1\" class=\"dataframe\">\n",
       "  <thead>\n",
       "    <tr style=\"text-align: right;\">\n",
       "      <th></th>\n",
       "      <th>gameId</th>\n",
       "      <th>playId</th>\n",
       "      <th>frameId</th>\n",
       "    </tr>\n",
       "  </thead>\n",
       "  <tbody>\n",
       "    <tr>\n",
       "      <th>861</th>\n",
       "      <td>2022091108</td>\n",
       "      <td>171</td>\n",
       "      <td>11</td>\n",
       "    </tr>\n",
       "    <tr>\n",
       "      <th>73</th>\n",
       "      <td>2022090800</td>\n",
       "      <td>2979</td>\n",
       "      <td>11</td>\n",
       "    </tr>\n",
       "    <tr>\n",
       "      <th>1010</th>\n",
       "      <td>2022091109</td>\n",
       "      <td>2824</td>\n",
       "      <td>11</td>\n",
       "    </tr>\n",
       "    <tr>\n",
       "      <th>1301</th>\n",
       "      <td>2022091113</td>\n",
       "      <td>155</td>\n",
       "      <td>11</td>\n",
       "    </tr>\n",
       "    <tr>\n",
       "      <th>1388</th>\n",
       "      <td>2022091200</td>\n",
       "      <td>156</td>\n",
       "      <td>11</td>\n",
       "    </tr>\n",
       "    <tr>\n",
       "      <th>...</th>\n",
       "      <td>...</td>\n",
       "      <td>...</td>\n",
       "      <td>...</td>\n",
       "    </tr>\n",
       "    <tr>\n",
       "      <th>336</th>\n",
       "      <td>2022091102</td>\n",
       "      <td>2738</td>\n",
       "      <td>95</td>\n",
       "    </tr>\n",
       "    <tr>\n",
       "      <th>1257</th>\n",
       "      <td>2022091112</td>\n",
       "      <td>2246</td>\n",
       "      <td>95</td>\n",
       "    </tr>\n",
       "    <tr>\n",
       "      <th>686</th>\n",
       "      <td>2022091105</td>\n",
       "      <td>4905</td>\n",
       "      <td>98</td>\n",
       "    </tr>\n",
       "    <tr>\n",
       "      <th>902</th>\n",
       "      <td>2022091108</td>\n",
       "      <td>1948</td>\n",
       "      <td>111</td>\n",
       "    </tr>\n",
       "    <tr>\n",
       "      <th>103</th>\n",
       "      <td>2022091100</td>\n",
       "      <td>546</td>\n",
       "      <td>114</td>\n",
       "    </tr>\n",
       "  </tbody>\n",
       "</table>\n",
       "<p>1473 rows × 3 columns</p>\n",
       "</div>"
      ],
      "text/plain": [
       "          gameId  playId  frameId\n",
       "861   2022091108     171       11\n",
       "73    2022090800    2979       11\n",
       "1010  2022091109    2824       11\n",
       "1301  2022091113     155       11\n",
       "1388  2022091200     156       11\n",
       "...          ...     ...      ...\n",
       "336   2022091102    2738       95\n",
       "1257  2022091112    2246       95\n",
       "686   2022091105    4905       98\n",
       "902   2022091108    1948      111\n",
       "103   2022091100     546      114\n",
       "\n",
       "[1473 rows x 3 columns]"
      ]
     },
     "execution_count": 7,
     "metadata": {},
     "output_type": "execute_result"
    }
   ],
   "source": [
    "tracking_1.groupby(['gameId','playId'])['frameId',].max().reset_index().sort_values(by = ['frameId'])"
   ]
  },
  {
   "cell_type": "code",
   "execution_count": 8,
   "id": "ad3c57a7",
   "metadata": {},
   "outputs": [],
   "source": [
    "GAMEID = 2022090800\n",
    "PLAYID = 80"
   ]
  },
  {
   "cell_type": "code",
   "execution_count": 9,
   "id": "73fa1574",
   "metadata": {},
   "outputs": [],
   "source": [
    "data = tracking_1[(tracking_1.gameId == GAMEID) & (tracking_1.playId == PLAYID)]\n",
    "tackle_data = tackles[(tackles.gameId == GAMEID)&(tackles.playId == PLAYID)].reset_index(drop = True)\n",
    "play_data = plays[(plays.gameId == GAMEID)&(plays.playId == PLAYID)].reset_index(drop=True)"
   ]
  },
  {
   "cell_type": "code",
   "execution_count": 10,
   "id": "8c64ffbd",
   "metadata": {},
   "outputs": [],
   "source": [
    "#Creates Empty Lists for Tacklers, Missed Tackles, Assits, and Forced Fumbles\n",
    "tackles_list = []\n",
    "missed_tackles = []\n",
    "assists = []\n",
    "forcedFumbles = []\n",
    "\n",
    "#Iterates through the Tack Data and Identifies the above acategories, appends to the list\n",
    "for row in range(len(tackle_data)):\n",
    "    if tackle_data.iloc[row]['tackle'] == 1:\n",
    "        tackles_list.append(tackle_data.iloc[row].nflId)\n",
    "    if tackle_data.iloc[row]['assist'] == 1:\n",
    "        assists.append(tackle_data.iloc[row].nflId)\n",
    "    if tackle_data.iloc[row]['forcedFumble'] == 1:\n",
    "        forcedFumbles.append(tackle_data.iloc[row].nflId)\n",
    "    if tackle_data.iloc[row]['pff_missedTackle'] == 1:\n",
    "        missed_tackles.append(tackle_data.iloc[row].nflId)\n",
    "       \n",
    "\n",
    "#Identifies the Ball Carrier\n",
    "ball_carrier = int(play_data['ballCarrierId'])"
   ]
  },
  {
   "cell_type": "code",
   "execution_count": 11,
   "id": "928bd271",
   "metadata": {},
   "outputs": [],
   "source": [
    "#Labels Players in tracking data that are ball carrier, tackler, assist, FF, and missed Tackles\n",
    "data.loc[data['nflId'] == ball_carrier, 'tag'] = 'ballCarrier'\n",
    "\n",
    "data.loc[data['nflId'].isin(tackles_list), 'tackle'] = 1\n",
    "data.loc[data['nflId'].isin(assists), 'assist'] = 1\n",
    "data.loc[data['nflId'].isin(forcedFumbles), 'forcedFumble'] = 1\n",
    "data.loc[data['nflId'].isin(missed_tackles), 'missedTackle'] = 1"
   ]
  },
  {
   "cell_type": "code",
   "execution_count": 12,
   "id": "60a7a3de",
   "metadata": {},
   "outputs": [],
   "source": [
    "ball_carrier_xy = []\n",
    "ball_data = data[data.tag == 'ballCarrier']\n",
    "all_tacklers = tackles_list + missed_tackles + forcedFumbles + assists\n",
    "\n",
    "#Finds distance from tacklers to the ball_carrier\n",
    "for frame in list(data.frameId.sort_values().unique()):\n",
    "    \n",
    "    #Get xy coords for ball_carrier\n",
    "    ball_carrier_xy = ball_data[ball_data.frameId == frame][['x','y']].values.flatten().tolist()\n",
    "    \n",
    "    for player in all_tacklers:\n",
    "        #Get xy coords for tackler\n",
    "        tackler_xy = data[(data.nflId == player)&(data.frameId == frame)][['x','y']].values.flatten().tolist()\n",
    "\n",
    "        #Finds Distance from Ball Carrier to Tackler and appends it in dataframe\n",
    "        distance_from_carrier = math.dist(ball_carrier_xy, tackler_xy)\n",
    "        data.loc[(data.frameId == frame) & (data.nflId == player), 'distanceFromCarrier'] = distance_from_carrier\n",
    "    \n",
    "    #Get xy coords for ball_carier\n",
    "    carrier_xy = data[(data.displayName == 'football')&(data.frameId == frame)][['x','y']].values.flatten().tolist()\n",
    "\n",
    "    #Finds Distance from Ball Carrier to Tackler and appends it in dataframe\n",
    "    distance_from_carrier = math.dist(ball_carrier_xy, carrier_xy)\n",
    "    data.loc[(data.frameId == frame) & (data.displayName == 'football'), 'distanceFromCarrier'] = distance_from_carrier\n",
    "        \n",
    "football_xy = []\n",
    "football_data = data[data.displayName == 'football']\n",
    "\n",
    "#Finds distance from ballcarier to the football to know when he has the ball\n",
    "for frame in list(data.frameId.sort_values().unique()):\n",
    "    \n",
    "    #Get xy coords for ball_carrier\n",
    "    football_xy = football_data[football_data.frameId == frame][['x','y']].values.flatten().tolist()\n",
    "    \n",
    "    #Get xy coords for ball_carier\n",
    "    carrier_xy = data[(data.tag == 'ballCarrier')&(data.frameId == frame)][['x','y']].values.flatten().tolist()\n",
    "\n",
    "    #Finds Distance from Ball Carrier to Tackler and appends it in dataframe\n",
    "    distance_from_football = math.dist(football_xy, carrier_xy)\n",
    "    data.loc[(data.frameId == frame) & (data.tag == 'ballCarrier'), 'distanceFromCarrier'] = distance_from_football"
   ]
  },
  {
   "cell_type": "code",
   "execution_count": 13,
   "id": "d49d02d5",
   "metadata": {},
   "outputs": [],
   "source": [
    "data.loc[(data.distanceFromCarrier < 2)&(data.tackle == 1), 'club'] = 'Tackle'\n",
    "data.loc[(data.distanceFromCarrier < 2)&(data.missedTackle == 1), 'club'] = 'MissedTackle'\n",
    "data.loc[(data.distanceFromCarrier < 2)&(data.assist == 1), 'club'] = 'assist'\n",
    "data.loc[(data.distanceFromCarrier < 0.5)&(data.forcedFumble == 1), 'club'] = 'forcedFumble'\n",
    "\n",
    "data.loc[(data.distanceFromCarrier < 1.5)&(data.tag == 'ballCarrier'), 'club'] = 'ballCarrier'\n",
    "data.loc[(data.distanceFromCarrier < 1.5)&(data.displayName == 'football'), ['x','y']] = np.nan"
   ]
  },
  {
   "cell_type": "code",
   "execution_count": 14,
   "id": "e34e6e49",
   "metadata": {},
   "outputs": [],
   "source": [
    "num_of_missed = data[data.missedTackle==1]['nflId'].nunique()\n",
    "num_of_tackles = data[data.tackle == 1]['nflId'].nunique()\n",
    "num_of_assists = data[data.assist == 1]['nflId'].nunique()\n",
    "num_of_fumbles = data[data.forcedFumble == 1]['nflId'].nunique()\n",
    "\n",
    "for frame in list(data.frameId.sort_values().unique()):\n",
    "    \n",
    "    missing_players = num_of_missed - data[(data.frameId == frame)&(data.club == 'MissedTackle')]['missedTackle'].sum()\n",
    "    for i in range(int(missing_players)):\n",
    "        data = pd.concat([data, pd.DataFrame({'frameId':frame, 'club':'MissedTackle'}, index = [0])])\n",
    "        \n",
    "    missing_players = num_of_tackles - data[(data.frameId == frame)&(data.club == 'Tackle')]['tackle'].sum()\n",
    "    for i in range(int(missing_players)):\n",
    "        data = pd.concat([data, pd.DataFrame({'frameId':frame, 'club':'Tackle'}, index = [0])])\n",
    "        \n",
    "    missing_players = num_of_assists - data[(data.frameId == frame)&(data.club == 'assist')]['assist'].sum()\n",
    "    for i in range(int(missing_players)):\n",
    "        data = pd.concat([data, pd.DataFrame({'frameId':frame, 'club':'assist'}, index = [0])])\n",
    "\n",
    "    missing_players = num_of_fumbles - data[(data.frameId == frame)&(data.club == 'forcedFumble')]['forcedFumble'].sum()\n",
    "    for i in range(int(missing_players)):\n",
    "        data = pd.concat([data, pd.DataFrame({'frameId':frame, 'club':'forcedFumble'}, index = [0])])\n",
    "        \n",
    "    if not math.isnan(data[(data.frameId == frame)&(data.displayName == 'football')]['x']):\n",
    "        data = pd.concat([data, pd.DataFrame({'frameId':frame, 'club':'ballCarrier'}, index = [0])])"
   ]
  },
  {
   "cell_type": "code",
   "execution_count": 15,
   "id": "152eb15a",
   "metadata": {},
   "outputs": [],
   "source": [
    "#Replacing Team names with Offense and Defense\n",
    "\n",
    "data['club'] = data['club'].replace(play_data.iloc[0]['possessionTeam'], 'Offense')\n",
    "data['club'] = data['club'].replace(play_data.iloc[0]['defensiveTeam'], 'Defense')\n",
    "\n",
    "data = data.rename(columns = {'club':'Player of Interest'})"
   ]
  },
  {
   "cell_type": "code",
   "execution_count": 29,
   "id": "510845c9-fbd1-48d3-89f4-c4a05cc0615a",
   "metadata": {},
   "outputs": [],
   "source": [
    "#Changing the Direction Stats to Have All PLays moving to the same way for training\n",
    "data.loc[data.playDirection == 'left', 'x'] = 120 - data[data.playDirection == 'left']['x']\n",
    "data.loc[data.playDirection == 'left', 'y'] = 53.3 - data[data.playDirection == 'left']['y']\n",
    "data.loc[data.playDirection == 'left', 'o'] = 360 - data[data.playDirection == 'left']['o']\n",
    "data.loc[data.playDirection == 'left', 'dir'] = 360 - data[data.playDirection == 'left']['dir']"
   ]
  },
  {
   "cell_type": "code",
   "execution_count": 30,
   "id": "d41c8b39-7e95-4e22-8e34-cda631a4509d",
   "metadata": {},
   "outputs": [
    {
     "data": {
      "application/vnd.plotly.v1+json": {
       "config": {
        "plotlyServerURL": "https://plot.ly"
       },
       "data": [
        {
         "hovertemplate": "<b>%{hovertext}</b><br><br>Player of Interest=Offense<br>frameId=1<br>x=%{x}<br>y=%{y}<extra></extra>",
         "hovertext": [
          "Rodger Saffold",
          "Mitch Morse",
          "Stefon Diggs",
          "Dion Dawkins",
          "Isaiah McKenzie",
          "Devin Singletary",
          "Dawson Knox",
          "Ryan Bates",
          "Gabe Davis",
          "Spencer Brown"
         ],
         "legendgroup": "Offense",
         "marker": {
          "color": "cornsilk",
          "line": {
           "color": "black",
           "width": 2
          },
          "opacity": 0.9,
          "size": 12,
          "symbol": "circle"
         },
         "mode": "markers",
         "name": "Offense",
         "orientation": "v",
         "showlegend": true,
         "type": "scatter",
         "x": [
          37.58,
          38.25,
          50.58,
          37.06999999999999,
          47.36,
          35.81999999999999,
          45.36,
          34.41,
          48.379999999999995,
          33.72
         ],
         "xaxis": "x",
         "y": [
          27.169999999999998,
          24.909999999999997,
          30.709999999999997,
          28.709999999999997,
          44.8,
          7.849999999999994,
          18.709999999999994,
          23.669999999999998,
          38.89,
          20.049999999999997
         ],
         "yaxis": "y"
        },
        {
         "hovertemplate": "<b>%{hovertext}</b><br><br>Player of Interest=Defense<br>frameId=1<br>x=%{x}<br>y=%{y}<extra></extra>",
         "hovertext": [
          "Bobby Wagner",
          "Aaron Donald",
          "Troy Hill",
          "Jalen Ramsey",
          "Leonard Floyd",
          "A'Shawn Robinson",
          "Taylor Rapp",
          "Greg Gaines",
          "Nick Scott",
          "Jordan Fuller",
          "Ernest Jones"
         ],
         "legendgroup": "Defense",
         "marker": {
          "color": "lightblue",
          "line": {
           "color": "black",
           "width": 2
          },
          "opacity": 0.9,
          "size": 12,
          "symbol": "circle"
         },
         "mode": "markers",
         "name": "Defense",
         "orientation": "v",
         "showlegend": true,
         "type": "scatter",
         "x": [
          48.28,
          33.209999999999994,
          54.45,
          47.510000000000005,
          33.42,
          37.870000000000005,
          52.86,
          39.55,
          59.75,
          56.71,
          46.11
         ],
         "xaxis": "x",
         "y": [
          30.109999999999996,
          23.909999999999997,
          43.12,
          9.36,
          18.919999999999995,
          29.209999999999997,
          43.379999999999995,
          25.209999999999997,
          27.879999999999995,
          17.33,
          17.779999999999994
         ],
         "yaxis": "y"
        },
        {
         "hovertemplate": "<b>%{hovertext}</b><br><br>Player of Interest=ballCarrier<br>frameId=1<br>x=%{x}<br>y=%{y}<extra></extra>",
         "hovertext": [
          "Josh Allen"
         ],
         "legendgroup": "ballCarrier",
         "marker": {
          "color": "lime",
          "line": {
           "color": "black",
           "width": 2
          },
          "opacity": 0.9,
          "size": 12,
          "symbol": "circle"
         },
         "mode": "markers",
         "name": "ballCarrier",
         "orientation": "v",
         "showlegend": true,
         "type": "scatter",
         "x": [
          36.2
         ],
         "xaxis": "x",
         "y": [
          23.159999999999997
         ],
         "yaxis": "y"
        },
        {
         "hovertemplate": "<b>%{hovertext}</b><br><br>Player of Interest=Tackle<br>frameId=1<br>x=%{x}<br>y=%{y}<extra></extra>",
         "hovertext": [
          null
         ],
         "legendgroup": "Tackle",
         "marker": {
          "color": "red",
          "line": {
           "color": "black",
           "width": 2
          },
          "opacity": 0.9,
          "size": 12,
          "symbol": "circle"
         },
         "mode": "markers",
         "name": "Tackle",
         "orientation": "v",
         "showlegend": true,
         "type": "scatter",
         "x": [
          null
         ],
         "xaxis": "x",
         "y": [
          null
         ],
         "yaxis": "y"
        },
        {
         "hovertemplate": "<b>%{hovertext}</b><br><br>Player of Interest=football<br>frameId=1<br>x=%{x}<br>y=%{y}<extra></extra>",
         "hovertext": [
          "football"
         ],
         "legendgroup": "football",
         "marker": {
          "color": "#825736",
          "line": {
           "color": "black",
           "width": 2
          },
          "opacity": 0.9,
          "size": 12,
          "symbol": "circle"
         },
         "mode": "markers",
         "name": "football",
         "orientation": "v",
         "showlegend": true,
         "type": "scatter",
         "x": [
          null
         ],
         "xaxis": "x",
         "y": [
          null
         ],
         "yaxis": "y"
        }
       ],
       "frames": [
        {
         "data": [
          {
           "hovertemplate": "<b>%{hovertext}</b><br><br>Player of Interest=Offense<br>frameId=1<br>x=%{x}<br>y=%{y}<extra></extra>",
           "hovertext": [
            "Rodger Saffold",
            "Mitch Morse",
            "Stefon Diggs",
            "Dion Dawkins",
            "Isaiah McKenzie",
            "Devin Singletary",
            "Dawson Knox",
            "Ryan Bates",
            "Gabe Davis",
            "Spencer Brown"
           ],
           "legendgroup": "Offense",
           "marker": {
            "color": "cornsilk",
            "symbol": "circle"
           },
           "mode": "markers",
           "name": "Offense",
           "orientation": "v",
           "showlegend": true,
           "type": "scatter",
           "x": [
            37.58,
            38.25,
            50.58,
            37.06999999999999,
            47.36,
            35.81999999999999,
            45.36,
            34.41,
            48.379999999999995,
            33.72
           ],
           "xaxis": "x",
           "y": [
            27.169999999999998,
            24.909999999999997,
            30.709999999999997,
            28.709999999999997,
            44.8,
            7.849999999999994,
            18.709999999999994,
            23.669999999999998,
            38.89,
            20.049999999999997
           ],
           "yaxis": "y"
          },
          {
           "hovertemplate": "<b>%{hovertext}</b><br><br>Player of Interest=Defense<br>frameId=1<br>x=%{x}<br>y=%{y}<extra></extra>",
           "hovertext": [
            "Bobby Wagner",
            "Aaron Donald",
            "Troy Hill",
            "Jalen Ramsey",
            "Leonard Floyd",
            "A'Shawn Robinson",
            "Taylor Rapp",
            "Greg Gaines",
            "Nick Scott",
            "Jordan Fuller",
            "Ernest Jones"
           ],
           "legendgroup": "Defense",
           "marker": {
            "color": "lightblue",
            "symbol": "circle"
           },
           "mode": "markers",
           "name": "Defense",
           "orientation": "v",
           "showlegend": true,
           "type": "scatter",
           "x": [
            48.28,
            33.209999999999994,
            54.45,
            47.510000000000005,
            33.42,
            37.870000000000005,
            52.86,
            39.55,
            59.75,
            56.71,
            46.11
           ],
           "xaxis": "x",
           "y": [
            30.109999999999996,
            23.909999999999997,
            43.12,
            9.36,
            18.919999999999995,
            29.209999999999997,
            43.379999999999995,
            25.209999999999997,
            27.879999999999995,
            17.33,
            17.779999999999994
           ],
           "yaxis": "y"
          },
          {
           "hovertemplate": "<b>%{hovertext}</b><br><br>Player of Interest=ballCarrier<br>frameId=1<br>x=%{x}<br>y=%{y}<extra></extra>",
           "hovertext": [
            "Josh Allen"
           ],
           "legendgroup": "ballCarrier",
           "marker": {
            "color": "lime",
            "symbol": "circle"
           },
           "mode": "markers",
           "name": "ballCarrier",
           "orientation": "v",
           "showlegend": true,
           "type": "scatter",
           "x": [
            36.2
           ],
           "xaxis": "x",
           "y": [
            23.159999999999997
           ],
           "yaxis": "y"
          },
          {
           "hovertemplate": "<b>%{hovertext}</b><br><br>Player of Interest=Tackle<br>frameId=1<br>x=%{x}<br>y=%{y}<extra></extra>",
           "hovertext": [
            null
           ],
           "legendgroup": "Tackle",
           "marker": {
            "color": "red",
            "symbol": "circle"
           },
           "mode": "markers",
           "name": "Tackle",
           "orientation": "v",
           "showlegend": true,
           "type": "scatter",
           "x": [
            null
           ],
           "xaxis": "x",
           "y": [
            null
           ],
           "yaxis": "y"
          },
          {
           "hovertemplate": "<b>%{hovertext}</b><br><br>Player of Interest=football<br>frameId=1<br>x=%{x}<br>y=%{y}<extra></extra>",
           "hovertext": [
            "football"
           ],
           "legendgroup": "football",
           "marker": {
            "color": "#825736",
            "symbol": "circle"
           },
           "mode": "markers",
           "name": "football",
           "orientation": "v",
           "showlegend": true,
           "type": "scatter",
           "x": [
            null
           ],
           "xaxis": "x",
           "y": [
            null
           ],
           "yaxis": "y"
          }
         ],
         "name": "1"
        },
        {
         "data": [
          {
           "hovertemplate": "<b>%{hovertext}</b><br><br>Player of Interest=Offense<br>frameId=2<br>x=%{x}<br>y=%{y}<extra></extra>",
           "hovertext": [
            "Rodger Saffold",
            "Mitch Morse",
            "Stefon Diggs",
            "Dion Dawkins",
            "Isaiah McKenzie",
            "Devin Singletary",
            "Dawson Knox",
            "Ryan Bates",
            "Gabe Davis",
            "Spencer Brown"
           ],
           "legendgroup": "Offense",
           "marker": {
            "color": "cornsilk",
            "symbol": "circle"
           },
           "mode": "markers",
           "name": "Offense",
           "orientation": "v",
           "showlegend": true,
           "type": "scatter",
           "x": [
            37.42,
            38.290000000000006,
            51.120000000000005,
            37.03,
            47.760000000000005,
            35.97,
            45.47,
            34.209999999999994,
            48.620000000000005,
            33.620000000000005
           ],
           "xaxis": "x",
           "y": [
            27.339999999999996,
            24.769999999999996,
            30.49,
            28.769999999999996,
            45.11,
            7.469999999999999,
            18.86,
            23.789999999999996,
            38.66,
            20.119999999999997
           ],
           "yaxis": "y"
          },
          {
           "hovertemplate": "<b>%{hovertext}</b><br><br>Player of Interest=Defense<br>frameId=2<br>x=%{x}<br>y=%{y}<extra></extra>",
           "hovertext": [
            "Bobby Wagner",
            "Aaron Donald",
            "Troy Hill",
            "Jalen Ramsey",
            "Leonard Floyd",
            "A'Shawn Robinson",
            "Taylor Rapp",
            "Greg Gaines",
            "Nick Scott",
            "Jordan Fuller",
            "Ernest Jones"
           ],
           "legendgroup": "Defense",
           "marker": {
            "color": "lightblue",
            "symbol": "circle"
           },
           "mode": "markers",
           "name": "Defense",
           "orientation": "v",
           "showlegend": true,
           "type": "scatter",
           "x": [
            48.34,
            32.959999999999994,
            54.769999999999996,
            47.44,
            33.459999999999994,
            37.849999999999994,
            53.18000000000001,
            39.620000000000005,
            59.96,
            56.94,
            46.14
           ],
           "xaxis": "x",
           "y": [
            29.939999999999998,
            24.139999999999997,
            42.879999999999995,
            9.18,
            18.919999999999995,
            29.24,
            43.73,
            24.909999999999997,
            27.679999999999996,
            17.379999999999995,
            17.89
           ],
           "yaxis": "y"
          },
          {
           "hovertemplate": "<b>%{hovertext}</b><br><br>Player of Interest=ballCarrier<br>frameId=2<br>x=%{x}<br>y=%{y}<extra></extra>",
           "hovertext": [
            "Josh Allen"
           ],
           "legendgroup": "ballCarrier",
           "marker": {
            "color": "lime",
            "symbol": "circle"
           },
           "mode": "markers",
           "name": "ballCarrier",
           "orientation": "v",
           "showlegend": true,
           "type": "scatter",
           "x": [
            36.56999999999999
           ],
           "xaxis": "x",
           "y": [
            22.949999999999996
           ],
           "yaxis": "y"
          },
          {
           "hovertemplate": "<b>%{hovertext}</b><br><br>Player of Interest=Tackle<br>frameId=2<br>x=%{x}<br>y=%{y}<extra></extra>",
           "hovertext": [
            null
           ],
           "legendgroup": "Tackle",
           "marker": {
            "color": "red",
            "symbol": "circle"
           },
           "mode": "markers",
           "name": "Tackle",
           "orientation": "v",
           "showlegend": true,
           "type": "scatter",
           "x": [
            null
           ],
           "xaxis": "x",
           "y": [
            null
           ],
           "yaxis": "y"
          },
          {
           "hovertemplate": "<b>%{hovertext}</b><br><br>Player of Interest=football<br>frameId=2<br>x=%{x}<br>y=%{y}<extra></extra>",
           "hovertext": [
            "football"
           ],
           "legendgroup": "football",
           "marker": {
            "color": "#825736",
            "symbol": "circle"
           },
           "mode": "markers",
           "name": "football",
           "orientation": "v",
           "showlegend": true,
           "type": "scatter",
           "x": [
            null
           ],
           "xaxis": "x",
           "y": [
            null
           ],
           "yaxis": "y"
          }
         ],
         "name": "2"
        },
        {
         "data": [
          {
           "hovertemplate": "<b>%{hovertext}</b><br><br>Player of Interest=Offense<br>frameId=3<br>x=%{x}<br>y=%{y}<extra></extra>",
           "hovertext": [
            "Rodger Saffold",
            "Mitch Morse",
            "Stefon Diggs",
            "Dion Dawkins",
            "Isaiah McKenzie",
            "Devin Singletary",
            "Dawson Knox",
            "Ryan Bates",
            "Gabe Davis",
            "Spencer Brown"
           ],
           "legendgroup": "Offense",
           "marker": {
            "color": "cornsilk",
            "symbol": "circle"
           },
           "mode": "markers",
           "name": "Offense",
           "orientation": "v",
           "showlegend": true,
           "type": "scatter",
           "x": [
            37.269999999999996,
            38.349999999999994,
            51.620000000000005,
            37.03,
            48.09,
            36.120000000000005,
            45.55,
            34.040000000000006,
            48.83,
            33.56
           ],
           "xaxis": "x",
           "y": [
            27.509999999999998,
            24.599999999999998,
            30.189999999999998,
            28.839999999999996,
            45.39,
            7.099999999999994,
            19.009999999999998,
            23.889999999999997,
            38.43,
            20.18
           ],
           "yaxis": "y"
          },
          {
           "hovertemplate": "<b>%{hovertext}</b><br><br>Player of Interest=Defense<br>frameId=3<br>x=%{x}<br>y=%{y}<extra></extra>",
           "hovertext": [
            "Bobby Wagner",
            "Aaron Donald",
            "Troy Hill",
            "Jalen Ramsey",
            "Leonard Floyd",
            "A'Shawn Robinson",
            "Taylor Rapp",
            "Greg Gaines",
            "Nick Scott",
            "Jordan Fuller",
            "Ernest Jones"
           ],
           "legendgroup": "Defense",
           "marker": {
            "color": "lightblue",
            "symbol": "circle"
           },
           "mode": "markers",
           "name": "Defense",
           "orientation": "v",
           "showlegend": true,
           "type": "scatter",
           "x": [
            48.39,
            32.72,
            55.06999999999999,
            47.379999999999995,
            33.59,
            37.870000000000005,
            53.489999999999995,
            39.69,
            60.14,
            57.14,
            46.14
           ],
           "xaxis": "x",
           "y": [
            29.74,
            24.33,
            42.61,
            9.009999999999998,
            18.909999999999997,
            29.249999999999996,
            44.06999999999999,
            24.569999999999997,
            27.47,
            17.43,
            18
           ],
           "yaxis": "y"
          },
          {
           "hovertemplate": "<b>%{hovertext}</b><br><br>Player of Interest=ballCarrier<br>frameId=3<br>x=%{x}<br>y=%{y}<extra></extra>",
           "hovertext": [
            "Josh Allen"
           ],
           "legendgroup": "ballCarrier",
           "marker": {
            "color": "lime",
            "symbol": "circle"
           },
           "mode": "markers",
           "name": "ballCarrier",
           "orientation": "v",
           "showlegend": true,
           "type": "scatter",
           "x": [
            36.959999999999994
           ],
           "xaxis": "x",
           "y": [
            22.72
           ],
           "yaxis": "y"
          },
          {
           "hovertemplate": "<b>%{hovertext}</b><br><br>Player of Interest=Tackle<br>frameId=3<br>x=%{x}<br>y=%{y}<extra></extra>",
           "hovertext": [
            null
           ],
           "legendgroup": "Tackle",
           "marker": {
            "color": "red",
            "symbol": "circle"
           },
           "mode": "markers",
           "name": "Tackle",
           "orientation": "v",
           "showlegend": true,
           "type": "scatter",
           "x": [
            null
           ],
           "xaxis": "x",
           "y": [
            null
           ],
           "yaxis": "y"
          },
          {
           "hovertemplate": "<b>%{hovertext}</b><br><br>Player of Interest=football<br>frameId=3<br>x=%{x}<br>y=%{y}<extra></extra>",
           "hovertext": [
            "football"
           ],
           "legendgroup": "football",
           "marker": {
            "color": "#825736",
            "symbol": "circle"
           },
           "mode": "markers",
           "name": "football",
           "orientation": "v",
           "showlegend": true,
           "type": "scatter",
           "x": [
            null
           ],
           "xaxis": "x",
           "y": [
            null
           ],
           "yaxis": "y"
          }
         ],
         "name": "3"
        },
        {
         "data": [
          {
           "hovertemplate": "<b>%{hovertext}</b><br><br>Player of Interest=Offense<br>frameId=4<br>x=%{x}<br>y=%{y}<extra></extra>",
           "hovertext": [
            "Rodger Saffold",
            "Mitch Morse",
            "Stefon Diggs",
            "Dion Dawkins",
            "Isaiah McKenzie",
            "Devin Singletary",
            "Dawson Knox",
            "Ryan Bates",
            "Gabe Davis",
            "Spencer Brown"
           ],
           "legendgroup": "Offense",
           "marker": {
            "color": "cornsilk",
            "symbol": "circle"
           },
           "mode": "markers",
           "name": "Offense",
           "orientation": "v",
           "showlegend": true,
           "type": "scatter",
           "x": [
            37.129999999999995,
            38.400000000000006,
            52.09,
            37.06999999999999,
            48.379999999999995,
            36.269999999999996,
            45.61,
            33.900000000000006,
            49.019999999999996,
            33.56
           ],
           "xaxis": "x",
           "y": [
            27.639999999999997,
            24.379999999999995,
            29.849999999999998,
            28.889999999999997,
            45.64,
            6.75,
            19.159999999999997,
            23.97,
            38.19,
            20.239999999999995
           ],
           "yaxis": "y"
          },
          {
           "hovertemplate": "<b>%{hovertext}</b><br><br>Player of Interest=Defense<br>frameId=4<br>x=%{x}<br>y=%{y}<extra></extra>",
           "hovertext": [
            "Bobby Wagner",
            "Aaron Donald",
            "Troy Hill",
            "Jalen Ramsey",
            "Leonard Floyd",
            "A'Shawn Robinson",
            "Taylor Rapp",
            "Greg Gaines",
            "Nick Scott",
            "Jordan Fuller",
            "Ernest Jones"
           ],
           "legendgroup": "Defense",
           "marker": {
            "color": "lightblue",
            "symbol": "circle"
           },
           "mode": "markers",
           "name": "Defense",
           "orientation": "v",
           "showlegend": true,
           "type": "scatter",
           "x": [
            48.42,
            32.5,
            55.349999999999994,
            47.33,
            33.8,
            37.93000000000001,
            53.78,
            39.78,
            60.27,
            57.32,
            46.14
           ],
           "xaxis": "x",
           "y": [
            29.499999999999996,
            24.47,
            42.3,
            8.849999999999994,
            18.869999999999997,
            29.24,
            44.39,
            24.199999999999996,
            27.22,
            17.459999999999994,
            18.119999999999997
           ],
           "yaxis": "y"
          },
          {
           "hovertemplate": "<b>%{hovertext}</b><br><br>Player of Interest=ballCarrier<br>frameId=4<br>x=%{x}<br>y=%{y}<extra></extra>",
           "hovertext": [
            "Josh Allen"
           ],
           "legendgroup": "ballCarrier",
           "marker": {
            "color": "lime",
            "symbol": "circle"
           },
           "mode": "markers",
           "name": "ballCarrier",
           "orientation": "v",
           "showlegend": true,
           "type": "scatter",
           "x": [
            37.349999999999994
           ],
           "xaxis": "x",
           "y": [
            22.439999999999998
           ],
           "yaxis": "y"
          },
          {
           "hovertemplate": "<b>%{hovertext}</b><br><br>Player of Interest=Tackle<br>frameId=4<br>x=%{x}<br>y=%{y}<extra></extra>",
           "hovertext": [
            null
           ],
           "legendgroup": "Tackle",
           "marker": {
            "color": "red",
            "symbol": "circle"
           },
           "mode": "markers",
           "name": "Tackle",
           "orientation": "v",
           "showlegend": true,
           "type": "scatter",
           "x": [
            null
           ],
           "xaxis": "x",
           "y": [
            null
           ],
           "yaxis": "y"
          },
          {
           "hovertemplate": "<b>%{hovertext}</b><br><br>Player of Interest=football<br>frameId=4<br>x=%{x}<br>y=%{y}<extra></extra>",
           "hovertext": [
            "football"
           ],
           "legendgroup": "football",
           "marker": {
            "color": "#825736",
            "symbol": "circle"
           },
           "mode": "markers",
           "name": "football",
           "orientation": "v",
           "showlegend": true,
           "type": "scatter",
           "x": [
            null
           ],
           "xaxis": "x",
           "y": [
            null
           ],
           "yaxis": "y"
          }
         ],
         "name": "4"
        },
        {
         "data": [
          {
           "hovertemplate": "<b>%{hovertext}</b><br><br>Player of Interest=Offense<br>frameId=5<br>x=%{x}<br>y=%{y}<extra></extra>",
           "hovertext": [
            "Rodger Saffold",
            "Mitch Morse",
            "Stefon Diggs",
            "Dion Dawkins",
            "Isaiah McKenzie",
            "Devin Singletary",
            "Dawson Knox",
            "Ryan Bates",
            "Gabe Davis",
            "Spencer Brown"
           ],
           "legendgroup": "Offense",
           "marker": {
            "color": "cornsilk",
            "symbol": "circle"
           },
           "mode": "markers",
           "name": "Offense",
           "orientation": "v",
           "showlegend": true,
           "type": "scatter",
           "x": [
            37.010000000000005,
            38.47,
            52.510000000000005,
            37.150000000000006,
            48.599999999999994,
            36.44,
            45.67,
            33.81,
            49.18000000000001,
            33.59
           ],
           "xaxis": "x",
           "y": [
            27.749999999999996,
            24.139999999999997,
            29.439999999999998,
            28.939999999999998,
            45.849999999999994,
            6.409999999999997,
            19.32,
            24.009999999999998,
            37.949999999999996,
            20.279999999999994
           ],
           "yaxis": "y"
          },
          {
           "hovertemplate": "<b>%{hovertext}</b><br><br>Player of Interest=Defense<br>frameId=5<br>x=%{x}<br>y=%{y}<extra></extra>",
           "hovertext": [
            "Bobby Wagner",
            "Aaron Donald",
            "Troy Hill",
            "Jalen Ramsey",
            "Leonard Floyd",
            "A'Shawn Robinson",
            "Taylor Rapp",
            "Greg Gaines",
            "Nick Scott",
            "Jordan Fuller",
            "Ernest Jones"
           ],
           "legendgroup": "Defense",
           "marker": {
            "color": "lightblue",
            "symbol": "circle"
           },
           "mode": "markers",
           "name": "Defense",
           "orientation": "v",
           "showlegend": true,
           "type": "scatter",
           "x": [
            48.44,
            32.31,
            55.620000000000005,
            47.290000000000006,
            34.08,
            38.03,
            54.019999999999996,
            39.89,
            60.36,
            57.47,
            46.129999999999995
           ],
           "xaxis": "x",
           "y": [
            29.159999999999997,
            24.569999999999997,
            41.97,
            8.699999999999996,
            18.809999999999995,
            29.209999999999997,
            44.69,
            23.789999999999996,
            26.959999999999997,
            17.47,
            18.22
           ],
           "yaxis": "y"
          },
          {
           "hovertemplate": "<b>%{hovertext}</b><br><br>Player of Interest=ballCarrier<br>frameId=5<br>x=%{x}<br>y=%{y}<extra></extra>",
           "hovertext": [
            "Josh Allen"
           ],
           "legendgroup": "ballCarrier",
           "marker": {
            "color": "lime",
            "symbol": "circle"
           },
           "mode": "markers",
           "name": "ballCarrier",
           "orientation": "v",
           "showlegend": true,
           "type": "scatter",
           "x": [
            37.75
           ],
           "xaxis": "x",
           "y": [
            22.119999999999997
           ],
           "yaxis": "y"
          },
          {
           "hovertemplate": "<b>%{hovertext}</b><br><br>Player of Interest=Tackle<br>frameId=5<br>x=%{x}<br>y=%{y}<extra></extra>",
           "hovertext": [
            null
           ],
           "legendgroup": "Tackle",
           "marker": {
            "color": "red",
            "symbol": "circle"
           },
           "mode": "markers",
           "name": "Tackle",
           "orientation": "v",
           "showlegend": true,
           "type": "scatter",
           "x": [
            null
           ],
           "xaxis": "x",
           "y": [
            null
           ],
           "yaxis": "y"
          },
          {
           "hovertemplate": "<b>%{hovertext}</b><br><br>Player of Interest=football<br>frameId=5<br>x=%{x}<br>y=%{y}<extra></extra>",
           "hovertext": [
            "football"
           ],
           "legendgroup": "football",
           "marker": {
            "color": "#825736",
            "symbol": "circle"
           },
           "mode": "markers",
           "name": "football",
           "orientation": "v",
           "showlegend": true,
           "type": "scatter",
           "x": [
            null
           ],
           "xaxis": "x",
           "y": [
            null
           ],
           "yaxis": "y"
          }
         ],
         "name": "5"
        },
        {
         "data": [
          {
           "hovertemplate": "<b>%{hovertext}</b><br><br>Player of Interest=Offense<br>frameId=6<br>x=%{x}<br>y=%{y}<extra></extra>",
           "hovertext": [
            "Rodger Saffold",
            "Mitch Morse",
            "Stefon Diggs",
            "Dion Dawkins",
            "Isaiah McKenzie",
            "Devin Singletary",
            "Dawson Knox",
            "Ryan Bates",
            "Gabe Davis",
            "Spencer Brown"
           ],
           "legendgroup": "Offense",
           "marker": {
            "color": "cornsilk",
            "symbol": "circle"
           },
           "mode": "markers",
           "name": "Offense",
           "orientation": "v",
           "showlegend": true,
           "type": "scatter",
           "x": [
            36.91,
            38.540000000000006,
            52.900000000000006,
            37.25,
            48.78,
            36.620000000000005,
            45.739999999999995,
            33.75,
            49.31999999999999,
            33.66
           ],
           "xaxis": "x",
           "y": [
            27.819999999999997,
            23.859999999999996,
            28.979999999999997,
            28.97,
            46.019999999999996,
            6.079999999999998,
            19.479999999999997,
            24.029999999999998,
            37.709999999999994,
            20.309999999999995
           ],
           "yaxis": "y"
          },
          {
           "hovertemplate": "<b>%{hovertext}</b><br><br>Player of Interest=Defense<br>frameId=6<br>x=%{x}<br>y=%{y}<extra></extra>",
           "hovertext": [
            "Bobby Wagner",
            "Aaron Donald",
            "Troy Hill",
            "Jalen Ramsey",
            "Leonard Floyd",
            "A'Shawn Robinson",
            "Taylor Rapp",
            "Greg Gaines",
            "Nick Scott",
            "Jordan Fuller",
            "Ernest Jones"
           ],
           "legendgroup": "Defense",
           "marker": {
            "color": "lightblue",
            "symbol": "circle"
           },
           "mode": "markers",
           "name": "Defense",
           "orientation": "v",
           "showlegend": true,
           "type": "scatter",
           "x": [
            48.45,
            32.150000000000006,
            55.849999999999994,
            47.25,
            34.42,
            38.19,
            54.209999999999994,
            40.019999999999996,
            60.4,
            57.57,
            46.099999999999994
           ],
           "xaxis": "x",
           "y": [
            28.799999999999997,
            24.619999999999997,
            41.589999999999996,
            8.559999999999995,
            18.729999999999997,
            29.139999999999997,
            44.959999999999994,
            23.359999999999996,
            26.659999999999997,
            17.449999999999996,
            18.25
           ],
           "yaxis": "y"
          },
          {
           "hovertemplate": "<b>%{hovertext}</b><br><br>Player of Interest=ballCarrier<br>frameId=6<br>x=%{x}<br>y=%{y}<extra></extra>",
           "hovertext": [
            "Josh Allen"
           ],
           "legendgroup": "ballCarrier",
           "marker": {
            "color": "lime",
            "symbol": "circle"
           },
           "mode": "markers",
           "name": "ballCarrier",
           "orientation": "v",
           "showlegend": true,
           "type": "scatter",
           "x": [
            38.150000000000006
           ],
           "xaxis": "x",
           "y": [
            21.74
           ],
           "yaxis": "y"
          },
          {
           "hovertemplate": "<b>%{hovertext}</b><br><br>Player of Interest=Tackle<br>frameId=6<br>x=%{x}<br>y=%{y}<extra></extra>",
           "hovertext": [
            null
           ],
           "legendgroup": "Tackle",
           "marker": {
            "color": "red",
            "symbol": "circle"
           },
           "mode": "markers",
           "name": "Tackle",
           "orientation": "v",
           "showlegend": true,
           "type": "scatter",
           "x": [
            null
           ],
           "xaxis": "x",
           "y": [
            null
           ],
           "yaxis": "y"
          },
          {
           "hovertemplate": "<b>%{hovertext}</b><br><br>Player of Interest=football<br>frameId=6<br>x=%{x}<br>y=%{y}<extra></extra>",
           "hovertext": [
            "football"
           ],
           "legendgroup": "football",
           "marker": {
            "color": "#825736",
            "symbol": "circle"
           },
           "mode": "markers",
           "name": "football",
           "orientation": "v",
           "showlegend": true,
           "type": "scatter",
           "x": [
            null
           ],
           "xaxis": "x",
           "y": [
            null
           ],
           "yaxis": "y"
          }
         ],
         "name": "6"
        },
        {
         "data": [
          {
           "hovertemplate": "<b>%{hovertext}</b><br><br>Player of Interest=Offense<br>frameId=7<br>x=%{x}<br>y=%{y}<extra></extra>",
           "hovertext": [
            "Rodger Saffold",
            "Mitch Morse",
            "Stefon Diggs",
            "Dion Dawkins",
            "Isaiah McKenzie",
            "Devin Singletary",
            "Dawson Knox",
            "Ryan Bates",
            "Gabe Davis",
            "Spencer Brown"
           ],
           "legendgroup": "Offense",
           "marker": {
            "color": "cornsilk",
            "symbol": "circle"
           },
           "mode": "markers",
           "name": "Offense",
           "orientation": "v",
           "showlegend": true,
           "type": "scatter",
           "x": [
            36.84,
            38.629999999999995,
            53.260000000000005,
            37.370000000000005,
            48.92,
            36.81,
            45.8,
            33.72,
            49.44,
            33.78
           ],
           "xaxis": "x",
           "y": [
            27.849999999999998,
            23.539999999999996,
            28.47,
            28.979999999999997,
            46.15,
            5.769999999999996,
            19.64,
            24.009999999999998,
            37.47,
            20.339999999999996
           ],
           "yaxis": "y"
          },
          {
           "hovertemplate": "<b>%{hovertext}</b><br><br>Player of Interest=Defense<br>frameId=7<br>x=%{x}<br>y=%{y}<extra></extra>",
           "hovertext": [
            "Bobby Wagner",
            "Aaron Donald",
            "Troy Hill",
            "Jalen Ramsey",
            "Leonard Floyd",
            "A'Shawn Robinson",
            "Taylor Rapp",
            "Greg Gaines",
            "Nick Scott",
            "Jordan Fuller",
            "Ernest Jones"
           ],
           "legendgroup": "Defense",
           "marker": {
            "color": "lightblue",
            "symbol": "circle"
           },
           "mode": "markers",
           "name": "Defense",
           "orientation": "v",
           "showlegend": true,
           "type": "scatter",
           "x": [
            48.44,
            32.010000000000005,
            56.07,
            47.22,
            34.81,
            38.379999999999995,
            54.33,
            40.17,
            60.39,
            57.63,
            46.05
           ],
           "xaxis": "x",
           "y": [
            28.409999999999997,
            24.629999999999995,
            41.19,
            8.43,
            18.64,
            29.049999999999997,
            45.18,
            22.889999999999997,
            26.339999999999996,
            17.379999999999995,
            18.239999999999995
           ],
           "yaxis": "y"
          },
          {
           "hovertemplate": "<b>%{hovertext}</b><br><br>Player of Interest=ballCarrier<br>frameId=7<br>x=%{x}<br>y=%{y}<extra></extra>",
           "hovertext": [
            "Josh Allen"
           ],
           "legendgroup": "ballCarrier",
           "marker": {
            "color": "lime",
            "symbol": "circle"
           },
           "mode": "markers",
           "name": "ballCarrier",
           "orientation": "v",
           "showlegend": true,
           "type": "scatter",
           "x": [
            38.56
           ],
           "xaxis": "x",
           "y": [
            21.319999999999997
           ],
           "yaxis": "y"
          },
          {
           "hovertemplate": "<b>%{hovertext}</b><br><br>Player of Interest=Tackle<br>frameId=7<br>x=%{x}<br>y=%{y}<extra></extra>",
           "hovertext": [
            null
           ],
           "legendgroup": "Tackle",
           "marker": {
            "color": "red",
            "symbol": "circle"
           },
           "mode": "markers",
           "name": "Tackle",
           "orientation": "v",
           "showlegend": true,
           "type": "scatter",
           "x": [
            null
           ],
           "xaxis": "x",
           "y": [
            null
           ],
           "yaxis": "y"
          },
          {
           "hovertemplate": "<b>%{hovertext}</b><br><br>Player of Interest=football<br>frameId=7<br>x=%{x}<br>y=%{y}<extra></extra>",
           "hovertext": [
            "football"
           ],
           "legendgroup": "football",
           "marker": {
            "color": "#825736",
            "symbol": "circle"
           },
           "mode": "markers",
           "name": "football",
           "orientation": "v",
           "showlegend": true,
           "type": "scatter",
           "x": [
            null
           ],
           "xaxis": "x",
           "y": [
            null
           ],
           "yaxis": "y"
          }
         ],
         "name": "7"
        },
        {
         "data": [
          {
           "hovertemplate": "<b>%{hovertext}</b><br><br>Player of Interest=Offense<br>frameId=8<br>x=%{x}<br>y=%{y}<extra></extra>",
           "hovertext": [
            "Rodger Saffold",
            "Mitch Morse",
            "Stefon Diggs",
            "Dion Dawkins",
            "Isaiah McKenzie",
            "Devin Singletary",
            "Dawson Knox",
            "Ryan Bates",
            "Gabe Davis",
            "Spencer Brown"
           ],
           "legendgroup": "Offense",
           "marker": {
            "color": "cornsilk",
            "symbol": "circle"
           },
           "mode": "markers",
           "name": "Offense",
           "orientation": "v",
           "showlegend": true,
           "type": "scatter",
           "x": [
            36.790000000000006,
            38.72,
            53.56999999999999,
            37.510000000000005,
            49.010000000000005,
            37.010000000000005,
            45.879999999999995,
            33.739999999999995,
            49.55,
            33.93000000000001
           ],
           "xaxis": "x",
           "y": [
            27.849999999999998,
            23.199999999999996,
            27.939999999999998,
            28.97,
            46.26,
            5.459999999999994,
            19.799999999999997,
            23.959999999999997,
            37.23,
            20.349999999999994
           ],
           "yaxis": "y"
          },
          {
           "hovertemplate": "<b>%{hovertext}</b><br><br>Player of Interest=Defense<br>frameId=8<br>x=%{x}<br>y=%{y}<extra></extra>",
           "hovertext": [
            "Bobby Wagner",
            "Aaron Donald",
            "Troy Hill",
            "Jalen Ramsey",
            "Leonard Floyd",
            "A'Shawn Robinson",
            "Taylor Rapp",
            "Greg Gaines",
            "Nick Scott",
            "Jordan Fuller",
            "Ernest Jones"
           ],
           "legendgroup": "Defense",
           "marker": {
            "color": "lightblue",
            "symbol": "circle"
           },
           "mode": "markers",
           "name": "Defense",
           "orientation": "v",
           "showlegend": true,
           "type": "scatter",
           "x": [
            48.43000000000001,
            31.900000000000006,
            56.25,
            47.209999999999994,
            35.239999999999995,
            38.61,
            54.39,
            40.349999999999994,
            60.33,
            57.65,
            45.989999999999995
           ],
           "xaxis": "x",
           "y": [
            27.97,
            24.569999999999997,
            40.75,
            8.329999999999998,
            18.509999999999998,
            28.919999999999998,
            45.37,
            22.4,
            25.979999999999997,
            17.29,
            18.169999999999995
           ],
           "yaxis": "y"
          },
          {
           "hovertemplate": "<b>%{hovertext}</b><br><br>Player of Interest=ballCarrier<br>frameId=8<br>x=%{x}<br>y=%{y}<extra></extra>",
           "hovertext": [
            "Josh Allen"
           ],
           "legendgroup": "ballCarrier",
           "marker": {
            "color": "lime",
            "symbol": "circle"
           },
           "mode": "markers",
           "name": "ballCarrier",
           "orientation": "v",
           "showlegend": true,
           "type": "scatter",
           "x": [
            38.97
           ],
           "xaxis": "x",
           "y": [
            20.869999999999997
           ],
           "yaxis": "y"
          },
          {
           "hovertemplate": "<b>%{hovertext}</b><br><br>Player of Interest=Tackle<br>frameId=8<br>x=%{x}<br>y=%{y}<extra></extra>",
           "hovertext": [
            null
           ],
           "legendgroup": "Tackle",
           "marker": {
            "color": "red",
            "symbol": "circle"
           },
           "mode": "markers",
           "name": "Tackle",
           "orientation": "v",
           "showlegend": true,
           "type": "scatter",
           "x": [
            null
           ],
           "xaxis": "x",
           "y": [
            null
           ],
           "yaxis": "y"
          },
          {
           "hovertemplate": "<b>%{hovertext}</b><br><br>Player of Interest=football<br>frameId=8<br>x=%{x}<br>y=%{y}<extra></extra>",
           "hovertext": [
            "football"
           ],
           "legendgroup": "football",
           "marker": {
            "color": "#825736",
            "symbol": "circle"
           },
           "mode": "markers",
           "name": "football",
           "orientation": "v",
           "showlegend": true,
           "type": "scatter",
           "x": [
            null
           ],
           "xaxis": "x",
           "y": [
            null
           ],
           "yaxis": "y"
          }
         ],
         "name": "8"
        },
        {
         "data": [
          {
           "hovertemplate": "<b>%{hovertext}</b><br><br>Player of Interest=Offense<br>frameId=9<br>x=%{x}<br>y=%{y}<extra></extra>",
           "hovertext": [
            "Rodger Saffold",
            "Mitch Morse",
            "Stefon Diggs",
            "Dion Dawkins",
            "Isaiah McKenzie",
            "Devin Singletary",
            "Dawson Knox",
            "Ryan Bates",
            "Gabe Davis",
            "Spencer Brown"
           ],
           "legendgroup": "Offense",
           "marker": {
            "color": "cornsilk",
            "symbol": "circle"
           },
           "mode": "markers",
           "name": "Offense",
           "orientation": "v",
           "showlegend": true,
           "type": "scatter",
           "x": [
            36.769999999999996,
            38.83,
            53.849999999999994,
            37.66,
            49.08,
            37.22,
            45.980000000000004,
            33.81,
            49.66,
            34.11
           ],
           "xaxis": "x",
           "y": [
            27.83,
            22.859999999999996,
            27.379999999999995,
            28.939999999999998,
            46.339999999999996,
            5.169999999999995,
            19.97,
            23.859999999999996,
            36.989999999999995,
            20.349999999999994
           ],
           "yaxis": "y"
          },
          {
           "hovertemplate": "<b>%{hovertext}</b><br><br>Player of Interest=Defense<br>frameId=9<br>x=%{x}<br>y=%{y}<extra></extra>",
           "hovertext": [
            "Bobby Wagner",
            "Aaron Donald",
            "Troy Hill",
            "Jalen Ramsey",
            "Leonard Floyd",
            "A'Shawn Robinson",
            "Taylor Rapp",
            "Greg Gaines",
            "Nick Scott",
            "Jordan Fuller",
            "Ernest Jones"
           ],
           "legendgroup": "Defense",
           "marker": {
            "color": "lightblue",
            "symbol": "circle"
           },
           "mode": "markers",
           "name": "Defense",
           "orientation": "v",
           "showlegend": true,
           "type": "scatter",
           "x": [
            48.42,
            31.799999999999997,
            56.41,
            47.19,
            35.709999999999994,
            38.879999999999995,
            54.379999999999995,
            40.55,
            60.23,
            57.61,
            45.92
           ],
           "xaxis": "x",
           "y": [
            27.49,
            24.479999999999997,
            40.3,
            8.239999999999995,
            18.369999999999997,
            28.769999999999996,
            45.519999999999996,
            21.889999999999997,
            25.609999999999996,
            17.169999999999995,
            18.059999999999995
           ],
           "yaxis": "y"
          },
          {
           "hovertemplate": "<b>%{hovertext}</b><br><br>Player of Interest=ballCarrier<br>frameId=9<br>x=%{x}<br>y=%{y}<extra></extra>",
           "hovertext": [
            "Josh Allen"
           ],
           "legendgroup": "ballCarrier",
           "marker": {
            "color": "lime",
            "symbol": "circle"
           },
           "mode": "markers",
           "name": "ballCarrier",
           "orientation": "v",
           "showlegend": true,
           "type": "scatter",
           "x": [
            39.379999999999995
           ],
           "xaxis": "x",
           "y": [
            20.379999999999995
           ],
           "yaxis": "y"
          },
          {
           "hovertemplate": "<b>%{hovertext}</b><br><br>Player of Interest=Tackle<br>frameId=9<br>x=%{x}<br>y=%{y}<extra></extra>",
           "hovertext": [
            null
           ],
           "legendgroup": "Tackle",
           "marker": {
            "color": "red",
            "symbol": "circle"
           },
           "mode": "markers",
           "name": "Tackle",
           "orientation": "v",
           "showlegend": true,
           "type": "scatter",
           "x": [
            null
           ],
           "xaxis": "x",
           "y": [
            null
           ],
           "yaxis": "y"
          },
          {
           "hovertemplate": "<b>%{hovertext}</b><br><br>Player of Interest=football<br>frameId=9<br>x=%{x}<br>y=%{y}<extra></extra>",
           "hovertext": [
            "football"
           ],
           "legendgroup": "football",
           "marker": {
            "color": "#825736",
            "symbol": "circle"
           },
           "mode": "markers",
           "name": "football",
           "orientation": "v",
           "showlegend": true,
           "type": "scatter",
           "x": [
            null
           ],
           "xaxis": "x",
           "y": [
            null
           ],
           "yaxis": "y"
          }
         ],
         "name": "9"
        },
        {
         "data": [
          {
           "hovertemplate": "<b>%{hovertext}</b><br><br>Player of Interest=Offense<br>frameId=10<br>x=%{x}<br>y=%{y}<extra></extra>",
           "hovertext": [
            "Rodger Saffold",
            "Mitch Morse",
            "Stefon Diggs",
            "Dion Dawkins",
            "Isaiah McKenzie",
            "Devin Singletary",
            "Dawson Knox",
            "Ryan Bates",
            "Gabe Davis",
            "Spencer Brown"
           ],
           "legendgroup": "Offense",
           "marker": {
            "color": "cornsilk",
            "symbol": "circle"
           },
           "mode": "markers",
           "name": "Offense",
           "orientation": "v",
           "showlegend": true,
           "type": "scatter",
           "x": [
            36.769999999999996,
            38.94,
            54.09,
            37.81,
            49.14,
            37.45,
            46.11,
            33.89,
            49.769999999999996,
            34.31
           ],
           "xaxis": "x",
           "y": [
            27.789999999999996,
            22.49,
            26.81,
            28.9,
            46.39,
            4.890000000000001,
            20.14,
            23.74,
            36.739999999999995,
            20.32
           ],
           "yaxis": "y"
          },
          {
           "hovertemplate": "<b>%{hovertext}</b><br><br>Player of Interest=Defense<br>frameId=10<br>x=%{x}<br>y=%{y}<extra></extra>",
           "hovertext": [
            "Bobby Wagner",
            "Aaron Donald",
            "Troy Hill",
            "Jalen Ramsey",
            "Leonard Floyd",
            "A'Shawn Robinson",
            "Taylor Rapp",
            "Greg Gaines",
            "Nick Scott",
            "Jordan Fuller",
            "Ernest Jones"
           ],
           "legendgroup": "Defense",
           "marker": {
            "color": "lightblue",
            "symbol": "circle"
           },
           "mode": "markers",
           "name": "Defense",
           "orientation": "v",
           "showlegend": true,
           "type": "scatter",
           "x": [
            48.41,
            31.739999999999995,
            56.53,
            47.19,
            36.2,
            39.17,
            54.31999999999999,
            40.769999999999996,
            60.08,
            57.5,
            45.84
           ],
           "xaxis": "x",
           "y": [
            26.979999999999997,
            24.339999999999996,
            39.81999999999999,
            8.159999999999997,
            18.189999999999998,
            28.589999999999996,
            45.64,
            21.349999999999998,
            25.209999999999997,
            17.009999999999998,
            17.879999999999995
           ],
           "yaxis": "y"
          },
          {
           "hovertemplate": "<b>%{hovertext}</b><br><br>Player of Interest=ballCarrier<br>frameId=10<br>x=%{x}<br>y=%{y}<extra></extra>",
           "hovertext": [
            "Josh Allen"
           ],
           "legendgroup": "ballCarrier",
           "marker": {
            "color": "lime",
            "symbol": "circle"
           },
           "mode": "markers",
           "name": "ballCarrier",
           "orientation": "v",
           "showlegend": true,
           "type": "scatter",
           "x": [
            39.8
           ],
           "xaxis": "x",
           "y": [
            19.849999999999994
           ],
           "yaxis": "y"
          },
          {
           "hovertemplate": "<b>%{hovertext}</b><br><br>Player of Interest=Tackle<br>frameId=10<br>x=%{x}<br>y=%{y}<extra></extra>",
           "hovertext": [
            null
           ],
           "legendgroup": "Tackle",
           "marker": {
            "color": "red",
            "symbol": "circle"
           },
           "mode": "markers",
           "name": "Tackle",
           "orientation": "v",
           "showlegend": true,
           "type": "scatter",
           "x": [
            null
           ],
           "xaxis": "x",
           "y": [
            null
           ],
           "yaxis": "y"
          },
          {
           "hovertemplate": "<b>%{hovertext}</b><br><br>Player of Interest=football<br>frameId=10<br>x=%{x}<br>y=%{y}<extra></extra>",
           "hovertext": [
            "football"
           ],
           "legendgroup": "football",
           "marker": {
            "color": "#825736",
            "symbol": "circle"
           },
           "mode": "markers",
           "name": "football",
           "orientation": "v",
           "showlegend": true,
           "type": "scatter",
           "x": [
            null
           ],
           "xaxis": "x",
           "y": [
            null
           ],
           "yaxis": "y"
          }
         ],
         "name": "10"
        },
        {
         "data": [
          {
           "hovertemplate": "<b>%{hovertext}</b><br><br>Player of Interest=Offense<br>frameId=11<br>x=%{x}<br>y=%{y}<extra></extra>",
           "hovertext": [
            "Rodger Saffold",
            "Mitch Morse",
            "Stefon Diggs",
            "Dion Dawkins",
            "Isaiah McKenzie",
            "Devin Singletary",
            "Dawson Knox",
            "Ryan Bates",
            "Gabe Davis",
            "Spencer Brown"
           ],
           "legendgroup": "Offense",
           "marker": {
            "color": "cornsilk",
            "symbol": "circle"
           },
           "mode": "markers",
           "name": "Offense",
           "orientation": "v",
           "showlegend": true,
           "type": "scatter",
           "x": [
            36.8,
            39.08,
            54.31,
            37.959999999999994,
            49.19,
            37.69,
            46.28,
            34.010000000000005,
            49.870000000000005,
            34.53
           ],
           "xaxis": "x",
           "y": [
            27.729999999999997,
            22.119999999999997,
            26.229999999999997,
            28.83,
            46.41,
            4.619999999999997,
            20.29,
            23.58,
            36.489999999999995,
            20.269999999999996
           ],
           "yaxis": "y"
          },
          {
           "hovertemplate": "<b>%{hovertext}</b><br><br>Player of Interest=Defense<br>frameId=11<br>x=%{x}<br>y=%{y}<extra></extra>",
           "hovertext": [
            "Bobby Wagner",
            "Aaron Donald",
            "Troy Hill",
            "Jalen Ramsey",
            "Leonard Floyd",
            "A'Shawn Robinson",
            "Taylor Rapp",
            "Greg Gaines",
            "Nick Scott",
            "Jordan Fuller",
            "Ernest Jones"
           ],
           "legendgroup": "Defense",
           "marker": {
            "color": "lightblue",
            "symbol": "circle"
           },
           "mode": "markers",
           "name": "Defense",
           "orientation": "v",
           "showlegend": true,
           "type": "scatter",
           "x": [
            48.41,
            31.709999999999994,
            56.63,
            47.19,
            36.7,
            39.480000000000004,
            54.2,
            41.019999999999996,
            59.89,
            57.35,
            45.760000000000005
           ],
           "xaxis": "x",
           "y": [
            26.429999999999996,
            24.169999999999998,
            39.31999999999999,
            8.089999999999996,
            17.97,
            28.389999999999997,
            45.73,
            20.799999999999997,
            24.779999999999998,
            16.809999999999995,
            17.65
           ],
           "yaxis": "y"
          },
          {
           "hovertemplate": "<b>%{hovertext}</b><br><br>Player of Interest=ballCarrier<br>frameId=11<br>x=%{x}<br>y=%{y}<extra></extra>",
           "hovertext": [
            "Josh Allen"
           ],
           "legendgroup": "ballCarrier",
           "marker": {
            "color": "lime",
            "symbol": "circle"
           },
           "mode": "markers",
           "name": "ballCarrier",
           "orientation": "v",
           "showlegend": true,
           "type": "scatter",
           "x": [
            40.230000000000004
           ],
           "xaxis": "x",
           "y": [
            19.299999999999997
           ],
           "yaxis": "y"
          },
          {
           "hovertemplate": "<b>%{hovertext}</b><br><br>Player of Interest=Tackle<br>frameId=11<br>x=%{x}<br>y=%{y}<extra></extra>",
           "hovertext": [
            null
           ],
           "legendgroup": "Tackle",
           "marker": {
            "color": "red",
            "symbol": "circle"
           },
           "mode": "markers",
           "name": "Tackle",
           "orientation": "v",
           "showlegend": true,
           "type": "scatter",
           "x": [
            null
           ],
           "xaxis": "x",
           "y": [
            null
           ],
           "yaxis": "y"
          },
          {
           "hovertemplate": "<b>%{hovertext}</b><br><br>Player of Interest=football<br>frameId=11<br>x=%{x}<br>y=%{y}<extra></extra>",
           "hovertext": [
            "football"
           ],
           "legendgroup": "football",
           "marker": {
            "color": "#825736",
            "symbol": "circle"
           },
           "mode": "markers",
           "name": "football",
           "orientation": "v",
           "showlegend": true,
           "type": "scatter",
           "x": [
            null
           ],
           "xaxis": "x",
           "y": [
            null
           ],
           "yaxis": "y"
          }
         ],
         "name": "11"
        },
        {
         "data": [
          {
           "hovertemplate": "<b>%{hovertext}</b><br><br>Player of Interest=Offense<br>frameId=12<br>x=%{x}<br>y=%{y}<extra></extra>",
           "hovertext": [
            "Rodger Saffold",
            "Mitch Morse",
            "Stefon Diggs",
            "Dion Dawkins",
            "Isaiah McKenzie",
            "Devin Singletary",
            "Dawson Knox",
            "Ryan Bates",
            "Gabe Davis",
            "Spencer Brown"
           ],
           "legendgroup": "Offense",
           "marker": {
            "color": "cornsilk",
            "symbol": "circle"
           },
           "mode": "markers",
           "name": "Offense",
           "orientation": "v",
           "showlegend": true,
           "type": "scatter",
           "x": [
            36.86,
            39.230000000000004,
            54.489999999999995,
            38.11,
            49.230000000000004,
            37.95,
            46.47,
            34.17,
            49.97,
            34.760000000000005
           ],
           "xaxis": "x",
           "y": [
            27.639999999999997,
            21.729999999999997,
            25.65,
            28.749999999999996,
            46.4,
            4.369999999999997,
            20.419999999999995,
            23.389999999999997,
            36.23,
            20.199999999999996
           ],
           "yaxis": "y"
          },
          {
           "hovertemplate": "<b>%{hovertext}</b><br><br>Player of Interest=Defense<br>frameId=12<br>x=%{x}<br>y=%{y}<extra></extra>",
           "hovertext": [
            "Bobby Wagner",
            "Aaron Donald",
            "Troy Hill",
            "Jalen Ramsey",
            "Leonard Floyd",
            "A'Shawn Robinson",
            "Taylor Rapp",
            "Greg Gaines",
            "Nick Scott",
            "Jordan Fuller",
            "Ernest Jones"
           ],
           "legendgroup": "Defense",
           "marker": {
            "color": "lightblue",
            "symbol": "circle"
           },
           "mode": "markers",
           "name": "Defense",
           "orientation": "v",
           "showlegend": true,
           "type": "scatter",
           "x": [
            48.43000000000001,
            31.730000000000004,
            56.7,
            47.19,
            37.22,
            39.8,
            54.040000000000006,
            41.290000000000006,
            59.66,
            57.15,
            45.67
           ],
           "xaxis": "x",
           "y": [
            25.849999999999998,
            23.959999999999997,
            38.809999999999995,
            8.019999999999996,
            17.709999999999994,
            28.179999999999996,
            45.79,
            20.239999999999995,
            24.339999999999996,
            16.599999999999994,
            17.379999999999995
           ],
           "yaxis": "y"
          },
          {
           "hovertemplate": "<b>%{hovertext}</b><br><br>Player of Interest=ballCarrier<br>frameId=12<br>x=%{x}<br>y=%{y}<extra></extra>",
           "hovertext": [
            "Josh Allen"
           ],
           "legendgroup": "ballCarrier",
           "marker": {
            "color": "lime",
            "symbol": "circle"
           },
           "mode": "markers",
           "name": "ballCarrier",
           "orientation": "v",
           "showlegend": true,
           "type": "scatter",
           "x": [
            40.66
           ],
           "xaxis": "x",
           "y": [
            18.72
           ],
           "yaxis": "y"
          },
          {
           "hovertemplate": "<b>%{hovertext}</b><br><br>Player of Interest=Tackle<br>frameId=12<br>x=%{x}<br>y=%{y}<extra></extra>",
           "hovertext": [
            null
           ],
           "legendgroup": "Tackle",
           "marker": {
            "color": "red",
            "symbol": "circle"
           },
           "mode": "markers",
           "name": "Tackle",
           "orientation": "v",
           "showlegend": true,
           "type": "scatter",
           "x": [
            null
           ],
           "xaxis": "x",
           "y": [
            null
           ],
           "yaxis": "y"
          },
          {
           "hovertemplate": "<b>%{hovertext}</b><br><br>Player of Interest=football<br>frameId=12<br>x=%{x}<br>y=%{y}<extra></extra>",
           "hovertext": [
            "football"
           ],
           "legendgroup": "football",
           "marker": {
            "color": "#825736",
            "symbol": "circle"
           },
           "mode": "markers",
           "name": "football",
           "orientation": "v",
           "showlegend": true,
           "type": "scatter",
           "x": [
            null
           ],
           "xaxis": "x",
           "y": [
            null
           ],
           "yaxis": "y"
          }
         ],
         "name": "12"
        },
        {
         "data": [
          {
           "hovertemplate": "<b>%{hovertext}</b><br><br>Player of Interest=Offense<br>frameId=13<br>x=%{x}<br>y=%{y}<extra></extra>",
           "hovertext": [
            "Rodger Saffold",
            "Mitch Morse",
            "Stefon Diggs",
            "Dion Dawkins",
            "Isaiah McKenzie",
            "Devin Singletary",
            "Dawson Knox",
            "Ryan Bates",
            "Gabe Davis",
            "Spencer Brown"
           ],
           "legendgroup": "Offense",
           "marker": {
            "color": "cornsilk",
            "symbol": "circle"
           },
           "mode": "markers",
           "name": "Offense",
           "orientation": "v",
           "showlegend": true,
           "type": "scatter",
           "x": [
            36.93000000000001,
            39.41,
            54.64,
            38.260000000000005,
            49.269999999999996,
            38.22,
            46.69,
            34.349999999999994,
            50.06999999999999,
            35.010000000000005
           ],
           "xaxis": "x",
           "y": [
            27.549999999999997,
            21.339999999999996,
            25.08,
            28.639999999999997,
            46.379999999999995,
            4.149999999999999,
            20.529999999999994,
            23.169999999999998,
            35.97,
            20.119999999999997
           ],
           "yaxis": "y"
          },
          {
           "hovertemplate": "<b>%{hovertext}</b><br><br>Player of Interest=Defense<br>frameId=13<br>x=%{x}<br>y=%{y}<extra></extra>",
           "hovertext": [
            "Bobby Wagner",
            "Aaron Donald",
            "Troy Hill",
            "Jalen Ramsey",
            "Leonard Floyd",
            "A'Shawn Robinson",
            "Taylor Rapp",
            "Greg Gaines",
            "Nick Scott",
            "Jordan Fuller",
            "Ernest Jones"
           ],
           "legendgroup": "Defense",
           "marker": {
            "color": "lightblue",
            "symbol": "circle"
           },
           "mode": "markers",
           "name": "Defense",
           "orientation": "v",
           "showlegend": true,
           "type": "scatter",
           "x": [
            48.459999999999994,
            31.769999999999996,
            56.75,
            47.2,
            37.75,
            40.120000000000005,
            53.84,
            41.58,
            59.39,
            56.9,
            45.599999999999994
           ],
           "xaxis": "x",
           "y": [
            25.249999999999996,
            23.74,
            38.28,
            7.969999999999999,
            17.43,
            27.949999999999996,
            45.83,
            19.669999999999995,
            23.869999999999997,
            16.369999999999997,
            17.059999999999995
           ],
           "yaxis": "y"
          },
          {
           "hovertemplate": "<b>%{hovertext}</b><br><br>Player of Interest=ballCarrier<br>frameId=13<br>x=%{x}<br>y=%{y}<extra></extra>",
           "hovertext": [
            "Josh Allen"
           ],
           "legendgroup": "ballCarrier",
           "marker": {
            "color": "lime",
            "symbol": "circle"
           },
           "mode": "markers",
           "name": "ballCarrier",
           "orientation": "v",
           "showlegend": true,
           "type": "scatter",
           "x": [
            41.099999999999994
           ],
           "xaxis": "x",
           "y": [
            18.129999999999995
           ],
           "yaxis": "y"
          },
          {
           "hovertemplate": "<b>%{hovertext}</b><br><br>Player of Interest=Tackle<br>frameId=13<br>x=%{x}<br>y=%{y}<extra></extra>",
           "hovertext": [
            null
           ],
           "legendgroup": "Tackle",
           "marker": {
            "color": "red",
            "symbol": "circle"
           },
           "mode": "markers",
           "name": "Tackle",
           "orientation": "v",
           "showlegend": true,
           "type": "scatter",
           "x": [
            null
           ],
           "xaxis": "x",
           "y": [
            null
           ],
           "yaxis": "y"
          },
          {
           "hovertemplate": "<b>%{hovertext}</b><br><br>Player of Interest=football<br>frameId=13<br>x=%{x}<br>y=%{y}<extra></extra>",
           "hovertext": [
            "football"
           ],
           "legendgroup": "football",
           "marker": {
            "color": "#825736",
            "symbol": "circle"
           },
           "mode": "markers",
           "name": "football",
           "orientation": "v",
           "showlegend": true,
           "type": "scatter",
           "x": [
            null
           ],
           "xaxis": "x",
           "y": [
            null
           ],
           "yaxis": "y"
          }
         ],
         "name": "13"
        },
        {
         "data": [
          {
           "hovertemplate": "<b>%{hovertext}</b><br><br>Player of Interest=Offense<br>frameId=14<br>x=%{x}<br>y=%{y}<extra></extra>",
           "hovertext": [
            "Rodger Saffold",
            "Mitch Morse",
            "Stefon Diggs",
            "Dion Dawkins",
            "Isaiah McKenzie",
            "Devin Singletary",
            "Dawson Knox",
            "Ryan Bates",
            "Gabe Davis",
            "Spencer Brown"
           ],
           "legendgroup": "Offense",
           "marker": {
            "color": "cornsilk",
            "symbol": "circle"
           },
           "mode": "markers",
           "name": "Offense",
           "orientation": "v",
           "showlegend": true,
           "type": "scatter",
           "x": [
            37.03,
            39.620000000000005,
            54.769999999999996,
            38.42,
            49.3,
            38.510000000000005,
            46.94,
            34.56,
            50.16,
            35.269999999999996
           ],
           "xaxis": "x",
           "y": [
            27.439999999999998,
            20.93,
            24.529999999999998,
            28.519999999999996,
            46.33,
            3.9299999999999997,
            20.61,
            22.929999999999996,
            35.69,
            20.009999999999998
           ],
           "yaxis": "y"
          },
          {
           "hovertemplate": "<b>%{hovertext}</b><br><br>Player of Interest=Defense<br>frameId=14<br>x=%{x}<br>y=%{y}<extra></extra>",
           "hovertext": [
            "Bobby Wagner",
            "Aaron Donald",
            "Troy Hill",
            "Jalen Ramsey",
            "Leonard Floyd",
            "A'Shawn Robinson",
            "Taylor Rapp",
            "Greg Gaines",
            "Nick Scott",
            "Jordan Fuller",
            "Ernest Jones"
           ],
           "legendgroup": "Defense",
           "marker": {
            "color": "lightblue",
            "symbol": "circle"
           },
           "mode": "markers",
           "name": "Defense",
           "orientation": "v",
           "showlegend": true,
           "type": "scatter",
           "x": [
            48.5,
            31.83,
            56.77,
            47.22,
            38.290000000000006,
            40.45,
            53.620000000000005,
            41.89,
            59.1,
            56.59,
            45.53
           ],
           "xaxis": "x",
           "y": [
            24.629999999999995,
            23.509999999999998,
            37.739999999999995,
            7.919999999999995,
            17.119999999999997,
            27.709999999999997,
            45.81999999999999,
            19.08,
            23.389999999999997,
            16.099999999999994,
            16.699999999999996
           ],
           "yaxis": "y"
          },
          {
           "hovertemplate": "<b>%{hovertext}</b><br><br>Player of Interest=ballCarrier<br>frameId=14<br>x=%{x}<br>y=%{y}<extra></extra>",
           "hovertext": [
            "Josh Allen"
           ],
           "legendgroup": "ballCarrier",
           "marker": {
            "color": "lime",
            "symbol": "circle"
           },
           "mode": "markers",
           "name": "ballCarrier",
           "orientation": "v",
           "showlegend": true,
           "type": "scatter",
           "x": [
            41.56999999999999
           ],
           "xaxis": "x",
           "y": [
            17.529999999999994
           ],
           "yaxis": "y"
          },
          {
           "hovertemplate": "<b>%{hovertext}</b><br><br>Player of Interest=Tackle<br>frameId=14<br>x=%{x}<br>y=%{y}<extra></extra>",
           "hovertext": [
            null
           ],
           "legendgroup": "Tackle",
           "marker": {
            "color": "red",
            "symbol": "circle"
           },
           "mode": "markers",
           "name": "Tackle",
           "orientation": "v",
           "showlegend": true,
           "type": "scatter",
           "x": [
            null
           ],
           "xaxis": "x",
           "y": [
            null
           ],
           "yaxis": "y"
          },
          {
           "hovertemplate": "<b>%{hovertext}</b><br><br>Player of Interest=football<br>frameId=14<br>x=%{x}<br>y=%{y}<extra></extra>",
           "hovertext": [
            "football"
           ],
           "legendgroup": "football",
           "marker": {
            "color": "#825736",
            "symbol": "circle"
           },
           "mode": "markers",
           "name": "football",
           "orientation": "v",
           "showlegend": true,
           "type": "scatter",
           "x": [
            null
           ],
           "xaxis": "x",
           "y": [
            null
           ],
           "yaxis": "y"
          }
         ],
         "name": "14"
        },
        {
         "data": [
          {
           "hovertemplate": "<b>%{hovertext}</b><br><br>Player of Interest=Offense<br>frameId=15<br>x=%{x}<br>y=%{y}<extra></extra>",
           "hovertext": [
            "Rodger Saffold",
            "Mitch Morse",
            "Stefon Diggs",
            "Dion Dawkins",
            "Isaiah McKenzie",
            "Devin Singletary",
            "Dawson Knox",
            "Ryan Bates",
            "Gabe Davis",
            "Spencer Brown"
           ],
           "legendgroup": "Offense",
           "marker": {
            "color": "cornsilk",
            "symbol": "circle"
           },
           "mode": "markers",
           "name": "Offense",
           "orientation": "v",
           "showlegend": true,
           "type": "scatter",
           "x": [
            37.129999999999995,
            39.84,
            54.879999999999995,
            38.58,
            49.33,
            38.81999999999999,
            47.2,
            34.790000000000006,
            50.25,
            35.56
           ],
           "xaxis": "x",
           "y": [
            27.339999999999996,
            20.529999999999994,
            23.999999999999996,
            28.379999999999995,
            46.269999999999996,
            3.739999999999995,
            20.629999999999995,
            22.659999999999997,
            35.42,
            19.879999999999995
           ],
           "yaxis": "y"
          },
          {
           "hovertemplate": "<b>%{hovertext}</b><br><br>Player of Interest=Defense<br>frameId=15<br>x=%{x}<br>y=%{y}<extra></extra>",
           "hovertext": [
            "Bobby Wagner",
            "Aaron Donald",
            "Troy Hill",
            "Jalen Ramsey",
            "Leonard Floyd",
            "A'Shawn Robinson",
            "Taylor Rapp",
            "Greg Gaines",
            "Nick Scott",
            "Jordan Fuller",
            "Ernest Jones"
           ],
           "legendgroup": "Defense",
           "marker": {
            "color": "lightblue",
            "symbol": "circle"
           },
           "mode": "markers",
           "name": "Defense",
           "orientation": "v",
           "showlegend": true,
           "type": "scatter",
           "x": [
            48.55,
            31.930000000000007,
            56.77,
            47.239999999999995,
            38.81999999999999,
            40.769999999999996,
            53.379999999999995,
            42.209999999999994,
            58.78,
            56.25,
            45.489999999999995
           ],
           "xaxis": "x",
           "y": [
            23.99,
            23.259999999999998,
            37.19,
            7.8799999999999955,
            16.779999999999994,
            27.449999999999996,
            45.79,
            18.5,
            22.9,
            15.82,
            16.309999999999995
           ],
           "yaxis": "y"
          },
          {
           "hovertemplate": "<b>%{hovertext}</b><br><br>Player of Interest=ballCarrier<br>frameId=15<br>x=%{x}<br>y=%{y}<extra></extra>",
           "hovertext": [
            "Josh Allen"
           ],
           "legendgroup": "ballCarrier",
           "marker": {
            "color": "lime",
            "symbol": "circle"
           },
           "mode": "markers",
           "name": "ballCarrier",
           "orientation": "v",
           "showlegend": true,
           "type": "scatter",
           "x": [
            42.040000000000006
           ],
           "xaxis": "x",
           "y": [
            16.93
           ],
           "yaxis": "y"
          },
          {
           "hovertemplate": "<b>%{hovertext}</b><br><br>Player of Interest=Tackle<br>frameId=15<br>x=%{x}<br>y=%{y}<extra></extra>",
           "hovertext": [
            null
           ],
           "legendgroup": "Tackle",
           "marker": {
            "color": "red",
            "symbol": "circle"
           },
           "mode": "markers",
           "name": "Tackle",
           "orientation": "v",
           "showlegend": true,
           "type": "scatter",
           "x": [
            null
           ],
           "xaxis": "x",
           "y": [
            null
           ],
           "yaxis": "y"
          },
          {
           "hovertemplate": "<b>%{hovertext}</b><br><br>Player of Interest=football<br>frameId=15<br>x=%{x}<br>y=%{y}<extra></extra>",
           "hovertext": [
            "football"
           ],
           "legendgroup": "football",
           "marker": {
            "color": "#825736",
            "symbol": "circle"
           },
           "mode": "markers",
           "name": "football",
           "orientation": "v",
           "showlegend": true,
           "type": "scatter",
           "x": [
            null
           ],
           "xaxis": "x",
           "y": [
            null
           ],
           "yaxis": "y"
          }
         ],
         "name": "15"
        },
        {
         "data": [
          {
           "hovertemplate": "<b>%{hovertext}</b><br><br>Player of Interest=Offense<br>frameId=16<br>x=%{x}<br>y=%{y}<extra></extra>",
           "hovertext": [
            "Rodger Saffold",
            "Mitch Morse",
            "Stefon Diggs",
            "Dion Dawkins",
            "Isaiah McKenzie",
            "Devin Singletary",
            "Dawson Knox",
            "Ryan Bates",
            "Gabe Davis",
            "Spencer Brown"
           ],
           "legendgroup": "Offense",
           "marker": {
            "color": "cornsilk",
            "symbol": "circle"
           },
           "mode": "markers",
           "name": "Offense",
           "orientation": "v",
           "showlegend": true,
           "type": "scatter",
           "x": [
            37.239999999999995,
            40.09,
            54.959999999999994,
            38.739999999999995,
            49.36,
            39.14,
            47.5,
            35.03,
            50.34,
            35.83
           ],
           "xaxis": "x",
           "y": [
            27.22,
            20.119999999999997,
            23.499999999999996,
            28.22,
            46.19,
            3.5700000000000003,
            20.629999999999995,
            22.389999999999997,
            35.129999999999995,
            19.729999999999997
           ],
           "yaxis": "y"
          },
          {
           "hovertemplate": "<b>%{hovertext}</b><br><br>Player of Interest=Defense<br>frameId=16<br>x=%{x}<br>y=%{y}<extra></extra>",
           "hovertext": [
            "Bobby Wagner",
            "Aaron Donald",
            "Troy Hill",
            "Jalen Ramsey",
            "Leonard Floyd",
            "A'Shawn Robinson",
            "Taylor Rapp",
            "Greg Gaines",
            "Nick Scott",
            "Jordan Fuller",
            "Ernest Jones"
           ],
           "legendgroup": "Defense",
           "marker": {
            "color": "lightblue",
            "symbol": "circle"
           },
           "mode": "markers",
           "name": "Defense",
           "orientation": "v",
           "showlegend": true,
           "type": "scatter",
           "x": [
            48.629999999999995,
            32.040000000000006,
            56.74,
            47.28,
            39.370000000000005,
            41.11,
            53.129999999999995,
            42.56,
            58.44,
            55.879999999999995,
            45.45
           ],
           "xaxis": "x",
           "y": [
            23.369999999999997,
            23.009999999999998,
            36.629999999999995,
            7.859999999999999,
            16.409999999999997,
            27.179999999999996,
            45.72,
            17.919999999999995,
            22.4,
            15.509999999999998,
            15.89
           ],
           "yaxis": "y"
          },
          {
           "hovertemplate": "<b>%{hovertext}</b><br><br>Player of Interest=ballCarrier<br>frameId=16<br>x=%{x}<br>y=%{y}<extra></extra>",
           "hovertext": [
            "Josh Allen"
           ],
           "legendgroup": "ballCarrier",
           "marker": {
            "color": "lime",
            "symbol": "circle"
           },
           "mode": "markers",
           "name": "ballCarrier",
           "orientation": "v",
           "showlegend": true,
           "type": "scatter",
           "x": [
            42.53
           ],
           "xaxis": "x",
           "y": [
            16.32
           ],
           "yaxis": "y"
          },
          {
           "hovertemplate": "<b>%{hovertext}</b><br><br>Player of Interest=Tackle<br>frameId=16<br>x=%{x}<br>y=%{y}<extra></extra>",
           "hovertext": [
            null
           ],
           "legendgroup": "Tackle",
           "marker": {
            "color": "red",
            "symbol": "circle"
           },
           "mode": "markers",
           "name": "Tackle",
           "orientation": "v",
           "showlegend": true,
           "type": "scatter",
           "x": [
            null
           ],
           "xaxis": "x",
           "y": [
            null
           ],
           "yaxis": "y"
          },
          {
           "hovertemplate": "<b>%{hovertext}</b><br><br>Player of Interest=football<br>frameId=16<br>x=%{x}<br>y=%{y}<extra></extra>",
           "hovertext": [
            "football"
           ],
           "legendgroup": "football",
           "marker": {
            "color": "#825736",
            "symbol": "circle"
           },
           "mode": "markers",
           "name": "football",
           "orientation": "v",
           "showlegend": true,
           "type": "scatter",
           "x": [
            null
           ],
           "xaxis": "x",
           "y": [
            null
           ],
           "yaxis": "y"
          }
         ],
         "name": "16"
        },
        {
         "data": [
          {
           "hovertemplate": "<b>%{hovertext}</b><br><br>Player of Interest=Offense<br>frameId=17<br>x=%{x}<br>y=%{y}<extra></extra>",
           "hovertext": [
            "Rodger Saffold",
            "Mitch Morse",
            "Stefon Diggs",
            "Dion Dawkins",
            "Isaiah McKenzie",
            "Devin Singletary",
            "Dawson Knox",
            "Ryan Bates",
            "Gabe Davis",
            "Spencer Brown"
           ],
           "legendgroup": "Offense",
           "marker": {
            "color": "cornsilk",
            "symbol": "circle"
           },
           "mode": "markers",
           "name": "Offense",
           "orientation": "v",
           "showlegend": true,
           "type": "scatter",
           "x": [
            37.370000000000005,
            40.36,
            55.019999999999996,
            38.900000000000006,
            49.36,
            39.47,
            47.8,
            35.3,
            50.43000000000001,
            36.14
           ],
           "xaxis": "x",
           "y": [
            27.099999999999998,
            19.699999999999996,
            23.029999999999998,
            28.049999999999997,
            46.099999999999994,
            3.4199999999999946,
            20.599999999999994,
            22.099999999999998,
            34.83,
            19.559999999999995
           ],
           "yaxis": "y"
          },
          {
           "hovertemplate": "<b>%{hovertext}</b><br><br>Player of Interest=Defense<br>frameId=17<br>x=%{x}<br>y=%{y}<extra></extra>",
           "hovertext": [
            "Bobby Wagner",
            "Aaron Donald",
            "Troy Hill",
            "Jalen Ramsey",
            "Leonard Floyd",
            "A'Shawn Robinson",
            "Taylor Rapp",
            "Greg Gaines",
            "Nick Scott",
            "Jordan Fuller",
            "Ernest Jones"
           ],
           "legendgroup": "Defense",
           "marker": {
            "color": "lightblue",
            "symbol": "circle"
           },
           "mode": "markers",
           "name": "Defense",
           "orientation": "v",
           "showlegend": true,
           "type": "scatter",
           "x": [
            48.709999999999994,
            32.17,
            56.71,
            47.31999999999999,
            39.91,
            41.43000000000001,
            52.89,
            42.92,
            58.1,
            55.489999999999995,
            45.44
           ],
           "xaxis": "x",
           "y": [
            22.759999999999998,
            22.769999999999996,
            36.06,
            7.859999999999999,
            16.009999999999998,
            26.909999999999997,
            45.64,
            17.349999999999994,
            21.879999999999995,
            15.169999999999995,
            15.449999999999996
           ],
           "yaxis": "y"
          },
          {
           "hovertemplate": "<b>%{hovertext}</b><br><br>Player of Interest=ballCarrier<br>frameId=17<br>x=%{x}<br>y=%{y}<extra></extra>",
           "hovertext": [
            "Josh Allen"
           ],
           "legendgroup": "ballCarrier",
           "marker": {
            "color": "lime",
            "symbol": "circle"
           },
           "mode": "markers",
           "name": "ballCarrier",
           "orientation": "v",
           "showlegend": true,
           "type": "scatter",
           "x": [
            43.019999999999996
           ],
           "xaxis": "x",
           "y": [
            15.699999999999996
           ],
           "yaxis": "y"
          },
          {
           "hovertemplate": "<b>%{hovertext}</b><br><br>Player of Interest=Tackle<br>frameId=17<br>x=%{x}<br>y=%{y}<extra></extra>",
           "hovertext": [
            null
           ],
           "legendgroup": "Tackle",
           "marker": {
            "color": "red",
            "symbol": "circle"
           },
           "mode": "markers",
           "name": "Tackle",
           "orientation": "v",
           "showlegend": true,
           "type": "scatter",
           "x": [
            null
           ],
           "xaxis": "x",
           "y": [
            null
           ],
           "yaxis": "y"
          },
          {
           "hovertemplate": "<b>%{hovertext}</b><br><br>Player of Interest=football<br>frameId=17<br>x=%{x}<br>y=%{y}<extra></extra>",
           "hovertext": [
            "football"
           ],
           "legendgroup": "football",
           "marker": {
            "color": "#825736",
            "symbol": "circle"
           },
           "mode": "markers",
           "name": "football",
           "orientation": "v",
           "showlegend": true,
           "type": "scatter",
           "x": [
            null
           ],
           "xaxis": "x",
           "y": [
            null
           ],
           "yaxis": "y"
          }
         ],
         "name": "17"
        },
        {
         "data": [
          {
           "hovertemplate": "<b>%{hovertext}</b><br><br>Player of Interest=Offense<br>frameId=18<br>x=%{x}<br>y=%{y}<extra></extra>",
           "hovertext": [
            "Rodger Saffold",
            "Mitch Morse",
            "Stefon Diggs",
            "Dion Dawkins",
            "Isaiah McKenzie",
            "Devin Singletary",
            "Dawson Knox",
            "Ryan Bates",
            "Gabe Davis",
            "Spencer Brown"
           ],
           "legendgroup": "Offense",
           "marker": {
            "color": "cornsilk",
            "symbol": "circle"
           },
           "mode": "markers",
           "name": "Offense",
           "orientation": "v",
           "showlegend": true,
           "type": "scatter",
           "x": [
            37.489999999999995,
            40.64,
            55.06,
            39.06999999999999,
            49.370000000000005,
            39.81,
            48.129999999999995,
            35.59,
            50.510000000000005,
            36.44
           ],
           "xaxis": "x",
           "y": [
            26.97,
            19.29,
            22.58,
            27.889999999999997,
            45.989999999999995,
            3.289999999999999,
            20.5,
            21.81,
            34.53,
            19.369999999999997
           ],
           "yaxis": "y"
          },
          {
           "hovertemplate": "<b>%{hovertext}</b><br><br>Player of Interest=Defense<br>frameId=18<br>x=%{x}<br>y=%{y}<extra></extra>",
           "hovertext": [
            "Bobby Wagner",
            "Aaron Donald",
            "Troy Hill",
            "Jalen Ramsey",
            "Leonard Floyd",
            "A'Shawn Robinson",
            "Taylor Rapp",
            "Greg Gaines",
            "Nick Scott",
            "Jordan Fuller"
           ],
           "legendgroup": "Defense",
           "marker": {
            "color": "lightblue",
            "symbol": "circle"
           },
           "mode": "markers",
           "name": "Defense",
           "orientation": "v",
           "showlegend": true,
           "type": "scatter",
           "x": [
            48.81999999999999,
            32.31,
            56.65,
            47.379999999999995,
            40.45,
            41.760000000000005,
            52.650000000000006,
            43.290000000000006,
            57.74,
            55.09
           ],
           "xaxis": "x",
           "y": [
            22.169999999999998,
            22.529999999999998,
            35.489999999999995,
            7.8799999999999955,
            15.599999999999994,
            26.629999999999995,
            45.53,
            16.779999999999994,
            21.369999999999997,
            14.82
           ],
           "yaxis": "y"
          },
          {
           "hovertemplate": "<b>%{hovertext}</b><br><br>Player of Interest=ballCarrier<br>frameId=18<br>x=%{x}<br>y=%{y}<extra></extra>",
           "hovertext": [
            "Josh Allen"
           ],
           "legendgroup": "ballCarrier",
           "marker": {
            "color": "lime",
            "symbol": "circle"
           },
           "mode": "markers",
           "name": "ballCarrier",
           "orientation": "v",
           "showlegend": true,
           "type": "scatter",
           "x": [
            43.510000000000005
           ],
           "xaxis": "x",
           "y": [
            15.089999999999996
           ],
           "yaxis": "y"
          },
          {
           "hovertemplate": "<b>%{hovertext}</b><br><br>Player of Interest=Tackle<br>frameId=18<br>x=%{x}<br>y=%{y}<extra></extra>",
           "hovertext": [
            "Ernest Jones"
           ],
           "legendgroup": "Tackle",
           "marker": {
            "color": "red",
            "symbol": "circle"
           },
           "mode": "markers",
           "name": "Tackle",
           "orientation": "v",
           "showlegend": true,
           "type": "scatter",
           "x": [
            45.459999999999994
           ],
           "xaxis": "x",
           "y": [
            14.989999999999995
           ],
           "yaxis": "y"
          },
          {
           "hovertemplate": "<b>%{hovertext}</b><br><br>Player of Interest=football<br>frameId=18<br>x=%{x}<br>y=%{y}<extra></extra>",
           "hovertext": [
            "football"
           ],
           "legendgroup": "football",
           "marker": {
            "color": "#825736",
            "symbol": "circle"
           },
           "mode": "markers",
           "name": "football",
           "orientation": "v",
           "showlegend": true,
           "type": "scatter",
           "x": [
            null
           ],
           "xaxis": "x",
           "y": [
            null
           ],
           "yaxis": "y"
          }
         ],
         "name": "18"
        },
        {
         "data": [
          {
           "hovertemplate": "<b>%{hovertext}</b><br><br>Player of Interest=Offense<br>frameId=19<br>x=%{x}<br>y=%{y}<extra></extra>",
           "hovertext": [
            "Rodger Saffold",
            "Mitch Morse",
            "Stefon Diggs",
            "Dion Dawkins",
            "Isaiah McKenzie",
            "Devin Singletary",
            "Dawson Knox",
            "Ryan Bates",
            "Gabe Davis",
            "Spencer Brown"
           ],
           "legendgroup": "Offense",
           "marker": {
            "color": "cornsilk",
            "symbol": "circle"
           },
           "mode": "markers",
           "name": "Offense",
           "orientation": "v",
           "showlegend": true,
           "type": "scatter",
           "x": [
            37.620000000000005,
            40.93000000000001,
            55.06999999999999,
            39.25,
            49.379999999999995,
            40.16,
            48.459999999999994,
            35.89,
            50.59,
            36.760000000000005
           ],
           "xaxis": "x",
           "y": [
            26.839999999999996,
            18.909999999999997,
            22.169999999999998,
            27.709999999999997,
            45.87,
            3.1799999999999997,
            20.39,
            21.529999999999998,
            34.209999999999994,
            19.159999999999997
           ],
           "yaxis": "y"
          },
          {
           "hovertemplate": "<b>%{hovertext}</b><br><br>Player of Interest=Defense<br>frameId=19<br>x=%{x}<br>y=%{y}<extra></extra>",
           "hovertext": [
            "Bobby Wagner",
            "Aaron Donald",
            "Troy Hill",
            "Jalen Ramsey",
            "Leonard Floyd",
            "A'Shawn Robinson",
            "Taylor Rapp",
            "Greg Gaines",
            "Nick Scott",
            "Jordan Fuller"
           ],
           "legendgroup": "Defense",
           "marker": {
            "color": "lightblue",
            "symbol": "circle"
           },
           "mode": "markers",
           "name": "Defense",
           "orientation": "v",
           "showlegend": true,
           "type": "scatter",
           "x": [
            48.959999999999994,
            32.47,
            56.59,
            47.45,
            40.980000000000004,
            42.06999999999999,
            52.41,
            43.68000000000001,
            57.38,
            54.69
           ],
           "xaxis": "x",
           "y": [
            21.609999999999996,
            22.289999999999996,
            34.9,
            7.93,
            15.159999999999997,
            26.349999999999998,
            45.4,
            16.209999999999994,
            20.849999999999994,
            14.439999999999998
           ],
           "yaxis": "y"
          },
          {
           "hovertemplate": "<b>%{hovertext}</b><br><br>Player of Interest=ballCarrier<br>frameId=19<br>x=%{x}<br>y=%{y}<extra></extra>",
           "hovertext": [
            "Josh Allen"
           ],
           "legendgroup": "ballCarrier",
           "marker": {
            "color": "lime",
            "symbol": "circle"
           },
           "mode": "markers",
           "name": "ballCarrier",
           "orientation": "v",
           "showlegend": true,
           "type": "scatter",
           "x": [
            43.989999999999995
           ],
           "xaxis": "x",
           "y": [
            14.489999999999995
           ],
           "yaxis": "y"
          },
          {
           "hovertemplate": "<b>%{hovertext}</b><br><br>Player of Interest=Tackle<br>frameId=19<br>x=%{x}<br>y=%{y}<extra></extra>",
           "hovertext": [
            "Ernest Jones"
           ],
           "legendgroup": "Tackle",
           "marker": {
            "color": "red",
            "symbol": "circle"
           },
           "mode": "markers",
           "name": "Tackle",
           "orientation": "v",
           "showlegend": true,
           "type": "scatter",
           "x": [
            45.540000000000006
           ],
           "xaxis": "x",
           "y": [
            14.519999999999996
           ],
           "yaxis": "y"
          },
          {
           "hovertemplate": "<b>%{hovertext}</b><br><br>Player of Interest=football<br>frameId=19<br>x=%{x}<br>y=%{y}<extra></extra>",
           "hovertext": [
            "football"
           ],
           "legendgroup": "football",
           "marker": {
            "color": "#825736",
            "symbol": "circle"
           },
           "mode": "markers",
           "name": "football",
           "orientation": "v",
           "showlegend": true,
           "type": "scatter",
           "x": [
            null
           ],
           "xaxis": "x",
           "y": [
            null
           ],
           "yaxis": "y"
          }
         ],
         "name": "19"
        },
        {
         "data": [
          {
           "hovertemplate": "<b>%{hovertext}</b><br><br>Player of Interest=Offense<br>frameId=20<br>x=%{x}<br>y=%{y}<extra></extra>",
           "hovertext": [
            "Rodger Saffold",
            "Mitch Morse",
            "Stefon Diggs",
            "Dion Dawkins",
            "Isaiah McKenzie",
            "Devin Singletary",
            "Dawson Knox",
            "Ryan Bates",
            "Gabe Davis",
            "Spencer Brown"
           ],
           "legendgroup": "Offense",
           "marker": {
            "color": "cornsilk",
            "symbol": "circle"
           },
           "mode": "markers",
           "name": "Offense",
           "orientation": "v",
           "showlegend": true,
           "type": "scatter",
           "x": [
            37.760000000000005,
            41.230000000000004,
            55.08,
            39.43000000000001,
            49.379999999999995,
            40.519999999999996,
            48.81,
            36.18000000000001,
            50.68000000000001,
            37.06
           ],
           "xaxis": "x",
           "y": [
            26.699999999999996,
            18.529999999999994,
            21.789999999999996,
            27.529999999999998,
            45.75,
            3.0999999999999943,
            20.18,
            21.269999999999996,
            33.879999999999995,
            18.949999999999996
           ],
           "yaxis": "y"
          },
          {
           "hovertemplate": "<b>%{hovertext}</b><br><br>Player of Interest=Defense<br>frameId=20<br>x=%{x}<br>y=%{y}<extra></extra>",
           "hovertext": [
            "Bobby Wagner",
            "Aaron Donald",
            "Troy Hill",
            "Jalen Ramsey",
            "Leonard Floyd",
            "A'Shawn Robinson",
            "Taylor Rapp",
            "Greg Gaines",
            "Nick Scott",
            "Jordan Fuller"
           ],
           "legendgroup": "Defense",
           "marker": {
            "color": "lightblue",
            "symbol": "circle"
           },
           "mode": "markers",
           "name": "Defense",
           "orientation": "v",
           "showlegend": true,
           "type": "scatter",
           "x": [
            49.11,
            32.620000000000005,
            56.52,
            47.53,
            41.5,
            42.379999999999995,
            52.2,
            44.09,
            57.02,
            54.290000000000006
           ],
           "xaxis": "x",
           "y": [
            21.099999999999994,
            22.06,
            34.31999999999999,
            8,
            14.709999999999994,
            26.069999999999997,
            45.239999999999995,
            15.659999999999997,
            20.32,
            14.049999999999997
           ],
           "yaxis": "y"
          },
          {
           "hovertemplate": "<b>%{hovertext}</b><br><br>Player of Interest=ballCarrier<br>frameId=20<br>x=%{x}<br>y=%{y}<extra></extra>",
           "hovertext": [
            "Josh Allen"
           ],
           "legendgroup": "ballCarrier",
           "marker": {
            "color": "lime",
            "symbol": "circle"
           },
           "mode": "markers",
           "name": "ballCarrier",
           "orientation": "v",
           "showlegend": true,
           "type": "scatter",
           "x": [
            44.47
           ],
           "xaxis": "x",
           "y": [
            13.899999999999999
           ],
           "yaxis": "y"
          },
          {
           "hovertemplate": "<b>%{hovertext}</b><br><br>Player of Interest=Tackle<br>frameId=20<br>x=%{x}<br>y=%{y}<extra></extra>",
           "hovertext": [
            "Ernest Jones"
           ],
           "legendgroup": "Tackle",
           "marker": {
            "color": "red",
            "symbol": "circle"
           },
           "mode": "markers",
           "name": "Tackle",
           "orientation": "v",
           "showlegend": true,
           "type": "scatter",
           "x": [
            45.650000000000006
           ],
           "xaxis": "x",
           "y": [
            14.04
           ],
           "yaxis": "y"
          },
          {
           "hovertemplate": "<b>%{hovertext}</b><br><br>Player of Interest=football<br>frameId=20<br>x=%{x}<br>y=%{y}<extra></extra>",
           "hovertext": [
            "football"
           ],
           "legendgroup": "football",
           "marker": {
            "color": "#825736",
            "symbol": "circle"
           },
           "mode": "markers",
           "name": "football",
           "orientation": "v",
           "showlegend": true,
           "type": "scatter",
           "x": [
            null
           ],
           "xaxis": "x",
           "y": [
            null
           ],
           "yaxis": "y"
          }
         ],
         "name": "20"
        },
        {
         "data": [
          {
           "hovertemplate": "<b>%{hovertext}</b><br><br>Player of Interest=Offense<br>frameId=21<br>x=%{x}<br>y=%{y}<extra></extra>",
           "hovertext": [
            "Rodger Saffold",
            "Mitch Morse",
            "Stefon Diggs",
            "Dion Dawkins",
            "Isaiah McKenzie",
            "Devin Singletary",
            "Dawson Knox",
            "Ryan Bates",
            "Gabe Davis",
            "Spencer Brown"
           ],
           "legendgroup": "Offense",
           "marker": {
            "color": "cornsilk",
            "symbol": "circle"
           },
           "mode": "markers",
           "name": "Offense",
           "orientation": "v",
           "showlegend": true,
           "type": "scatter",
           "x": [
            37.89,
            41.56999999999999,
            55.08,
            39.620000000000005,
            49.379999999999995,
            40.89,
            49.150000000000006,
            36.510000000000005,
            50.760000000000005,
            37.370000000000005
           ],
           "xaxis": "x",
           "y": [
            26.569999999999997,
            18.15,
            21.439999999999998,
            27.349999999999998,
            45.62,
            3.039999999999999,
            19.979999999999997,
            21,
            33.55,
            18.72
           ],
           "yaxis": "y"
          },
          {
           "hovertemplate": "<b>%{hovertext}</b><br><br>Player of Interest=Defense<br>frameId=21<br>x=%{x}<br>y=%{y}<extra></extra>",
           "hovertext": [
            "Bobby Wagner",
            "Aaron Donald",
            "Troy Hill",
            "Jalen Ramsey",
            "Leonard Floyd",
            "A'Shawn Robinson",
            "Taylor Rapp",
            "Greg Gaines",
            "Nick Scott",
            "Jordan Fuller"
           ],
           "legendgroup": "Defense",
           "marker": {
            "color": "lightblue",
            "symbol": "circle"
           },
           "mode": "markers",
           "name": "Defense",
           "orientation": "v",
           "showlegend": true,
           "type": "scatter",
           "x": [
            49.28,
            32.78,
            56.44,
            47.61,
            42,
            42.69,
            52,
            44.5,
            56.66,
            53.900000000000006
           ],
           "xaxis": "x",
           "y": [
            20.619999999999997,
            21.849999999999998,
            33.739999999999995,
            8.099999999999994,
            14.25,
            25.789999999999996,
            45.06999999999999,
            15.11,
            19.79,
            13.629999999999995
           ],
           "yaxis": "y"
          },
          {
           "hovertemplate": "<b>%{hovertext}</b><br><br>Player of Interest=ballCarrier<br>frameId=21<br>x=%{x}<br>y=%{y}<extra></extra>",
           "hovertext": [
            "Josh Allen"
           ],
           "legendgroup": "ballCarrier",
           "marker": {
            "color": "lime",
            "symbol": "circle"
           },
           "mode": "markers",
           "name": "ballCarrier",
           "orientation": "v",
           "showlegend": true,
           "type": "scatter",
           "x": [
            44.94
           ],
           "xaxis": "x",
           "y": [
            13.32
           ],
           "yaxis": "y"
          },
          {
           "hovertemplate": "<b>%{hovertext}</b><br><br>Player of Interest=Tackle<br>frameId=21<br>x=%{x}<br>y=%{y}<extra></extra>",
           "hovertext": [
            "Ernest Jones"
           ],
           "legendgroup": "Tackle",
           "marker": {
            "color": "red",
            "symbol": "circle"
           },
           "mode": "markers",
           "name": "Tackle",
           "orientation": "v",
           "showlegend": true,
           "type": "scatter",
           "x": [
            45.81
           ],
           "xaxis": "x",
           "y": [
            13.54
           ],
           "yaxis": "y"
          },
          {
           "hovertemplate": "<b>%{hovertext}</b><br><br>Player of Interest=football<br>frameId=21<br>x=%{x}<br>y=%{y}<extra></extra>",
           "hovertext": [
            "football"
           ],
           "legendgroup": "football",
           "marker": {
            "color": "#825736",
            "symbol": "circle"
           },
           "mode": "markers",
           "name": "football",
           "orientation": "v",
           "showlegend": true,
           "type": "scatter",
           "x": [
            null
           ],
           "xaxis": "x",
           "y": [
            null
           ],
           "yaxis": "y"
          }
         ],
         "name": "21"
        },
        {
         "data": [
          {
           "hovertemplate": "<b>%{hovertext}</b><br><br>Player of Interest=Offense<br>frameId=22<br>x=%{x}<br>y=%{y}<extra></extra>",
           "hovertext": [
            "Rodger Saffold",
            "Mitch Morse",
            "Stefon Diggs",
            "Dion Dawkins",
            "Isaiah McKenzie",
            "Devin Singletary",
            "Dawson Knox",
            "Ryan Bates",
            "Gabe Davis",
            "Spencer Brown"
           ],
           "legendgroup": "Offense",
           "marker": {
            "color": "cornsilk",
            "symbol": "circle"
           },
           "mode": "markers",
           "name": "Offense",
           "orientation": "v",
           "showlegend": true,
           "type": "scatter",
           "x": [
            38.05,
            41.900000000000006,
            55.06999999999999,
            39.81999999999999,
            49.370000000000005,
            41.269999999999996,
            49.44,
            36.849999999999994,
            50.84,
            37.7
           ],
           "xaxis": "x",
           "y": [
            26.449999999999996,
            17.769999999999996,
            21.129999999999995,
            27.159999999999997,
            45.48,
            3.009999999999998,
            19.689999999999998,
            20.739999999999995,
            33.209999999999994,
            18.489999999999995
           ],
           "yaxis": "y"
          },
          {
           "hovertemplate": "<b>%{hovertext}</b><br><br>Player of Interest=Defense<br>frameId=22<br>x=%{x}<br>y=%{y}<extra></extra>",
           "hovertext": [
            "Bobby Wagner",
            "Aaron Donald",
            "Troy Hill",
            "Jalen Ramsey",
            "Leonard Floyd",
            "A'Shawn Robinson",
            "Taylor Rapp",
            "Greg Gaines",
            "Nick Scott",
            "Jordan Fuller"
           ],
           "legendgroup": "Defense",
           "marker": {
            "color": "lightblue",
            "symbol": "circle"
           },
           "mode": "markers",
           "name": "Defense",
           "orientation": "v",
           "showlegend": true,
           "type": "scatter",
           "x": [
            49.47,
            32.94,
            56.36,
            47.7,
            42.489999999999995,
            43,
            51.81,
            44.94,
            56.32,
            53.53
           ],
           "xaxis": "x",
           "y": [
            20.18,
            21.639999999999997,
            33.15,
            8.219999999999999,
            13.779999999999994,
            25.509999999999998,
            44.879999999999995,
            14.589999999999996,
            19.259999999999998,
            13.199999999999996
           ],
           "yaxis": "y"
          },
          {
           "hovertemplate": "<b>%{hovertext}</b><br><br>Player of Interest=ballCarrier<br>frameId=22<br>x=%{x}<br>y=%{y}<extra></extra>",
           "hovertext": [
            "Josh Allen"
           ],
           "legendgroup": "ballCarrier",
           "marker": {
            "color": "lime",
            "symbol": "circle"
           },
           "mode": "markers",
           "name": "ballCarrier",
           "orientation": "v",
           "showlegend": true,
           "type": "scatter",
           "x": [
            45.400000000000006
           ],
           "xaxis": "x",
           "y": [
            12.75
           ],
           "yaxis": "y"
          },
          {
           "hovertemplate": "<b>%{hovertext}</b><br><br>Player of Interest=Tackle<br>frameId=22<br>x=%{x}<br>y=%{y}<extra></extra>",
           "hovertext": [
            "Ernest Jones"
           ],
           "legendgroup": "Tackle",
           "marker": {
            "color": "red",
            "symbol": "circle"
           },
           "mode": "markers",
           "name": "Tackle",
           "orientation": "v",
           "showlegend": true,
           "type": "scatter",
           "x": [
            46
           ],
           "xaxis": "x",
           "y": [
            13.04
           ],
           "yaxis": "y"
          },
          {
           "hovertemplate": "<b>%{hovertext}</b><br><br>Player of Interest=football<br>frameId=22<br>x=%{x}<br>y=%{y}<extra></extra>",
           "hovertext": [
            "football"
           ],
           "legendgroup": "football",
           "marker": {
            "color": "#825736",
            "symbol": "circle"
           },
           "mode": "markers",
           "name": "football",
           "orientation": "v",
           "showlegend": true,
           "type": "scatter",
           "x": [
            null
           ],
           "xaxis": "x",
           "y": [
            null
           ],
           "yaxis": "y"
          }
         ],
         "name": "22"
        },
        {
         "data": [
          {
           "hovertemplate": "<b>%{hovertext}</b><br><br>Player of Interest=Offense<br>frameId=23<br>x=%{x}<br>y=%{y}<extra></extra>",
           "hovertext": [
            "Rodger Saffold",
            "Mitch Morse",
            "Stefon Diggs",
            "Dion Dawkins",
            "Isaiah McKenzie",
            "Devin Singletary",
            "Dawson Knox",
            "Ryan Bates",
            "Gabe Davis",
            "Spencer Brown"
           ],
           "legendgroup": "Offense",
           "marker": {
            "color": "cornsilk",
            "symbol": "circle"
           },
           "mode": "markers",
           "name": "Offense",
           "orientation": "v",
           "showlegend": true,
           "type": "scatter",
           "x": [
            38.2,
            42.230000000000004,
            55.05,
            40.03,
            49.36,
            41.650000000000006,
            49.739999999999995,
            37.19,
            50.92,
            38.019999999999996
           ],
           "xaxis": "x",
           "y": [
            26.33,
            17.4,
            20.849999999999994,
            26.959999999999997,
            45.339999999999996,
            3,
            19.4,
            20.489999999999995,
            32.87,
            18.25
           ],
           "yaxis": "y"
          },
          {
           "hovertemplate": "<b>%{hovertext}</b><br><br>Player of Interest=Defense<br>frameId=23<br>x=%{x}<br>y=%{y}<extra></extra>",
           "hovertext": [
            "Bobby Wagner",
            "Aaron Donald",
            "Troy Hill",
            "Jalen Ramsey",
            "Leonard Floyd",
            "A'Shawn Robinson",
            "Taylor Rapp",
            "Greg Gaines",
            "Nick Scott",
            "Jordan Fuller"
           ],
           "legendgroup": "Defense",
           "marker": {
            "color": "lightblue",
            "symbol": "circle"
           },
           "mode": "markers",
           "name": "Defense",
           "orientation": "v",
           "showlegend": true,
           "type": "scatter",
           "x": [
            49.68000000000001,
            33.099999999999994,
            56.29,
            47.78,
            42.959999999999994,
            43.3,
            51.650000000000006,
            45.370000000000005,
            55.989999999999995,
            53.19
           ],
           "xaxis": "x",
           "y": [
            19.769999999999996,
            21.439999999999998,
            32.56,
            8.349999999999994,
            13.309999999999995,
            25.229999999999997,
            44.669999999999995,
            14.089999999999996,
            18.729999999999997,
            12.759999999999998
           ],
           "yaxis": "y"
          },
          {
           "hovertemplate": "<b>%{hovertext}</b><br><br>Player of Interest=ballCarrier<br>frameId=23<br>x=%{x}<br>y=%{y}<extra></extra>",
           "hovertext": [
            "Josh Allen"
           ],
           "legendgroup": "ballCarrier",
           "marker": {
            "color": "lime",
            "symbol": "circle"
           },
           "mode": "markers",
           "name": "ballCarrier",
           "orientation": "v",
           "showlegend": true,
           "type": "scatter",
           "x": [
            45.83
           ],
           "xaxis": "x",
           "y": [
            12.199999999999996
           ],
           "yaxis": "y"
          },
          {
           "hovertemplate": "<b>%{hovertext}</b><br><br>Player of Interest=Tackle<br>frameId=23<br>x=%{x}<br>y=%{y}<extra></extra>",
           "hovertext": [
            "Ernest Jones"
           ],
           "legendgroup": "Tackle",
           "marker": {
            "color": "red",
            "symbol": "circle"
           },
           "mode": "markers",
           "name": "Tackle",
           "orientation": "v",
           "showlegend": true,
           "type": "scatter",
           "x": [
            46.22
           ],
           "xaxis": "x",
           "y": [
            12.549999999999997
           ],
           "yaxis": "y"
          },
          {
           "hovertemplate": "<b>%{hovertext}</b><br><br>Player of Interest=football<br>frameId=23<br>x=%{x}<br>y=%{y}<extra></extra>",
           "hovertext": [
            "football"
           ],
           "legendgroup": "football",
           "marker": {
            "color": "#825736",
            "symbol": "circle"
           },
           "mode": "markers",
           "name": "football",
           "orientation": "v",
           "showlegend": true,
           "type": "scatter",
           "x": [
            null
           ],
           "xaxis": "x",
           "y": [
            null
           ],
           "yaxis": "y"
          }
         ],
         "name": "23"
        },
        {
         "data": [
          {
           "hovertemplate": "<b>%{hovertext}</b><br><br>Player of Interest=Offense<br>frameId=24<br>x=%{x}<br>y=%{y}<extra></extra>",
           "hovertext": [
            "Rodger Saffold",
            "Mitch Morse",
            "Stefon Diggs",
            "Dion Dawkins",
            "Isaiah McKenzie",
            "Devin Singletary",
            "Dawson Knox",
            "Ryan Bates",
            "Gabe Davis",
            "Spencer Brown"
           ],
           "legendgroup": "Offense",
           "marker": {
            "color": "cornsilk",
            "symbol": "circle"
           },
           "mode": "markers",
           "name": "Offense",
           "orientation": "v",
           "showlegend": true,
           "type": "scatter",
           "x": [
            38.349999999999994,
            42.56999999999999,
            55.010000000000005,
            40.25,
            49.349999999999994,
            42.03,
            50.019999999999996,
            37.540000000000006,
            51,
            38.34
           ],
           "xaxis": "x",
           "y": [
            26.209999999999997,
            17.019999999999996,
            20.599999999999994,
            26.769999999999996,
            45.199999999999996,
            3.019999999999996,
            19.099999999999994,
            20.229999999999997,
            32.53,
            18.019999999999996
           ],
           "yaxis": "y"
          },
          {
           "hovertemplate": "<b>%{hovertext}</b><br><br>Player of Interest=Defense<br>frameId=24<br>x=%{x}<br>y=%{y}<extra></extra>",
           "hovertext": [
            "Bobby Wagner",
            "Aaron Donald",
            "Troy Hill",
            "Jalen Ramsey",
            "Leonard Floyd",
            "A'Shawn Robinson",
            "Taylor Rapp",
            "Greg Gaines",
            "Nick Scott",
            "Jordan Fuller"
           ],
           "legendgroup": "Defense",
           "marker": {
            "color": "lightblue",
            "symbol": "circle"
           },
           "mode": "markers",
           "name": "Defense",
           "orientation": "v",
           "showlegend": true,
           "type": "scatter",
           "x": [
            49.89,
            33.260000000000005,
            56.22,
            47.849999999999994,
            43.41,
            43.59,
            51.5,
            45.81,
            55.67,
            52.86
           ],
           "xaxis": "x",
           "y": [
            19.39,
            21.25,
            31.97,
            8.479999999999997,
            12.839999999999996,
            24.959999999999997,
            44.449999999999996,
            13.61,
            18.209999999999994,
            12.32
           ],
           "yaxis": "y"
          },
          {
           "hovertemplate": "<b>%{hovertext}</b><br><br>Player of Interest=ballCarrier<br>frameId=24<br>x=%{x}<br>y=%{y}<extra></extra>",
           "hovertext": [
            "Josh Allen"
           ],
           "legendgroup": "ballCarrier",
           "marker": {
            "color": "lime",
            "symbol": "circle"
           },
           "mode": "markers",
           "name": "ballCarrier",
           "orientation": "v",
           "showlegend": true,
           "type": "scatter",
           "x": [
            46.25
           ],
           "xaxis": "x",
           "y": [
            11.669999999999995
           ],
           "yaxis": "y"
          },
          {
           "hovertemplate": "<b>%{hovertext}</b><br><br>Player of Interest=Tackle<br>frameId=24<br>x=%{x}<br>y=%{y}<extra></extra>",
           "hovertext": [
            "Ernest Jones"
           ],
           "legendgroup": "Tackle",
           "marker": {
            "color": "red",
            "symbol": "circle"
           },
           "mode": "markers",
           "name": "Tackle",
           "orientation": "v",
           "showlegend": true,
           "type": "scatter",
           "x": [
            46.459999999999994
           ],
           "xaxis": "x",
           "y": [
            12.049999999999997
           ],
           "yaxis": "y"
          },
          {
           "hovertemplate": "<b>%{hovertext}</b><br><br>Player of Interest=football<br>frameId=24<br>x=%{x}<br>y=%{y}<extra></extra>",
           "hovertext": [
            "football"
           ],
           "legendgroup": "football",
           "marker": {
            "color": "#825736",
            "symbol": "circle"
           },
           "mode": "markers",
           "name": "football",
           "orientation": "v",
           "showlegend": true,
           "type": "scatter",
           "x": [
            null
           ],
           "xaxis": "x",
           "y": [
            null
           ],
           "yaxis": "y"
          }
         ],
         "name": "24"
        },
        {
         "data": [
          {
           "hovertemplate": "<b>%{hovertext}</b><br><br>Player of Interest=Offense<br>frameId=25<br>x=%{x}<br>y=%{y}<extra></extra>",
           "hovertext": [
            "Rodger Saffold",
            "Mitch Morse",
            "Stefon Diggs",
            "Dion Dawkins",
            "Isaiah McKenzie",
            "Devin Singletary",
            "Dawson Knox",
            "Ryan Bates",
            "Gabe Davis",
            "Spencer Brown"
           ],
           "legendgroup": "Offense",
           "marker": {
            "color": "cornsilk",
            "symbol": "circle"
           },
           "mode": "markers",
           "name": "Offense",
           "orientation": "v",
           "showlegend": true,
           "type": "scatter",
           "x": [
            38.519999999999996,
            42.92,
            54.97,
            40.47,
            49.33,
            42.41,
            50.269999999999996,
            37.92,
            51.06999999999999,
            38.66
           ],
           "xaxis": "x",
           "y": [
            26.099999999999998,
            16.629999999999995,
            20.39,
            26.589999999999996,
            45.059999999999995,
            3.0700000000000003,
            18.779999999999994,
            20,
            32.19,
            17.79
           ],
           "yaxis": "y"
          },
          {
           "hovertemplate": "<b>%{hovertext}</b><br><br>Player of Interest=Defense<br>frameId=25<br>x=%{x}<br>y=%{y}<extra></extra>",
           "hovertext": [
            "Bobby Wagner",
            "Aaron Donald",
            "Troy Hill",
            "Jalen Ramsey",
            "Leonard Floyd",
            "A'Shawn Robinson",
            "Taylor Rapp",
            "Greg Gaines",
            "Nick Scott",
            "Jordan Fuller"
           ],
           "legendgroup": "Defense",
           "marker": {
            "color": "lightblue",
            "symbol": "circle"
           },
           "mode": "markers",
           "name": "Defense",
           "orientation": "v",
           "showlegend": true,
           "type": "scatter",
           "x": [
            50.120000000000005,
            33.43000000000001,
            56.16,
            47.91,
            43.84,
            43.89,
            51.379999999999995,
            46.239999999999995,
            55.370000000000005,
            52.56999999999999
           ],
           "xaxis": "x",
           "y": [
            19.04,
            21.07,
            31.379999999999995,
            8.589999999999996,
            12.379999999999995,
            24.689999999999998,
            44.199999999999996,
            13.14,
            17.689999999999998,
            11.89
           ],
           "yaxis": "y"
          },
          {
           "hovertemplate": "<b>%{hovertext}</b><br><br>Player of Interest=ballCarrier<br>frameId=25<br>x=%{x}<br>y=%{y}<extra></extra>",
           "hovertext": [
            "Josh Allen"
           ],
           "legendgroup": "ballCarrier",
           "marker": {
            "color": "lime",
            "symbol": "circle"
           },
           "mode": "markers",
           "name": "ballCarrier",
           "orientation": "v",
           "showlegend": true,
           "type": "scatter",
           "x": [
            46.620000000000005
           ],
           "xaxis": "x",
           "y": [
            11.169999999999995
           ],
           "yaxis": "y"
          },
          {
           "hovertemplate": "<b>%{hovertext}</b><br><br>Player of Interest=Tackle<br>frameId=25<br>x=%{x}<br>y=%{y}<extra></extra>",
           "hovertext": [
            "Ernest Jones"
           ],
           "legendgroup": "Tackle",
           "marker": {
            "color": "red",
            "symbol": "circle"
           },
           "mode": "markers",
           "name": "Tackle",
           "orientation": "v",
           "showlegend": true,
           "type": "scatter",
           "x": [
            46.739999999999995
           ],
           "xaxis": "x",
           "y": [
            11.549999999999997
           ],
           "yaxis": "y"
          },
          {
           "hovertemplate": "<b>%{hovertext}</b><br><br>Player of Interest=football<br>frameId=25<br>x=%{x}<br>y=%{y}<extra></extra>",
           "hovertext": [
            "football"
           ],
           "legendgroup": "football",
           "marker": {
            "color": "#825736",
            "symbol": "circle"
           },
           "mode": "markers",
           "name": "football",
           "orientation": "v",
           "showlegend": true,
           "type": "scatter",
           "x": [
            null
           ],
           "xaxis": "x",
           "y": [
            null
           ],
           "yaxis": "y"
          }
         ],
         "name": "25"
        },
        {
         "data": [
          {
           "hovertemplate": "<b>%{hovertext}</b><br><br>Player of Interest=Offense<br>frameId=26<br>x=%{x}<br>y=%{y}<extra></extra>",
           "hovertext": [
            "Rodger Saffold",
            "Mitch Morse",
            "Stefon Diggs",
            "Dion Dawkins",
            "Isaiah McKenzie",
            "Devin Singletary",
            "Dawson Knox",
            "Ryan Bates",
            "Gabe Davis",
            "Spencer Brown"
           ],
           "legendgroup": "Offense",
           "marker": {
            "color": "cornsilk",
            "symbol": "circle"
           },
           "mode": "markers",
           "name": "Offense",
           "orientation": "v",
           "showlegend": true,
           "type": "scatter",
           "x": [
            38.68000000000001,
            43.269999999999996,
            54.92,
            40.68000000000001,
            49.31,
            42.78,
            50.5,
            38.269999999999996,
            51.129999999999995,
            38.980000000000004
           ],
           "xaxis": "x",
           "y": [
            25.99,
            16.259999999999998,
            20.199999999999996,
            26.409999999999997,
            44.91,
            3.1499999999999986,
            18.449999999999996,
            19.769999999999996,
            31.849999999999998,
            17.549999999999997
           ],
           "yaxis": "y"
          },
          {
           "hovertemplate": "<b>%{hovertext}</b><br><br>Player of Interest=Defense<br>frameId=26<br>x=%{x}<br>y=%{y}<extra></extra>",
           "hovertext": [
            "Bobby Wagner",
            "Aaron Donald",
            "Troy Hill",
            "Jalen Ramsey",
            "Leonard Floyd",
            "A'Shawn Robinson",
            "Taylor Rapp",
            "Greg Gaines",
            "Nick Scott",
            "Jordan Fuller"
           ],
           "legendgroup": "Defense",
           "marker": {
            "color": "lightblue",
            "symbol": "circle"
           },
           "mode": "markers",
           "name": "Defense",
           "orientation": "v",
           "showlegend": true,
           "type": "scatter",
           "x": [
            50.349999999999994,
            33.61,
            56.11,
            47.959999999999994,
            44.25,
            44.16,
            51.269999999999996,
            46.66,
            55.08,
            52.290000000000006
           ],
           "xaxis": "x",
           "y": [
            18.709999999999994,
            20.909999999999997,
            30.799999999999997,
            8.689999999999998,
            11.93,
            24.429999999999996,
            43.949999999999996,
            12.709999999999994,
            17.189999999999998,
            11.479999999999997
           ],
           "yaxis": "y"
          },
          {
           "hovertemplate": "<b>%{hovertext}</b><br><br>Player of Interest=ballCarrier<br>frameId=26<br>x=%{x}<br>y=%{y}<extra></extra>",
           "hovertext": [
            "Josh Allen"
           ],
           "legendgroup": "ballCarrier",
           "marker": {
            "color": "lime",
            "symbol": "circle"
           },
           "mode": "markers",
           "name": "ballCarrier",
           "orientation": "v",
           "showlegend": true,
           "type": "scatter",
           "x": [
            46.900000000000006
           ],
           "xaxis": "x",
           "y": [
            10.729999999999997
           ],
           "yaxis": "y"
          },
          {
           "hovertemplate": "<b>%{hovertext}</b><br><br>Player of Interest=Tackle<br>frameId=26<br>x=%{x}<br>y=%{y}<extra></extra>",
           "hovertext": [
            "Ernest Jones"
           ],
           "legendgroup": "Tackle",
           "marker": {
            "color": "red",
            "symbol": "circle"
           },
           "mode": "markers",
           "name": "Tackle",
           "orientation": "v",
           "showlegend": true,
           "type": "scatter",
           "x": [
            47.040000000000006
           ],
           "xaxis": "x",
           "y": [
            11.07
           ],
           "yaxis": "y"
          },
          {
           "hovertemplate": "<b>%{hovertext}</b><br><br>Player of Interest=football<br>frameId=26<br>x=%{x}<br>y=%{y}<extra></extra>",
           "hovertext": [
            "football"
           ],
           "legendgroup": "football",
           "marker": {
            "color": "#825736",
            "symbol": "circle"
           },
           "mode": "markers",
           "name": "football",
           "orientation": "v",
           "showlegend": true,
           "type": "scatter",
           "x": [
            null
           ],
           "xaxis": "x",
           "y": [
            null
           ],
           "yaxis": "y"
          }
         ],
         "name": "26"
        },
        {
         "data": [
          {
           "hovertemplate": "<b>%{hovertext}</b><br><br>Player of Interest=Offense<br>frameId=27<br>x=%{x}<br>y=%{y}<extra></extra>",
           "hovertext": [
            "Rodger Saffold",
            "Mitch Morse",
            "Stefon Diggs",
            "Dion Dawkins",
            "Isaiah McKenzie",
            "Devin Singletary",
            "Dawson Knox",
            "Ryan Bates",
            "Gabe Davis",
            "Spencer Brown"
           ],
           "legendgroup": "Offense",
           "marker": {
            "color": "cornsilk",
            "symbol": "circle"
           },
           "mode": "markers",
           "name": "Offense",
           "orientation": "v",
           "showlegend": true,
           "type": "scatter",
           "x": [
            38.83,
            43.61,
            54.86,
            40.89,
            49.28,
            43.150000000000006,
            50.709999999999994,
            38.64,
            51.17,
            39.3
           ],
           "xaxis": "x",
           "y": [
            25.879999999999995,
            15.89,
            20.029999999999994,
            26.24,
            44.769999999999996,
            3.259999999999998,
            18.119999999999997,
            19.549999999999997,
            31.529999999999998,
            17.309999999999995
           ],
           "yaxis": "y"
          },
          {
           "hovertemplate": "<b>%{hovertext}</b><br><br>Player of Interest=Defense<br>frameId=27<br>x=%{x}<br>y=%{y}<extra></extra>",
           "hovertext": [
            "Bobby Wagner",
            "Aaron Donald",
            "Troy Hill",
            "Jalen Ramsey",
            "Leonard Floyd",
            "A'Shawn Robinson",
            "Taylor Rapp",
            "Greg Gaines",
            "Nick Scott",
            "Jordan Fuller"
           ],
           "legendgroup": "Defense",
           "marker": {
            "color": "lightblue",
            "symbol": "circle"
           },
           "mode": "markers",
           "name": "Defense",
           "orientation": "v",
           "showlegend": true,
           "type": "scatter",
           "x": [
            50.58,
            33.769999999999996,
            56.06,
            48,
            44.64,
            44.43000000000001,
            51.19,
            47.08,
            54.81999999999999,
            52.05
           ],
           "xaxis": "x",
           "y": [
            18.419999999999995,
            20.75,
            30.22,
            8.75,
            11.5,
            24.179999999999996,
            43.69,
            12.309999999999995,
            16.689999999999998,
            11.089999999999996
           ],
           "yaxis": "y"
          },
          {
           "hovertemplate": "<b>%{hovertext}</b><br><br>Player of Interest=ballCarrier<br>frameId=27<br>x=%{x}<br>y=%{y}<extra></extra>",
           "hovertext": [
            "Josh Allen"
           ],
           "legendgroup": "ballCarrier",
           "marker": {
            "color": "lime",
            "symbol": "circle"
           },
           "mode": "markers",
           "name": "ballCarrier",
           "orientation": "v",
           "showlegend": true,
           "type": "scatter",
           "x": [
            47.16
           ],
           "xaxis": "x",
           "y": [
            10.309999999999995
           ],
           "yaxis": "y"
          },
          {
           "hovertemplate": "<b>%{hovertext}</b><br><br>Player of Interest=Tackle<br>frameId=27<br>x=%{x}<br>y=%{y}<extra></extra>",
           "hovertext": [
            "Ernest Jones"
           ],
           "legendgroup": "Tackle",
           "marker": {
            "color": "red",
            "symbol": "circle"
           },
           "mode": "markers",
           "name": "Tackle",
           "orientation": "v",
           "showlegend": true,
           "type": "scatter",
           "x": [
            47.33
           ],
           "xaxis": "x",
           "y": [
            10.619999999999997
           ],
           "yaxis": "y"
          },
          {
           "hovertemplate": "<b>%{hovertext}</b><br><br>Player of Interest=football<br>frameId=27<br>x=%{x}<br>y=%{y}<extra></extra>",
           "hovertext": [
            "football"
           ],
           "legendgroup": "football",
           "marker": {
            "color": "#825736",
            "symbol": "circle"
           },
           "mode": "markers",
           "name": "football",
           "orientation": "v",
           "showlegend": true,
           "type": "scatter",
           "x": [
            null
           ],
           "xaxis": "x",
           "y": [
            null
           ],
           "yaxis": "y"
          }
         ],
         "name": "27"
        },
        {
         "data": [
          {
           "hovertemplate": "<b>%{hovertext}</b><br><br>Player of Interest=Offense<br>frameId=28<br>x=%{x}<br>y=%{y}<extra></extra>",
           "hovertext": [
            "Rodger Saffold",
            "Mitch Morse",
            "Stefon Diggs",
            "Dion Dawkins",
            "Isaiah McKenzie",
            "Devin Singletary",
            "Dawson Knox",
            "Ryan Bates",
            "Gabe Davis",
            "Spencer Brown"
           ],
           "legendgroup": "Offense",
           "marker": {
            "color": "cornsilk",
            "symbol": "circle"
           },
           "mode": "markers",
           "name": "Offense",
           "orientation": "v",
           "showlegend": true,
           "type": "scatter",
           "x": [
            38.97,
            43.959999999999994,
            54.790000000000006,
            41.09,
            49.239999999999995,
            43.519999999999996,
            50.91,
            39,
            51.209999999999994,
            39.61
           ],
           "xaxis": "x",
           "y": [
            25.769999999999996,
            15.509999999999998,
            19.879999999999995,
            26.08,
            44.62,
            3.3999999999999986,
            17.79,
            19.33,
            31.22,
            17.08
           ],
           "yaxis": "y"
          },
          {
           "hovertemplate": "<b>%{hovertext}</b><br><br>Player of Interest=Defense<br>frameId=28<br>x=%{x}<br>y=%{y}<extra></extra>",
           "hovertext": [
            "Bobby Wagner",
            "Aaron Donald",
            "Troy Hill",
            "Jalen Ramsey",
            "Leonard Floyd",
            "A'Shawn Robinson",
            "Taylor Rapp",
            "Greg Gaines",
            "Nick Scott",
            "Jordan Fuller"
           ],
           "legendgroup": "Defense",
           "marker": {
            "color": "lightblue",
            "symbol": "circle"
           },
           "mode": "markers",
           "name": "Defense",
           "orientation": "v",
           "showlegend": true,
           "type": "scatter",
           "x": [
            50.790000000000006,
            33.94,
            56.02,
            48.010000000000005,
            45,
            44.68000000000001,
            51.120000000000005,
            47.480000000000004,
            54.56999999999999,
            51.83
           ],
           "xaxis": "x",
           "y": [
            18.159999999999997,
            20.61,
            29.65,
            8.79,
            11.089999999999996,
            23.939999999999998,
            43.41,
            11.939999999999998,
            16.209999999999994,
            10.729999999999997
           ],
           "yaxis": "y"
          },
          {
           "hovertemplate": "<b>%{hovertext}</b><br><br>Player of Interest=ballCarrier<br>frameId=28<br>x=%{x}<br>y=%{y}<extra></extra>",
           "hovertext": [
            "Josh Allen"
           ],
           "legendgroup": "ballCarrier",
           "marker": {
            "color": "lime",
            "symbol": "circle"
           },
           "mode": "markers",
           "name": "ballCarrier",
           "orientation": "v",
           "showlegend": true,
           "type": "scatter",
           "x": [
            47.379999999999995
           ],
           "xaxis": "x",
           "y": [
            9.909999999999997
           ],
           "yaxis": "y"
          },
          {
           "hovertemplate": "<b>%{hovertext}</b><br><br>Player of Interest=Tackle<br>frameId=28<br>x=%{x}<br>y=%{y}<extra></extra>",
           "hovertext": [
            "Ernest Jones"
           ],
           "legendgroup": "Tackle",
           "marker": {
            "color": "red",
            "symbol": "circle"
           },
           "mode": "markers",
           "name": "Tackle",
           "orientation": "v",
           "showlegend": true,
           "type": "scatter",
           "x": [
            47.620000000000005
           ],
           "xaxis": "x",
           "y": [
            10.199999999999996
           ],
           "yaxis": "y"
          },
          {
           "hovertemplate": "<b>%{hovertext}</b><br><br>Player of Interest=football<br>frameId=28<br>x=%{x}<br>y=%{y}<extra></extra>",
           "hovertext": [
            "football"
           ],
           "legendgroup": "football",
           "marker": {
            "color": "#825736",
            "symbol": "circle"
           },
           "mode": "markers",
           "name": "football",
           "orientation": "v",
           "showlegend": true,
           "type": "scatter",
           "x": [
            null
           ],
           "xaxis": "x",
           "y": [
            null
           ],
           "yaxis": "y"
          }
         ],
         "name": "28"
        },
        {
         "data": [
          {
           "hovertemplate": "<b>%{hovertext}</b><br><br>Player of Interest=Offense<br>frameId=29<br>x=%{x}<br>y=%{y}<extra></extra>",
           "hovertext": [
            "Rodger Saffold",
            "Mitch Morse",
            "Stefon Diggs",
            "Dion Dawkins",
            "Isaiah McKenzie",
            "Devin Singletary",
            "Dawson Knox",
            "Ryan Bates",
            "Gabe Davis",
            "Spencer Brown"
           ],
           "legendgroup": "Offense",
           "marker": {
            "color": "cornsilk",
            "symbol": "circle"
           },
           "mode": "markers",
           "name": "Offense",
           "orientation": "v",
           "showlegend": true,
           "type": "scatter",
           "x": [
            39.129999999999995,
            44.3,
            54.709999999999994,
            41.3,
            49.2,
            43.879999999999995,
            51.099999999999994,
            39.379999999999995,
            51.239999999999995,
            39.92
           ],
           "xaxis": "x",
           "y": [
            25.659999999999997,
            15.099999999999994,
            19.739999999999995,
            25.929999999999996,
            44.47,
            3.5700000000000003,
            17.509999999999998,
            19.099999999999994,
            30.919999999999998,
            16.839999999999996
           ],
           "yaxis": "y"
          },
          {
           "hovertemplate": "<b>%{hovertext}</b><br><br>Player of Interest=Defense<br>frameId=29<br>x=%{x}<br>y=%{y}<extra></extra>",
           "hovertext": [
            "Bobby Wagner",
            "Aaron Donald",
            "Troy Hill",
            "Jalen Ramsey",
            "Leonard Floyd",
            "A'Shawn Robinson",
            "Taylor Rapp",
            "Greg Gaines",
            "Nick Scott",
            "Jordan Fuller"
           ],
           "legendgroup": "Defense",
           "marker": {
            "color": "lightblue",
            "symbol": "circle"
           },
           "mode": "markers",
           "name": "Defense",
           "orientation": "v",
           "showlegend": true,
           "type": "scatter",
           "x": [
            51,
            34.11,
            55.989999999999995,
            48.019999999999996,
            45.33,
            44.93000000000001,
            51.06999999999999,
            47.879999999999995,
            54.34,
            51.629999999999995
           ],
           "xaxis": "x",
           "y": [
            17.919999999999995,
            20.47,
            29.08,
            8.809999999999995,
            10.709999999999994,
            23.709999999999997,
            43.14,
            11.61,
            15.739999999999995,
            10.399999999999999
           ],
           "yaxis": "y"
          },
          {
           "hovertemplate": "<b>%{hovertext}</b><br><br>Player of Interest=ballCarrier<br>frameId=29<br>x=%{x}<br>y=%{y}<extra></extra>",
           "hovertext": [
            "Josh Allen"
           ],
           "legendgroup": "ballCarrier",
           "marker": {
            "color": "lime",
            "symbol": "circle"
           },
           "mode": "markers",
           "name": "ballCarrier",
           "orientation": "v",
           "showlegend": true,
           "type": "scatter",
           "x": [
            47.55
           ],
           "xaxis": "x",
           "y": [
            9.559999999999995
           ],
           "yaxis": "y"
          },
          {
           "hovertemplate": "<b>%{hovertext}</b><br><br>Player of Interest=Tackle<br>frameId=29<br>x=%{x}<br>y=%{y}<extra></extra>",
           "hovertext": [
            "Ernest Jones"
           ],
           "legendgroup": "Tackle",
           "marker": {
            "color": "red",
            "symbol": "circle"
           },
           "mode": "markers",
           "name": "Tackle",
           "orientation": "v",
           "showlegend": true,
           "type": "scatter",
           "x": [
            47.89
           ],
           "xaxis": "x",
           "y": [
            9.829999999999998
           ],
           "yaxis": "y"
          },
          {
           "hovertemplate": "<b>%{hovertext}</b><br><br>Player of Interest=football<br>frameId=29<br>x=%{x}<br>y=%{y}<extra></extra>",
           "hovertext": [
            "football"
           ],
           "legendgroup": "football",
           "marker": {
            "color": "#825736",
            "symbol": "circle"
           },
           "mode": "markers",
           "name": "football",
           "orientation": "v",
           "showlegend": true,
           "type": "scatter",
           "x": [
            null
           ],
           "xaxis": "x",
           "y": [
            null
           ],
           "yaxis": "y"
          }
         ],
         "name": "29"
        },
        {
         "data": [
          {
           "hovertemplate": "<b>%{hovertext}</b><br><br>Player of Interest=Offense<br>frameId=30<br>x=%{x}<br>y=%{y}<extra></extra>",
           "hovertext": [
            "Rodger Saffold",
            "Mitch Morse",
            "Stefon Diggs",
            "Dion Dawkins",
            "Isaiah McKenzie",
            "Devin Singletary",
            "Dawson Knox",
            "Ryan Bates",
            "Gabe Davis",
            "Spencer Brown"
           ],
           "legendgroup": "Offense",
           "marker": {
            "color": "cornsilk",
            "symbol": "circle"
           },
           "mode": "markers",
           "name": "Offense",
           "orientation": "v",
           "showlegend": true,
           "type": "scatter",
           "x": [
            39.269999999999996,
            44.61,
            54.629999999999995,
            41.5,
            49.150000000000006,
            44.22,
            51.239999999999995,
            39.739999999999995,
            51.260000000000005,
            40.239999999999995
           ],
           "xaxis": "x",
           "y": [
            25.539999999999996,
            14.699999999999996,
            19.619999999999997,
            25.769999999999996,
            44.31999999999999,
            3.759999999999998,
            17.259999999999998,
            18.89,
            30.639999999999997,
            16.599999999999994
           ],
           "yaxis": "y"
          },
          {
           "hovertemplate": "<b>%{hovertext}</b><br><br>Player of Interest=Defense<br>frameId=30<br>x=%{x}<br>y=%{y}<extra></extra>",
           "hovertext": [
            "Bobby Wagner",
            "Aaron Donald",
            "Troy Hill",
            "Jalen Ramsey",
            "Leonard Floyd",
            "A'Shawn Robinson",
            "Taylor Rapp",
            "Greg Gaines",
            "Nick Scott",
            "Jordan Fuller"
           ],
           "legendgroup": "Defense",
           "marker": {
            "color": "lightblue",
            "symbol": "circle"
           },
           "mode": "markers",
           "name": "Defense",
           "orientation": "v",
           "showlegend": true,
           "type": "scatter",
           "x": [
            51.18000000000001,
            34.28,
            55.959999999999994,
            48.010000000000005,
            45.629999999999995,
            45.17,
            51.019999999999996,
            48.260000000000005,
            54.129999999999995,
            51.459999999999994
           ],
           "xaxis": "x",
           "y": [
            17.72,
            20.339999999999996,
            28.519999999999996,
            8.799999999999997,
            10.36,
            23.49,
            42.849999999999994,
            11.309999999999995,
            15.29,
            10.099999999999994
           ],
           "yaxis": "y"
          },
          {
           "hovertemplate": "<b>%{hovertext}</b><br><br>Player of Interest=ballCarrier<br>frameId=30<br>x=%{x}<br>y=%{y}<extra></extra>",
           "hovertext": [
            "Josh Allen"
           ],
           "legendgroup": "ballCarrier",
           "marker": {
            "color": "lime",
            "symbol": "circle"
           },
           "mode": "markers",
           "name": "ballCarrier",
           "orientation": "v",
           "showlegend": true,
           "type": "scatter",
           "x": [
            47.67
           ],
           "xaxis": "x",
           "y": [
            9.25
           ],
           "yaxis": "y"
          },
          {
           "hovertemplate": "<b>%{hovertext}</b><br><br>Player of Interest=Tackle<br>frameId=30<br>x=%{x}<br>y=%{y}<extra></extra>",
           "hovertext": [
            "Ernest Jones"
           ],
           "legendgroup": "Tackle",
           "marker": {
            "color": "red",
            "symbol": "circle"
           },
           "mode": "markers",
           "name": "Tackle",
           "orientation": "v",
           "showlegend": true,
           "type": "scatter",
           "x": [
            48.150000000000006
           ],
           "xaxis": "x",
           "y": [
            9.519999999999996
           ],
           "yaxis": "y"
          },
          {
           "hovertemplate": "<b>%{hovertext}</b><br><br>Player of Interest=football<br>frameId=30<br>x=%{x}<br>y=%{y}<extra></extra>",
           "hovertext": [
            "football"
           ],
           "legendgroup": "football",
           "marker": {
            "color": "#825736",
            "symbol": "circle"
           },
           "mode": "markers",
           "name": "football",
           "orientation": "v",
           "showlegend": true,
           "type": "scatter",
           "x": [
            null
           ],
           "xaxis": "x",
           "y": [
            null
           ],
           "yaxis": "y"
          }
         ],
         "name": "30"
        }
       ],
       "layout": {
        "height": 565,
        "legend": {
         "title": {
          "text": "Player of Interest"
         },
         "tracegroupgap": 0
        },
        "margin": {
         "t": 60
        },
        "plot_bgcolor": "#567D46",
        "shapes": [
         {
          "fillcolor": "gray",
          "type": "rect",
          "x0": 0,
          "x1": 10,
          "xref": "x",
          "y0": 0,
          "y1": 1,
          "yref": "y domain"
         },
         {
          "fillcolor": "gray",
          "type": "rect",
          "x0": 110,
          "x1": 120,
          "xref": "x",
          "y0": 0,
          "y1": 1,
          "yref": "y domain"
         },
         {
          "line": {
           "color": "blue",
           "dash": "dash"
          },
          "opacity": 0.5,
          "type": "line",
          "x0": 79,
          "x1": 79,
          "xref": "x",
          "y0": 0,
          "y1": 1,
          "yref": "y domain"
         },
         {
          "line": {
           "color": "yellow",
           "dash": "dash"
          },
          "opacity": 0.5,
          "type": "line",
          "x0": 83,
          "x1": 83,
          "xref": "x",
          "y0": 0,
          "y1": 1,
          "yref": "y domain"
         }
        ],
        "sliders": [
         {
          "active": 0,
          "currentvalue": {
           "prefix": "frameId="
          },
          "len": 0.9,
          "pad": {
           "b": 10,
           "t": 60
          },
          "steps": [
           {
            "args": [
             [
              "1"
             ],
             {
              "frame": {
               "duration": 0,
               "redraw": false
              },
              "fromcurrent": true,
              "mode": "immediate",
              "transition": {
               "duration": 0,
               "easing": "linear"
              }
             }
            ],
            "label": "1",
            "method": "animate"
           },
           {
            "args": [
             [
              "2"
             ],
             {
              "frame": {
               "duration": 0,
               "redraw": false
              },
              "fromcurrent": true,
              "mode": "immediate",
              "transition": {
               "duration": 0,
               "easing": "linear"
              }
             }
            ],
            "label": "2",
            "method": "animate"
           },
           {
            "args": [
             [
              "3"
             ],
             {
              "frame": {
               "duration": 0,
               "redraw": false
              },
              "fromcurrent": true,
              "mode": "immediate",
              "transition": {
               "duration": 0,
               "easing": "linear"
              }
             }
            ],
            "label": "3",
            "method": "animate"
           },
           {
            "args": [
             [
              "4"
             ],
             {
              "frame": {
               "duration": 0,
               "redraw": false
              },
              "fromcurrent": true,
              "mode": "immediate",
              "transition": {
               "duration": 0,
               "easing": "linear"
              }
             }
            ],
            "label": "4",
            "method": "animate"
           },
           {
            "args": [
             [
              "5"
             ],
             {
              "frame": {
               "duration": 0,
               "redraw": false
              },
              "fromcurrent": true,
              "mode": "immediate",
              "transition": {
               "duration": 0,
               "easing": "linear"
              }
             }
            ],
            "label": "5",
            "method": "animate"
           },
           {
            "args": [
             [
              "6"
             ],
             {
              "frame": {
               "duration": 0,
               "redraw": false
              },
              "fromcurrent": true,
              "mode": "immediate",
              "transition": {
               "duration": 0,
               "easing": "linear"
              }
             }
            ],
            "label": "6",
            "method": "animate"
           },
           {
            "args": [
             [
              "7"
             ],
             {
              "frame": {
               "duration": 0,
               "redraw": false
              },
              "fromcurrent": true,
              "mode": "immediate",
              "transition": {
               "duration": 0,
               "easing": "linear"
              }
             }
            ],
            "label": "7",
            "method": "animate"
           },
           {
            "args": [
             [
              "8"
             ],
             {
              "frame": {
               "duration": 0,
               "redraw": false
              },
              "fromcurrent": true,
              "mode": "immediate",
              "transition": {
               "duration": 0,
               "easing": "linear"
              }
             }
            ],
            "label": "8",
            "method": "animate"
           },
           {
            "args": [
             [
              "9"
             ],
             {
              "frame": {
               "duration": 0,
               "redraw": false
              },
              "fromcurrent": true,
              "mode": "immediate",
              "transition": {
               "duration": 0,
               "easing": "linear"
              }
             }
            ],
            "label": "9",
            "method": "animate"
           },
           {
            "args": [
             [
              "10"
             ],
             {
              "frame": {
               "duration": 0,
               "redraw": false
              },
              "fromcurrent": true,
              "mode": "immediate",
              "transition": {
               "duration": 0,
               "easing": "linear"
              }
             }
            ],
            "label": "10",
            "method": "animate"
           },
           {
            "args": [
             [
              "11"
             ],
             {
              "frame": {
               "duration": 0,
               "redraw": false
              },
              "fromcurrent": true,
              "mode": "immediate",
              "transition": {
               "duration": 0,
               "easing": "linear"
              }
             }
            ],
            "label": "11",
            "method": "animate"
           },
           {
            "args": [
             [
              "12"
             ],
             {
              "frame": {
               "duration": 0,
               "redraw": false
              },
              "fromcurrent": true,
              "mode": "immediate",
              "transition": {
               "duration": 0,
               "easing": "linear"
              }
             }
            ],
            "label": "12",
            "method": "animate"
           },
           {
            "args": [
             [
              "13"
             ],
             {
              "frame": {
               "duration": 0,
               "redraw": false
              },
              "fromcurrent": true,
              "mode": "immediate",
              "transition": {
               "duration": 0,
               "easing": "linear"
              }
             }
            ],
            "label": "13",
            "method": "animate"
           },
           {
            "args": [
             [
              "14"
             ],
             {
              "frame": {
               "duration": 0,
               "redraw": false
              },
              "fromcurrent": true,
              "mode": "immediate",
              "transition": {
               "duration": 0,
               "easing": "linear"
              }
             }
            ],
            "label": "14",
            "method": "animate"
           },
           {
            "args": [
             [
              "15"
             ],
             {
              "frame": {
               "duration": 0,
               "redraw": false
              },
              "fromcurrent": true,
              "mode": "immediate",
              "transition": {
               "duration": 0,
               "easing": "linear"
              }
             }
            ],
            "label": "15",
            "method": "animate"
           },
           {
            "args": [
             [
              "16"
             ],
             {
              "frame": {
               "duration": 0,
               "redraw": false
              },
              "fromcurrent": true,
              "mode": "immediate",
              "transition": {
               "duration": 0,
               "easing": "linear"
              }
             }
            ],
            "label": "16",
            "method": "animate"
           },
           {
            "args": [
             [
              "17"
             ],
             {
              "frame": {
               "duration": 0,
               "redraw": false
              },
              "fromcurrent": true,
              "mode": "immediate",
              "transition": {
               "duration": 0,
               "easing": "linear"
              }
             }
            ],
            "label": "17",
            "method": "animate"
           },
           {
            "args": [
             [
              "18"
             ],
             {
              "frame": {
               "duration": 0,
               "redraw": false
              },
              "fromcurrent": true,
              "mode": "immediate",
              "transition": {
               "duration": 0,
               "easing": "linear"
              }
             }
            ],
            "label": "18",
            "method": "animate"
           },
           {
            "args": [
             [
              "19"
             ],
             {
              "frame": {
               "duration": 0,
               "redraw": false
              },
              "fromcurrent": true,
              "mode": "immediate",
              "transition": {
               "duration": 0,
               "easing": "linear"
              }
             }
            ],
            "label": "19",
            "method": "animate"
           },
           {
            "args": [
             [
              "20"
             ],
             {
              "frame": {
               "duration": 0,
               "redraw": false
              },
              "fromcurrent": true,
              "mode": "immediate",
              "transition": {
               "duration": 0,
               "easing": "linear"
              }
             }
            ],
            "label": "20",
            "method": "animate"
           },
           {
            "args": [
             [
              "21"
             ],
             {
              "frame": {
               "duration": 0,
               "redraw": false
              },
              "fromcurrent": true,
              "mode": "immediate",
              "transition": {
               "duration": 0,
               "easing": "linear"
              }
             }
            ],
            "label": "21",
            "method": "animate"
           },
           {
            "args": [
             [
              "22"
             ],
             {
              "frame": {
               "duration": 0,
               "redraw": false
              },
              "fromcurrent": true,
              "mode": "immediate",
              "transition": {
               "duration": 0,
               "easing": "linear"
              }
             }
            ],
            "label": "22",
            "method": "animate"
           },
           {
            "args": [
             [
              "23"
             ],
             {
              "frame": {
               "duration": 0,
               "redraw": false
              },
              "fromcurrent": true,
              "mode": "immediate",
              "transition": {
               "duration": 0,
               "easing": "linear"
              }
             }
            ],
            "label": "23",
            "method": "animate"
           },
           {
            "args": [
             [
              "24"
             ],
             {
              "frame": {
               "duration": 0,
               "redraw": false
              },
              "fromcurrent": true,
              "mode": "immediate",
              "transition": {
               "duration": 0,
               "easing": "linear"
              }
             }
            ],
            "label": "24",
            "method": "animate"
           },
           {
            "args": [
             [
              "25"
             ],
             {
              "frame": {
               "duration": 0,
               "redraw": false
              },
              "fromcurrent": true,
              "mode": "immediate",
              "transition": {
               "duration": 0,
               "easing": "linear"
              }
             }
            ],
            "label": "25",
            "method": "animate"
           },
           {
            "args": [
             [
              "26"
             ],
             {
              "frame": {
               "duration": 0,
               "redraw": false
              },
              "fromcurrent": true,
              "mode": "immediate",
              "transition": {
               "duration": 0,
               "easing": "linear"
              }
             }
            ],
            "label": "26",
            "method": "animate"
           },
           {
            "args": [
             [
              "27"
             ],
             {
              "frame": {
               "duration": 0,
               "redraw": false
              },
              "fromcurrent": true,
              "mode": "immediate",
              "transition": {
               "duration": 0,
               "easing": "linear"
              }
             }
            ],
            "label": "27",
            "method": "animate"
           },
           {
            "args": [
             [
              "28"
             ],
             {
              "frame": {
               "duration": 0,
               "redraw": false
              },
              "fromcurrent": true,
              "mode": "immediate",
              "transition": {
               "duration": 0,
               "easing": "linear"
              }
             }
            ],
            "label": "28",
            "method": "animate"
           },
           {
            "args": [
             [
              "29"
             ],
             {
              "frame": {
               "duration": 0,
               "redraw": false
              },
              "fromcurrent": true,
              "mode": "immediate",
              "transition": {
               "duration": 0,
               "easing": "linear"
              }
             }
            ],
            "label": "29",
            "method": "animate"
           },
           {
            "args": [
             [
              "30"
             ],
             {
              "frame": {
               "duration": 0,
               "redraw": false
              },
              "fromcurrent": true,
              "mode": "immediate",
              "transition": {
               "duration": 0,
               "easing": "linear"
              }
             }
            ],
            "label": "30",
            "method": "animate"
           }
          ],
          "x": 0.1,
          "xanchor": "left",
          "y": 0,
          "yanchor": "top"
         }
        ],
        "template": {
         "data": {
          "bar": [
           {
            "error_x": {
             "color": "#2a3f5f"
            },
            "error_y": {
             "color": "#2a3f5f"
            },
            "marker": {
             "line": {
              "color": "#E5ECF6",
              "width": 0.5
             },
             "pattern": {
              "fillmode": "overlay",
              "size": 10,
              "solidity": 0.2
             }
            },
            "type": "bar"
           }
          ],
          "barpolar": [
           {
            "marker": {
             "line": {
              "color": "#E5ECF6",
              "width": 0.5
             },
             "pattern": {
              "fillmode": "overlay",
              "size": 10,
              "solidity": 0.2
             }
            },
            "type": "barpolar"
           }
          ],
          "carpet": [
           {
            "aaxis": {
             "endlinecolor": "#2a3f5f",
             "gridcolor": "white",
             "linecolor": "white",
             "minorgridcolor": "white",
             "startlinecolor": "#2a3f5f"
            },
            "baxis": {
             "endlinecolor": "#2a3f5f",
             "gridcolor": "white",
             "linecolor": "white",
             "minorgridcolor": "white",
             "startlinecolor": "#2a3f5f"
            },
            "type": "carpet"
           }
          ],
          "choropleth": [
           {
            "colorbar": {
             "outlinewidth": 0,
             "ticks": ""
            },
            "type": "choropleth"
           }
          ],
          "contour": [
           {
            "colorbar": {
             "outlinewidth": 0,
             "ticks": ""
            },
            "colorscale": [
             [
              0,
              "#0d0887"
             ],
             [
              0.1111111111111111,
              "#46039f"
             ],
             [
              0.2222222222222222,
              "#7201a8"
             ],
             [
              0.3333333333333333,
              "#9c179e"
             ],
             [
              0.4444444444444444,
              "#bd3786"
             ],
             [
              0.5555555555555556,
              "#d8576b"
             ],
             [
              0.6666666666666666,
              "#ed7953"
             ],
             [
              0.7777777777777778,
              "#fb9f3a"
             ],
             [
              0.8888888888888888,
              "#fdca26"
             ],
             [
              1,
              "#f0f921"
             ]
            ],
            "type": "contour"
           }
          ],
          "contourcarpet": [
           {
            "colorbar": {
             "outlinewidth": 0,
             "ticks": ""
            },
            "type": "contourcarpet"
           }
          ],
          "heatmap": [
           {
            "colorbar": {
             "outlinewidth": 0,
             "ticks": ""
            },
            "colorscale": [
             [
              0,
              "#0d0887"
             ],
             [
              0.1111111111111111,
              "#46039f"
             ],
             [
              0.2222222222222222,
              "#7201a8"
             ],
             [
              0.3333333333333333,
              "#9c179e"
             ],
             [
              0.4444444444444444,
              "#bd3786"
             ],
             [
              0.5555555555555556,
              "#d8576b"
             ],
             [
              0.6666666666666666,
              "#ed7953"
             ],
             [
              0.7777777777777778,
              "#fb9f3a"
             ],
             [
              0.8888888888888888,
              "#fdca26"
             ],
             [
              1,
              "#f0f921"
             ]
            ],
            "type": "heatmap"
           }
          ],
          "heatmapgl": [
           {
            "colorbar": {
             "outlinewidth": 0,
             "ticks": ""
            },
            "colorscale": [
             [
              0,
              "#0d0887"
             ],
             [
              0.1111111111111111,
              "#46039f"
             ],
             [
              0.2222222222222222,
              "#7201a8"
             ],
             [
              0.3333333333333333,
              "#9c179e"
             ],
             [
              0.4444444444444444,
              "#bd3786"
             ],
             [
              0.5555555555555556,
              "#d8576b"
             ],
             [
              0.6666666666666666,
              "#ed7953"
             ],
             [
              0.7777777777777778,
              "#fb9f3a"
             ],
             [
              0.8888888888888888,
              "#fdca26"
             ],
             [
              1,
              "#f0f921"
             ]
            ],
            "type": "heatmapgl"
           }
          ],
          "histogram": [
           {
            "marker": {
             "pattern": {
              "fillmode": "overlay",
              "size": 10,
              "solidity": 0.2
             }
            },
            "type": "histogram"
           }
          ],
          "histogram2d": [
           {
            "colorbar": {
             "outlinewidth": 0,
             "ticks": ""
            },
            "colorscale": [
             [
              0,
              "#0d0887"
             ],
             [
              0.1111111111111111,
              "#46039f"
             ],
             [
              0.2222222222222222,
              "#7201a8"
             ],
             [
              0.3333333333333333,
              "#9c179e"
             ],
             [
              0.4444444444444444,
              "#bd3786"
             ],
             [
              0.5555555555555556,
              "#d8576b"
             ],
             [
              0.6666666666666666,
              "#ed7953"
             ],
             [
              0.7777777777777778,
              "#fb9f3a"
             ],
             [
              0.8888888888888888,
              "#fdca26"
             ],
             [
              1,
              "#f0f921"
             ]
            ],
            "type": "histogram2d"
           }
          ],
          "histogram2dcontour": [
           {
            "colorbar": {
             "outlinewidth": 0,
             "ticks": ""
            },
            "colorscale": [
             [
              0,
              "#0d0887"
             ],
             [
              0.1111111111111111,
              "#46039f"
             ],
             [
              0.2222222222222222,
              "#7201a8"
             ],
             [
              0.3333333333333333,
              "#9c179e"
             ],
             [
              0.4444444444444444,
              "#bd3786"
             ],
             [
              0.5555555555555556,
              "#d8576b"
             ],
             [
              0.6666666666666666,
              "#ed7953"
             ],
             [
              0.7777777777777778,
              "#fb9f3a"
             ],
             [
              0.8888888888888888,
              "#fdca26"
             ],
             [
              1,
              "#f0f921"
             ]
            ],
            "type": "histogram2dcontour"
           }
          ],
          "mesh3d": [
           {
            "colorbar": {
             "outlinewidth": 0,
             "ticks": ""
            },
            "type": "mesh3d"
           }
          ],
          "parcoords": [
           {
            "line": {
             "colorbar": {
              "outlinewidth": 0,
              "ticks": ""
             }
            },
            "type": "parcoords"
           }
          ],
          "pie": [
           {
            "automargin": true,
            "type": "pie"
           }
          ],
          "scatter": [
           {
            "fillpattern": {
             "fillmode": "overlay",
             "size": 10,
             "solidity": 0.2
            },
            "type": "scatter"
           }
          ],
          "scatter3d": [
           {
            "line": {
             "colorbar": {
              "outlinewidth": 0,
              "ticks": ""
             }
            },
            "marker": {
             "colorbar": {
              "outlinewidth": 0,
              "ticks": ""
             }
            },
            "type": "scatter3d"
           }
          ],
          "scattercarpet": [
           {
            "marker": {
             "colorbar": {
              "outlinewidth": 0,
              "ticks": ""
             }
            },
            "type": "scattercarpet"
           }
          ],
          "scattergeo": [
           {
            "marker": {
             "colorbar": {
              "outlinewidth": 0,
              "ticks": ""
             }
            },
            "type": "scattergeo"
           }
          ],
          "scattergl": [
           {
            "marker": {
             "colorbar": {
              "outlinewidth": 0,
              "ticks": ""
             }
            },
            "type": "scattergl"
           }
          ],
          "scattermapbox": [
           {
            "marker": {
             "colorbar": {
              "outlinewidth": 0,
              "ticks": ""
             }
            },
            "type": "scattermapbox"
           }
          ],
          "scatterpolar": [
           {
            "marker": {
             "colorbar": {
              "outlinewidth": 0,
              "ticks": ""
             }
            },
            "type": "scatterpolar"
           }
          ],
          "scatterpolargl": [
           {
            "marker": {
             "colorbar": {
              "outlinewidth": 0,
              "ticks": ""
             }
            },
            "type": "scatterpolargl"
           }
          ],
          "scatterternary": [
           {
            "marker": {
             "colorbar": {
              "outlinewidth": 0,
              "ticks": ""
             }
            },
            "type": "scatterternary"
           }
          ],
          "surface": [
           {
            "colorbar": {
             "outlinewidth": 0,
             "ticks": ""
            },
            "colorscale": [
             [
              0,
              "#0d0887"
             ],
             [
              0.1111111111111111,
              "#46039f"
             ],
             [
              0.2222222222222222,
              "#7201a8"
             ],
             [
              0.3333333333333333,
              "#9c179e"
             ],
             [
              0.4444444444444444,
              "#bd3786"
             ],
             [
              0.5555555555555556,
              "#d8576b"
             ],
             [
              0.6666666666666666,
              "#ed7953"
             ],
             [
              0.7777777777777778,
              "#fb9f3a"
             ],
             [
              0.8888888888888888,
              "#fdca26"
             ],
             [
              1,
              "#f0f921"
             ]
            ],
            "type": "surface"
           }
          ],
          "table": [
           {
            "cells": {
             "fill": {
              "color": "#EBF0F8"
             },
             "line": {
              "color": "white"
             }
            },
            "header": {
             "fill": {
              "color": "#C8D4E3"
             },
             "line": {
              "color": "white"
             }
            },
            "type": "table"
           }
          ]
         },
         "layout": {
          "annotationdefaults": {
           "arrowcolor": "#2a3f5f",
           "arrowhead": 0,
           "arrowwidth": 1
          },
          "autotypenumbers": "strict",
          "coloraxis": {
           "colorbar": {
            "outlinewidth": 0,
            "ticks": ""
           }
          },
          "colorscale": {
           "diverging": [
            [
             0,
             "#8e0152"
            ],
            [
             0.1,
             "#c51b7d"
            ],
            [
             0.2,
             "#de77ae"
            ],
            [
             0.3,
             "#f1b6da"
            ],
            [
             0.4,
             "#fde0ef"
            ],
            [
             0.5,
             "#f7f7f7"
            ],
            [
             0.6,
             "#e6f5d0"
            ],
            [
             0.7,
             "#b8e186"
            ],
            [
             0.8,
             "#7fbc41"
            ],
            [
             0.9,
             "#4d9221"
            ],
            [
             1,
             "#276419"
            ]
           ],
           "sequential": [
            [
             0,
             "#0d0887"
            ],
            [
             0.1111111111111111,
             "#46039f"
            ],
            [
             0.2222222222222222,
             "#7201a8"
            ],
            [
             0.3333333333333333,
             "#9c179e"
            ],
            [
             0.4444444444444444,
             "#bd3786"
            ],
            [
             0.5555555555555556,
             "#d8576b"
            ],
            [
             0.6666666666666666,
             "#ed7953"
            ],
            [
             0.7777777777777778,
             "#fb9f3a"
            ],
            [
             0.8888888888888888,
             "#fdca26"
            ],
            [
             1,
             "#f0f921"
            ]
           ],
           "sequentialminus": [
            [
             0,
             "#0d0887"
            ],
            [
             0.1111111111111111,
             "#46039f"
            ],
            [
             0.2222222222222222,
             "#7201a8"
            ],
            [
             0.3333333333333333,
             "#9c179e"
            ],
            [
             0.4444444444444444,
             "#bd3786"
            ],
            [
             0.5555555555555556,
             "#d8576b"
            ],
            [
             0.6666666666666666,
             "#ed7953"
            ],
            [
             0.7777777777777778,
             "#fb9f3a"
            ],
            [
             0.8888888888888888,
             "#fdca26"
            ],
            [
             1,
             "#f0f921"
            ]
           ]
          },
          "colorway": [
           "#636efa",
           "#EF553B",
           "#00cc96",
           "#ab63fa",
           "#FFA15A",
           "#19d3f3",
           "#FF6692",
           "#B6E880",
           "#FF97FF",
           "#FECB52"
          ],
          "font": {
           "color": "#2a3f5f"
          },
          "geo": {
           "bgcolor": "white",
           "lakecolor": "white",
           "landcolor": "#E5ECF6",
           "showlakes": true,
           "showland": true,
           "subunitcolor": "white"
          },
          "hoverlabel": {
           "align": "left"
          },
          "hovermode": "closest",
          "mapbox": {
           "style": "light"
          },
          "paper_bgcolor": "white",
          "plot_bgcolor": "#E5ECF6",
          "polar": {
           "angularaxis": {
            "gridcolor": "white",
            "linecolor": "white",
            "ticks": ""
           },
           "bgcolor": "#E5ECF6",
           "radialaxis": {
            "gridcolor": "white",
            "linecolor": "white",
            "ticks": ""
           }
          },
          "scene": {
           "xaxis": {
            "backgroundcolor": "#E5ECF6",
            "gridcolor": "white",
            "gridwidth": 2,
            "linecolor": "white",
            "showbackground": true,
            "ticks": "",
            "zerolinecolor": "white"
           },
           "yaxis": {
            "backgroundcolor": "#E5ECF6",
            "gridcolor": "white",
            "gridwidth": 2,
            "linecolor": "white",
            "showbackground": true,
            "ticks": "",
            "zerolinecolor": "white"
           },
           "zaxis": {
            "backgroundcolor": "#E5ECF6",
            "gridcolor": "white",
            "gridwidth": 2,
            "linecolor": "white",
            "showbackground": true,
            "ticks": "",
            "zerolinecolor": "white"
           }
          },
          "shapedefaults": {
           "line": {
            "color": "#2a3f5f"
           }
          },
          "ternary": {
           "aaxis": {
            "gridcolor": "white",
            "linecolor": "white",
            "ticks": ""
           },
           "baxis": {
            "gridcolor": "white",
            "linecolor": "white",
            "ticks": ""
           },
           "bgcolor": "#E5ECF6",
           "caxis": {
            "gridcolor": "white",
            "linecolor": "white",
            "ticks": ""
           }
          },
          "title": {
           "x": 0.05
          },
          "xaxis": {
           "automargin": true,
           "gridcolor": "white",
           "linecolor": "white",
           "ticks": "",
           "title": {
            "standoff": 15
           },
           "zerolinecolor": "white",
           "zerolinewidth": 2
          },
          "yaxis": {
           "automargin": true,
           "gridcolor": "white",
           "linecolor": "white",
           "ticks": "",
           "title": {
            "standoff": 15
           },
           "zerolinecolor": "white",
           "zerolinewidth": 2
          }
         }
        },
        "updatemenus": [
         {
          "active": 0,
          "buttons": [
           {
            "args": [
             null,
             {
              "frame": {
               "duration": 100,
               "redraw": false
              },
              "fromcurrent": true,
              "mode": "immediate",
              "transition": {
               "duration": 0,
               "easing": "linear"
              }
             }
            ],
            "label": "&#9654;",
            "method": "animate"
           },
           {
            "args": [
             [
              null
             ],
             {
              "frame": {
               "duration": 0,
               "redraw": false
              },
              "fromcurrent": true,
              "mode": "immediate",
              "transition": {
               "duration": 0,
               "easing": "linear"
              }
             }
            ],
            "label": "&#9724;",
            "method": "animate"
           }
          ],
          "direction": "left",
          "pad": {
           "r": 10,
           "t": 70
          },
          "showactive": false,
          "type": "buttons",
          "x": 0.1,
          "xanchor": "right",
          "y": 0,
          "yanchor": "top"
         }
        ],
        "width": 1000,
        "xaxis": {
         "anchor": "y",
         "domain": [
          0,
          1
         ],
         "dtick": 10,
         "range": [
          0,
          120
         ],
         "tick0": 0,
         "title": {
          "text": "x"
         },
         "type": "linear"
        },
        "yaxis": {
         "anchor": "x",
         "domain": [
          0,
          1
         ],
         "range": [
          0,
          53.3
         ],
         "title": {
          "text": "y"
         },
         "type": "linear",
         "visible": false
        }
       }
      },
      "image/png": "[encoded data removed]",
      "text/html": [
       "<div>                            <div id=\"87436d2c-f225-4283-b4b3-21430adc2d51\" class=\"plotly-graph-div\" style=\"height:565px; width:1000px;\"></div>            <script type=\"text/javascript\">                require([\"plotly\"], function(Plotly) {                    window.PLOTLYENV=window.PLOTLYENV || {};                                    if (document.getElementById(\"87436d2c-f225-4283-b4b3-21430adc2d51\")) {                    Plotly.newPlot(                        \"87436d2c-f225-4283-b4b3-21430adc2d51\",                        [{\"hovertemplate\":\"\\u003cb\\u003e%{hovertext}\\u003c\\u002fb\\u003e\\u003cbr\\u003e\\u003cbr\\u003ePlayer of Interest=Offense\\u003cbr\\u003eframeId=1\\u003cbr\\u003ex=%{x}\\u003cbr\\u003ey=%{y}\\u003cextra\\u003e\\u003c\\u002fextra\\u003e\",\"hovertext\":[\"Rodger Saffold\",\"Mitch Morse\",\"Stefon Diggs\",\"Dion Dawkins\",\"Isaiah McKenzie\",\"Devin Singletary\",\"Dawson Knox\",\"Ryan Bates\",\"Gabe Davis\",\"Spencer Brown\"],\"legendgroup\":\"Offense\",\"marker\":{\"color\":\"cornsilk\",\"symbol\":\"circle\",\"line\":{\"color\":\"black\",\"width\":2},\"opacity\":0.9,\"size\":12},\"mode\":\"markers\",\"name\":\"Offense\",\"orientation\":\"v\",\"showlegend\":true,\"x\":[37.58,38.25,50.58,37.06999999999999,47.36,35.81999999999999,45.36,34.41,48.379999999999995,33.72],\"xaxis\":\"x\",\"y\":[27.169999999999998,24.909999999999997,30.709999999999997,28.709999999999997,44.8,7.849999999999994,18.709999999999994,23.669999999999998,38.89,20.049999999999997],\"yaxis\":\"y\",\"type\":\"scatter\"},{\"hovertemplate\":\"\\u003cb\\u003e%{hovertext}\\u003c\\u002fb\\u003e\\u003cbr\\u003e\\u003cbr\\u003ePlayer of Interest=Defense\\u003cbr\\u003eframeId=1\\u003cbr\\u003ex=%{x}\\u003cbr\\u003ey=%{y}\\u003cextra\\u003e\\u003c\\u002fextra\\u003e\",\"hovertext\":[\"Bobby Wagner\",\"Aaron Donald\",\"Troy Hill\",\"Jalen Ramsey\",\"Leonard Floyd\",\"A'Shawn Robinson\",\"Taylor Rapp\",\"Greg Gaines\",\"Nick Scott\",\"Jordan Fuller\",\"Ernest Jones\"],\"legendgroup\":\"Defense\",\"marker\":{\"color\":\"lightblue\",\"symbol\":\"circle\",\"line\":{\"color\":\"black\",\"width\":2},\"opacity\":0.9,\"size\":12},\"mode\":\"markers\",\"name\":\"Defense\",\"orientation\":\"v\",\"showlegend\":true,\"x\":[48.28,33.209999999999994,54.45,47.510000000000005,33.42,37.870000000000005,52.86,39.55,59.75,56.71,46.11],\"xaxis\":\"x\",\"y\":[30.109999999999996,23.909999999999997,43.12,9.36,18.919999999999995,29.209999999999997,43.379999999999995,25.209999999999997,27.879999999999995,17.33,17.779999999999994],\"yaxis\":\"y\",\"type\":\"scatter\"},{\"hovertemplate\":\"\\u003cb\\u003e%{hovertext}\\u003c\\u002fb\\u003e\\u003cbr\\u003e\\u003cbr\\u003ePlayer of Interest=ballCarrier\\u003cbr\\u003eframeId=1\\u003cbr\\u003ex=%{x}\\u003cbr\\u003ey=%{y}\\u003cextra\\u003e\\u003c\\u002fextra\\u003e\",\"hovertext\":[\"Josh Allen\"],\"legendgroup\":\"ballCarrier\",\"marker\":{\"color\":\"lime\",\"symbol\":\"circle\",\"line\":{\"color\":\"black\",\"width\":2},\"opacity\":0.9,\"size\":12},\"mode\":\"markers\",\"name\":\"ballCarrier\",\"orientation\":\"v\",\"showlegend\":true,\"x\":[36.2],\"xaxis\":\"x\",\"y\":[23.159999999999997],\"yaxis\":\"y\",\"type\":\"scatter\"},{\"hovertemplate\":\"\\u003cb\\u003e%{hovertext}\\u003c\\u002fb\\u003e\\u003cbr\\u003e\\u003cbr\\u003ePlayer of Interest=Tackle\\u003cbr\\u003eframeId=1\\u003cbr\\u003ex=%{x}\\u003cbr\\u003ey=%{y}\\u003cextra\\u003e\\u003c\\u002fextra\\u003e\",\"hovertext\":[null],\"legendgroup\":\"Tackle\",\"marker\":{\"color\":\"red\",\"symbol\":\"circle\",\"line\":{\"color\":\"black\",\"width\":2},\"opacity\":0.9,\"size\":12},\"mode\":\"markers\",\"name\":\"Tackle\",\"orientation\":\"v\",\"showlegend\":true,\"x\":[null],\"xaxis\":\"x\",\"y\":[null],\"yaxis\":\"y\",\"type\":\"scatter\"},{\"hovertemplate\":\"\\u003cb\\u003e%{hovertext}\\u003c\\u002fb\\u003e\\u003cbr\\u003e\\u003cbr\\u003ePlayer of Interest=football\\u003cbr\\u003eframeId=1\\u003cbr\\u003ex=%{x}\\u003cbr\\u003ey=%{y}\\u003cextra\\u003e\\u003c\\u002fextra\\u003e\",\"hovertext\":[\"football\"],\"legendgroup\":\"football\",\"marker\":{\"color\":\"#825736\",\"symbol\":\"circle\",\"line\":{\"color\":\"black\",\"width\":2},\"opacity\":0.9,\"size\":12},\"mode\":\"markers\",\"name\":\"football\",\"orientation\":\"v\",\"showlegend\":true,\"x\":[null],\"xaxis\":\"x\",\"y\":[null],\"yaxis\":\"y\",\"type\":\"scatter\"}],                        {\"template\":{\"data\":{\"histogram2dcontour\":[{\"type\":\"histogram2dcontour\",\"colorbar\":{\"outlinewidth\":0,\"ticks\":\"\"},\"colorscale\":[[0.0,\"#0d0887\"],[0.1111111111111111,\"#46039f\"],[0.2222222222222222,\"#7201a8\"],[0.3333333333333333,\"#9c179e\"],[0.4444444444444444,\"#bd3786\"],[0.5555555555555556,\"#d8576b\"],[0.6666666666666666,\"#ed7953\"],[0.7777777777777778,\"#fb9f3a\"],[0.8888888888888888,\"#fdca26\"],[1.0,\"#f0f921\"]]}],\"choropleth\":[{\"type\":\"choropleth\",\"colorbar\":{\"outlinewidth\":0,\"ticks\":\"\"}}],\"histogram2d\":[{\"type\":\"histogram2d\",\"colorbar\":{\"outlinewidth\":0,\"ticks\":\"\"},\"colorscale\":[[0.0,\"#0d0887\"],[0.1111111111111111,\"#46039f\"],[0.2222222222222222,\"#7201a8\"],[0.3333333333333333,\"#9c179e\"],[0.4444444444444444,\"#bd3786\"],[0.5555555555555556,\"#d8576b\"],[0.6666666666666666,\"#ed7953\"],[0.7777777777777778,\"#fb9f3a\"],[0.8888888888888888,\"#fdca26\"],[1.0,\"#f0f921\"]]}],\"heatmap\":[{\"type\":\"heatmap\",\"colorbar\":{\"outlinewidth\":0,\"ticks\":\"\"},\"colorscale\":[[0.0,\"#0d0887\"],[0.1111111111111111,\"#46039f\"],[0.2222222222222222,\"#7201a8\"],[0.3333333333333333,\"#9c179e\"],[0.4444444444444444,\"#bd3786\"],[0.5555555555555556,\"#d8576b\"],[0.6666666666666666,\"#ed7953\"],[0.7777777777777778,\"#fb9f3a\"],[0.8888888888888888,\"#fdca26\"],[1.0,\"#f0f921\"]]}],\"heatmapgl\":[{\"type\":\"heatmapgl\",\"colorbar\":{\"outlinewidth\":0,\"ticks\":\"\"},\"colorscale\":[[0.0,\"#0d0887\"],[0.1111111111111111,\"#46039f\"],[0.2222222222222222,\"#7201a8\"],[0.3333333333333333,\"#9c179e\"],[0.4444444444444444,\"#bd3786\"],[0.5555555555555556,\"#d8576b\"],[0.6666666666666666,\"#ed7953\"],[0.7777777777777778,\"#fb9f3a\"],[0.8888888888888888,\"#fdca26\"],[1.0,\"#f0f921\"]]}],\"contourcarpet\":[{\"type\":\"contourcarpet\",\"colorbar\":{\"outlinewidth\":0,\"ticks\":\"\"}}],\"contour\":[{\"type\":\"contour\",\"colorbar\":{\"outlinewidth\":0,\"ticks\":\"\"},\"colorscale\":[[0.0,\"#0d0887\"],[0.1111111111111111,\"#46039f\"],[0.2222222222222222,\"#7201a8\"],[0.3333333333333333,\"#9c179e\"],[0.4444444444444444,\"#bd3786\"],[0.5555555555555556,\"#d8576b\"],[0.6666666666666666,\"#ed7953\"],[0.7777777777777778,\"#fb9f3a\"],[0.8888888888888888,\"#fdca26\"],[1.0,\"#f0f921\"]]}],\"surface\":[{\"type\":\"surface\",\"colorbar\":{\"outlinewidth\":0,\"ticks\":\"\"},\"colorscale\":[[0.0,\"#0d0887\"],[0.1111111111111111,\"#46039f\"],[0.2222222222222222,\"#7201a8\"],[0.3333333333333333,\"#9c179e\"],[0.4444444444444444,\"#bd3786\"],[0.5555555555555556,\"#d8576b\"],[0.6666666666666666,\"#ed7953\"],[0.7777777777777778,\"#fb9f3a\"],[0.8888888888888888,\"#fdca26\"],[1.0,\"#f0f921\"]]}],\"mesh3d\":[{\"type\":\"mesh3d\",\"colorbar\":{\"outlinewidth\":0,\"ticks\":\"\"}}],\"scatter\":[{\"fillpattern\":{\"fillmode\":\"overlay\",\"size\":10,\"solidity\":0.2},\"type\":\"scatter\"}],\"parcoords\":[{\"type\":\"parcoords\",\"line\":{\"colorbar\":{\"outlinewidth\":0,\"ticks\":\"\"}}}],\"scatterpolargl\":[{\"type\":\"scatterpolargl\",\"marker\":{\"colorbar\":{\"outlinewidth\":0,\"ticks\":\"\"}}}],\"bar\":[{\"error_x\":{\"color\":\"#2a3f5f\"},\"error_y\":{\"color\":\"#2a3f5f\"},\"marker\":{\"line\":{\"color\":\"#E5ECF6\",\"width\":0.5},\"pattern\":{\"fillmode\":\"overlay\",\"size\":10,\"solidity\":0.2}},\"type\":\"bar\"}],\"scattergeo\":[{\"type\":\"scattergeo\",\"marker\":{\"colorbar\":{\"outlinewidth\":0,\"ticks\":\"\"}}}],\"scatterpolar\":[{\"type\":\"scatterpolar\",\"marker\":{\"colorbar\":{\"outlinewidth\":0,\"ticks\":\"\"}}}],\"histogram\":[{\"marker\":{\"pattern\":{\"fillmode\":\"overlay\",\"size\":10,\"solidity\":0.2}},\"type\":\"histogram\"}],\"scattergl\":[{\"type\":\"scattergl\",\"marker\":{\"colorbar\":{\"outlinewidth\":0,\"ticks\":\"\"}}}],\"scatter3d\":[{\"type\":\"scatter3d\",\"line\":{\"colorbar\":{\"outlinewidth\":0,\"ticks\":\"\"}},\"marker\":{\"colorbar\":{\"outlinewidth\":0,\"ticks\":\"\"}}}],\"scattermapbox\":[{\"type\":\"scattermapbox\",\"marker\":{\"colorbar\":{\"outlinewidth\":0,\"ticks\":\"\"}}}],\"scatterternary\":[{\"type\":\"scatterternary\",\"marker\":{\"colorbar\":{\"outlinewidth\":0,\"ticks\":\"\"}}}],\"scattercarpet\":[{\"type\":\"scattercarpet\",\"marker\":{\"colorbar\":{\"outlinewidth\":0,\"ticks\":\"\"}}}],\"carpet\":[{\"aaxis\":{\"endlinecolor\":\"#2a3f5f\",\"gridcolor\":\"white\",\"linecolor\":\"white\",\"minorgridcolor\":\"white\",\"startlinecolor\":\"#2a3f5f\"},\"baxis\":{\"endlinecolor\":\"#2a3f5f\",\"gridcolor\":\"white\",\"linecolor\":\"white\",\"minorgridcolor\":\"white\",\"startlinecolor\":\"#2a3f5f\"},\"type\":\"carpet\"}],\"table\":[{\"cells\":{\"fill\":{\"color\":\"#EBF0F8\"},\"line\":{\"color\":\"white\"}},\"header\":{\"fill\":{\"color\":\"#C8D4E3\"},\"line\":{\"color\":\"white\"}},\"type\":\"table\"}],\"barpolar\":[{\"marker\":{\"line\":{\"color\":\"#E5ECF6\",\"width\":0.5},\"pattern\":{\"fillmode\":\"overlay\",\"size\":10,\"solidity\":0.2}},\"type\":\"barpolar\"}],\"pie\":[{\"automargin\":true,\"type\":\"pie\"}]},\"layout\":{\"autotypenumbers\":\"strict\",\"colorway\":[\"#636efa\",\"#EF553B\",\"#00cc96\",\"#ab63fa\",\"#FFA15A\",\"#19d3f3\",\"#FF6692\",\"#B6E880\",\"#FF97FF\",\"#FECB52\"],\"font\":{\"color\":\"#2a3f5f\"},\"hovermode\":\"closest\",\"hoverlabel\":{\"align\":\"left\"},\"paper_bgcolor\":\"white\",\"plot_bgcolor\":\"#E5ECF6\",\"polar\":{\"bgcolor\":\"#E5ECF6\",\"angularaxis\":{\"gridcolor\":\"white\",\"linecolor\":\"white\",\"ticks\":\"\"},\"radialaxis\":{\"gridcolor\":\"white\",\"linecolor\":\"white\",\"ticks\":\"\"}},\"ternary\":{\"bgcolor\":\"#E5ECF6\",\"aaxis\":{\"gridcolor\":\"white\",\"linecolor\":\"white\",\"ticks\":\"\"},\"baxis\":{\"gridcolor\":\"white\",\"linecolor\":\"white\",\"ticks\":\"\"},\"caxis\":{\"gridcolor\":\"white\",\"linecolor\":\"white\",\"ticks\":\"\"}},\"coloraxis\":{\"colorbar\":{\"outlinewidth\":0,\"ticks\":\"\"}},\"colorscale\":{\"sequential\":[[0.0,\"#0d0887\"],[0.1111111111111111,\"#46039f\"],[0.2222222222222222,\"#7201a8\"],[0.3333333333333333,\"#9c179e\"],[0.4444444444444444,\"#bd3786\"],[0.5555555555555556,\"#d8576b\"],[0.6666666666666666,\"#ed7953\"],[0.7777777777777778,\"#fb9f3a\"],[0.8888888888888888,\"#fdca26\"],[1.0,\"#f0f921\"]],\"sequentialminus\":[[0.0,\"#0d0887\"],[0.1111111111111111,\"#46039f\"],[0.2222222222222222,\"#7201a8\"],[0.3333333333333333,\"#9c179e\"],[0.4444444444444444,\"#bd3786\"],[0.5555555555555556,\"#d8576b\"],[0.6666666666666666,\"#ed7953\"],[0.7777777777777778,\"#fb9f3a\"],[0.8888888888888888,\"#fdca26\"],[1.0,\"#f0f921\"]],\"diverging\":[[0,\"#8e0152\"],[0.1,\"#c51b7d\"],[0.2,\"#de77ae\"],[0.3,\"#f1b6da\"],[0.4,\"#fde0ef\"],[0.5,\"#f7f7f7\"],[0.6,\"#e6f5d0\"],[0.7,\"#b8e186\"],[0.8,\"#7fbc41\"],[0.9,\"#4d9221\"],[1,\"#276419\"]]},\"xaxis\":{\"gridcolor\":\"white\",\"linecolor\":\"white\",\"ticks\":\"\",\"title\":{\"standoff\":15},\"zerolinecolor\":\"white\",\"automargin\":true,\"zerolinewidth\":2},\"yaxis\":{\"gridcolor\":\"white\",\"linecolor\":\"white\",\"ticks\":\"\",\"title\":{\"standoff\":15},\"zerolinecolor\":\"white\",\"automargin\":true,\"zerolinewidth\":2},\"scene\":{\"xaxis\":{\"backgroundcolor\":\"#E5ECF6\",\"gridcolor\":\"white\",\"linecolor\":\"white\",\"showbackground\":true,\"ticks\":\"\",\"zerolinecolor\":\"white\",\"gridwidth\":2},\"yaxis\":{\"backgroundcolor\":\"#E5ECF6\",\"gridcolor\":\"white\",\"linecolor\":\"white\",\"showbackground\":true,\"ticks\":\"\",\"zerolinecolor\":\"white\",\"gridwidth\":2},\"zaxis\":{\"backgroundcolor\":\"#E5ECF6\",\"gridcolor\":\"white\",\"linecolor\":\"white\",\"showbackground\":true,\"ticks\":\"\",\"zerolinecolor\":\"white\",\"gridwidth\":2}},\"shapedefaults\":{\"line\":{\"color\":\"#2a3f5f\"}},\"annotationdefaults\":{\"arrowcolor\":\"#2a3f5f\",\"arrowhead\":0,\"arrowwidth\":1},\"geo\":{\"bgcolor\":\"white\",\"landcolor\":\"#E5ECF6\",\"subunitcolor\":\"white\",\"showland\":true,\"showlakes\":true,\"lakecolor\":\"white\"},\"title\":{\"x\":0.05},\"mapbox\":{\"style\":\"light\"}}},\"xaxis\":{\"anchor\":\"y\",\"domain\":[0.0,1.0],\"title\":{\"text\":\"x\"},\"range\":[0,120],\"tick0\":0,\"dtick\":10},\"yaxis\":{\"anchor\":\"x\",\"domain\":[0.0,1.0],\"title\":{\"text\":\"y\"},\"range\":[0,53.3],\"visible\":false},\"legend\":{\"title\":{\"text\":\"Player of Interest\"},\"tracegroupgap\":0},\"margin\":{\"t\":60},\"height\":565,\"width\":1000,\"updatemenus\":[{\"buttons\":[{\"args\":[null,{\"frame\":{\"duration\":100,\"redraw\":false},\"mode\":\"immediate\",\"fromcurrent\":true,\"transition\":{\"duration\":0,\"easing\":\"linear\"}}],\"label\":\"&#9654;\",\"method\":\"animate\"},{\"args\":[[null],{\"frame\":{\"duration\":0,\"redraw\":false},\"mode\":\"immediate\",\"fromcurrent\":true,\"transition\":{\"duration\":0,\"easing\":\"linear\"}}],\"label\":\"&#9724;\",\"method\":\"animate\"}],\"direction\":\"left\",\"pad\":{\"r\":10,\"t\":70},\"showactive\":false,\"type\":\"buttons\",\"x\":0.1,\"xanchor\":\"right\",\"y\":0,\"yanchor\":\"top\"}],\"sliders\":[{\"active\":0,\"currentvalue\":{\"prefix\":\"frameId=\"},\"len\":0.9,\"pad\":{\"b\":10,\"t\":60},\"steps\":[{\"args\":[[\"1\"],{\"frame\":{\"duration\":0,\"redraw\":false},\"mode\":\"immediate\",\"fromcurrent\":true,\"transition\":{\"duration\":0,\"easing\":\"linear\"}}],\"label\":\"1\",\"method\":\"animate\"},{\"args\":[[\"2\"],{\"frame\":{\"duration\":0,\"redraw\":false},\"mode\":\"immediate\",\"fromcurrent\":true,\"transition\":{\"duration\":0,\"easing\":\"linear\"}}],\"label\":\"2\",\"method\":\"animate\"},{\"args\":[[\"3\"],{\"frame\":{\"duration\":0,\"redraw\":false},\"mode\":\"immediate\",\"fromcurrent\":true,\"transition\":{\"duration\":0,\"easing\":\"linear\"}}],\"label\":\"3\",\"method\":\"animate\"},{\"args\":[[\"4\"],{\"frame\":{\"duration\":0,\"redraw\":false},\"mode\":\"immediate\",\"fromcurrent\":true,\"transition\":{\"duration\":0,\"easing\":\"linear\"}}],\"label\":\"4\",\"method\":\"animate\"},{\"args\":[[\"5\"],{\"frame\":{\"duration\":0,\"redraw\":false},\"mode\":\"immediate\",\"fromcurrent\":true,\"transition\":{\"duration\":0,\"easing\":\"linear\"}}],\"label\":\"5\",\"method\":\"animate\"},{\"args\":[[\"6\"],{\"frame\":{\"duration\":0,\"redraw\":false},\"mode\":\"immediate\",\"fromcurrent\":true,\"transition\":{\"duration\":0,\"easing\":\"linear\"}}],\"label\":\"6\",\"method\":\"animate\"},{\"args\":[[\"7\"],{\"frame\":{\"duration\":0,\"redraw\":false},\"mode\":\"immediate\",\"fromcurrent\":true,\"transition\":{\"duration\":0,\"easing\":\"linear\"}}],\"label\":\"7\",\"method\":\"animate\"},{\"args\":[[\"8\"],{\"frame\":{\"duration\":0,\"redraw\":false},\"mode\":\"immediate\",\"fromcurrent\":true,\"transition\":{\"duration\":0,\"easing\":\"linear\"}}],\"label\":\"8\",\"method\":\"animate\"},{\"args\":[[\"9\"],{\"frame\":{\"duration\":0,\"redraw\":false},\"mode\":\"immediate\",\"fromcurrent\":true,\"transition\":{\"duration\":0,\"easing\":\"linear\"}}],\"label\":\"9\",\"method\":\"animate\"},{\"args\":[[\"10\"],{\"frame\":{\"duration\":0,\"redraw\":false},\"mode\":\"immediate\",\"fromcurrent\":true,\"transition\":{\"duration\":0,\"easing\":\"linear\"}}],\"label\":\"10\",\"method\":\"animate\"},{\"args\":[[\"11\"],{\"frame\":{\"duration\":0,\"redraw\":false},\"mode\":\"immediate\",\"fromcurrent\":true,\"transition\":{\"duration\":0,\"easing\":\"linear\"}}],\"label\":\"11\",\"method\":\"animate\"},{\"args\":[[\"12\"],{\"frame\":{\"duration\":0,\"redraw\":false},\"mode\":\"immediate\",\"fromcurrent\":true,\"transition\":{\"duration\":0,\"easing\":\"linear\"}}],\"label\":\"12\",\"method\":\"animate\"},{\"args\":[[\"13\"],{\"frame\":{\"duration\":0,\"redraw\":false},\"mode\":\"immediate\",\"fromcurrent\":true,\"transition\":{\"duration\":0,\"easing\":\"linear\"}}],\"label\":\"13\",\"method\":\"animate\"},{\"args\":[[\"14\"],{\"frame\":{\"duration\":0,\"redraw\":false},\"mode\":\"immediate\",\"fromcurrent\":true,\"transition\":{\"duration\":0,\"easing\":\"linear\"}}],\"label\":\"14\",\"method\":\"animate\"},{\"args\":[[\"15\"],{\"frame\":{\"duration\":0,\"redraw\":false},\"mode\":\"immediate\",\"fromcurrent\":true,\"transition\":{\"duration\":0,\"easing\":\"linear\"}}],\"label\":\"15\",\"method\":\"animate\"},{\"args\":[[\"16\"],{\"frame\":{\"duration\":0,\"redraw\":false},\"mode\":\"immediate\",\"fromcurrent\":true,\"transition\":{\"duration\":0,\"easing\":\"linear\"}}],\"label\":\"16\",\"method\":\"animate\"},{\"args\":[[\"17\"],{\"frame\":{\"duration\":0,\"redraw\":false},\"mode\":\"immediate\",\"fromcurrent\":true,\"transition\":{\"duration\":0,\"easing\":\"linear\"}}],\"label\":\"17\",\"method\":\"animate\"},{\"args\":[[\"18\"],{\"frame\":{\"duration\":0,\"redraw\":false},\"mode\":\"immediate\",\"fromcurrent\":true,\"transition\":{\"duration\":0,\"easing\":\"linear\"}}],\"label\":\"18\",\"method\":\"animate\"},{\"args\":[[\"19\"],{\"frame\":{\"duration\":0,\"redraw\":false},\"mode\":\"immediate\",\"fromcurrent\":true,\"transition\":{\"duration\":0,\"easing\":\"linear\"}}],\"label\":\"19\",\"method\":\"animate\"},{\"args\":[[\"20\"],{\"frame\":{\"duration\":0,\"redraw\":false},\"mode\":\"immediate\",\"fromcurrent\":true,\"transition\":{\"duration\":0,\"easing\":\"linear\"}}],\"label\":\"20\",\"method\":\"animate\"},{\"args\":[[\"21\"],{\"frame\":{\"duration\":0,\"redraw\":false},\"mode\":\"immediate\",\"fromcurrent\":true,\"transition\":{\"duration\":0,\"easing\":\"linear\"}}],\"label\":\"21\",\"method\":\"animate\"},{\"args\":[[\"22\"],{\"frame\":{\"duration\":0,\"redraw\":false},\"mode\":\"immediate\",\"fromcurrent\":true,\"transition\":{\"duration\":0,\"easing\":\"linear\"}}],\"label\":\"22\",\"method\":\"animate\"},{\"args\":[[\"23\"],{\"frame\":{\"duration\":0,\"redraw\":false},\"mode\":\"immediate\",\"fromcurrent\":true,\"transition\":{\"duration\":0,\"easing\":\"linear\"}}],\"label\":\"23\",\"method\":\"animate\"},{\"args\":[[\"24\"],{\"frame\":{\"duration\":0,\"redraw\":false},\"mode\":\"immediate\",\"fromcurrent\":true,\"transition\":{\"duration\":0,\"easing\":\"linear\"}}],\"label\":\"24\",\"method\":\"animate\"},{\"args\":[[\"25\"],{\"frame\":{\"duration\":0,\"redraw\":false},\"mode\":\"immediate\",\"fromcurrent\":true,\"transition\":{\"duration\":0,\"easing\":\"linear\"}}],\"label\":\"25\",\"method\":\"animate\"},{\"args\":[[\"26\"],{\"frame\":{\"duration\":0,\"redraw\":false},\"mode\":\"immediate\",\"fromcurrent\":true,\"transition\":{\"duration\":0,\"easing\":\"linear\"}}],\"label\":\"26\",\"method\":\"animate\"},{\"args\":[[\"27\"],{\"frame\":{\"duration\":0,\"redraw\":false},\"mode\":\"immediate\",\"fromcurrent\":true,\"transition\":{\"duration\":0,\"easing\":\"linear\"}}],\"label\":\"27\",\"method\":\"animate\"},{\"args\":[[\"28\"],{\"frame\":{\"duration\":0,\"redraw\":false},\"mode\":\"immediate\",\"fromcurrent\":true,\"transition\":{\"duration\":0,\"easing\":\"linear\"}}],\"label\":\"28\",\"method\":\"animate\"},{\"args\":[[\"29\"],{\"frame\":{\"duration\":0,\"redraw\":false},\"mode\":\"immediate\",\"fromcurrent\":true,\"transition\":{\"duration\":0,\"easing\":\"linear\"}}],\"label\":\"29\",\"method\":\"animate\"},{\"args\":[[\"30\"],{\"frame\":{\"duration\":0,\"redraw\":false},\"mode\":\"immediate\",\"fromcurrent\":true,\"transition\":{\"duration\":0,\"easing\":\"linear\"}}],\"label\":\"30\",\"method\":\"animate\"}],\"x\":0.1,\"xanchor\":\"left\",\"y\":0,\"yanchor\":\"top\"}],\"shapes\":[{\"fillcolor\":\"gray\",\"type\":\"rect\",\"x0\":0,\"x1\":10,\"xref\":\"x\",\"y0\":0,\"y1\":1,\"yref\":\"y domain\"},{\"fillcolor\":\"gray\",\"type\":\"rect\",\"x0\":110,\"x1\":120,\"xref\":\"x\",\"y0\":0,\"y1\":1,\"yref\":\"y domain\"},{\"line\":{\"color\":\"blue\",\"dash\":\"dash\"},\"opacity\":0.5,\"type\":\"line\",\"x0\":79,\"x1\":79,\"xref\":\"x\",\"y0\":0,\"y1\":1,\"yref\":\"y domain\"},{\"line\":{\"color\":\"yellow\",\"dash\":\"dash\"},\"opacity\":0.5,\"type\":\"line\",\"x0\":83,\"x1\":83,\"xref\":\"x\",\"y0\":0,\"y1\":1,\"yref\":\"y domain\"}],\"plot_bgcolor\":\"#567D46\"},                        {\"responsive\": true}                    ).then(function(){\n",
       "                            Plotly.addFrames('87436d2c-f225-4283-b4b3-21430adc2d51', [{\"data\":[{\"hovertemplate\":\"\\u003cb\\u003e%{hovertext}\\u003c\\u002fb\\u003e\\u003cbr\\u003e\\u003cbr\\u003ePlayer of Interest=Offense\\u003cbr\\u003eframeId=1\\u003cbr\\u003ex=%{x}\\u003cbr\\u003ey=%{y}\\u003cextra\\u003e\\u003c\\u002fextra\\u003e\",\"hovertext\":[\"Rodger Saffold\",\"Mitch Morse\",\"Stefon Diggs\",\"Dion Dawkins\",\"Isaiah McKenzie\",\"Devin Singletary\",\"Dawson Knox\",\"Ryan Bates\",\"Gabe Davis\",\"Spencer Brown\"],\"legendgroup\":\"Offense\",\"marker\":{\"color\":\"cornsilk\",\"symbol\":\"circle\"},\"mode\":\"markers\",\"name\":\"Offense\",\"orientation\":\"v\",\"showlegend\":true,\"x\":[37.58,38.25,50.58,37.06999999999999,47.36,35.81999999999999,45.36,34.41,48.379999999999995,33.72],\"xaxis\":\"x\",\"y\":[27.169999999999998,24.909999999999997,30.709999999999997,28.709999999999997,44.8,7.849999999999994,18.709999999999994,23.669999999999998,38.89,20.049999999999997],\"yaxis\":\"y\",\"type\":\"scatter\"},{\"hovertemplate\":\"\\u003cb\\u003e%{hovertext}\\u003c\\u002fb\\u003e\\u003cbr\\u003e\\u003cbr\\u003ePlayer of Interest=Defense\\u003cbr\\u003eframeId=1\\u003cbr\\u003ex=%{x}\\u003cbr\\u003ey=%{y}\\u003cextra\\u003e\\u003c\\u002fextra\\u003e\",\"hovertext\":[\"Bobby Wagner\",\"Aaron Donald\",\"Troy Hill\",\"Jalen Ramsey\",\"Leonard Floyd\",\"A'Shawn Robinson\",\"Taylor Rapp\",\"Greg Gaines\",\"Nick Scott\",\"Jordan Fuller\",\"Ernest Jones\"],\"legendgroup\":\"Defense\",\"marker\":{\"color\":\"lightblue\",\"symbol\":\"circle\"},\"mode\":\"markers\",\"name\":\"Defense\",\"orientation\":\"v\",\"showlegend\":true,\"x\":[48.28,33.209999999999994,54.45,47.510000000000005,33.42,37.870000000000005,52.86,39.55,59.75,56.71,46.11],\"xaxis\":\"x\",\"y\":[30.109999999999996,23.909999999999997,43.12,9.36,18.919999999999995,29.209999999999997,43.379999999999995,25.209999999999997,27.879999999999995,17.33,17.779999999999994],\"yaxis\":\"y\",\"type\":\"scatter\"},{\"hovertemplate\":\"\\u003cb\\u003e%{hovertext}\\u003c\\u002fb\\u003e\\u003cbr\\u003e\\u003cbr\\u003ePlayer of Interest=ballCarrier\\u003cbr\\u003eframeId=1\\u003cbr\\u003ex=%{x}\\u003cbr\\u003ey=%{y}\\u003cextra\\u003e\\u003c\\u002fextra\\u003e\",\"hovertext\":[\"Josh Allen\"],\"legendgroup\":\"ballCarrier\",\"marker\":{\"color\":\"lime\",\"symbol\":\"circle\"},\"mode\":\"markers\",\"name\":\"ballCarrier\",\"orientation\":\"v\",\"showlegend\":true,\"x\":[36.2],\"xaxis\":\"x\",\"y\":[23.159999999999997],\"yaxis\":\"y\",\"type\":\"scatter\"},{\"hovertemplate\":\"\\u003cb\\u003e%{hovertext}\\u003c\\u002fb\\u003e\\u003cbr\\u003e\\u003cbr\\u003ePlayer of Interest=Tackle\\u003cbr\\u003eframeId=1\\u003cbr\\u003ex=%{x}\\u003cbr\\u003ey=%{y}\\u003cextra\\u003e\\u003c\\u002fextra\\u003e\",\"hovertext\":[null],\"legendgroup\":\"Tackle\",\"marker\":{\"color\":\"red\",\"symbol\":\"circle\"},\"mode\":\"markers\",\"name\":\"Tackle\",\"orientation\":\"v\",\"showlegend\":true,\"x\":[null],\"xaxis\":\"x\",\"y\":[null],\"yaxis\":\"y\",\"type\":\"scatter\"},{\"hovertemplate\":\"\\u003cb\\u003e%{hovertext}\\u003c\\u002fb\\u003e\\u003cbr\\u003e\\u003cbr\\u003ePlayer of Interest=football\\u003cbr\\u003eframeId=1\\u003cbr\\u003ex=%{x}\\u003cbr\\u003ey=%{y}\\u003cextra\\u003e\\u003c\\u002fextra\\u003e\",\"hovertext\":[\"football\"],\"legendgroup\":\"football\",\"marker\":{\"color\":\"#825736\",\"symbol\":\"circle\"},\"mode\":\"markers\",\"name\":\"football\",\"orientation\":\"v\",\"showlegend\":true,\"x\":[null],\"xaxis\":\"x\",\"y\":[null],\"yaxis\":\"y\",\"type\":\"scatter\"}],\"name\":\"1\"},{\"data\":[{\"hovertemplate\":\"\\u003cb\\u003e%{hovertext}\\u003c\\u002fb\\u003e\\u003cbr\\u003e\\u003cbr\\u003ePlayer of Interest=Offense\\u003cbr\\u003eframeId=2\\u003cbr\\u003ex=%{x}\\u003cbr\\u003ey=%{y}\\u003cextra\\u003e\\u003c\\u002fextra\\u003e\",\"hovertext\":[\"Rodger Saffold\",\"Mitch Morse\",\"Stefon Diggs\",\"Dion Dawkins\",\"Isaiah McKenzie\",\"Devin Singletary\",\"Dawson Knox\",\"Ryan Bates\",\"Gabe Davis\",\"Spencer Brown\"],\"legendgroup\":\"Offense\",\"marker\":{\"color\":\"cornsilk\",\"symbol\":\"circle\"},\"mode\":\"markers\",\"name\":\"Offense\",\"orientation\":\"v\",\"showlegend\":true,\"x\":[37.42,38.290000000000006,51.120000000000005,37.03,47.760000000000005,35.97,45.47,34.209999999999994,48.620000000000005,33.620000000000005],\"xaxis\":\"x\",\"y\":[27.339999999999996,24.769999999999996,30.49,28.769999999999996,45.11,7.469999999999999,18.86,23.789999999999996,38.66,20.119999999999997],\"yaxis\":\"y\",\"type\":\"scatter\"},{\"hovertemplate\":\"\\u003cb\\u003e%{hovertext}\\u003c\\u002fb\\u003e\\u003cbr\\u003e\\u003cbr\\u003ePlayer of Interest=Defense\\u003cbr\\u003eframeId=2\\u003cbr\\u003ex=%{x}\\u003cbr\\u003ey=%{y}\\u003cextra\\u003e\\u003c\\u002fextra\\u003e\",\"hovertext\":[\"Bobby Wagner\",\"Aaron Donald\",\"Troy Hill\",\"Jalen Ramsey\",\"Leonard Floyd\",\"A'Shawn Robinson\",\"Taylor Rapp\",\"Greg Gaines\",\"Nick Scott\",\"Jordan Fuller\",\"Ernest Jones\"],\"legendgroup\":\"Defense\",\"marker\":{\"color\":\"lightblue\",\"symbol\":\"circle\"},\"mode\":\"markers\",\"name\":\"Defense\",\"orientation\":\"v\",\"showlegend\":true,\"x\":[48.34,32.959999999999994,54.769999999999996,47.44,33.459999999999994,37.849999999999994,53.18000000000001,39.620000000000005,59.96,56.94,46.14],\"xaxis\":\"x\",\"y\":[29.939999999999998,24.139999999999997,42.879999999999995,9.18,18.919999999999995,29.24,43.73,24.909999999999997,27.679999999999996,17.379999999999995,17.89],\"yaxis\":\"y\",\"type\":\"scatter\"},{\"hovertemplate\":\"\\u003cb\\u003e%{hovertext}\\u003c\\u002fb\\u003e\\u003cbr\\u003e\\u003cbr\\u003ePlayer of Interest=ballCarrier\\u003cbr\\u003eframeId=2\\u003cbr\\u003ex=%{x}\\u003cbr\\u003ey=%{y}\\u003cextra\\u003e\\u003c\\u002fextra\\u003e\",\"hovertext\":[\"Josh Allen\"],\"legendgroup\":\"ballCarrier\",\"marker\":{\"color\":\"lime\",\"symbol\":\"circle\"},\"mode\":\"markers\",\"name\":\"ballCarrier\",\"orientation\":\"v\",\"showlegend\":true,\"x\":[36.56999999999999],\"xaxis\":\"x\",\"y\":[22.949999999999996],\"yaxis\":\"y\",\"type\":\"scatter\"},{\"hovertemplate\":\"\\u003cb\\u003e%{hovertext}\\u003c\\u002fb\\u003e\\u003cbr\\u003e\\u003cbr\\u003ePlayer of Interest=Tackle\\u003cbr\\u003eframeId=2\\u003cbr\\u003ex=%{x}\\u003cbr\\u003ey=%{y}\\u003cextra\\u003e\\u003c\\u002fextra\\u003e\",\"hovertext\":[null],\"legendgroup\":\"Tackle\",\"marker\":{\"color\":\"red\",\"symbol\":\"circle\"},\"mode\":\"markers\",\"name\":\"Tackle\",\"orientation\":\"v\",\"showlegend\":true,\"x\":[null],\"xaxis\":\"x\",\"y\":[null],\"yaxis\":\"y\",\"type\":\"scatter\"},{\"hovertemplate\":\"\\u003cb\\u003e%{hovertext}\\u003c\\u002fb\\u003e\\u003cbr\\u003e\\u003cbr\\u003ePlayer of Interest=football\\u003cbr\\u003eframeId=2\\u003cbr\\u003ex=%{x}\\u003cbr\\u003ey=%{y}\\u003cextra\\u003e\\u003c\\u002fextra\\u003e\",\"hovertext\":[\"football\"],\"legendgroup\":\"football\",\"marker\":{\"color\":\"#825736\",\"symbol\":\"circle\"},\"mode\":\"markers\",\"name\":\"football\",\"orientation\":\"v\",\"showlegend\":true,\"x\":[null],\"xaxis\":\"x\",\"y\":[null],\"yaxis\":\"y\",\"type\":\"scatter\"}],\"name\":\"2\"},{\"data\":[{\"hovertemplate\":\"\\u003cb\\u003e%{hovertext}\\u003c\\u002fb\\u003e\\u003cbr\\u003e\\u003cbr\\u003ePlayer of Interest=Offense\\u003cbr\\u003eframeId=3\\u003cbr\\u003ex=%{x}\\u003cbr\\u003ey=%{y}\\u003cextra\\u003e\\u003c\\u002fextra\\u003e\",\"hovertext\":[\"Rodger Saffold\",\"Mitch Morse\",\"Stefon Diggs\",\"Dion Dawkins\",\"Isaiah McKenzie\",\"Devin Singletary\",\"Dawson Knox\",\"Ryan Bates\",\"Gabe Davis\",\"Spencer Brown\"],\"legendgroup\":\"Offense\",\"marker\":{\"color\":\"cornsilk\",\"symbol\":\"circle\"},\"mode\":\"markers\",\"name\":\"Offense\",\"orientation\":\"v\",\"showlegend\":true,\"x\":[37.269999999999996,38.349999999999994,51.620000000000005,37.03,48.09,36.120000000000005,45.55,34.040000000000006,48.83,33.56],\"xaxis\":\"x\",\"y\":[27.509999999999998,24.599999999999998,30.189999999999998,28.839999999999996,45.39,7.099999999999994,19.009999999999998,23.889999999999997,38.43,20.18],\"yaxis\":\"y\",\"type\":\"scatter\"},{\"hovertemplate\":\"\\u003cb\\u003e%{hovertext}\\u003c\\u002fb\\u003e\\u003cbr\\u003e\\u003cbr\\u003ePlayer of Interest=Defense\\u003cbr\\u003eframeId=3\\u003cbr\\u003ex=%{x}\\u003cbr\\u003ey=%{y}\\u003cextra\\u003e\\u003c\\u002fextra\\u003e\",\"hovertext\":[\"Bobby Wagner\",\"Aaron Donald\",\"Troy Hill\",\"Jalen Ramsey\",\"Leonard Floyd\",\"A'Shawn Robinson\",\"Taylor Rapp\",\"Greg Gaines\",\"Nick Scott\",\"Jordan Fuller\",\"Ernest Jones\"],\"legendgroup\":\"Defense\",\"marker\":{\"color\":\"lightblue\",\"symbol\":\"circle\"},\"mode\":\"markers\",\"name\":\"Defense\",\"orientation\":\"v\",\"showlegend\":true,\"x\":[48.39,32.72,55.06999999999999,47.379999999999995,33.59,37.870000000000005,53.489999999999995,39.69,60.14,57.14,46.14],\"xaxis\":\"x\",\"y\":[29.74,24.33,42.61,9.009999999999998,18.909999999999997,29.249999999999996,44.06999999999999,24.569999999999997,27.47,17.43,18.0],\"yaxis\":\"y\",\"type\":\"scatter\"},{\"hovertemplate\":\"\\u003cb\\u003e%{hovertext}\\u003c\\u002fb\\u003e\\u003cbr\\u003e\\u003cbr\\u003ePlayer of Interest=ballCarrier\\u003cbr\\u003eframeId=3\\u003cbr\\u003ex=%{x}\\u003cbr\\u003ey=%{y}\\u003cextra\\u003e\\u003c\\u002fextra\\u003e\",\"hovertext\":[\"Josh Allen\"],\"legendgroup\":\"ballCarrier\",\"marker\":{\"color\":\"lime\",\"symbol\":\"circle\"},\"mode\":\"markers\",\"name\":\"ballCarrier\",\"orientation\":\"v\",\"showlegend\":true,\"x\":[36.959999999999994],\"xaxis\":\"x\",\"y\":[22.72],\"yaxis\":\"y\",\"type\":\"scatter\"},{\"hovertemplate\":\"\\u003cb\\u003e%{hovertext}\\u003c\\u002fb\\u003e\\u003cbr\\u003e\\u003cbr\\u003ePlayer of Interest=Tackle\\u003cbr\\u003eframeId=3\\u003cbr\\u003ex=%{x}\\u003cbr\\u003ey=%{y}\\u003cextra\\u003e\\u003c\\u002fextra\\u003e\",\"hovertext\":[null],\"legendgroup\":\"Tackle\",\"marker\":{\"color\":\"red\",\"symbol\":\"circle\"},\"mode\":\"markers\",\"name\":\"Tackle\",\"orientation\":\"v\",\"showlegend\":true,\"x\":[null],\"xaxis\":\"x\",\"y\":[null],\"yaxis\":\"y\",\"type\":\"scatter\"},{\"hovertemplate\":\"\\u003cb\\u003e%{hovertext}\\u003c\\u002fb\\u003e\\u003cbr\\u003e\\u003cbr\\u003ePlayer of Interest=football\\u003cbr\\u003eframeId=3\\u003cbr\\u003ex=%{x}\\u003cbr\\u003ey=%{y}\\u003cextra\\u003e\\u003c\\u002fextra\\u003e\",\"hovertext\":[\"football\"],\"legendgroup\":\"football\",\"marker\":{\"color\":\"#825736\",\"symbol\":\"circle\"},\"mode\":\"markers\",\"name\":\"football\",\"orientation\":\"v\",\"showlegend\":true,\"x\":[null],\"xaxis\":\"x\",\"y\":[null],\"yaxis\":\"y\",\"type\":\"scatter\"}],\"name\":\"3\"},{\"data\":[{\"hovertemplate\":\"\\u003cb\\u003e%{hovertext}\\u003c\\u002fb\\u003e\\u003cbr\\u003e\\u003cbr\\u003ePlayer of Interest=Offense\\u003cbr\\u003eframeId=4\\u003cbr\\u003ex=%{x}\\u003cbr\\u003ey=%{y}\\u003cextra\\u003e\\u003c\\u002fextra\\u003e\",\"hovertext\":[\"Rodger Saffold\",\"Mitch Morse\",\"Stefon Diggs\",\"Dion Dawkins\",\"Isaiah McKenzie\",\"Devin Singletary\",\"Dawson Knox\",\"Ryan Bates\",\"Gabe Davis\",\"Spencer Brown\"],\"legendgroup\":\"Offense\",\"marker\":{\"color\":\"cornsilk\",\"symbol\":\"circle\"},\"mode\":\"markers\",\"name\":\"Offense\",\"orientation\":\"v\",\"showlegend\":true,\"x\":[37.129999999999995,38.400000000000006,52.09,37.06999999999999,48.379999999999995,36.269999999999996,45.61,33.900000000000006,49.019999999999996,33.56],\"xaxis\":\"x\",\"y\":[27.639999999999997,24.379999999999995,29.849999999999998,28.889999999999997,45.64,6.75,19.159999999999997,23.97,38.19,20.239999999999995],\"yaxis\":\"y\",\"type\":\"scatter\"},{\"hovertemplate\":\"\\u003cb\\u003e%{hovertext}\\u003c\\u002fb\\u003e\\u003cbr\\u003e\\u003cbr\\u003ePlayer of Interest=Defense\\u003cbr\\u003eframeId=4\\u003cbr\\u003ex=%{x}\\u003cbr\\u003ey=%{y}\\u003cextra\\u003e\\u003c\\u002fextra\\u003e\",\"hovertext\":[\"Bobby Wagner\",\"Aaron Donald\",\"Troy Hill\",\"Jalen Ramsey\",\"Leonard Floyd\",\"A'Shawn Robinson\",\"Taylor Rapp\",\"Greg Gaines\",\"Nick Scott\",\"Jordan Fuller\",\"Ernest Jones\"],\"legendgroup\":\"Defense\",\"marker\":{\"color\":\"lightblue\",\"symbol\":\"circle\"},\"mode\":\"markers\",\"name\":\"Defense\",\"orientation\":\"v\",\"showlegend\":true,\"x\":[48.42,32.5,55.349999999999994,47.33,33.8,37.93000000000001,53.78,39.78,60.27,57.32,46.14],\"xaxis\":\"x\",\"y\":[29.499999999999996,24.47,42.3,8.849999999999994,18.869999999999997,29.24,44.39,24.199999999999996,27.22,17.459999999999994,18.119999999999997],\"yaxis\":\"y\",\"type\":\"scatter\"},{\"hovertemplate\":\"\\u003cb\\u003e%{hovertext}\\u003c\\u002fb\\u003e\\u003cbr\\u003e\\u003cbr\\u003ePlayer of Interest=ballCarrier\\u003cbr\\u003eframeId=4\\u003cbr\\u003ex=%{x}\\u003cbr\\u003ey=%{y}\\u003cextra\\u003e\\u003c\\u002fextra\\u003e\",\"hovertext\":[\"Josh Allen\"],\"legendgroup\":\"ballCarrier\",\"marker\":{\"color\":\"lime\",\"symbol\":\"circle\"},\"mode\":\"markers\",\"name\":\"ballCarrier\",\"orientation\":\"v\",\"showlegend\":true,\"x\":[37.349999999999994],\"xaxis\":\"x\",\"y\":[22.439999999999998],\"yaxis\":\"y\",\"type\":\"scatter\"},{\"hovertemplate\":\"\\u003cb\\u003e%{hovertext}\\u003c\\u002fb\\u003e\\u003cbr\\u003e\\u003cbr\\u003ePlayer of Interest=Tackle\\u003cbr\\u003eframeId=4\\u003cbr\\u003ex=%{x}\\u003cbr\\u003ey=%{y}\\u003cextra\\u003e\\u003c\\u002fextra\\u003e\",\"hovertext\":[null],\"legendgroup\":\"Tackle\",\"marker\":{\"color\":\"red\",\"symbol\":\"circle\"},\"mode\":\"markers\",\"name\":\"Tackle\",\"orientation\":\"v\",\"showlegend\":true,\"x\":[null],\"xaxis\":\"x\",\"y\":[null],\"yaxis\":\"y\",\"type\":\"scatter\"},{\"hovertemplate\":\"\\u003cb\\u003e%{hovertext}\\u003c\\u002fb\\u003e\\u003cbr\\u003e\\u003cbr\\u003ePlayer of Interest=football\\u003cbr\\u003eframeId=4\\u003cbr\\u003ex=%{x}\\u003cbr\\u003ey=%{y}\\u003cextra\\u003e\\u003c\\u002fextra\\u003e\",\"hovertext\":[\"football\"],\"legendgroup\":\"football\",\"marker\":{\"color\":\"#825736\",\"symbol\":\"circle\"},\"mode\":\"markers\",\"name\":\"football\",\"orientation\":\"v\",\"showlegend\":true,\"x\":[null],\"xaxis\":\"x\",\"y\":[null],\"yaxis\":\"y\",\"type\":\"scatter\"}],\"name\":\"4\"},{\"data\":[{\"hovertemplate\":\"\\u003cb\\u003e%{hovertext}\\u003c\\u002fb\\u003e\\u003cbr\\u003e\\u003cbr\\u003ePlayer of Interest=Offense\\u003cbr\\u003eframeId=5\\u003cbr\\u003ex=%{x}\\u003cbr\\u003ey=%{y}\\u003cextra\\u003e\\u003c\\u002fextra\\u003e\",\"hovertext\":[\"Rodger Saffold\",\"Mitch Morse\",\"Stefon Diggs\",\"Dion Dawkins\",\"Isaiah McKenzie\",\"Devin Singletary\",\"Dawson Knox\",\"Ryan Bates\",\"Gabe Davis\",\"Spencer Brown\"],\"legendgroup\":\"Offense\",\"marker\":{\"color\":\"cornsilk\",\"symbol\":\"circle\"},\"mode\":\"markers\",\"name\":\"Offense\",\"orientation\":\"v\",\"showlegend\":true,\"x\":[37.010000000000005,38.47,52.510000000000005,37.150000000000006,48.599999999999994,36.44,45.67,33.81,49.18000000000001,33.59],\"xaxis\":\"x\",\"y\":[27.749999999999996,24.139999999999997,29.439999999999998,28.939999999999998,45.849999999999994,6.409999999999997,19.32,24.009999999999998,37.949999999999996,20.279999999999994],\"yaxis\":\"y\",\"type\":\"scatter\"},{\"hovertemplate\":\"\\u003cb\\u003e%{hovertext}\\u003c\\u002fb\\u003e\\u003cbr\\u003e\\u003cbr\\u003ePlayer of Interest=Defense\\u003cbr\\u003eframeId=5\\u003cbr\\u003ex=%{x}\\u003cbr\\u003ey=%{y}\\u003cextra\\u003e\\u003c\\u002fextra\\u003e\",\"hovertext\":[\"Bobby Wagner\",\"Aaron Donald\",\"Troy Hill\",\"Jalen Ramsey\",\"Leonard Floyd\",\"A'Shawn Robinson\",\"Taylor Rapp\",\"Greg Gaines\",\"Nick Scott\",\"Jordan Fuller\",\"Ernest Jones\"],\"legendgroup\":\"Defense\",\"marker\":{\"color\":\"lightblue\",\"symbol\":\"circle\"},\"mode\":\"markers\",\"name\":\"Defense\",\"orientation\":\"v\",\"showlegend\":true,\"x\":[48.44,32.31,55.620000000000005,47.290000000000006,34.08,38.03,54.019999999999996,39.89,60.36,57.47,46.129999999999995],\"xaxis\":\"x\",\"y\":[29.159999999999997,24.569999999999997,41.97,8.699999999999996,18.809999999999995,29.209999999999997,44.69,23.789999999999996,26.959999999999997,17.47,18.22],\"yaxis\":\"y\",\"type\":\"scatter\"},{\"hovertemplate\":\"\\u003cb\\u003e%{hovertext}\\u003c\\u002fb\\u003e\\u003cbr\\u003e\\u003cbr\\u003ePlayer of Interest=ballCarrier\\u003cbr\\u003eframeId=5\\u003cbr\\u003ex=%{x}\\u003cbr\\u003ey=%{y}\\u003cextra\\u003e\\u003c\\u002fextra\\u003e\",\"hovertext\":[\"Josh Allen\"],\"legendgroup\":\"ballCarrier\",\"marker\":{\"color\":\"lime\",\"symbol\":\"circle\"},\"mode\":\"markers\",\"name\":\"ballCarrier\",\"orientation\":\"v\",\"showlegend\":true,\"x\":[37.75],\"xaxis\":\"x\",\"y\":[22.119999999999997],\"yaxis\":\"y\",\"type\":\"scatter\"},{\"hovertemplate\":\"\\u003cb\\u003e%{hovertext}\\u003c\\u002fb\\u003e\\u003cbr\\u003e\\u003cbr\\u003ePlayer of Interest=Tackle\\u003cbr\\u003eframeId=5\\u003cbr\\u003ex=%{x}\\u003cbr\\u003ey=%{y}\\u003cextra\\u003e\\u003c\\u002fextra\\u003e\",\"hovertext\":[null],\"legendgroup\":\"Tackle\",\"marker\":{\"color\":\"red\",\"symbol\":\"circle\"},\"mode\":\"markers\",\"name\":\"Tackle\",\"orientation\":\"v\",\"showlegend\":true,\"x\":[null],\"xaxis\":\"x\",\"y\":[null],\"yaxis\":\"y\",\"type\":\"scatter\"},{\"hovertemplate\":\"\\u003cb\\u003e%{hovertext}\\u003c\\u002fb\\u003e\\u003cbr\\u003e\\u003cbr\\u003ePlayer of Interest=football\\u003cbr\\u003eframeId=5\\u003cbr\\u003ex=%{x}\\u003cbr\\u003ey=%{y}\\u003cextra\\u003e\\u003c\\u002fextra\\u003e\",\"hovertext\":[\"football\"],\"legendgroup\":\"football\",\"marker\":{\"color\":\"#825736\",\"symbol\":\"circle\"},\"mode\":\"markers\",\"name\":\"football\",\"orientation\":\"v\",\"showlegend\":true,\"x\":[null],\"xaxis\":\"x\",\"y\":[null],\"yaxis\":\"y\",\"type\":\"scatter\"}],\"name\":\"5\"},{\"data\":[{\"hovertemplate\":\"\\u003cb\\u003e%{hovertext}\\u003c\\u002fb\\u003e\\u003cbr\\u003e\\u003cbr\\u003ePlayer of Interest=Offense\\u003cbr\\u003eframeId=6\\u003cbr\\u003ex=%{x}\\u003cbr\\u003ey=%{y}\\u003cextra\\u003e\\u003c\\u002fextra\\u003e\",\"hovertext\":[\"Rodger Saffold\",\"Mitch Morse\",\"Stefon Diggs\",\"Dion Dawkins\",\"Isaiah McKenzie\",\"Devin Singletary\",\"Dawson Knox\",\"Ryan Bates\",\"Gabe Davis\",\"Spencer Brown\"],\"legendgroup\":\"Offense\",\"marker\":{\"color\":\"cornsilk\",\"symbol\":\"circle\"},\"mode\":\"markers\",\"name\":\"Offense\",\"orientation\":\"v\",\"showlegend\":true,\"x\":[36.91,38.540000000000006,52.900000000000006,37.25,48.78,36.620000000000005,45.739999999999995,33.75,49.31999999999999,33.66],\"xaxis\":\"x\",\"y\":[27.819999999999997,23.859999999999996,28.979999999999997,28.97,46.019999999999996,6.079999999999998,19.479999999999997,24.029999999999998,37.709999999999994,20.309999999999995],\"yaxis\":\"y\",\"type\":\"scatter\"},{\"hovertemplate\":\"\\u003cb\\u003e%{hovertext}\\u003c\\u002fb\\u003e\\u003cbr\\u003e\\u003cbr\\u003ePlayer of Interest=Defense\\u003cbr\\u003eframeId=6\\u003cbr\\u003ex=%{x}\\u003cbr\\u003ey=%{y}\\u003cextra\\u003e\\u003c\\u002fextra\\u003e\",\"hovertext\":[\"Bobby Wagner\",\"Aaron Donald\",\"Troy Hill\",\"Jalen Ramsey\",\"Leonard Floyd\",\"A'Shawn Robinson\",\"Taylor Rapp\",\"Greg Gaines\",\"Nick Scott\",\"Jordan Fuller\",\"Ernest Jones\"],\"legendgroup\":\"Defense\",\"marker\":{\"color\":\"lightblue\",\"symbol\":\"circle\"},\"mode\":\"markers\",\"name\":\"Defense\",\"orientation\":\"v\",\"showlegend\":true,\"x\":[48.45,32.150000000000006,55.849999999999994,47.25,34.42,38.19,54.209999999999994,40.019999999999996,60.4,57.57,46.099999999999994],\"xaxis\":\"x\",\"y\":[28.799999999999997,24.619999999999997,41.589999999999996,8.559999999999995,18.729999999999997,29.139999999999997,44.959999999999994,23.359999999999996,26.659999999999997,17.449999999999996,18.25],\"yaxis\":\"y\",\"type\":\"scatter\"},{\"hovertemplate\":\"\\u003cb\\u003e%{hovertext}\\u003c\\u002fb\\u003e\\u003cbr\\u003e\\u003cbr\\u003ePlayer of Interest=ballCarrier\\u003cbr\\u003eframeId=6\\u003cbr\\u003ex=%{x}\\u003cbr\\u003ey=%{y}\\u003cextra\\u003e\\u003c\\u002fextra\\u003e\",\"hovertext\":[\"Josh Allen\"],\"legendgroup\":\"ballCarrier\",\"marker\":{\"color\":\"lime\",\"symbol\":\"circle\"},\"mode\":\"markers\",\"name\":\"ballCarrier\",\"orientation\":\"v\",\"showlegend\":true,\"x\":[38.150000000000006],\"xaxis\":\"x\",\"y\":[21.74],\"yaxis\":\"y\",\"type\":\"scatter\"},{\"hovertemplate\":\"\\u003cb\\u003e%{hovertext}\\u003c\\u002fb\\u003e\\u003cbr\\u003e\\u003cbr\\u003ePlayer of Interest=Tackle\\u003cbr\\u003eframeId=6\\u003cbr\\u003ex=%{x}\\u003cbr\\u003ey=%{y}\\u003cextra\\u003e\\u003c\\u002fextra\\u003e\",\"hovertext\":[null],\"legendgroup\":\"Tackle\",\"marker\":{\"color\":\"red\",\"symbol\":\"circle\"},\"mode\":\"markers\",\"name\":\"Tackle\",\"orientation\":\"v\",\"showlegend\":true,\"x\":[null],\"xaxis\":\"x\",\"y\":[null],\"yaxis\":\"y\",\"type\":\"scatter\"},{\"hovertemplate\":\"\\u003cb\\u003e%{hovertext}\\u003c\\u002fb\\u003e\\u003cbr\\u003e\\u003cbr\\u003ePlayer of Interest=football\\u003cbr\\u003eframeId=6\\u003cbr\\u003ex=%{x}\\u003cbr\\u003ey=%{y}\\u003cextra\\u003e\\u003c\\u002fextra\\u003e\",\"hovertext\":[\"football\"],\"legendgroup\":\"football\",\"marker\":{\"color\":\"#825736\",\"symbol\":\"circle\"},\"mode\":\"markers\",\"name\":\"football\",\"orientation\":\"v\",\"showlegend\":true,\"x\":[null],\"xaxis\":\"x\",\"y\":[null],\"yaxis\":\"y\",\"type\":\"scatter\"}],\"name\":\"6\"},{\"data\":[{\"hovertemplate\":\"\\u003cb\\u003e%{hovertext}\\u003c\\u002fb\\u003e\\u003cbr\\u003e\\u003cbr\\u003ePlayer of Interest=Offense\\u003cbr\\u003eframeId=7\\u003cbr\\u003ex=%{x}\\u003cbr\\u003ey=%{y}\\u003cextra\\u003e\\u003c\\u002fextra\\u003e\",\"hovertext\":[\"Rodger Saffold\",\"Mitch Morse\",\"Stefon Diggs\",\"Dion Dawkins\",\"Isaiah McKenzie\",\"Devin Singletary\",\"Dawson Knox\",\"Ryan Bates\",\"Gabe Davis\",\"Spencer Brown\"],\"legendgroup\":\"Offense\",\"marker\":{\"color\":\"cornsilk\",\"symbol\":\"circle\"},\"mode\":\"markers\",\"name\":\"Offense\",\"orientation\":\"v\",\"showlegend\":true,\"x\":[36.84,38.629999999999995,53.260000000000005,37.370000000000005,48.92,36.81,45.8,33.72,49.44,33.78],\"xaxis\":\"x\",\"y\":[27.849999999999998,23.539999999999996,28.47,28.979999999999997,46.15,5.769999999999996,19.64,24.009999999999998,37.47,20.339999999999996],\"yaxis\":\"y\",\"type\":\"scatter\"},{\"hovertemplate\":\"\\u003cb\\u003e%{hovertext}\\u003c\\u002fb\\u003e\\u003cbr\\u003e\\u003cbr\\u003ePlayer of Interest=Defense\\u003cbr\\u003eframeId=7\\u003cbr\\u003ex=%{x}\\u003cbr\\u003ey=%{y}\\u003cextra\\u003e\\u003c\\u002fextra\\u003e\",\"hovertext\":[\"Bobby Wagner\",\"Aaron Donald\",\"Troy Hill\",\"Jalen Ramsey\",\"Leonard Floyd\",\"A'Shawn Robinson\",\"Taylor Rapp\",\"Greg Gaines\",\"Nick Scott\",\"Jordan Fuller\",\"Ernest Jones\"],\"legendgroup\":\"Defense\",\"marker\":{\"color\":\"lightblue\",\"symbol\":\"circle\"},\"mode\":\"markers\",\"name\":\"Defense\",\"orientation\":\"v\",\"showlegend\":true,\"x\":[48.44,32.010000000000005,56.07,47.22,34.81,38.379999999999995,54.33,40.17,60.39,57.63,46.05],\"xaxis\":\"x\",\"y\":[28.409999999999997,24.629999999999995,41.19,8.43,18.64,29.049999999999997,45.18,22.889999999999997,26.339999999999996,17.379999999999995,18.239999999999995],\"yaxis\":\"y\",\"type\":\"scatter\"},{\"hovertemplate\":\"\\u003cb\\u003e%{hovertext}\\u003c\\u002fb\\u003e\\u003cbr\\u003e\\u003cbr\\u003ePlayer of Interest=ballCarrier\\u003cbr\\u003eframeId=7\\u003cbr\\u003ex=%{x}\\u003cbr\\u003ey=%{y}\\u003cextra\\u003e\\u003c\\u002fextra\\u003e\",\"hovertext\":[\"Josh Allen\"],\"legendgroup\":\"ballCarrier\",\"marker\":{\"color\":\"lime\",\"symbol\":\"circle\"},\"mode\":\"markers\",\"name\":\"ballCarrier\",\"orientation\":\"v\",\"showlegend\":true,\"x\":[38.56],\"xaxis\":\"x\",\"y\":[21.319999999999997],\"yaxis\":\"y\",\"type\":\"scatter\"},{\"hovertemplate\":\"\\u003cb\\u003e%{hovertext}\\u003c\\u002fb\\u003e\\u003cbr\\u003e\\u003cbr\\u003ePlayer of Interest=Tackle\\u003cbr\\u003eframeId=7\\u003cbr\\u003ex=%{x}\\u003cbr\\u003ey=%{y}\\u003cextra\\u003e\\u003c\\u002fextra\\u003e\",\"hovertext\":[null],\"legendgroup\":\"Tackle\",\"marker\":{\"color\":\"red\",\"symbol\":\"circle\"},\"mode\":\"markers\",\"name\":\"Tackle\",\"orientation\":\"v\",\"showlegend\":true,\"x\":[null],\"xaxis\":\"x\",\"y\":[null],\"yaxis\":\"y\",\"type\":\"scatter\"},{\"hovertemplate\":\"\\u003cb\\u003e%{hovertext}\\u003c\\u002fb\\u003e\\u003cbr\\u003e\\u003cbr\\u003ePlayer of Interest=football\\u003cbr\\u003eframeId=7\\u003cbr\\u003ex=%{x}\\u003cbr\\u003ey=%{y}\\u003cextra\\u003e\\u003c\\u002fextra\\u003e\",\"hovertext\":[\"football\"],\"legendgroup\":\"football\",\"marker\":{\"color\":\"#825736\",\"symbol\":\"circle\"},\"mode\":\"markers\",\"name\":\"football\",\"orientation\":\"v\",\"showlegend\":true,\"x\":[null],\"xaxis\":\"x\",\"y\":[null],\"yaxis\":\"y\",\"type\":\"scatter\"}],\"name\":\"7\"},{\"data\":[{\"hovertemplate\":\"\\u003cb\\u003e%{hovertext}\\u003c\\u002fb\\u003e\\u003cbr\\u003e\\u003cbr\\u003ePlayer of Interest=Offense\\u003cbr\\u003eframeId=8\\u003cbr\\u003ex=%{x}\\u003cbr\\u003ey=%{y}\\u003cextra\\u003e\\u003c\\u002fextra\\u003e\",\"hovertext\":[\"Rodger Saffold\",\"Mitch Morse\",\"Stefon Diggs\",\"Dion Dawkins\",\"Isaiah McKenzie\",\"Devin Singletary\",\"Dawson Knox\",\"Ryan Bates\",\"Gabe Davis\",\"Spencer Brown\"],\"legendgroup\":\"Offense\",\"marker\":{\"color\":\"cornsilk\",\"symbol\":\"circle\"},\"mode\":\"markers\",\"name\":\"Offense\",\"orientation\":\"v\",\"showlegend\":true,\"x\":[36.790000000000006,38.72,53.56999999999999,37.510000000000005,49.010000000000005,37.010000000000005,45.879999999999995,33.739999999999995,49.55,33.93000000000001],\"xaxis\":\"x\",\"y\":[27.849999999999998,23.199999999999996,27.939999999999998,28.97,46.26,5.459999999999994,19.799999999999997,23.959999999999997,37.23,20.349999999999994],\"yaxis\":\"y\",\"type\":\"scatter\"},{\"hovertemplate\":\"\\u003cb\\u003e%{hovertext}\\u003c\\u002fb\\u003e\\u003cbr\\u003e\\u003cbr\\u003ePlayer of Interest=Defense\\u003cbr\\u003eframeId=8\\u003cbr\\u003ex=%{x}\\u003cbr\\u003ey=%{y}\\u003cextra\\u003e\\u003c\\u002fextra\\u003e\",\"hovertext\":[\"Bobby Wagner\",\"Aaron Donald\",\"Troy Hill\",\"Jalen Ramsey\",\"Leonard Floyd\",\"A'Shawn Robinson\",\"Taylor Rapp\",\"Greg Gaines\",\"Nick Scott\",\"Jordan Fuller\",\"Ernest Jones\"],\"legendgroup\":\"Defense\",\"marker\":{\"color\":\"lightblue\",\"symbol\":\"circle\"},\"mode\":\"markers\",\"name\":\"Defense\",\"orientation\":\"v\",\"showlegend\":true,\"x\":[48.43000000000001,31.900000000000006,56.25,47.209999999999994,35.239999999999995,38.61,54.39,40.349999999999994,60.33,57.65,45.989999999999995],\"xaxis\":\"x\",\"y\":[27.97,24.569999999999997,40.75,8.329999999999998,18.509999999999998,28.919999999999998,45.37,22.4,25.979999999999997,17.29,18.169999999999995],\"yaxis\":\"y\",\"type\":\"scatter\"},{\"hovertemplate\":\"\\u003cb\\u003e%{hovertext}\\u003c\\u002fb\\u003e\\u003cbr\\u003e\\u003cbr\\u003ePlayer of Interest=ballCarrier\\u003cbr\\u003eframeId=8\\u003cbr\\u003ex=%{x}\\u003cbr\\u003ey=%{y}\\u003cextra\\u003e\\u003c\\u002fextra\\u003e\",\"hovertext\":[\"Josh Allen\"],\"legendgroup\":\"ballCarrier\",\"marker\":{\"color\":\"lime\",\"symbol\":\"circle\"},\"mode\":\"markers\",\"name\":\"ballCarrier\",\"orientation\":\"v\",\"showlegend\":true,\"x\":[38.97],\"xaxis\":\"x\",\"y\":[20.869999999999997],\"yaxis\":\"y\",\"type\":\"scatter\"},{\"hovertemplate\":\"\\u003cb\\u003e%{hovertext}\\u003c\\u002fb\\u003e\\u003cbr\\u003e\\u003cbr\\u003ePlayer of Interest=Tackle\\u003cbr\\u003eframeId=8\\u003cbr\\u003ex=%{x}\\u003cbr\\u003ey=%{y}\\u003cextra\\u003e\\u003c\\u002fextra\\u003e\",\"hovertext\":[null],\"legendgroup\":\"Tackle\",\"marker\":{\"color\":\"red\",\"symbol\":\"circle\"},\"mode\":\"markers\",\"name\":\"Tackle\",\"orientation\":\"v\",\"showlegend\":true,\"x\":[null],\"xaxis\":\"x\",\"y\":[null],\"yaxis\":\"y\",\"type\":\"scatter\"},{\"hovertemplate\":\"\\u003cb\\u003e%{hovertext}\\u003c\\u002fb\\u003e\\u003cbr\\u003e\\u003cbr\\u003ePlayer of Interest=football\\u003cbr\\u003eframeId=8\\u003cbr\\u003ex=%{x}\\u003cbr\\u003ey=%{y}\\u003cextra\\u003e\\u003c\\u002fextra\\u003e\",\"hovertext\":[\"football\"],\"legendgroup\":\"football\",\"marker\":{\"color\":\"#825736\",\"symbol\":\"circle\"},\"mode\":\"markers\",\"name\":\"football\",\"orientation\":\"v\",\"showlegend\":true,\"x\":[null],\"xaxis\":\"x\",\"y\":[null],\"yaxis\":\"y\",\"type\":\"scatter\"}],\"name\":\"8\"},{\"data\":[{\"hovertemplate\":\"\\u003cb\\u003e%{hovertext}\\u003c\\u002fb\\u003e\\u003cbr\\u003e\\u003cbr\\u003ePlayer of Interest=Offense\\u003cbr\\u003eframeId=9\\u003cbr\\u003ex=%{x}\\u003cbr\\u003ey=%{y}\\u003cextra\\u003e\\u003c\\u002fextra\\u003e\",\"hovertext\":[\"Rodger Saffold\",\"Mitch Morse\",\"Stefon Diggs\",\"Dion Dawkins\",\"Isaiah McKenzie\",\"Devin Singletary\",\"Dawson Knox\",\"Ryan Bates\",\"Gabe Davis\",\"Spencer Brown\"],\"legendgroup\":\"Offense\",\"marker\":{\"color\":\"cornsilk\",\"symbol\":\"circle\"},\"mode\":\"markers\",\"name\":\"Offense\",\"orientation\":\"v\",\"showlegend\":true,\"x\":[36.769999999999996,38.83,53.849999999999994,37.66,49.08,37.22,45.980000000000004,33.81,49.66,34.11],\"xaxis\":\"x\",\"y\":[27.83,22.859999999999996,27.379999999999995,28.939999999999998,46.339999999999996,5.169999999999995,19.97,23.859999999999996,36.989999999999995,20.349999999999994],\"yaxis\":\"y\",\"type\":\"scatter\"},{\"hovertemplate\":\"\\u003cb\\u003e%{hovertext}\\u003c\\u002fb\\u003e\\u003cbr\\u003e\\u003cbr\\u003ePlayer of Interest=Defense\\u003cbr\\u003eframeId=9\\u003cbr\\u003ex=%{x}\\u003cbr\\u003ey=%{y}\\u003cextra\\u003e\\u003c\\u002fextra\\u003e\",\"hovertext\":[\"Bobby Wagner\",\"Aaron Donald\",\"Troy Hill\",\"Jalen Ramsey\",\"Leonard Floyd\",\"A'Shawn Robinson\",\"Taylor Rapp\",\"Greg Gaines\",\"Nick Scott\",\"Jordan Fuller\",\"Ernest Jones\"],\"legendgroup\":\"Defense\",\"marker\":{\"color\":\"lightblue\",\"symbol\":\"circle\"},\"mode\":\"markers\",\"name\":\"Defense\",\"orientation\":\"v\",\"showlegend\":true,\"x\":[48.42,31.799999999999997,56.41,47.19,35.709999999999994,38.879999999999995,54.379999999999995,40.55,60.23,57.61,45.92],\"xaxis\":\"x\",\"y\":[27.49,24.479999999999997,40.3,8.239999999999995,18.369999999999997,28.769999999999996,45.519999999999996,21.889999999999997,25.609999999999996,17.169999999999995,18.059999999999995],\"yaxis\":\"y\",\"type\":\"scatter\"},{\"hovertemplate\":\"\\u003cb\\u003e%{hovertext}\\u003c\\u002fb\\u003e\\u003cbr\\u003e\\u003cbr\\u003ePlayer of Interest=ballCarrier\\u003cbr\\u003eframeId=9\\u003cbr\\u003ex=%{x}\\u003cbr\\u003ey=%{y}\\u003cextra\\u003e\\u003c\\u002fextra\\u003e\",\"hovertext\":[\"Josh Allen\"],\"legendgroup\":\"ballCarrier\",\"marker\":{\"color\":\"lime\",\"symbol\":\"circle\"},\"mode\":\"markers\",\"name\":\"ballCarrier\",\"orientation\":\"v\",\"showlegend\":true,\"x\":[39.379999999999995],\"xaxis\":\"x\",\"y\":[20.379999999999995],\"yaxis\":\"y\",\"type\":\"scatter\"},{\"hovertemplate\":\"\\u003cb\\u003e%{hovertext}\\u003c\\u002fb\\u003e\\u003cbr\\u003e\\u003cbr\\u003ePlayer of Interest=Tackle\\u003cbr\\u003eframeId=9\\u003cbr\\u003ex=%{x}\\u003cbr\\u003ey=%{y}\\u003cextra\\u003e\\u003c\\u002fextra\\u003e\",\"hovertext\":[null],\"legendgroup\":\"Tackle\",\"marker\":{\"color\":\"red\",\"symbol\":\"circle\"},\"mode\":\"markers\",\"name\":\"Tackle\",\"orientation\":\"v\",\"showlegend\":true,\"x\":[null],\"xaxis\":\"x\",\"y\":[null],\"yaxis\":\"y\",\"type\":\"scatter\"},{\"hovertemplate\":\"\\u003cb\\u003e%{hovertext}\\u003c\\u002fb\\u003e\\u003cbr\\u003e\\u003cbr\\u003ePlayer of Interest=football\\u003cbr\\u003eframeId=9\\u003cbr\\u003ex=%{x}\\u003cbr\\u003ey=%{y}\\u003cextra\\u003e\\u003c\\u002fextra\\u003e\",\"hovertext\":[\"football\"],\"legendgroup\":\"football\",\"marker\":{\"color\":\"#825736\",\"symbol\":\"circle\"},\"mode\":\"markers\",\"name\":\"football\",\"orientation\":\"v\",\"showlegend\":true,\"x\":[null],\"xaxis\":\"x\",\"y\":[null],\"yaxis\":\"y\",\"type\":\"scatter\"}],\"name\":\"9\"},{\"data\":[{\"hovertemplate\":\"\\u003cb\\u003e%{hovertext}\\u003c\\u002fb\\u003e\\u003cbr\\u003e\\u003cbr\\u003ePlayer of Interest=Offense\\u003cbr\\u003eframeId=10\\u003cbr\\u003ex=%{x}\\u003cbr\\u003ey=%{y}\\u003cextra\\u003e\\u003c\\u002fextra\\u003e\",\"hovertext\":[\"Rodger Saffold\",\"Mitch Morse\",\"Stefon Diggs\",\"Dion Dawkins\",\"Isaiah McKenzie\",\"Devin Singletary\",\"Dawson Knox\",\"Ryan Bates\",\"Gabe Davis\",\"Spencer Brown\"],\"legendgroup\":\"Offense\",\"marker\":{\"color\":\"cornsilk\",\"symbol\":\"circle\"},\"mode\":\"markers\",\"name\":\"Offense\",\"orientation\":\"v\",\"showlegend\":true,\"x\":[36.769999999999996,38.94,54.09,37.81,49.14,37.45,46.11,33.89,49.769999999999996,34.31],\"xaxis\":\"x\",\"y\":[27.789999999999996,22.49,26.81,28.9,46.39,4.890000000000001,20.14,23.74,36.739999999999995,20.32],\"yaxis\":\"y\",\"type\":\"scatter\"},{\"hovertemplate\":\"\\u003cb\\u003e%{hovertext}\\u003c\\u002fb\\u003e\\u003cbr\\u003e\\u003cbr\\u003ePlayer of Interest=Defense\\u003cbr\\u003eframeId=10\\u003cbr\\u003ex=%{x}\\u003cbr\\u003ey=%{y}\\u003cextra\\u003e\\u003c\\u002fextra\\u003e\",\"hovertext\":[\"Bobby Wagner\",\"Aaron Donald\",\"Troy Hill\",\"Jalen Ramsey\",\"Leonard Floyd\",\"A'Shawn Robinson\",\"Taylor Rapp\",\"Greg Gaines\",\"Nick Scott\",\"Jordan Fuller\",\"Ernest Jones\"],\"legendgroup\":\"Defense\",\"marker\":{\"color\":\"lightblue\",\"symbol\":\"circle\"},\"mode\":\"markers\",\"name\":\"Defense\",\"orientation\":\"v\",\"showlegend\":true,\"x\":[48.41,31.739999999999995,56.53,47.19,36.2,39.17,54.31999999999999,40.769999999999996,60.08,57.5,45.84],\"xaxis\":\"x\",\"y\":[26.979999999999997,24.339999999999996,39.81999999999999,8.159999999999997,18.189999999999998,28.589999999999996,45.64,21.349999999999998,25.209999999999997,17.009999999999998,17.879999999999995],\"yaxis\":\"y\",\"type\":\"scatter\"},{\"hovertemplate\":\"\\u003cb\\u003e%{hovertext}\\u003c\\u002fb\\u003e\\u003cbr\\u003e\\u003cbr\\u003ePlayer of Interest=ballCarrier\\u003cbr\\u003eframeId=10\\u003cbr\\u003ex=%{x}\\u003cbr\\u003ey=%{y}\\u003cextra\\u003e\\u003c\\u002fextra\\u003e\",\"hovertext\":[\"Josh Allen\"],\"legendgroup\":\"ballCarrier\",\"marker\":{\"color\":\"lime\",\"symbol\":\"circle\"},\"mode\":\"markers\",\"name\":\"ballCarrier\",\"orientation\":\"v\",\"showlegend\":true,\"x\":[39.8],\"xaxis\":\"x\",\"y\":[19.849999999999994],\"yaxis\":\"y\",\"type\":\"scatter\"},{\"hovertemplate\":\"\\u003cb\\u003e%{hovertext}\\u003c\\u002fb\\u003e\\u003cbr\\u003e\\u003cbr\\u003ePlayer of Interest=Tackle\\u003cbr\\u003eframeId=10\\u003cbr\\u003ex=%{x}\\u003cbr\\u003ey=%{y}\\u003cextra\\u003e\\u003c\\u002fextra\\u003e\",\"hovertext\":[null],\"legendgroup\":\"Tackle\",\"marker\":{\"color\":\"red\",\"symbol\":\"circle\"},\"mode\":\"markers\",\"name\":\"Tackle\",\"orientation\":\"v\",\"showlegend\":true,\"x\":[null],\"xaxis\":\"x\",\"y\":[null],\"yaxis\":\"y\",\"type\":\"scatter\"},{\"hovertemplate\":\"\\u003cb\\u003e%{hovertext}\\u003c\\u002fb\\u003e\\u003cbr\\u003e\\u003cbr\\u003ePlayer of Interest=football\\u003cbr\\u003eframeId=10\\u003cbr\\u003ex=%{x}\\u003cbr\\u003ey=%{y}\\u003cextra\\u003e\\u003c\\u002fextra\\u003e\",\"hovertext\":[\"football\"],\"legendgroup\":\"football\",\"marker\":{\"color\":\"#825736\",\"symbol\":\"circle\"},\"mode\":\"markers\",\"name\":\"football\",\"orientation\":\"v\",\"showlegend\":true,\"x\":[null],\"xaxis\":\"x\",\"y\":[null],\"yaxis\":\"y\",\"type\":\"scatter\"}],\"name\":\"10\"},{\"data\":[{\"hovertemplate\":\"\\u003cb\\u003e%{hovertext}\\u003c\\u002fb\\u003e\\u003cbr\\u003e\\u003cbr\\u003ePlayer of Interest=Offense\\u003cbr\\u003eframeId=11\\u003cbr\\u003ex=%{x}\\u003cbr\\u003ey=%{y}\\u003cextra\\u003e\\u003c\\u002fextra\\u003e\",\"hovertext\":[\"Rodger Saffold\",\"Mitch Morse\",\"Stefon Diggs\",\"Dion Dawkins\",\"Isaiah McKenzie\",\"Devin Singletary\",\"Dawson Knox\",\"Ryan Bates\",\"Gabe Davis\",\"Spencer Brown\"],\"legendgroup\":\"Offense\",\"marker\":{\"color\":\"cornsilk\",\"symbol\":\"circle\"},\"mode\":\"markers\",\"name\":\"Offense\",\"orientation\":\"v\",\"showlegend\":true,\"x\":[36.8,39.08,54.31,37.959999999999994,49.19,37.69,46.28,34.010000000000005,49.870000000000005,34.53],\"xaxis\":\"x\",\"y\":[27.729999999999997,22.119999999999997,26.229999999999997,28.83,46.41,4.619999999999997,20.29,23.58,36.489999999999995,20.269999999999996],\"yaxis\":\"y\",\"type\":\"scatter\"},{\"hovertemplate\":\"\\u003cb\\u003e%{hovertext}\\u003c\\u002fb\\u003e\\u003cbr\\u003e\\u003cbr\\u003ePlayer of Interest=Defense\\u003cbr\\u003eframeId=11\\u003cbr\\u003ex=%{x}\\u003cbr\\u003ey=%{y}\\u003cextra\\u003e\\u003c\\u002fextra\\u003e\",\"hovertext\":[\"Bobby Wagner\",\"Aaron Donald\",\"Troy Hill\",\"Jalen Ramsey\",\"Leonard Floyd\",\"A'Shawn Robinson\",\"Taylor Rapp\",\"Greg Gaines\",\"Nick Scott\",\"Jordan Fuller\",\"Ernest Jones\"],\"legendgroup\":\"Defense\",\"marker\":{\"color\":\"lightblue\",\"symbol\":\"circle\"},\"mode\":\"markers\",\"name\":\"Defense\",\"orientation\":\"v\",\"showlegend\":true,\"x\":[48.41,31.709999999999994,56.63,47.19,36.7,39.480000000000004,54.2,41.019999999999996,59.89,57.35,45.760000000000005],\"xaxis\":\"x\",\"y\":[26.429999999999996,24.169999999999998,39.31999999999999,8.089999999999996,17.97,28.389999999999997,45.73,20.799999999999997,24.779999999999998,16.809999999999995,17.65],\"yaxis\":\"y\",\"type\":\"scatter\"},{\"hovertemplate\":\"\\u003cb\\u003e%{hovertext}\\u003c\\u002fb\\u003e\\u003cbr\\u003e\\u003cbr\\u003ePlayer of Interest=ballCarrier\\u003cbr\\u003eframeId=11\\u003cbr\\u003ex=%{x}\\u003cbr\\u003ey=%{y}\\u003cextra\\u003e\\u003c\\u002fextra\\u003e\",\"hovertext\":[\"Josh Allen\"],\"legendgroup\":\"ballCarrier\",\"marker\":{\"color\":\"lime\",\"symbol\":\"circle\"},\"mode\":\"markers\",\"name\":\"ballCarrier\",\"orientation\":\"v\",\"showlegend\":true,\"x\":[40.230000000000004],\"xaxis\":\"x\",\"y\":[19.299999999999997],\"yaxis\":\"y\",\"type\":\"scatter\"},{\"hovertemplate\":\"\\u003cb\\u003e%{hovertext}\\u003c\\u002fb\\u003e\\u003cbr\\u003e\\u003cbr\\u003ePlayer of Interest=Tackle\\u003cbr\\u003eframeId=11\\u003cbr\\u003ex=%{x}\\u003cbr\\u003ey=%{y}\\u003cextra\\u003e\\u003c\\u002fextra\\u003e\",\"hovertext\":[null],\"legendgroup\":\"Tackle\",\"marker\":{\"color\":\"red\",\"symbol\":\"circle\"},\"mode\":\"markers\",\"name\":\"Tackle\",\"orientation\":\"v\",\"showlegend\":true,\"x\":[null],\"xaxis\":\"x\",\"y\":[null],\"yaxis\":\"y\",\"type\":\"scatter\"},{\"hovertemplate\":\"\\u003cb\\u003e%{hovertext}\\u003c\\u002fb\\u003e\\u003cbr\\u003e\\u003cbr\\u003ePlayer of Interest=football\\u003cbr\\u003eframeId=11\\u003cbr\\u003ex=%{x}\\u003cbr\\u003ey=%{y}\\u003cextra\\u003e\\u003c\\u002fextra\\u003e\",\"hovertext\":[\"football\"],\"legendgroup\":\"football\",\"marker\":{\"color\":\"#825736\",\"symbol\":\"circle\"},\"mode\":\"markers\",\"name\":\"football\",\"orientation\":\"v\",\"showlegend\":true,\"x\":[null],\"xaxis\":\"x\",\"y\":[null],\"yaxis\":\"y\",\"type\":\"scatter\"}],\"name\":\"11\"},{\"data\":[{\"hovertemplate\":\"\\u003cb\\u003e%{hovertext}\\u003c\\u002fb\\u003e\\u003cbr\\u003e\\u003cbr\\u003ePlayer of Interest=Offense\\u003cbr\\u003eframeId=12\\u003cbr\\u003ex=%{x}\\u003cbr\\u003ey=%{y}\\u003cextra\\u003e\\u003c\\u002fextra\\u003e\",\"hovertext\":[\"Rodger Saffold\",\"Mitch Morse\",\"Stefon Diggs\",\"Dion Dawkins\",\"Isaiah McKenzie\",\"Devin Singletary\",\"Dawson Knox\",\"Ryan Bates\",\"Gabe Davis\",\"Spencer Brown\"],\"legendgroup\":\"Offense\",\"marker\":{\"color\":\"cornsilk\",\"symbol\":\"circle\"},\"mode\":\"markers\",\"name\":\"Offense\",\"orientation\":\"v\",\"showlegend\":true,\"x\":[36.86,39.230000000000004,54.489999999999995,38.11,49.230000000000004,37.95,46.47,34.17,49.97,34.760000000000005],\"xaxis\":\"x\",\"y\":[27.639999999999997,21.729999999999997,25.65,28.749999999999996,46.4,4.369999999999997,20.419999999999995,23.389999999999997,36.23,20.199999999999996],\"yaxis\":\"y\",\"type\":\"scatter\"},{\"hovertemplate\":\"\\u003cb\\u003e%{hovertext}\\u003c\\u002fb\\u003e\\u003cbr\\u003e\\u003cbr\\u003ePlayer of Interest=Defense\\u003cbr\\u003eframeId=12\\u003cbr\\u003ex=%{x}\\u003cbr\\u003ey=%{y}\\u003cextra\\u003e\\u003c\\u002fextra\\u003e\",\"hovertext\":[\"Bobby Wagner\",\"Aaron Donald\",\"Troy Hill\",\"Jalen Ramsey\",\"Leonard Floyd\",\"A'Shawn Robinson\",\"Taylor Rapp\",\"Greg Gaines\",\"Nick Scott\",\"Jordan Fuller\",\"Ernest Jones\"],\"legendgroup\":\"Defense\",\"marker\":{\"color\":\"lightblue\",\"symbol\":\"circle\"},\"mode\":\"markers\",\"name\":\"Defense\",\"orientation\":\"v\",\"showlegend\":true,\"x\":[48.43000000000001,31.730000000000004,56.7,47.19,37.22,39.8,54.040000000000006,41.290000000000006,59.66,57.15,45.67],\"xaxis\":\"x\",\"y\":[25.849999999999998,23.959999999999997,38.809999999999995,8.019999999999996,17.709999999999994,28.179999999999996,45.79,20.239999999999995,24.339999999999996,16.599999999999994,17.379999999999995],\"yaxis\":\"y\",\"type\":\"scatter\"},{\"hovertemplate\":\"\\u003cb\\u003e%{hovertext}\\u003c\\u002fb\\u003e\\u003cbr\\u003e\\u003cbr\\u003ePlayer of Interest=ballCarrier\\u003cbr\\u003eframeId=12\\u003cbr\\u003ex=%{x}\\u003cbr\\u003ey=%{y}\\u003cextra\\u003e\\u003c\\u002fextra\\u003e\",\"hovertext\":[\"Josh Allen\"],\"legendgroup\":\"ballCarrier\",\"marker\":{\"color\":\"lime\",\"symbol\":\"circle\"},\"mode\":\"markers\",\"name\":\"ballCarrier\",\"orientation\":\"v\",\"showlegend\":true,\"x\":[40.66],\"xaxis\":\"x\",\"y\":[18.72],\"yaxis\":\"y\",\"type\":\"scatter\"},{\"hovertemplate\":\"\\u003cb\\u003e%{hovertext}\\u003c\\u002fb\\u003e\\u003cbr\\u003e\\u003cbr\\u003ePlayer of Interest=Tackle\\u003cbr\\u003eframeId=12\\u003cbr\\u003ex=%{x}\\u003cbr\\u003ey=%{y}\\u003cextra\\u003e\\u003c\\u002fextra\\u003e\",\"hovertext\":[null],\"legendgroup\":\"Tackle\",\"marker\":{\"color\":\"red\",\"symbol\":\"circle\"},\"mode\":\"markers\",\"name\":\"Tackle\",\"orientation\":\"v\",\"showlegend\":true,\"x\":[null],\"xaxis\":\"x\",\"y\":[null],\"yaxis\":\"y\",\"type\":\"scatter\"},{\"hovertemplate\":\"\\u003cb\\u003e%{hovertext}\\u003c\\u002fb\\u003e\\u003cbr\\u003e\\u003cbr\\u003ePlayer of Interest=football\\u003cbr\\u003eframeId=12\\u003cbr\\u003ex=%{x}\\u003cbr\\u003ey=%{y}\\u003cextra\\u003e\\u003c\\u002fextra\\u003e\",\"hovertext\":[\"football\"],\"legendgroup\":\"football\",\"marker\":{\"color\":\"#825736\",\"symbol\":\"circle\"},\"mode\":\"markers\",\"name\":\"football\",\"orientation\":\"v\",\"showlegend\":true,\"x\":[null],\"xaxis\":\"x\",\"y\":[null],\"yaxis\":\"y\",\"type\":\"scatter\"}],\"name\":\"12\"},{\"data\":[{\"hovertemplate\":\"\\u003cb\\u003e%{hovertext}\\u003c\\u002fb\\u003e\\u003cbr\\u003e\\u003cbr\\u003ePlayer of Interest=Offense\\u003cbr\\u003eframeId=13\\u003cbr\\u003ex=%{x}\\u003cbr\\u003ey=%{y}\\u003cextra\\u003e\\u003c\\u002fextra\\u003e\",\"hovertext\":[\"Rodger Saffold\",\"Mitch Morse\",\"Stefon Diggs\",\"Dion Dawkins\",\"Isaiah McKenzie\",\"Devin Singletary\",\"Dawson Knox\",\"Ryan Bates\",\"Gabe Davis\",\"Spencer Brown\"],\"legendgroup\":\"Offense\",\"marker\":{\"color\":\"cornsilk\",\"symbol\":\"circle\"},\"mode\":\"markers\",\"name\":\"Offense\",\"orientation\":\"v\",\"showlegend\":true,\"x\":[36.93000000000001,39.41,54.64,38.260000000000005,49.269999999999996,38.22,46.69,34.349999999999994,50.06999999999999,35.010000000000005],\"xaxis\":\"x\",\"y\":[27.549999999999997,21.339999999999996,25.08,28.639999999999997,46.379999999999995,4.149999999999999,20.529999999999994,23.169999999999998,35.97,20.119999999999997],\"yaxis\":\"y\",\"type\":\"scatter\"},{\"hovertemplate\":\"\\u003cb\\u003e%{hovertext}\\u003c\\u002fb\\u003e\\u003cbr\\u003e\\u003cbr\\u003ePlayer of Interest=Defense\\u003cbr\\u003eframeId=13\\u003cbr\\u003ex=%{x}\\u003cbr\\u003ey=%{y}\\u003cextra\\u003e\\u003c\\u002fextra\\u003e\",\"hovertext\":[\"Bobby Wagner\",\"Aaron Donald\",\"Troy Hill\",\"Jalen Ramsey\",\"Leonard Floyd\",\"A'Shawn Robinson\",\"Taylor Rapp\",\"Greg Gaines\",\"Nick Scott\",\"Jordan Fuller\",\"Ernest Jones\"],\"legendgroup\":\"Defense\",\"marker\":{\"color\":\"lightblue\",\"symbol\":\"circle\"},\"mode\":\"markers\",\"name\":\"Defense\",\"orientation\":\"v\",\"showlegend\":true,\"x\":[48.459999999999994,31.769999999999996,56.75,47.2,37.75,40.120000000000005,53.84,41.58,59.39,56.9,45.599999999999994],\"xaxis\":\"x\",\"y\":[25.249999999999996,23.74,38.28,7.969999999999999,17.43,27.949999999999996,45.83,19.669999999999995,23.869999999999997,16.369999999999997,17.059999999999995],\"yaxis\":\"y\",\"type\":\"scatter\"},{\"hovertemplate\":\"\\u003cb\\u003e%{hovertext}\\u003c\\u002fb\\u003e\\u003cbr\\u003e\\u003cbr\\u003ePlayer of Interest=ballCarrier\\u003cbr\\u003eframeId=13\\u003cbr\\u003ex=%{x}\\u003cbr\\u003ey=%{y}\\u003cextra\\u003e\\u003c\\u002fextra\\u003e\",\"hovertext\":[\"Josh Allen\"],\"legendgroup\":\"ballCarrier\",\"marker\":{\"color\":\"lime\",\"symbol\":\"circle\"},\"mode\":\"markers\",\"name\":\"ballCarrier\",\"orientation\":\"v\",\"showlegend\":true,\"x\":[41.099999999999994],\"xaxis\":\"x\",\"y\":[18.129999999999995],\"yaxis\":\"y\",\"type\":\"scatter\"},{\"hovertemplate\":\"\\u003cb\\u003e%{hovertext}\\u003c\\u002fb\\u003e\\u003cbr\\u003e\\u003cbr\\u003ePlayer of Interest=Tackle\\u003cbr\\u003eframeId=13\\u003cbr\\u003ex=%{x}\\u003cbr\\u003ey=%{y}\\u003cextra\\u003e\\u003c\\u002fextra\\u003e\",\"hovertext\":[null],\"legendgroup\":\"Tackle\",\"marker\":{\"color\":\"red\",\"symbol\":\"circle\"},\"mode\":\"markers\",\"name\":\"Tackle\",\"orientation\":\"v\",\"showlegend\":true,\"x\":[null],\"xaxis\":\"x\",\"y\":[null],\"yaxis\":\"y\",\"type\":\"scatter\"},{\"hovertemplate\":\"\\u003cb\\u003e%{hovertext}\\u003c\\u002fb\\u003e\\u003cbr\\u003e\\u003cbr\\u003ePlayer of Interest=football\\u003cbr\\u003eframeId=13\\u003cbr\\u003ex=%{x}\\u003cbr\\u003ey=%{y}\\u003cextra\\u003e\\u003c\\u002fextra\\u003e\",\"hovertext\":[\"football\"],\"legendgroup\":\"football\",\"marker\":{\"color\":\"#825736\",\"symbol\":\"circle\"},\"mode\":\"markers\",\"name\":\"football\",\"orientation\":\"v\",\"showlegend\":true,\"x\":[null],\"xaxis\":\"x\",\"y\":[null],\"yaxis\":\"y\",\"type\":\"scatter\"}],\"name\":\"13\"},{\"data\":[{\"hovertemplate\":\"\\u003cb\\u003e%{hovertext}\\u003c\\u002fb\\u003e\\u003cbr\\u003e\\u003cbr\\u003ePlayer of Interest=Offense\\u003cbr\\u003eframeId=14\\u003cbr\\u003ex=%{x}\\u003cbr\\u003ey=%{y}\\u003cextra\\u003e\\u003c\\u002fextra\\u003e\",\"hovertext\":[\"Rodger Saffold\",\"Mitch Morse\",\"Stefon Diggs\",\"Dion Dawkins\",\"Isaiah McKenzie\",\"Devin Singletary\",\"Dawson Knox\",\"Ryan Bates\",\"Gabe Davis\",\"Spencer Brown\"],\"legendgroup\":\"Offense\",\"marker\":{\"color\":\"cornsilk\",\"symbol\":\"circle\"},\"mode\":\"markers\",\"name\":\"Offense\",\"orientation\":\"v\",\"showlegend\":true,\"x\":[37.03,39.620000000000005,54.769999999999996,38.42,49.3,38.510000000000005,46.94,34.56,50.16,35.269999999999996],\"xaxis\":\"x\",\"y\":[27.439999999999998,20.93,24.529999999999998,28.519999999999996,46.33,3.9299999999999997,20.61,22.929999999999996,35.69,20.009999999999998],\"yaxis\":\"y\",\"type\":\"scatter\"},{\"hovertemplate\":\"\\u003cb\\u003e%{hovertext}\\u003c\\u002fb\\u003e\\u003cbr\\u003e\\u003cbr\\u003ePlayer of Interest=Defense\\u003cbr\\u003eframeId=14\\u003cbr\\u003ex=%{x}\\u003cbr\\u003ey=%{y}\\u003cextra\\u003e\\u003c\\u002fextra\\u003e\",\"hovertext\":[\"Bobby Wagner\",\"Aaron Donald\",\"Troy Hill\",\"Jalen Ramsey\",\"Leonard Floyd\",\"A'Shawn Robinson\",\"Taylor Rapp\",\"Greg Gaines\",\"Nick Scott\",\"Jordan Fuller\",\"Ernest Jones\"],\"legendgroup\":\"Defense\",\"marker\":{\"color\":\"lightblue\",\"symbol\":\"circle\"},\"mode\":\"markers\",\"name\":\"Defense\",\"orientation\":\"v\",\"showlegend\":true,\"x\":[48.5,31.83,56.77,47.22,38.290000000000006,40.45,53.620000000000005,41.89,59.1,56.59,45.53],\"xaxis\":\"x\",\"y\":[24.629999999999995,23.509999999999998,37.739999999999995,7.919999999999995,17.119999999999997,27.709999999999997,45.81999999999999,19.08,23.389999999999997,16.099999999999994,16.699999999999996],\"yaxis\":\"y\",\"type\":\"scatter\"},{\"hovertemplate\":\"\\u003cb\\u003e%{hovertext}\\u003c\\u002fb\\u003e\\u003cbr\\u003e\\u003cbr\\u003ePlayer of Interest=ballCarrier\\u003cbr\\u003eframeId=14\\u003cbr\\u003ex=%{x}\\u003cbr\\u003ey=%{y}\\u003cextra\\u003e\\u003c\\u002fextra\\u003e\",\"hovertext\":[\"Josh Allen\"],\"legendgroup\":\"ballCarrier\",\"marker\":{\"color\":\"lime\",\"symbol\":\"circle\"},\"mode\":\"markers\",\"name\":\"ballCarrier\",\"orientation\":\"v\",\"showlegend\":true,\"x\":[41.56999999999999],\"xaxis\":\"x\",\"y\":[17.529999999999994],\"yaxis\":\"y\",\"type\":\"scatter\"},{\"hovertemplate\":\"\\u003cb\\u003e%{hovertext}\\u003c\\u002fb\\u003e\\u003cbr\\u003e\\u003cbr\\u003ePlayer of Interest=Tackle\\u003cbr\\u003eframeId=14\\u003cbr\\u003ex=%{x}\\u003cbr\\u003ey=%{y}\\u003cextra\\u003e\\u003c\\u002fextra\\u003e\",\"hovertext\":[null],\"legendgroup\":\"Tackle\",\"marker\":{\"color\":\"red\",\"symbol\":\"circle\"},\"mode\":\"markers\",\"name\":\"Tackle\",\"orientation\":\"v\",\"showlegend\":true,\"x\":[null],\"xaxis\":\"x\",\"y\":[null],\"yaxis\":\"y\",\"type\":\"scatter\"},{\"hovertemplate\":\"\\u003cb\\u003e%{hovertext}\\u003c\\u002fb\\u003e\\u003cbr\\u003e\\u003cbr\\u003ePlayer of Interest=football\\u003cbr\\u003eframeId=14\\u003cbr\\u003ex=%{x}\\u003cbr\\u003ey=%{y}\\u003cextra\\u003e\\u003c\\u002fextra\\u003e\",\"hovertext\":[\"football\"],\"legendgroup\":\"football\",\"marker\":{\"color\":\"#825736\",\"symbol\":\"circle\"},\"mode\":\"markers\",\"name\":\"football\",\"orientation\":\"v\",\"showlegend\":true,\"x\":[null],\"xaxis\":\"x\",\"y\":[null],\"yaxis\":\"y\",\"type\":\"scatter\"}],\"name\":\"14\"},{\"data\":[{\"hovertemplate\":\"\\u003cb\\u003e%{hovertext}\\u003c\\u002fb\\u003e\\u003cbr\\u003e\\u003cbr\\u003ePlayer of Interest=Offense\\u003cbr\\u003eframeId=15\\u003cbr\\u003ex=%{x}\\u003cbr\\u003ey=%{y}\\u003cextra\\u003e\\u003c\\u002fextra\\u003e\",\"hovertext\":[\"Rodger Saffold\",\"Mitch Morse\",\"Stefon Diggs\",\"Dion Dawkins\",\"Isaiah McKenzie\",\"Devin Singletary\",\"Dawson Knox\",\"Ryan Bates\",\"Gabe Davis\",\"Spencer Brown\"],\"legendgroup\":\"Offense\",\"marker\":{\"color\":\"cornsilk\",\"symbol\":\"circle\"},\"mode\":\"markers\",\"name\":\"Offense\",\"orientation\":\"v\",\"showlegend\":true,\"x\":[37.129999999999995,39.84,54.879999999999995,38.58,49.33,38.81999999999999,47.2,34.790000000000006,50.25,35.56],\"xaxis\":\"x\",\"y\":[27.339999999999996,20.529999999999994,23.999999999999996,28.379999999999995,46.269999999999996,3.739999999999995,20.629999999999995,22.659999999999997,35.42,19.879999999999995],\"yaxis\":\"y\",\"type\":\"scatter\"},{\"hovertemplate\":\"\\u003cb\\u003e%{hovertext}\\u003c\\u002fb\\u003e\\u003cbr\\u003e\\u003cbr\\u003ePlayer of Interest=Defense\\u003cbr\\u003eframeId=15\\u003cbr\\u003ex=%{x}\\u003cbr\\u003ey=%{y}\\u003cextra\\u003e\\u003c\\u002fextra\\u003e\",\"hovertext\":[\"Bobby Wagner\",\"Aaron Donald\",\"Troy Hill\",\"Jalen Ramsey\",\"Leonard Floyd\",\"A'Shawn Robinson\",\"Taylor Rapp\",\"Greg Gaines\",\"Nick Scott\",\"Jordan Fuller\",\"Ernest Jones\"],\"legendgroup\":\"Defense\",\"marker\":{\"color\":\"lightblue\",\"symbol\":\"circle\"},\"mode\":\"markers\",\"name\":\"Defense\",\"orientation\":\"v\",\"showlegend\":true,\"x\":[48.55,31.930000000000007,56.77,47.239999999999995,38.81999999999999,40.769999999999996,53.379999999999995,42.209999999999994,58.78,56.25,45.489999999999995],\"xaxis\":\"x\",\"y\":[23.99,23.259999999999998,37.19,7.8799999999999955,16.779999999999994,27.449999999999996,45.79,18.5,22.9,15.82,16.309999999999995],\"yaxis\":\"y\",\"type\":\"scatter\"},{\"hovertemplate\":\"\\u003cb\\u003e%{hovertext}\\u003c\\u002fb\\u003e\\u003cbr\\u003e\\u003cbr\\u003ePlayer of Interest=ballCarrier\\u003cbr\\u003eframeId=15\\u003cbr\\u003ex=%{x}\\u003cbr\\u003ey=%{y}\\u003cextra\\u003e\\u003c\\u002fextra\\u003e\",\"hovertext\":[\"Josh Allen\"],\"legendgroup\":\"ballCarrier\",\"marker\":{\"color\":\"lime\",\"symbol\":\"circle\"},\"mode\":\"markers\",\"name\":\"ballCarrier\",\"orientation\":\"v\",\"showlegend\":true,\"x\":[42.040000000000006],\"xaxis\":\"x\",\"y\":[16.93],\"yaxis\":\"y\",\"type\":\"scatter\"},{\"hovertemplate\":\"\\u003cb\\u003e%{hovertext}\\u003c\\u002fb\\u003e\\u003cbr\\u003e\\u003cbr\\u003ePlayer of Interest=Tackle\\u003cbr\\u003eframeId=15\\u003cbr\\u003ex=%{x}\\u003cbr\\u003ey=%{y}\\u003cextra\\u003e\\u003c\\u002fextra\\u003e\",\"hovertext\":[null],\"legendgroup\":\"Tackle\",\"marker\":{\"color\":\"red\",\"symbol\":\"circle\"},\"mode\":\"markers\",\"name\":\"Tackle\",\"orientation\":\"v\",\"showlegend\":true,\"x\":[null],\"xaxis\":\"x\",\"y\":[null],\"yaxis\":\"y\",\"type\":\"scatter\"},{\"hovertemplate\":\"\\u003cb\\u003e%{hovertext}\\u003c\\u002fb\\u003e\\u003cbr\\u003e\\u003cbr\\u003ePlayer of Interest=football\\u003cbr\\u003eframeId=15\\u003cbr\\u003ex=%{x}\\u003cbr\\u003ey=%{y}\\u003cextra\\u003e\\u003c\\u002fextra\\u003e\",\"hovertext\":[\"football\"],\"legendgroup\":\"football\",\"marker\":{\"color\":\"#825736\",\"symbol\":\"circle\"},\"mode\":\"markers\",\"name\":\"football\",\"orientation\":\"v\",\"showlegend\":true,\"x\":[null],\"xaxis\":\"x\",\"y\":[null],\"yaxis\":\"y\",\"type\":\"scatter\"}],\"name\":\"15\"},{\"data\":[{\"hovertemplate\":\"\\u003cb\\u003e%{hovertext}\\u003c\\u002fb\\u003e\\u003cbr\\u003e\\u003cbr\\u003ePlayer of Interest=Offense\\u003cbr\\u003eframeId=16\\u003cbr\\u003ex=%{x}\\u003cbr\\u003ey=%{y}\\u003cextra\\u003e\\u003c\\u002fextra\\u003e\",\"hovertext\":[\"Rodger Saffold\",\"Mitch Morse\",\"Stefon Diggs\",\"Dion Dawkins\",\"Isaiah McKenzie\",\"Devin Singletary\",\"Dawson Knox\",\"Ryan Bates\",\"Gabe Davis\",\"Spencer Brown\"],\"legendgroup\":\"Offense\",\"marker\":{\"color\":\"cornsilk\",\"symbol\":\"circle\"},\"mode\":\"markers\",\"name\":\"Offense\",\"orientation\":\"v\",\"showlegend\":true,\"x\":[37.239999999999995,40.09,54.959999999999994,38.739999999999995,49.36,39.14,47.5,35.03,50.34,35.83],\"xaxis\":\"x\",\"y\":[27.22,20.119999999999997,23.499999999999996,28.22,46.19,3.5700000000000003,20.629999999999995,22.389999999999997,35.129999999999995,19.729999999999997],\"yaxis\":\"y\",\"type\":\"scatter\"},{\"hovertemplate\":\"\\u003cb\\u003e%{hovertext}\\u003c\\u002fb\\u003e\\u003cbr\\u003e\\u003cbr\\u003ePlayer of Interest=Defense\\u003cbr\\u003eframeId=16\\u003cbr\\u003ex=%{x}\\u003cbr\\u003ey=%{y}\\u003cextra\\u003e\\u003c\\u002fextra\\u003e\",\"hovertext\":[\"Bobby Wagner\",\"Aaron Donald\",\"Troy Hill\",\"Jalen Ramsey\",\"Leonard Floyd\",\"A'Shawn Robinson\",\"Taylor Rapp\",\"Greg Gaines\",\"Nick Scott\",\"Jordan Fuller\",\"Ernest Jones\"],\"legendgroup\":\"Defense\",\"marker\":{\"color\":\"lightblue\",\"symbol\":\"circle\"},\"mode\":\"markers\",\"name\":\"Defense\",\"orientation\":\"v\",\"showlegend\":true,\"x\":[48.629999999999995,32.040000000000006,56.74,47.28,39.370000000000005,41.11,53.129999999999995,42.56,58.44,55.879999999999995,45.45],\"xaxis\":\"x\",\"y\":[23.369999999999997,23.009999999999998,36.629999999999995,7.859999999999999,16.409999999999997,27.179999999999996,45.72,17.919999999999995,22.4,15.509999999999998,15.89],\"yaxis\":\"y\",\"type\":\"scatter\"},{\"hovertemplate\":\"\\u003cb\\u003e%{hovertext}\\u003c\\u002fb\\u003e\\u003cbr\\u003e\\u003cbr\\u003ePlayer of Interest=ballCarrier\\u003cbr\\u003eframeId=16\\u003cbr\\u003ex=%{x}\\u003cbr\\u003ey=%{y}\\u003cextra\\u003e\\u003c\\u002fextra\\u003e\",\"hovertext\":[\"Josh Allen\"],\"legendgroup\":\"ballCarrier\",\"marker\":{\"color\":\"lime\",\"symbol\":\"circle\"},\"mode\":\"markers\",\"name\":\"ballCarrier\",\"orientation\":\"v\",\"showlegend\":true,\"x\":[42.53],\"xaxis\":\"x\",\"y\":[16.32],\"yaxis\":\"y\",\"type\":\"scatter\"},{\"hovertemplate\":\"\\u003cb\\u003e%{hovertext}\\u003c\\u002fb\\u003e\\u003cbr\\u003e\\u003cbr\\u003ePlayer of Interest=Tackle\\u003cbr\\u003eframeId=16\\u003cbr\\u003ex=%{x}\\u003cbr\\u003ey=%{y}\\u003cextra\\u003e\\u003c\\u002fextra\\u003e\",\"hovertext\":[null],\"legendgroup\":\"Tackle\",\"marker\":{\"color\":\"red\",\"symbol\":\"circle\"},\"mode\":\"markers\",\"name\":\"Tackle\",\"orientation\":\"v\",\"showlegend\":true,\"x\":[null],\"xaxis\":\"x\",\"y\":[null],\"yaxis\":\"y\",\"type\":\"scatter\"},{\"hovertemplate\":\"\\u003cb\\u003e%{hovertext}\\u003c\\u002fb\\u003e\\u003cbr\\u003e\\u003cbr\\u003ePlayer of Interest=football\\u003cbr\\u003eframeId=16\\u003cbr\\u003ex=%{x}\\u003cbr\\u003ey=%{y}\\u003cextra\\u003e\\u003c\\u002fextra\\u003e\",\"hovertext\":[\"football\"],\"legendgroup\":\"football\",\"marker\":{\"color\":\"#825736\",\"symbol\":\"circle\"},\"mode\":\"markers\",\"name\":\"football\",\"orientation\":\"v\",\"showlegend\":true,\"x\":[null],\"xaxis\":\"x\",\"y\":[null],\"yaxis\":\"y\",\"type\":\"scatter\"}],\"name\":\"16\"},{\"data\":[{\"hovertemplate\":\"\\u003cb\\u003e%{hovertext}\\u003c\\u002fb\\u003e\\u003cbr\\u003e\\u003cbr\\u003ePlayer of Interest=Offense\\u003cbr\\u003eframeId=17\\u003cbr\\u003ex=%{x}\\u003cbr\\u003ey=%{y}\\u003cextra\\u003e\\u003c\\u002fextra\\u003e\",\"hovertext\":[\"Rodger Saffold\",\"Mitch Morse\",\"Stefon Diggs\",\"Dion Dawkins\",\"Isaiah McKenzie\",\"Devin Singletary\",\"Dawson Knox\",\"Ryan Bates\",\"Gabe Davis\",\"Spencer Brown\"],\"legendgroup\":\"Offense\",\"marker\":{\"color\":\"cornsilk\",\"symbol\":\"circle\"},\"mode\":\"markers\",\"name\":\"Offense\",\"orientation\":\"v\",\"showlegend\":true,\"x\":[37.370000000000005,40.36,55.019999999999996,38.900000000000006,49.36,39.47,47.8,35.3,50.43000000000001,36.14],\"xaxis\":\"x\",\"y\":[27.099999999999998,19.699999999999996,23.029999999999998,28.049999999999997,46.099999999999994,3.4199999999999946,20.599999999999994,22.099999999999998,34.83,19.559999999999995],\"yaxis\":\"y\",\"type\":\"scatter\"},{\"hovertemplate\":\"\\u003cb\\u003e%{hovertext}\\u003c\\u002fb\\u003e\\u003cbr\\u003e\\u003cbr\\u003ePlayer of Interest=Defense\\u003cbr\\u003eframeId=17\\u003cbr\\u003ex=%{x}\\u003cbr\\u003ey=%{y}\\u003cextra\\u003e\\u003c\\u002fextra\\u003e\",\"hovertext\":[\"Bobby Wagner\",\"Aaron Donald\",\"Troy Hill\",\"Jalen Ramsey\",\"Leonard Floyd\",\"A'Shawn Robinson\",\"Taylor Rapp\",\"Greg Gaines\",\"Nick Scott\",\"Jordan Fuller\",\"Ernest Jones\"],\"legendgroup\":\"Defense\",\"marker\":{\"color\":\"lightblue\",\"symbol\":\"circle\"},\"mode\":\"markers\",\"name\":\"Defense\",\"orientation\":\"v\",\"showlegend\":true,\"x\":[48.709999999999994,32.17,56.71,47.31999999999999,39.91,41.43000000000001,52.89,42.92,58.1,55.489999999999995,45.44],\"xaxis\":\"x\",\"y\":[22.759999999999998,22.769999999999996,36.06,7.859999999999999,16.009999999999998,26.909999999999997,45.64,17.349999999999994,21.879999999999995,15.169999999999995,15.449999999999996],\"yaxis\":\"y\",\"type\":\"scatter\"},{\"hovertemplate\":\"\\u003cb\\u003e%{hovertext}\\u003c\\u002fb\\u003e\\u003cbr\\u003e\\u003cbr\\u003ePlayer of Interest=ballCarrier\\u003cbr\\u003eframeId=17\\u003cbr\\u003ex=%{x}\\u003cbr\\u003ey=%{y}\\u003cextra\\u003e\\u003c\\u002fextra\\u003e\",\"hovertext\":[\"Josh Allen\"],\"legendgroup\":\"ballCarrier\",\"marker\":{\"color\":\"lime\",\"symbol\":\"circle\"},\"mode\":\"markers\",\"name\":\"ballCarrier\",\"orientation\":\"v\",\"showlegend\":true,\"x\":[43.019999999999996],\"xaxis\":\"x\",\"y\":[15.699999999999996],\"yaxis\":\"y\",\"type\":\"scatter\"},{\"hovertemplate\":\"\\u003cb\\u003e%{hovertext}\\u003c\\u002fb\\u003e\\u003cbr\\u003e\\u003cbr\\u003ePlayer of Interest=Tackle\\u003cbr\\u003eframeId=17\\u003cbr\\u003ex=%{x}\\u003cbr\\u003ey=%{y}\\u003cextra\\u003e\\u003c\\u002fextra\\u003e\",\"hovertext\":[null],\"legendgroup\":\"Tackle\",\"marker\":{\"color\":\"red\",\"symbol\":\"circle\"},\"mode\":\"markers\",\"name\":\"Tackle\",\"orientation\":\"v\",\"showlegend\":true,\"x\":[null],\"xaxis\":\"x\",\"y\":[null],\"yaxis\":\"y\",\"type\":\"scatter\"},{\"hovertemplate\":\"\\u003cb\\u003e%{hovertext}\\u003c\\u002fb\\u003e\\u003cbr\\u003e\\u003cbr\\u003ePlayer of Interest=football\\u003cbr\\u003eframeId=17\\u003cbr\\u003ex=%{x}\\u003cbr\\u003ey=%{y}\\u003cextra\\u003e\\u003c\\u002fextra\\u003e\",\"hovertext\":[\"football\"],\"legendgroup\":\"football\",\"marker\":{\"color\":\"#825736\",\"symbol\":\"circle\"},\"mode\":\"markers\",\"name\":\"football\",\"orientation\":\"v\",\"showlegend\":true,\"x\":[null],\"xaxis\":\"x\",\"y\":[null],\"yaxis\":\"y\",\"type\":\"scatter\"}],\"name\":\"17\"},{\"data\":[{\"hovertemplate\":\"\\u003cb\\u003e%{hovertext}\\u003c\\u002fb\\u003e\\u003cbr\\u003e\\u003cbr\\u003ePlayer of Interest=Offense\\u003cbr\\u003eframeId=18\\u003cbr\\u003ex=%{x}\\u003cbr\\u003ey=%{y}\\u003cextra\\u003e\\u003c\\u002fextra\\u003e\",\"hovertext\":[\"Rodger Saffold\",\"Mitch Morse\",\"Stefon Diggs\",\"Dion Dawkins\",\"Isaiah McKenzie\",\"Devin Singletary\",\"Dawson Knox\",\"Ryan Bates\",\"Gabe Davis\",\"Spencer Brown\"],\"legendgroup\":\"Offense\",\"marker\":{\"color\":\"cornsilk\",\"symbol\":\"circle\"},\"mode\":\"markers\",\"name\":\"Offense\",\"orientation\":\"v\",\"showlegend\":true,\"x\":[37.489999999999995,40.64,55.06,39.06999999999999,49.370000000000005,39.81,48.129999999999995,35.59,50.510000000000005,36.44],\"xaxis\":\"x\",\"y\":[26.97,19.29,22.58,27.889999999999997,45.989999999999995,3.289999999999999,20.5,21.81,34.53,19.369999999999997],\"yaxis\":\"y\",\"type\":\"scatter\"},{\"hovertemplate\":\"\\u003cb\\u003e%{hovertext}\\u003c\\u002fb\\u003e\\u003cbr\\u003e\\u003cbr\\u003ePlayer of Interest=Defense\\u003cbr\\u003eframeId=18\\u003cbr\\u003ex=%{x}\\u003cbr\\u003ey=%{y}\\u003cextra\\u003e\\u003c\\u002fextra\\u003e\",\"hovertext\":[\"Bobby Wagner\",\"Aaron Donald\",\"Troy Hill\",\"Jalen Ramsey\",\"Leonard Floyd\",\"A'Shawn Robinson\",\"Taylor Rapp\",\"Greg Gaines\",\"Nick Scott\",\"Jordan Fuller\"],\"legendgroup\":\"Defense\",\"marker\":{\"color\":\"lightblue\",\"symbol\":\"circle\"},\"mode\":\"markers\",\"name\":\"Defense\",\"orientation\":\"v\",\"showlegend\":true,\"x\":[48.81999999999999,32.31,56.65,47.379999999999995,40.45,41.760000000000005,52.650000000000006,43.290000000000006,57.74,55.09],\"xaxis\":\"x\",\"y\":[22.169999999999998,22.529999999999998,35.489999999999995,7.8799999999999955,15.599999999999994,26.629999999999995,45.53,16.779999999999994,21.369999999999997,14.82],\"yaxis\":\"y\",\"type\":\"scatter\"},{\"hovertemplate\":\"\\u003cb\\u003e%{hovertext}\\u003c\\u002fb\\u003e\\u003cbr\\u003e\\u003cbr\\u003ePlayer of Interest=ballCarrier\\u003cbr\\u003eframeId=18\\u003cbr\\u003ex=%{x}\\u003cbr\\u003ey=%{y}\\u003cextra\\u003e\\u003c\\u002fextra\\u003e\",\"hovertext\":[\"Josh Allen\"],\"legendgroup\":\"ballCarrier\",\"marker\":{\"color\":\"lime\",\"symbol\":\"circle\"},\"mode\":\"markers\",\"name\":\"ballCarrier\",\"orientation\":\"v\",\"showlegend\":true,\"x\":[43.510000000000005],\"xaxis\":\"x\",\"y\":[15.089999999999996],\"yaxis\":\"y\",\"type\":\"scatter\"},{\"hovertemplate\":\"\\u003cb\\u003e%{hovertext}\\u003c\\u002fb\\u003e\\u003cbr\\u003e\\u003cbr\\u003ePlayer of Interest=Tackle\\u003cbr\\u003eframeId=18\\u003cbr\\u003ex=%{x}\\u003cbr\\u003ey=%{y}\\u003cextra\\u003e\\u003c\\u002fextra\\u003e\",\"hovertext\":[\"Ernest Jones\"],\"legendgroup\":\"Tackle\",\"marker\":{\"color\":\"red\",\"symbol\":\"circle\"},\"mode\":\"markers\",\"name\":\"Tackle\",\"orientation\":\"v\",\"showlegend\":true,\"x\":[45.459999999999994],\"xaxis\":\"x\",\"y\":[14.989999999999995],\"yaxis\":\"y\",\"type\":\"scatter\"},{\"hovertemplate\":\"\\u003cb\\u003e%{hovertext}\\u003c\\u002fb\\u003e\\u003cbr\\u003e\\u003cbr\\u003ePlayer of Interest=football\\u003cbr\\u003eframeId=18\\u003cbr\\u003ex=%{x}\\u003cbr\\u003ey=%{y}\\u003cextra\\u003e\\u003c\\u002fextra\\u003e\",\"hovertext\":[\"football\"],\"legendgroup\":\"football\",\"marker\":{\"color\":\"#825736\",\"symbol\":\"circle\"},\"mode\":\"markers\",\"name\":\"football\",\"orientation\":\"v\",\"showlegend\":true,\"x\":[null],\"xaxis\":\"x\",\"y\":[null],\"yaxis\":\"y\",\"type\":\"scatter\"}],\"name\":\"18\"},{\"data\":[{\"hovertemplate\":\"\\u003cb\\u003e%{hovertext}\\u003c\\u002fb\\u003e\\u003cbr\\u003e\\u003cbr\\u003ePlayer of Interest=Offense\\u003cbr\\u003eframeId=19\\u003cbr\\u003ex=%{x}\\u003cbr\\u003ey=%{y}\\u003cextra\\u003e\\u003c\\u002fextra\\u003e\",\"hovertext\":[\"Rodger Saffold\",\"Mitch Morse\",\"Stefon Diggs\",\"Dion Dawkins\",\"Isaiah McKenzie\",\"Devin Singletary\",\"Dawson Knox\",\"Ryan Bates\",\"Gabe Davis\",\"Spencer Brown\"],\"legendgroup\":\"Offense\",\"marker\":{\"color\":\"cornsilk\",\"symbol\":\"circle\"},\"mode\":\"markers\",\"name\":\"Offense\",\"orientation\":\"v\",\"showlegend\":true,\"x\":[37.620000000000005,40.93000000000001,55.06999999999999,39.25,49.379999999999995,40.16,48.459999999999994,35.89,50.59,36.760000000000005],\"xaxis\":\"x\",\"y\":[26.839999999999996,18.909999999999997,22.169999999999998,27.709999999999997,45.87,3.1799999999999997,20.39,21.529999999999998,34.209999999999994,19.159999999999997],\"yaxis\":\"y\",\"type\":\"scatter\"},{\"hovertemplate\":\"\\u003cb\\u003e%{hovertext}\\u003c\\u002fb\\u003e\\u003cbr\\u003e\\u003cbr\\u003ePlayer of Interest=Defense\\u003cbr\\u003eframeId=19\\u003cbr\\u003ex=%{x}\\u003cbr\\u003ey=%{y}\\u003cextra\\u003e\\u003c\\u002fextra\\u003e\",\"hovertext\":[\"Bobby Wagner\",\"Aaron Donald\",\"Troy Hill\",\"Jalen Ramsey\",\"Leonard Floyd\",\"A'Shawn Robinson\",\"Taylor Rapp\",\"Greg Gaines\",\"Nick Scott\",\"Jordan Fuller\"],\"legendgroup\":\"Defense\",\"marker\":{\"color\":\"lightblue\",\"symbol\":\"circle\"},\"mode\":\"markers\",\"name\":\"Defense\",\"orientation\":\"v\",\"showlegend\":true,\"x\":[48.959999999999994,32.47,56.59,47.45,40.980000000000004,42.06999999999999,52.41,43.68000000000001,57.38,54.69],\"xaxis\":\"x\",\"y\":[21.609999999999996,22.289999999999996,34.9,7.93,15.159999999999997,26.349999999999998,45.4,16.209999999999994,20.849999999999994,14.439999999999998],\"yaxis\":\"y\",\"type\":\"scatter\"},{\"hovertemplate\":\"\\u003cb\\u003e%{hovertext}\\u003c\\u002fb\\u003e\\u003cbr\\u003e\\u003cbr\\u003ePlayer of Interest=ballCarrier\\u003cbr\\u003eframeId=19\\u003cbr\\u003ex=%{x}\\u003cbr\\u003ey=%{y}\\u003cextra\\u003e\\u003c\\u002fextra\\u003e\",\"hovertext\":[\"Josh Allen\"],\"legendgroup\":\"ballCarrier\",\"marker\":{\"color\":\"lime\",\"symbol\":\"circle\"},\"mode\":\"markers\",\"name\":\"ballCarrier\",\"orientation\":\"v\",\"showlegend\":true,\"x\":[43.989999999999995],\"xaxis\":\"x\",\"y\":[14.489999999999995],\"yaxis\":\"y\",\"type\":\"scatter\"},{\"hovertemplate\":\"\\u003cb\\u003e%{hovertext}\\u003c\\u002fb\\u003e\\u003cbr\\u003e\\u003cbr\\u003ePlayer of Interest=Tackle\\u003cbr\\u003eframeId=19\\u003cbr\\u003ex=%{x}\\u003cbr\\u003ey=%{y}\\u003cextra\\u003e\\u003c\\u002fextra\\u003e\",\"hovertext\":[\"Ernest Jones\"],\"legendgroup\":\"Tackle\",\"marker\":{\"color\":\"red\",\"symbol\":\"circle\"},\"mode\":\"markers\",\"name\":\"Tackle\",\"orientation\":\"v\",\"showlegend\":true,\"x\":[45.540000000000006],\"xaxis\":\"x\",\"y\":[14.519999999999996],\"yaxis\":\"y\",\"type\":\"scatter\"},{\"hovertemplate\":\"\\u003cb\\u003e%{hovertext}\\u003c\\u002fb\\u003e\\u003cbr\\u003e\\u003cbr\\u003ePlayer of Interest=football\\u003cbr\\u003eframeId=19\\u003cbr\\u003ex=%{x}\\u003cbr\\u003ey=%{y}\\u003cextra\\u003e\\u003c\\u002fextra\\u003e\",\"hovertext\":[\"football\"],\"legendgroup\":\"football\",\"marker\":{\"color\":\"#825736\",\"symbol\":\"circle\"},\"mode\":\"markers\",\"name\":\"football\",\"orientation\":\"v\",\"showlegend\":true,\"x\":[null],\"xaxis\":\"x\",\"y\":[null],\"yaxis\":\"y\",\"type\":\"scatter\"}],\"name\":\"19\"},{\"data\":[{\"hovertemplate\":\"\\u003cb\\u003e%{hovertext}\\u003c\\u002fb\\u003e\\u003cbr\\u003e\\u003cbr\\u003ePlayer of Interest=Offense\\u003cbr\\u003eframeId=20\\u003cbr\\u003ex=%{x}\\u003cbr\\u003ey=%{y}\\u003cextra\\u003e\\u003c\\u002fextra\\u003e\",\"hovertext\":[\"Rodger Saffold\",\"Mitch Morse\",\"Stefon Diggs\",\"Dion Dawkins\",\"Isaiah McKenzie\",\"Devin Singletary\",\"Dawson Knox\",\"Ryan Bates\",\"Gabe Davis\",\"Spencer Brown\"],\"legendgroup\":\"Offense\",\"marker\":{\"color\":\"cornsilk\",\"symbol\":\"circle\"},\"mode\":\"markers\",\"name\":\"Offense\",\"orientation\":\"v\",\"showlegend\":true,\"x\":[37.760000000000005,41.230000000000004,55.08,39.43000000000001,49.379999999999995,40.519999999999996,48.81,36.18000000000001,50.68000000000001,37.06],\"xaxis\":\"x\",\"y\":[26.699999999999996,18.529999999999994,21.789999999999996,27.529999999999998,45.75,3.0999999999999943,20.18,21.269999999999996,33.879999999999995,18.949999999999996],\"yaxis\":\"y\",\"type\":\"scatter\"},{\"hovertemplate\":\"\\u003cb\\u003e%{hovertext}\\u003c\\u002fb\\u003e\\u003cbr\\u003e\\u003cbr\\u003ePlayer of Interest=Defense\\u003cbr\\u003eframeId=20\\u003cbr\\u003ex=%{x}\\u003cbr\\u003ey=%{y}\\u003cextra\\u003e\\u003c\\u002fextra\\u003e\",\"hovertext\":[\"Bobby Wagner\",\"Aaron Donald\",\"Troy Hill\",\"Jalen Ramsey\",\"Leonard Floyd\",\"A'Shawn Robinson\",\"Taylor Rapp\",\"Greg Gaines\",\"Nick Scott\",\"Jordan Fuller\"],\"legendgroup\":\"Defense\",\"marker\":{\"color\":\"lightblue\",\"symbol\":\"circle\"},\"mode\":\"markers\",\"name\":\"Defense\",\"orientation\":\"v\",\"showlegend\":true,\"x\":[49.11,32.620000000000005,56.52,47.53,41.5,42.379999999999995,52.2,44.09,57.02,54.290000000000006],\"xaxis\":\"x\",\"y\":[21.099999999999994,22.06,34.31999999999999,8.0,14.709999999999994,26.069999999999997,45.239999999999995,15.659999999999997,20.32,14.049999999999997],\"yaxis\":\"y\",\"type\":\"scatter\"},{\"hovertemplate\":\"\\u003cb\\u003e%{hovertext}\\u003c\\u002fb\\u003e\\u003cbr\\u003e\\u003cbr\\u003ePlayer of Interest=ballCarrier\\u003cbr\\u003eframeId=20\\u003cbr\\u003ex=%{x}\\u003cbr\\u003ey=%{y}\\u003cextra\\u003e\\u003c\\u002fextra\\u003e\",\"hovertext\":[\"Josh Allen\"],\"legendgroup\":\"ballCarrier\",\"marker\":{\"color\":\"lime\",\"symbol\":\"circle\"},\"mode\":\"markers\",\"name\":\"ballCarrier\",\"orientation\":\"v\",\"showlegend\":true,\"x\":[44.47],\"xaxis\":\"x\",\"y\":[13.899999999999999],\"yaxis\":\"y\",\"type\":\"scatter\"},{\"hovertemplate\":\"\\u003cb\\u003e%{hovertext}\\u003c\\u002fb\\u003e\\u003cbr\\u003e\\u003cbr\\u003ePlayer of Interest=Tackle\\u003cbr\\u003eframeId=20\\u003cbr\\u003ex=%{x}\\u003cbr\\u003ey=%{y}\\u003cextra\\u003e\\u003c\\u002fextra\\u003e\",\"hovertext\":[\"Ernest Jones\"],\"legendgroup\":\"Tackle\",\"marker\":{\"color\":\"red\",\"symbol\":\"circle\"},\"mode\":\"markers\",\"name\":\"Tackle\",\"orientation\":\"v\",\"showlegend\":true,\"x\":[45.650000000000006],\"xaxis\":\"x\",\"y\":[14.04],\"yaxis\":\"y\",\"type\":\"scatter\"},{\"hovertemplate\":\"\\u003cb\\u003e%{hovertext}\\u003c\\u002fb\\u003e\\u003cbr\\u003e\\u003cbr\\u003ePlayer of Interest=football\\u003cbr\\u003eframeId=20\\u003cbr\\u003ex=%{x}\\u003cbr\\u003ey=%{y}\\u003cextra\\u003e\\u003c\\u002fextra\\u003e\",\"hovertext\":[\"football\"],\"legendgroup\":\"football\",\"marker\":{\"color\":\"#825736\",\"symbol\":\"circle\"},\"mode\":\"markers\",\"name\":\"football\",\"orientation\":\"v\",\"showlegend\":true,\"x\":[null],\"xaxis\":\"x\",\"y\":[null],\"yaxis\":\"y\",\"type\":\"scatter\"}],\"name\":\"20\"},{\"data\":[{\"hovertemplate\":\"\\u003cb\\u003e%{hovertext}\\u003c\\u002fb\\u003e\\u003cbr\\u003e\\u003cbr\\u003ePlayer of Interest=Offense\\u003cbr\\u003eframeId=21\\u003cbr\\u003ex=%{x}\\u003cbr\\u003ey=%{y}\\u003cextra\\u003e\\u003c\\u002fextra\\u003e\",\"hovertext\":[\"Rodger Saffold\",\"Mitch Morse\",\"Stefon Diggs\",\"Dion Dawkins\",\"Isaiah McKenzie\",\"Devin Singletary\",\"Dawson Knox\",\"Ryan Bates\",\"Gabe Davis\",\"Spencer Brown\"],\"legendgroup\":\"Offense\",\"marker\":{\"color\":\"cornsilk\",\"symbol\":\"circle\"},\"mode\":\"markers\",\"name\":\"Offense\",\"orientation\":\"v\",\"showlegend\":true,\"x\":[37.89,41.56999999999999,55.08,39.620000000000005,49.379999999999995,40.89,49.150000000000006,36.510000000000005,50.760000000000005,37.370000000000005],\"xaxis\":\"x\",\"y\":[26.569999999999997,18.15,21.439999999999998,27.349999999999998,45.62,3.039999999999999,19.979999999999997,21.0,33.55,18.72],\"yaxis\":\"y\",\"type\":\"scatter\"},{\"hovertemplate\":\"\\u003cb\\u003e%{hovertext}\\u003c\\u002fb\\u003e\\u003cbr\\u003e\\u003cbr\\u003ePlayer of Interest=Defense\\u003cbr\\u003eframeId=21\\u003cbr\\u003ex=%{x}\\u003cbr\\u003ey=%{y}\\u003cextra\\u003e\\u003c\\u002fextra\\u003e\",\"hovertext\":[\"Bobby Wagner\",\"Aaron Donald\",\"Troy Hill\",\"Jalen Ramsey\",\"Leonard Floyd\",\"A'Shawn Robinson\",\"Taylor Rapp\",\"Greg Gaines\",\"Nick Scott\",\"Jordan Fuller\"],\"legendgroup\":\"Defense\",\"marker\":{\"color\":\"lightblue\",\"symbol\":\"circle\"},\"mode\":\"markers\",\"name\":\"Defense\",\"orientation\":\"v\",\"showlegend\":true,\"x\":[49.28,32.78,56.44,47.61,42.0,42.69,52.0,44.5,56.66,53.900000000000006],\"xaxis\":\"x\",\"y\":[20.619999999999997,21.849999999999998,33.739999999999995,8.099999999999994,14.25,25.789999999999996,45.06999999999999,15.11,19.79,13.629999999999995],\"yaxis\":\"y\",\"type\":\"scatter\"},{\"hovertemplate\":\"\\u003cb\\u003e%{hovertext}\\u003c\\u002fb\\u003e\\u003cbr\\u003e\\u003cbr\\u003ePlayer of Interest=ballCarrier\\u003cbr\\u003eframeId=21\\u003cbr\\u003ex=%{x}\\u003cbr\\u003ey=%{y}\\u003cextra\\u003e\\u003c\\u002fextra\\u003e\",\"hovertext\":[\"Josh Allen\"],\"legendgroup\":\"ballCarrier\",\"marker\":{\"color\":\"lime\",\"symbol\":\"circle\"},\"mode\":\"markers\",\"name\":\"ballCarrier\",\"orientation\":\"v\",\"showlegend\":true,\"x\":[44.94],\"xaxis\":\"x\",\"y\":[13.32],\"yaxis\":\"y\",\"type\":\"scatter\"},{\"hovertemplate\":\"\\u003cb\\u003e%{hovertext}\\u003c\\u002fb\\u003e\\u003cbr\\u003e\\u003cbr\\u003ePlayer of Interest=Tackle\\u003cbr\\u003eframeId=21\\u003cbr\\u003ex=%{x}\\u003cbr\\u003ey=%{y}\\u003cextra\\u003e\\u003c\\u002fextra\\u003e\",\"hovertext\":[\"Ernest Jones\"],\"legendgroup\":\"Tackle\",\"marker\":{\"color\":\"red\",\"symbol\":\"circle\"},\"mode\":\"markers\",\"name\":\"Tackle\",\"orientation\":\"v\",\"showlegend\":true,\"x\":[45.81],\"xaxis\":\"x\",\"y\":[13.54],\"yaxis\":\"y\",\"type\":\"scatter\"},{\"hovertemplate\":\"\\u003cb\\u003e%{hovertext}\\u003c\\u002fb\\u003e\\u003cbr\\u003e\\u003cbr\\u003ePlayer of Interest=football\\u003cbr\\u003eframeId=21\\u003cbr\\u003ex=%{x}\\u003cbr\\u003ey=%{y}\\u003cextra\\u003e\\u003c\\u002fextra\\u003e\",\"hovertext\":[\"football\"],\"legendgroup\":\"football\",\"marker\":{\"color\":\"#825736\",\"symbol\":\"circle\"},\"mode\":\"markers\",\"name\":\"football\",\"orientation\":\"v\",\"showlegend\":true,\"x\":[null],\"xaxis\":\"x\",\"y\":[null],\"yaxis\":\"y\",\"type\":\"scatter\"}],\"name\":\"21\"},{\"data\":[{\"hovertemplate\":\"\\u003cb\\u003e%{hovertext}\\u003c\\u002fb\\u003e\\u003cbr\\u003e\\u003cbr\\u003ePlayer of Interest=Offense\\u003cbr\\u003eframeId=22\\u003cbr\\u003ex=%{x}\\u003cbr\\u003ey=%{y}\\u003cextra\\u003e\\u003c\\u002fextra\\u003e\",\"hovertext\":[\"Rodger Saffold\",\"Mitch Morse\",\"Stefon Diggs\",\"Dion Dawkins\",\"Isaiah McKenzie\",\"Devin Singletary\",\"Dawson Knox\",\"Ryan Bates\",\"Gabe Davis\",\"Spencer Brown\"],\"legendgroup\":\"Offense\",\"marker\":{\"color\":\"cornsilk\",\"symbol\":\"circle\"},\"mode\":\"markers\",\"name\":\"Offense\",\"orientation\":\"v\",\"showlegend\":true,\"x\":[38.05,41.900000000000006,55.06999999999999,39.81999999999999,49.370000000000005,41.269999999999996,49.44,36.849999999999994,50.84,37.7],\"xaxis\":\"x\",\"y\":[26.449999999999996,17.769999999999996,21.129999999999995,27.159999999999997,45.48,3.009999999999998,19.689999999999998,20.739999999999995,33.209999999999994,18.489999999999995],\"yaxis\":\"y\",\"type\":\"scatter\"},{\"hovertemplate\":\"\\u003cb\\u003e%{hovertext}\\u003c\\u002fb\\u003e\\u003cbr\\u003e\\u003cbr\\u003ePlayer of Interest=Defense\\u003cbr\\u003eframeId=22\\u003cbr\\u003ex=%{x}\\u003cbr\\u003ey=%{y}\\u003cextra\\u003e\\u003c\\u002fextra\\u003e\",\"hovertext\":[\"Bobby Wagner\",\"Aaron Donald\",\"Troy Hill\",\"Jalen Ramsey\",\"Leonard Floyd\",\"A'Shawn Robinson\",\"Taylor Rapp\",\"Greg Gaines\",\"Nick Scott\",\"Jordan Fuller\"],\"legendgroup\":\"Defense\",\"marker\":{\"color\":\"lightblue\",\"symbol\":\"circle\"},\"mode\":\"markers\",\"name\":\"Defense\",\"orientation\":\"v\",\"showlegend\":true,\"x\":[49.47,32.94,56.36,47.7,42.489999999999995,43.0,51.81,44.94,56.32,53.53],\"xaxis\":\"x\",\"y\":[20.18,21.639999999999997,33.15,8.219999999999999,13.779999999999994,25.509999999999998,44.879999999999995,14.589999999999996,19.259999999999998,13.199999999999996],\"yaxis\":\"y\",\"type\":\"scatter\"},{\"hovertemplate\":\"\\u003cb\\u003e%{hovertext}\\u003c\\u002fb\\u003e\\u003cbr\\u003e\\u003cbr\\u003ePlayer of Interest=ballCarrier\\u003cbr\\u003eframeId=22\\u003cbr\\u003ex=%{x}\\u003cbr\\u003ey=%{y}\\u003cextra\\u003e\\u003c\\u002fextra\\u003e\",\"hovertext\":[\"Josh Allen\"],\"legendgroup\":\"ballCarrier\",\"marker\":{\"color\":\"lime\",\"symbol\":\"circle\"},\"mode\":\"markers\",\"name\":\"ballCarrier\",\"orientation\":\"v\",\"showlegend\":true,\"x\":[45.400000000000006],\"xaxis\":\"x\",\"y\":[12.75],\"yaxis\":\"y\",\"type\":\"scatter\"},{\"hovertemplate\":\"\\u003cb\\u003e%{hovertext}\\u003c\\u002fb\\u003e\\u003cbr\\u003e\\u003cbr\\u003ePlayer of Interest=Tackle\\u003cbr\\u003eframeId=22\\u003cbr\\u003ex=%{x}\\u003cbr\\u003ey=%{y}\\u003cextra\\u003e\\u003c\\u002fextra\\u003e\",\"hovertext\":[\"Ernest Jones\"],\"legendgroup\":\"Tackle\",\"marker\":{\"color\":\"red\",\"symbol\":\"circle\"},\"mode\":\"markers\",\"name\":\"Tackle\",\"orientation\":\"v\",\"showlegend\":true,\"x\":[46.0],\"xaxis\":\"x\",\"y\":[13.04],\"yaxis\":\"y\",\"type\":\"scatter\"},{\"hovertemplate\":\"\\u003cb\\u003e%{hovertext}\\u003c\\u002fb\\u003e\\u003cbr\\u003e\\u003cbr\\u003ePlayer of Interest=football\\u003cbr\\u003eframeId=22\\u003cbr\\u003ex=%{x}\\u003cbr\\u003ey=%{y}\\u003cextra\\u003e\\u003c\\u002fextra\\u003e\",\"hovertext\":[\"football\"],\"legendgroup\":\"football\",\"marker\":{\"color\":\"#825736\",\"symbol\":\"circle\"},\"mode\":\"markers\",\"name\":\"football\",\"orientation\":\"v\",\"showlegend\":true,\"x\":[null],\"xaxis\":\"x\",\"y\":[null],\"yaxis\":\"y\",\"type\":\"scatter\"}],\"name\":\"22\"},{\"data\":[{\"hovertemplate\":\"\\u003cb\\u003e%{hovertext}\\u003c\\u002fb\\u003e\\u003cbr\\u003e\\u003cbr\\u003ePlayer of Interest=Offense\\u003cbr\\u003eframeId=23\\u003cbr\\u003ex=%{x}\\u003cbr\\u003ey=%{y}\\u003cextra\\u003e\\u003c\\u002fextra\\u003e\",\"hovertext\":[\"Rodger Saffold\",\"Mitch Morse\",\"Stefon Diggs\",\"Dion Dawkins\",\"Isaiah McKenzie\",\"Devin Singletary\",\"Dawson Knox\",\"Ryan Bates\",\"Gabe Davis\",\"Spencer Brown\"],\"legendgroup\":\"Offense\",\"marker\":{\"color\":\"cornsilk\",\"symbol\":\"circle\"},\"mode\":\"markers\",\"name\":\"Offense\",\"orientation\":\"v\",\"showlegend\":true,\"x\":[38.2,42.230000000000004,55.05,40.03,49.36,41.650000000000006,49.739999999999995,37.19,50.92,38.019999999999996],\"xaxis\":\"x\",\"y\":[26.33,17.4,20.849999999999994,26.959999999999997,45.339999999999996,3.0,19.4,20.489999999999995,32.87,18.25],\"yaxis\":\"y\",\"type\":\"scatter\"},{\"hovertemplate\":\"\\u003cb\\u003e%{hovertext}\\u003c\\u002fb\\u003e\\u003cbr\\u003e\\u003cbr\\u003ePlayer of Interest=Defense\\u003cbr\\u003eframeId=23\\u003cbr\\u003ex=%{x}\\u003cbr\\u003ey=%{y}\\u003cextra\\u003e\\u003c\\u002fextra\\u003e\",\"hovertext\":[\"Bobby Wagner\",\"Aaron Donald\",\"Troy Hill\",\"Jalen Ramsey\",\"Leonard Floyd\",\"A'Shawn Robinson\",\"Taylor Rapp\",\"Greg Gaines\",\"Nick Scott\",\"Jordan Fuller\"],\"legendgroup\":\"Defense\",\"marker\":{\"color\":\"lightblue\",\"symbol\":\"circle\"},\"mode\":\"markers\",\"name\":\"Defense\",\"orientation\":\"v\",\"showlegend\":true,\"x\":[49.68000000000001,33.099999999999994,56.29,47.78,42.959999999999994,43.3,51.650000000000006,45.370000000000005,55.989999999999995,53.19],\"xaxis\":\"x\",\"y\":[19.769999999999996,21.439999999999998,32.56,8.349999999999994,13.309999999999995,25.229999999999997,44.669999999999995,14.089999999999996,18.729999999999997,12.759999999999998],\"yaxis\":\"y\",\"type\":\"scatter\"},{\"hovertemplate\":\"\\u003cb\\u003e%{hovertext}\\u003c\\u002fb\\u003e\\u003cbr\\u003e\\u003cbr\\u003ePlayer of Interest=ballCarrier\\u003cbr\\u003eframeId=23\\u003cbr\\u003ex=%{x}\\u003cbr\\u003ey=%{y}\\u003cextra\\u003e\\u003c\\u002fextra\\u003e\",\"hovertext\":[\"Josh Allen\"],\"legendgroup\":\"ballCarrier\",\"marker\":{\"color\":\"lime\",\"symbol\":\"circle\"},\"mode\":\"markers\",\"name\":\"ballCarrier\",\"orientation\":\"v\",\"showlegend\":true,\"x\":[45.83],\"xaxis\":\"x\",\"y\":[12.199999999999996],\"yaxis\":\"y\",\"type\":\"scatter\"},{\"hovertemplate\":\"\\u003cb\\u003e%{hovertext}\\u003c\\u002fb\\u003e\\u003cbr\\u003e\\u003cbr\\u003ePlayer of Interest=Tackle\\u003cbr\\u003eframeId=23\\u003cbr\\u003ex=%{x}\\u003cbr\\u003ey=%{y}\\u003cextra\\u003e\\u003c\\u002fextra\\u003e\",\"hovertext\":[\"Ernest Jones\"],\"legendgroup\":\"Tackle\",\"marker\":{\"color\":\"red\",\"symbol\":\"circle\"},\"mode\":\"markers\",\"name\":\"Tackle\",\"orientation\":\"v\",\"showlegend\":true,\"x\":[46.22],\"xaxis\":\"x\",\"y\":[12.549999999999997],\"yaxis\":\"y\",\"type\":\"scatter\"},{\"hovertemplate\":\"\\u003cb\\u003e%{hovertext}\\u003c\\u002fb\\u003e\\u003cbr\\u003e\\u003cbr\\u003ePlayer of Interest=football\\u003cbr\\u003eframeId=23\\u003cbr\\u003ex=%{x}\\u003cbr\\u003ey=%{y}\\u003cextra\\u003e\\u003c\\u002fextra\\u003e\",\"hovertext\":[\"football\"],\"legendgroup\":\"football\",\"marker\":{\"color\":\"#825736\",\"symbol\":\"circle\"},\"mode\":\"markers\",\"name\":\"football\",\"orientation\":\"v\",\"showlegend\":true,\"x\":[null],\"xaxis\":\"x\",\"y\":[null],\"yaxis\":\"y\",\"type\":\"scatter\"}],\"name\":\"23\"},{\"data\":[{\"hovertemplate\":\"\\u003cb\\u003e%{hovertext}\\u003c\\u002fb\\u003e\\u003cbr\\u003e\\u003cbr\\u003ePlayer of Interest=Offense\\u003cbr\\u003eframeId=24\\u003cbr\\u003ex=%{x}\\u003cbr\\u003ey=%{y}\\u003cextra\\u003e\\u003c\\u002fextra\\u003e\",\"hovertext\":[\"Rodger Saffold\",\"Mitch Morse\",\"Stefon Diggs\",\"Dion Dawkins\",\"Isaiah McKenzie\",\"Devin Singletary\",\"Dawson Knox\",\"Ryan Bates\",\"Gabe Davis\",\"Spencer Brown\"],\"legendgroup\":\"Offense\",\"marker\":{\"color\":\"cornsilk\",\"symbol\":\"circle\"},\"mode\":\"markers\",\"name\":\"Offense\",\"orientation\":\"v\",\"showlegend\":true,\"x\":[38.349999999999994,42.56999999999999,55.010000000000005,40.25,49.349999999999994,42.03,50.019999999999996,37.540000000000006,51.0,38.34],\"xaxis\":\"x\",\"y\":[26.209999999999997,17.019999999999996,20.599999999999994,26.769999999999996,45.199999999999996,3.019999999999996,19.099999999999994,20.229999999999997,32.53,18.019999999999996],\"yaxis\":\"y\",\"type\":\"scatter\"},{\"hovertemplate\":\"\\u003cb\\u003e%{hovertext}\\u003c\\u002fb\\u003e\\u003cbr\\u003e\\u003cbr\\u003ePlayer of Interest=Defense\\u003cbr\\u003eframeId=24\\u003cbr\\u003ex=%{x}\\u003cbr\\u003ey=%{y}\\u003cextra\\u003e\\u003c\\u002fextra\\u003e\",\"hovertext\":[\"Bobby Wagner\",\"Aaron Donald\",\"Troy Hill\",\"Jalen Ramsey\",\"Leonard Floyd\",\"A'Shawn Robinson\",\"Taylor Rapp\",\"Greg Gaines\",\"Nick Scott\",\"Jordan Fuller\"],\"legendgroup\":\"Defense\",\"marker\":{\"color\":\"lightblue\",\"symbol\":\"circle\"},\"mode\":\"markers\",\"name\":\"Defense\",\"orientation\":\"v\",\"showlegend\":true,\"x\":[49.89,33.260000000000005,56.22,47.849999999999994,43.41,43.59,51.5,45.81,55.67,52.86],\"xaxis\":\"x\",\"y\":[19.39,21.25,31.97,8.479999999999997,12.839999999999996,24.959999999999997,44.449999999999996,13.61,18.209999999999994,12.32],\"yaxis\":\"y\",\"type\":\"scatter\"},{\"hovertemplate\":\"\\u003cb\\u003e%{hovertext}\\u003c\\u002fb\\u003e\\u003cbr\\u003e\\u003cbr\\u003ePlayer of Interest=ballCarrier\\u003cbr\\u003eframeId=24\\u003cbr\\u003ex=%{x}\\u003cbr\\u003ey=%{y}\\u003cextra\\u003e\\u003c\\u002fextra\\u003e\",\"hovertext\":[\"Josh Allen\"],\"legendgroup\":\"ballCarrier\",\"marker\":{\"color\":\"lime\",\"symbol\":\"circle\"},\"mode\":\"markers\",\"name\":\"ballCarrier\",\"orientation\":\"v\",\"showlegend\":true,\"x\":[46.25],\"xaxis\":\"x\",\"y\":[11.669999999999995],\"yaxis\":\"y\",\"type\":\"scatter\"},{\"hovertemplate\":\"\\u003cb\\u003e%{hovertext}\\u003c\\u002fb\\u003e\\u003cbr\\u003e\\u003cbr\\u003ePlayer of Interest=Tackle\\u003cbr\\u003eframeId=24\\u003cbr\\u003ex=%{x}\\u003cbr\\u003ey=%{y}\\u003cextra\\u003e\\u003c\\u002fextra\\u003e\",\"hovertext\":[\"Ernest Jones\"],\"legendgroup\":\"Tackle\",\"marker\":{\"color\":\"red\",\"symbol\":\"circle\"},\"mode\":\"markers\",\"name\":\"Tackle\",\"orientation\":\"v\",\"showlegend\":true,\"x\":[46.459999999999994],\"xaxis\":\"x\",\"y\":[12.049999999999997],\"yaxis\":\"y\",\"type\":\"scatter\"},{\"hovertemplate\":\"\\u003cb\\u003e%{hovertext}\\u003c\\u002fb\\u003e\\u003cbr\\u003e\\u003cbr\\u003ePlayer of Interest=football\\u003cbr\\u003eframeId=24\\u003cbr\\u003ex=%{x}\\u003cbr\\u003ey=%{y}\\u003cextra\\u003e\\u003c\\u002fextra\\u003e\",\"hovertext\":[\"football\"],\"legendgroup\":\"football\",\"marker\":{\"color\":\"#825736\",\"symbol\":\"circle\"},\"mode\":\"markers\",\"name\":\"football\",\"orientation\":\"v\",\"showlegend\":true,\"x\":[null],\"xaxis\":\"x\",\"y\":[null],\"yaxis\":\"y\",\"type\":\"scatter\"}],\"name\":\"24\"},{\"data\":[{\"hovertemplate\":\"\\u003cb\\u003e%{hovertext}\\u003c\\u002fb\\u003e\\u003cbr\\u003e\\u003cbr\\u003ePlayer of Interest=Offense\\u003cbr\\u003eframeId=25\\u003cbr\\u003ex=%{x}\\u003cbr\\u003ey=%{y}\\u003cextra\\u003e\\u003c\\u002fextra\\u003e\",\"hovertext\":[\"Rodger Saffold\",\"Mitch Morse\",\"Stefon Diggs\",\"Dion Dawkins\",\"Isaiah McKenzie\",\"Devin Singletary\",\"Dawson Knox\",\"Ryan Bates\",\"Gabe Davis\",\"Spencer Brown\"],\"legendgroup\":\"Offense\",\"marker\":{\"color\":\"cornsilk\",\"symbol\":\"circle\"},\"mode\":\"markers\",\"name\":\"Offense\",\"orientation\":\"v\",\"showlegend\":true,\"x\":[38.519999999999996,42.92,54.97,40.47,49.33,42.41,50.269999999999996,37.92,51.06999999999999,38.66],\"xaxis\":\"x\",\"y\":[26.099999999999998,16.629999999999995,20.39,26.589999999999996,45.059999999999995,3.0700000000000003,18.779999999999994,20.0,32.19,17.79],\"yaxis\":\"y\",\"type\":\"scatter\"},{\"hovertemplate\":\"\\u003cb\\u003e%{hovertext}\\u003c\\u002fb\\u003e\\u003cbr\\u003e\\u003cbr\\u003ePlayer of Interest=Defense\\u003cbr\\u003eframeId=25\\u003cbr\\u003ex=%{x}\\u003cbr\\u003ey=%{y}\\u003cextra\\u003e\\u003c\\u002fextra\\u003e\",\"hovertext\":[\"Bobby Wagner\",\"Aaron Donald\",\"Troy Hill\",\"Jalen Ramsey\",\"Leonard Floyd\",\"A'Shawn Robinson\",\"Taylor Rapp\",\"Greg Gaines\",\"Nick Scott\",\"Jordan Fuller\"],\"legendgroup\":\"Defense\",\"marker\":{\"color\":\"lightblue\",\"symbol\":\"circle\"},\"mode\":\"markers\",\"name\":\"Defense\",\"orientation\":\"v\",\"showlegend\":true,\"x\":[50.120000000000005,33.43000000000001,56.16,47.91,43.84,43.89,51.379999999999995,46.239999999999995,55.370000000000005,52.56999999999999],\"xaxis\":\"x\",\"y\":[19.04,21.07,31.379999999999995,8.589999999999996,12.379999999999995,24.689999999999998,44.199999999999996,13.14,17.689999999999998,11.89],\"yaxis\":\"y\",\"type\":\"scatter\"},{\"hovertemplate\":\"\\u003cb\\u003e%{hovertext}\\u003c\\u002fb\\u003e\\u003cbr\\u003e\\u003cbr\\u003ePlayer of Interest=ballCarrier\\u003cbr\\u003eframeId=25\\u003cbr\\u003ex=%{x}\\u003cbr\\u003ey=%{y}\\u003cextra\\u003e\\u003c\\u002fextra\\u003e\",\"hovertext\":[\"Josh Allen\"],\"legendgroup\":\"ballCarrier\",\"marker\":{\"color\":\"lime\",\"symbol\":\"circle\"},\"mode\":\"markers\",\"name\":\"ballCarrier\",\"orientation\":\"v\",\"showlegend\":true,\"x\":[46.620000000000005],\"xaxis\":\"x\",\"y\":[11.169999999999995],\"yaxis\":\"y\",\"type\":\"scatter\"},{\"hovertemplate\":\"\\u003cb\\u003e%{hovertext}\\u003c\\u002fb\\u003e\\u003cbr\\u003e\\u003cbr\\u003ePlayer of Interest=Tackle\\u003cbr\\u003eframeId=25\\u003cbr\\u003ex=%{x}\\u003cbr\\u003ey=%{y}\\u003cextra\\u003e\\u003c\\u002fextra\\u003e\",\"hovertext\":[\"Ernest Jones\"],\"legendgroup\":\"Tackle\",\"marker\":{\"color\":\"red\",\"symbol\":\"circle\"},\"mode\":\"markers\",\"name\":\"Tackle\",\"orientation\":\"v\",\"showlegend\":true,\"x\":[46.739999999999995],\"xaxis\":\"x\",\"y\":[11.549999999999997],\"yaxis\":\"y\",\"type\":\"scatter\"},{\"hovertemplate\":\"\\u003cb\\u003e%{hovertext}\\u003c\\u002fb\\u003e\\u003cbr\\u003e\\u003cbr\\u003ePlayer of Interest=football\\u003cbr\\u003eframeId=25\\u003cbr\\u003ex=%{x}\\u003cbr\\u003ey=%{y}\\u003cextra\\u003e\\u003c\\u002fextra\\u003e\",\"hovertext\":[\"football\"],\"legendgroup\":\"football\",\"marker\":{\"color\":\"#825736\",\"symbol\":\"circle\"},\"mode\":\"markers\",\"name\":\"football\",\"orientation\":\"v\",\"showlegend\":true,\"x\":[null],\"xaxis\":\"x\",\"y\":[null],\"yaxis\":\"y\",\"type\":\"scatter\"}],\"name\":\"25\"},{\"data\":[{\"hovertemplate\":\"\\u003cb\\u003e%{hovertext}\\u003c\\u002fb\\u003e\\u003cbr\\u003e\\u003cbr\\u003ePlayer of Interest=Offense\\u003cbr\\u003eframeId=26\\u003cbr\\u003ex=%{x}\\u003cbr\\u003ey=%{y}\\u003cextra\\u003e\\u003c\\u002fextra\\u003e\",\"hovertext\":[\"Rodger Saffold\",\"Mitch Morse\",\"Stefon Diggs\",\"Dion Dawkins\",\"Isaiah McKenzie\",\"Devin Singletary\",\"Dawson Knox\",\"Ryan Bates\",\"Gabe Davis\",\"Spencer Brown\"],\"legendgroup\":\"Offense\",\"marker\":{\"color\":\"cornsilk\",\"symbol\":\"circle\"},\"mode\":\"markers\",\"name\":\"Offense\",\"orientation\":\"v\",\"showlegend\":true,\"x\":[38.68000000000001,43.269999999999996,54.92,40.68000000000001,49.31,42.78,50.5,38.269999999999996,51.129999999999995,38.980000000000004],\"xaxis\":\"x\",\"y\":[25.99,16.259999999999998,20.199999999999996,26.409999999999997,44.91,3.1499999999999986,18.449999999999996,19.769999999999996,31.849999999999998,17.549999999999997],\"yaxis\":\"y\",\"type\":\"scatter\"},{\"hovertemplate\":\"\\u003cb\\u003e%{hovertext}\\u003c\\u002fb\\u003e\\u003cbr\\u003e\\u003cbr\\u003ePlayer of Interest=Defense\\u003cbr\\u003eframeId=26\\u003cbr\\u003ex=%{x}\\u003cbr\\u003ey=%{y}\\u003cextra\\u003e\\u003c\\u002fextra\\u003e\",\"hovertext\":[\"Bobby Wagner\",\"Aaron Donald\",\"Troy Hill\",\"Jalen Ramsey\",\"Leonard Floyd\",\"A'Shawn Robinson\",\"Taylor Rapp\",\"Greg Gaines\",\"Nick Scott\",\"Jordan Fuller\"],\"legendgroup\":\"Defense\",\"marker\":{\"color\":\"lightblue\",\"symbol\":\"circle\"},\"mode\":\"markers\",\"name\":\"Defense\",\"orientation\":\"v\",\"showlegend\":true,\"x\":[50.349999999999994,33.61,56.11,47.959999999999994,44.25,44.16,51.269999999999996,46.66,55.08,52.290000000000006],\"xaxis\":\"x\",\"y\":[18.709999999999994,20.909999999999997,30.799999999999997,8.689999999999998,11.93,24.429999999999996,43.949999999999996,12.709999999999994,17.189999999999998,11.479999999999997],\"yaxis\":\"y\",\"type\":\"scatter\"},{\"hovertemplate\":\"\\u003cb\\u003e%{hovertext}\\u003c\\u002fb\\u003e\\u003cbr\\u003e\\u003cbr\\u003ePlayer of Interest=ballCarrier\\u003cbr\\u003eframeId=26\\u003cbr\\u003ex=%{x}\\u003cbr\\u003ey=%{y}\\u003cextra\\u003e\\u003c\\u002fextra\\u003e\",\"hovertext\":[\"Josh Allen\"],\"legendgroup\":\"ballCarrier\",\"marker\":{\"color\":\"lime\",\"symbol\":\"circle\"},\"mode\":\"markers\",\"name\":\"ballCarrier\",\"orientation\":\"v\",\"showlegend\":true,\"x\":[46.900000000000006],\"xaxis\":\"x\",\"y\":[10.729999999999997],\"yaxis\":\"y\",\"type\":\"scatter\"},{\"hovertemplate\":\"\\u003cb\\u003e%{hovertext}\\u003c\\u002fb\\u003e\\u003cbr\\u003e\\u003cbr\\u003ePlayer of Interest=Tackle\\u003cbr\\u003eframeId=26\\u003cbr\\u003ex=%{x}\\u003cbr\\u003ey=%{y}\\u003cextra\\u003e\\u003c\\u002fextra\\u003e\",\"hovertext\":[\"Ernest Jones\"],\"legendgroup\":\"Tackle\",\"marker\":{\"color\":\"red\",\"symbol\":\"circle\"},\"mode\":\"markers\",\"name\":\"Tackle\",\"orientation\":\"v\",\"showlegend\":true,\"x\":[47.040000000000006],\"xaxis\":\"x\",\"y\":[11.07],\"yaxis\":\"y\",\"type\":\"scatter\"},{\"hovertemplate\":\"\\u003cb\\u003e%{hovertext}\\u003c\\u002fb\\u003e\\u003cbr\\u003e\\u003cbr\\u003ePlayer of Interest=football\\u003cbr\\u003eframeId=26\\u003cbr\\u003ex=%{x}\\u003cbr\\u003ey=%{y}\\u003cextra\\u003e\\u003c\\u002fextra\\u003e\",\"hovertext\":[\"football\"],\"legendgroup\":\"football\",\"marker\":{\"color\":\"#825736\",\"symbol\":\"circle\"},\"mode\":\"markers\",\"name\":\"football\",\"orientation\":\"v\",\"showlegend\":true,\"x\":[null],\"xaxis\":\"x\",\"y\":[null],\"yaxis\":\"y\",\"type\":\"scatter\"}],\"name\":\"26\"},{\"data\":[{\"hovertemplate\":\"\\u003cb\\u003e%{hovertext}\\u003c\\u002fb\\u003e\\u003cbr\\u003e\\u003cbr\\u003ePlayer of Interest=Offense\\u003cbr\\u003eframeId=27\\u003cbr\\u003ex=%{x}\\u003cbr\\u003ey=%{y}\\u003cextra\\u003e\\u003c\\u002fextra\\u003e\",\"hovertext\":[\"Rodger Saffold\",\"Mitch Morse\",\"Stefon Diggs\",\"Dion Dawkins\",\"Isaiah McKenzie\",\"Devin Singletary\",\"Dawson Knox\",\"Ryan Bates\",\"Gabe Davis\",\"Spencer Brown\"],\"legendgroup\":\"Offense\",\"marker\":{\"color\":\"cornsilk\",\"symbol\":\"circle\"},\"mode\":\"markers\",\"name\":\"Offense\",\"orientation\":\"v\",\"showlegend\":true,\"x\":[38.83,43.61,54.86,40.89,49.28,43.150000000000006,50.709999999999994,38.64,51.17,39.3],\"xaxis\":\"x\",\"y\":[25.879999999999995,15.89,20.029999999999994,26.24,44.769999999999996,3.259999999999998,18.119999999999997,19.549999999999997,31.529999999999998,17.309999999999995],\"yaxis\":\"y\",\"type\":\"scatter\"},{\"hovertemplate\":\"\\u003cb\\u003e%{hovertext}\\u003c\\u002fb\\u003e\\u003cbr\\u003e\\u003cbr\\u003ePlayer of Interest=Defense\\u003cbr\\u003eframeId=27\\u003cbr\\u003ex=%{x}\\u003cbr\\u003ey=%{y}\\u003cextra\\u003e\\u003c\\u002fextra\\u003e\",\"hovertext\":[\"Bobby Wagner\",\"Aaron Donald\",\"Troy Hill\",\"Jalen Ramsey\",\"Leonard Floyd\",\"A'Shawn Robinson\",\"Taylor Rapp\",\"Greg Gaines\",\"Nick Scott\",\"Jordan Fuller\"],\"legendgroup\":\"Defense\",\"marker\":{\"color\":\"lightblue\",\"symbol\":\"circle\"},\"mode\":\"markers\",\"name\":\"Defense\",\"orientation\":\"v\",\"showlegend\":true,\"x\":[50.58,33.769999999999996,56.06,48.0,44.64,44.43000000000001,51.19,47.08,54.81999999999999,52.05],\"xaxis\":\"x\",\"y\":[18.419999999999995,20.75,30.22,8.75,11.5,24.179999999999996,43.69,12.309999999999995,16.689999999999998,11.089999999999996],\"yaxis\":\"y\",\"type\":\"scatter\"},{\"hovertemplate\":\"\\u003cb\\u003e%{hovertext}\\u003c\\u002fb\\u003e\\u003cbr\\u003e\\u003cbr\\u003ePlayer of Interest=ballCarrier\\u003cbr\\u003eframeId=27\\u003cbr\\u003ex=%{x}\\u003cbr\\u003ey=%{y}\\u003cextra\\u003e\\u003c\\u002fextra\\u003e\",\"hovertext\":[\"Josh Allen\"],\"legendgroup\":\"ballCarrier\",\"marker\":{\"color\":\"lime\",\"symbol\":\"circle\"},\"mode\":\"markers\",\"name\":\"ballCarrier\",\"orientation\":\"v\",\"showlegend\":true,\"x\":[47.16],\"xaxis\":\"x\",\"y\":[10.309999999999995],\"yaxis\":\"y\",\"type\":\"scatter\"},{\"hovertemplate\":\"\\u003cb\\u003e%{hovertext}\\u003c\\u002fb\\u003e\\u003cbr\\u003e\\u003cbr\\u003ePlayer of Interest=Tackle\\u003cbr\\u003eframeId=27\\u003cbr\\u003ex=%{x}\\u003cbr\\u003ey=%{y}\\u003cextra\\u003e\\u003c\\u002fextra\\u003e\",\"hovertext\":[\"Ernest Jones\"],\"legendgroup\":\"Tackle\",\"marker\":{\"color\":\"red\",\"symbol\":\"circle\"},\"mode\":\"markers\",\"name\":\"Tackle\",\"orientation\":\"v\",\"showlegend\":true,\"x\":[47.33],\"xaxis\":\"x\",\"y\":[10.619999999999997],\"yaxis\":\"y\",\"type\":\"scatter\"},{\"hovertemplate\":\"\\u003cb\\u003e%{hovertext}\\u003c\\u002fb\\u003e\\u003cbr\\u003e\\u003cbr\\u003ePlayer of Interest=football\\u003cbr\\u003eframeId=27\\u003cbr\\u003ex=%{x}\\u003cbr\\u003ey=%{y}\\u003cextra\\u003e\\u003c\\u002fextra\\u003e\",\"hovertext\":[\"football\"],\"legendgroup\":\"football\",\"marker\":{\"color\":\"#825736\",\"symbol\":\"circle\"},\"mode\":\"markers\",\"name\":\"football\",\"orientation\":\"v\",\"showlegend\":true,\"x\":[null],\"xaxis\":\"x\",\"y\":[null],\"yaxis\":\"y\",\"type\":\"scatter\"}],\"name\":\"27\"},{\"data\":[{\"hovertemplate\":\"\\u003cb\\u003e%{hovertext}\\u003c\\u002fb\\u003e\\u003cbr\\u003e\\u003cbr\\u003ePlayer of Interest=Offense\\u003cbr\\u003eframeId=28\\u003cbr\\u003ex=%{x}\\u003cbr\\u003ey=%{y}\\u003cextra\\u003e\\u003c\\u002fextra\\u003e\",\"hovertext\":[\"Rodger Saffold\",\"Mitch Morse\",\"Stefon Diggs\",\"Dion Dawkins\",\"Isaiah McKenzie\",\"Devin Singletary\",\"Dawson Knox\",\"Ryan Bates\",\"Gabe Davis\",\"Spencer Brown\"],\"legendgroup\":\"Offense\",\"marker\":{\"color\":\"cornsilk\",\"symbol\":\"circle\"},\"mode\":\"markers\",\"name\":\"Offense\",\"orientation\":\"v\",\"showlegend\":true,\"x\":[38.97,43.959999999999994,54.790000000000006,41.09,49.239999999999995,43.519999999999996,50.91,39.0,51.209999999999994,39.61],\"xaxis\":\"x\",\"y\":[25.769999999999996,15.509999999999998,19.879999999999995,26.08,44.62,3.3999999999999986,17.79,19.33,31.22,17.08],\"yaxis\":\"y\",\"type\":\"scatter\"},{\"hovertemplate\":\"\\u003cb\\u003e%{hovertext}\\u003c\\u002fb\\u003e\\u003cbr\\u003e\\u003cbr\\u003ePlayer of Interest=Defense\\u003cbr\\u003eframeId=28\\u003cbr\\u003ex=%{x}\\u003cbr\\u003ey=%{y}\\u003cextra\\u003e\\u003c\\u002fextra\\u003e\",\"hovertext\":[\"Bobby Wagner\",\"Aaron Donald\",\"Troy Hill\",\"Jalen Ramsey\",\"Leonard Floyd\",\"A'Shawn Robinson\",\"Taylor Rapp\",\"Greg Gaines\",\"Nick Scott\",\"Jordan Fuller\"],\"legendgroup\":\"Defense\",\"marker\":{\"color\":\"lightblue\",\"symbol\":\"circle\"},\"mode\":\"markers\",\"name\":\"Defense\",\"orientation\":\"v\",\"showlegend\":true,\"x\":[50.790000000000006,33.94,56.02,48.010000000000005,45.0,44.68000000000001,51.120000000000005,47.480000000000004,54.56999999999999,51.83],\"xaxis\":\"x\",\"y\":[18.159999999999997,20.61,29.65,8.79,11.089999999999996,23.939999999999998,43.41,11.939999999999998,16.209999999999994,10.729999999999997],\"yaxis\":\"y\",\"type\":\"scatter\"},{\"hovertemplate\":\"\\u003cb\\u003e%{hovertext}\\u003c\\u002fb\\u003e\\u003cbr\\u003e\\u003cbr\\u003ePlayer of Interest=ballCarrier\\u003cbr\\u003eframeId=28\\u003cbr\\u003ex=%{x}\\u003cbr\\u003ey=%{y}\\u003cextra\\u003e\\u003c\\u002fextra\\u003e\",\"hovertext\":[\"Josh Allen\"],\"legendgroup\":\"ballCarrier\",\"marker\":{\"color\":\"lime\",\"symbol\":\"circle\"},\"mode\":\"markers\",\"name\":\"ballCarrier\",\"orientation\":\"v\",\"showlegend\":true,\"x\":[47.379999999999995],\"xaxis\":\"x\",\"y\":[9.909999999999997],\"yaxis\":\"y\",\"type\":\"scatter\"},{\"hovertemplate\":\"\\u003cb\\u003e%{hovertext}\\u003c\\u002fb\\u003e\\u003cbr\\u003e\\u003cbr\\u003ePlayer of Interest=Tackle\\u003cbr\\u003eframeId=28\\u003cbr\\u003ex=%{x}\\u003cbr\\u003ey=%{y}\\u003cextra\\u003e\\u003c\\u002fextra\\u003e\",\"hovertext\":[\"Ernest Jones\"],\"legendgroup\":\"Tackle\",\"marker\":{\"color\":\"red\",\"symbol\":\"circle\"},\"mode\":\"markers\",\"name\":\"Tackle\",\"orientation\":\"v\",\"showlegend\":true,\"x\":[47.620000000000005],\"xaxis\":\"x\",\"y\":[10.199999999999996],\"yaxis\":\"y\",\"type\":\"scatter\"},{\"hovertemplate\":\"\\u003cb\\u003e%{hovertext}\\u003c\\u002fb\\u003e\\u003cbr\\u003e\\u003cbr\\u003ePlayer of Interest=football\\u003cbr\\u003eframeId=28\\u003cbr\\u003ex=%{x}\\u003cbr\\u003ey=%{y}\\u003cextra\\u003e\\u003c\\u002fextra\\u003e\",\"hovertext\":[\"football\"],\"legendgroup\":\"football\",\"marker\":{\"color\":\"#825736\",\"symbol\":\"circle\"},\"mode\":\"markers\",\"name\":\"football\",\"orientation\":\"v\",\"showlegend\":true,\"x\":[null],\"xaxis\":\"x\",\"y\":[null],\"yaxis\":\"y\",\"type\":\"scatter\"}],\"name\":\"28\"},{\"data\":[{\"hovertemplate\":\"\\u003cb\\u003e%{hovertext}\\u003c\\u002fb\\u003e\\u003cbr\\u003e\\u003cbr\\u003ePlayer of Interest=Offense\\u003cbr\\u003eframeId=29\\u003cbr\\u003ex=%{x}\\u003cbr\\u003ey=%{y}\\u003cextra\\u003e\\u003c\\u002fextra\\u003e\",\"hovertext\":[\"Rodger Saffold\",\"Mitch Morse\",\"Stefon Diggs\",\"Dion Dawkins\",\"Isaiah McKenzie\",\"Devin Singletary\",\"Dawson Knox\",\"Ryan Bates\",\"Gabe Davis\",\"Spencer Brown\"],\"legendgroup\":\"Offense\",\"marker\":{\"color\":\"cornsilk\",\"symbol\":\"circle\"},\"mode\":\"markers\",\"name\":\"Offense\",\"orientation\":\"v\",\"showlegend\":true,\"x\":[39.129999999999995,44.3,54.709999999999994,41.3,49.2,43.879999999999995,51.099999999999994,39.379999999999995,51.239999999999995,39.92],\"xaxis\":\"x\",\"y\":[25.659999999999997,15.099999999999994,19.739999999999995,25.929999999999996,44.47,3.5700000000000003,17.509999999999998,19.099999999999994,30.919999999999998,16.839999999999996],\"yaxis\":\"y\",\"type\":\"scatter\"},{\"hovertemplate\":\"\\u003cb\\u003e%{hovertext}\\u003c\\u002fb\\u003e\\u003cbr\\u003e\\u003cbr\\u003ePlayer of Interest=Defense\\u003cbr\\u003eframeId=29\\u003cbr\\u003ex=%{x}\\u003cbr\\u003ey=%{y}\\u003cextra\\u003e\\u003c\\u002fextra\\u003e\",\"hovertext\":[\"Bobby Wagner\",\"Aaron Donald\",\"Troy Hill\",\"Jalen Ramsey\",\"Leonard Floyd\",\"A'Shawn Robinson\",\"Taylor Rapp\",\"Greg Gaines\",\"Nick Scott\",\"Jordan Fuller\"],\"legendgroup\":\"Defense\",\"marker\":{\"color\":\"lightblue\",\"symbol\":\"circle\"},\"mode\":\"markers\",\"name\":\"Defense\",\"orientation\":\"v\",\"showlegend\":true,\"x\":[51.0,34.11,55.989999999999995,48.019999999999996,45.33,44.93000000000001,51.06999999999999,47.879999999999995,54.34,51.629999999999995],\"xaxis\":\"x\",\"y\":[17.919999999999995,20.47,29.08,8.809999999999995,10.709999999999994,23.709999999999997,43.14,11.61,15.739999999999995,10.399999999999999],\"yaxis\":\"y\",\"type\":\"scatter\"},{\"hovertemplate\":\"\\u003cb\\u003e%{hovertext}\\u003c\\u002fb\\u003e\\u003cbr\\u003e\\u003cbr\\u003ePlayer of Interest=ballCarrier\\u003cbr\\u003eframeId=29\\u003cbr\\u003ex=%{x}\\u003cbr\\u003ey=%{y}\\u003cextra\\u003e\\u003c\\u002fextra\\u003e\",\"hovertext\":[\"Josh Allen\"],\"legendgroup\":\"ballCarrier\",\"marker\":{\"color\":\"lime\",\"symbol\":\"circle\"},\"mode\":\"markers\",\"name\":\"ballCarrier\",\"orientation\":\"v\",\"showlegend\":true,\"x\":[47.55],\"xaxis\":\"x\",\"y\":[9.559999999999995],\"yaxis\":\"y\",\"type\":\"scatter\"},{\"hovertemplate\":\"\\u003cb\\u003e%{hovertext}\\u003c\\u002fb\\u003e\\u003cbr\\u003e\\u003cbr\\u003ePlayer of Interest=Tackle\\u003cbr\\u003eframeId=29\\u003cbr\\u003ex=%{x}\\u003cbr\\u003ey=%{y}\\u003cextra\\u003e\\u003c\\u002fextra\\u003e\",\"hovertext\":[\"Ernest Jones\"],\"legendgroup\":\"Tackle\",\"marker\":{\"color\":\"red\",\"symbol\":\"circle\"},\"mode\":\"markers\",\"name\":\"Tackle\",\"orientation\":\"v\",\"showlegend\":true,\"x\":[47.89],\"xaxis\":\"x\",\"y\":[9.829999999999998],\"yaxis\":\"y\",\"type\":\"scatter\"},{\"hovertemplate\":\"\\u003cb\\u003e%{hovertext}\\u003c\\u002fb\\u003e\\u003cbr\\u003e\\u003cbr\\u003ePlayer of Interest=football\\u003cbr\\u003eframeId=29\\u003cbr\\u003ex=%{x}\\u003cbr\\u003ey=%{y}\\u003cextra\\u003e\\u003c\\u002fextra\\u003e\",\"hovertext\":[\"football\"],\"legendgroup\":\"football\",\"marker\":{\"color\":\"#825736\",\"symbol\":\"circle\"},\"mode\":\"markers\",\"name\":\"football\",\"orientation\":\"v\",\"showlegend\":true,\"x\":[null],\"xaxis\":\"x\",\"y\":[null],\"yaxis\":\"y\",\"type\":\"scatter\"}],\"name\":\"29\"},{\"data\":[{\"hovertemplate\":\"\\u003cb\\u003e%{hovertext}\\u003c\\u002fb\\u003e\\u003cbr\\u003e\\u003cbr\\u003ePlayer of Interest=Offense\\u003cbr\\u003eframeId=30\\u003cbr\\u003ex=%{x}\\u003cbr\\u003ey=%{y}\\u003cextra\\u003e\\u003c\\u002fextra\\u003e\",\"hovertext\":[\"Rodger Saffold\",\"Mitch Morse\",\"Stefon Diggs\",\"Dion Dawkins\",\"Isaiah McKenzie\",\"Devin Singletary\",\"Dawson Knox\",\"Ryan Bates\",\"Gabe Davis\",\"Spencer Brown\"],\"legendgroup\":\"Offense\",\"marker\":{\"color\":\"cornsilk\",\"symbol\":\"circle\"},\"mode\":\"markers\",\"name\":\"Offense\",\"orientation\":\"v\",\"showlegend\":true,\"x\":[39.269999999999996,44.61,54.629999999999995,41.5,49.150000000000006,44.22,51.239999999999995,39.739999999999995,51.260000000000005,40.239999999999995],\"xaxis\":\"x\",\"y\":[25.539999999999996,14.699999999999996,19.619999999999997,25.769999999999996,44.31999999999999,3.759999999999998,17.259999999999998,18.89,30.639999999999997,16.599999999999994],\"yaxis\":\"y\",\"type\":\"scatter\"},{\"hovertemplate\":\"\\u003cb\\u003e%{hovertext}\\u003c\\u002fb\\u003e\\u003cbr\\u003e\\u003cbr\\u003ePlayer of Interest=Defense\\u003cbr\\u003eframeId=30\\u003cbr\\u003ex=%{x}\\u003cbr\\u003ey=%{y}\\u003cextra\\u003e\\u003c\\u002fextra\\u003e\",\"hovertext\":[\"Bobby Wagner\",\"Aaron Donald\",\"Troy Hill\",\"Jalen Ramsey\",\"Leonard Floyd\",\"A'Shawn Robinson\",\"Taylor Rapp\",\"Greg Gaines\",\"Nick Scott\",\"Jordan Fuller\"],\"legendgroup\":\"Defense\",\"marker\":{\"color\":\"lightblue\",\"symbol\":\"circle\"},\"mode\":\"markers\",\"name\":\"Defense\",\"orientation\":\"v\",\"showlegend\":true,\"x\":[51.18000000000001,34.28,55.959999999999994,48.010000000000005,45.629999999999995,45.17,51.019999999999996,48.260000000000005,54.129999999999995,51.459999999999994],\"xaxis\":\"x\",\"y\":[17.72,20.339999999999996,28.519999999999996,8.799999999999997,10.36,23.49,42.849999999999994,11.309999999999995,15.29,10.099999999999994],\"yaxis\":\"y\",\"type\":\"scatter\"},{\"hovertemplate\":\"\\u003cb\\u003e%{hovertext}\\u003c\\u002fb\\u003e\\u003cbr\\u003e\\u003cbr\\u003ePlayer of Interest=ballCarrier\\u003cbr\\u003eframeId=30\\u003cbr\\u003ex=%{x}\\u003cbr\\u003ey=%{y}\\u003cextra\\u003e\\u003c\\u002fextra\\u003e\",\"hovertext\":[\"Josh Allen\"],\"legendgroup\":\"ballCarrier\",\"marker\":{\"color\":\"lime\",\"symbol\":\"circle\"},\"mode\":\"markers\",\"name\":\"ballCarrier\",\"orientation\":\"v\",\"showlegend\":true,\"x\":[47.67],\"xaxis\":\"x\",\"y\":[9.25],\"yaxis\":\"y\",\"type\":\"scatter\"},{\"hovertemplate\":\"\\u003cb\\u003e%{hovertext}\\u003c\\u002fb\\u003e\\u003cbr\\u003e\\u003cbr\\u003ePlayer of Interest=Tackle\\u003cbr\\u003eframeId=30\\u003cbr\\u003ex=%{x}\\u003cbr\\u003ey=%{y}\\u003cextra\\u003e\\u003c\\u002fextra\\u003e\",\"hovertext\":[\"Ernest Jones\"],\"legendgroup\":\"Tackle\",\"marker\":{\"color\":\"red\",\"symbol\":\"circle\"},\"mode\":\"markers\",\"name\":\"Tackle\",\"orientation\":\"v\",\"showlegend\":true,\"x\":[48.150000000000006],\"xaxis\":\"x\",\"y\":[9.519999999999996],\"yaxis\":\"y\",\"type\":\"scatter\"},{\"hovertemplate\":\"\\u003cb\\u003e%{hovertext}\\u003c\\u002fb\\u003e\\u003cbr\\u003e\\u003cbr\\u003ePlayer of Interest=football\\u003cbr\\u003eframeId=30\\u003cbr\\u003ex=%{x}\\u003cbr\\u003ey=%{y}\\u003cextra\\u003e\\u003c\\u002fextra\\u003e\",\"hovertext\":[\"football\"],\"legendgroup\":\"football\",\"marker\":{\"color\":\"#825736\",\"symbol\":\"circle\"},\"mode\":\"markers\",\"name\":\"football\",\"orientation\":\"v\",\"showlegend\":true,\"x\":[null],\"xaxis\":\"x\",\"y\":[null],\"yaxis\":\"y\",\"type\":\"scatter\"}],\"name\":\"30\"}]);\n",
       "                        }).then(function(){\n",
       "                            \n",
       "var gd = document.getElementById('87436d2c-f225-4283-b4b3-21430adc2d51');\n",
       "var x = new MutationObserver(function (mutations, observer) {{\n",
       "        var display = window.getComputedStyle(gd).display;\n",
       "        if (!display || display === 'none') {{\n",
       "            console.log([gd, 'removed!']);\n",
       "            Plotly.purge(gd);\n",
       "            observer.disconnect();\n",
       "        }}\n",
       "}});\n",
       "\n",
       "// Listen for the removal of the full notebook cells\n",
       "var notebookContainer = gd.closest('#notebook-container');\n",
       "if (notebookContainer) {{\n",
       "    x.observe(notebookContainer, {childList: true});\n",
       "}}\n",
       "\n",
       "// Listen for the clearing of the current output cell\n",
       "var outputEl = gd.closest('.output');\n",
       "if (outputEl) {{\n",
       "    x.observe(outputEl, {childList: true});\n",
       "}}\n",
       "\n",
       "                        })                };                });            </script>        </div>"
      ]
     },
     "metadata": {},
     "output_type": "display_data"
    }
   ],
   "source": [
    "#temp_data = data[data.Player of Interest != 'football']\n",
    "color_mapping = {\n",
    "    'Offense': 'cornsilk',\n",
    "    'Defense': 'lightblue',\n",
    "    'football': 'brown',\n",
    "    'Tackle': 'red',\n",
    "    'MissedTackle': 'gold',\n",
    "    'football':'#825736',\n",
    "    'ballCarrier': 'lime',\n",
    "    'assist':'darkorange',\n",
    "    'forcedFumble':'fuchsia'\n",
    "}\n",
    "\n",
    "fig = fig = px.scatter(data, x = 'x', y = 'y', range_x = [0,120], range_y = [0, 53.3],\n",
    "          color = 'Player of Interest', animation_frame = 'frameId', hover_name = 'displayName',\n",
    "          color_discrete_map=color_mapping, width=1000, height=565)\n",
    "\n",
    "fig = fig.add_vrect(x0=0, x1=10, fillcolor = 'gray')\n",
    "fig = fig.add_vrect(x0=110, x1=120, fillcolor = 'gray')\n",
    "fig = fig.add_vline(x = int(play_data['absoluteYardlineNumber']), line_dash=\"dash\", \n",
    "                    line_color=\"blue\", opacity = 0.5)\n",
    "fig = fig.add_vline(x = int(play_data['absoluteYardlineNumber']) + int(play_data['yardsToGo']),\n",
    "                    line_dash=\"dash\", line_color=\"yellow\", opacity = 0.5)\n",
    "fig = fig.update_layout(\n",
    "    plot_bgcolor='#567D46'\n",
    ")\n",
    "fig = fig.update_yaxes(visible=False)\n",
    "fig = fig.update_layout(xaxis=dict(\n",
    "    tick0=0,\n",
    "    dtick=10,))\n",
    "\n",
    "fig = fig.update_traces(marker=dict(size=12,line=dict(width=2,color='black'), opacity=0.9),\n",
    "                  selector=dict(mode='markers'))\n",
    "\n",
    "# Set frame duration to 100ms\n",
    "fig.layout.updatemenus[0].buttons[0].args[1][\"frame\"][\"duration\"] = 100\n",
    "\n",
    "# Set transition xduration between frames to 0ms\n",
    "fig.layout.updatemenus[0].buttons[0].args[1][\"transition\"][\"duration\"] = 0\n",
    "\n",
    "fig"
   ]
  },
  {
   "cell_type": "code",
   "execution_count": 35,
   "id": "5e28beb5-da39-4505-8302-84510c7adf66",
   "metadata": {},
   "outputs": [
    {
     "data": {
      "text/html": [
       "<div>\n",
       "<style scoped>\n",
       "    .dataframe tbody tr th:only-of-type {\n",
       "        vertical-align: middle;\n",
       "    }\n",
       "\n",
       "    .dataframe tbody tr th {\n",
       "        vertical-align: top;\n",
       "    }\n",
       "\n",
       "    .dataframe thead th {\n",
       "        text-align: right;\n",
       "    }\n",
       "</style>\n",
       "<table border=\"1\" class=\"dataframe\">\n",
       "  <thead>\n",
       "    <tr style=\"text-align: right;\">\n",
       "      <th></th>\n",
       "      <th>nflId</th>\n",
       "      <th>height</th>\n",
       "      <th>weight</th>\n",
       "      <th>birthDate</th>\n",
       "      <th>collegeName</th>\n",
       "      <th>position</th>\n",
       "      <th>displayName</th>\n",
       "    </tr>\n",
       "  </thead>\n",
       "  <tbody>\n",
       "    <tr>\n",
       "      <th>830</th>\n",
       "      <td>47857</td>\n",
       "      <td>5-7</td>\n",
       "      <td>203</td>\n",
       "      <td>1997-09-03</td>\n",
       "      <td>Florida Atlantic</td>\n",
       "      <td>RB</td>\n",
       "      <td>Devin Singletary</td>\n",
       "    </tr>\n",
       "  </tbody>\n",
       "</table>\n",
       "</div>"
      ],
      "text/plain": [
       "     nflId height  weight   birthDate       collegeName position  \\\n",
       "830  47857    5-7     203  1997-09-03  Florida Atlantic       RB   \n",
       "\n",
       "          displayName  \n",
       "830  Devin Singletary  "
      ]
     },
     "execution_count": 35,
     "metadata": {},
     "output_type": "execute_result"
    }
   ],
   "source": [
    "players[players.nflId == 47857.0]"
   ]
  },
  {
   "cell_type": "code",
   "execution_count": 40,
   "id": "653e38ae-b230-4a8b-8cb6-f27000e04309",
   "metadata": {},
   "outputs": [
    {
     "data": {
      "text/html": [
       "<div>\n",
       "<style scoped>\n",
       "    .dataframe tbody tr th:only-of-type {\n",
       "        vertical-align: middle;\n",
       "    }\n",
       "\n",
       "    .dataframe tbody tr th {\n",
       "        vertical-align: top;\n",
       "    }\n",
       "\n",
       "    .dataframe thead th {\n",
       "        text-align: right;\n",
       "    }\n",
       "</style>\n",
       "<table border=\"1\" class=\"dataframe\">\n",
       "  <thead>\n",
       "    <tr style=\"text-align: right;\">\n",
       "      <th></th>\n",
       "      <th>nflId</th>\n",
       "      <th>height</th>\n",
       "      <th>weight</th>\n",
       "      <th>birthDate</th>\n",
       "      <th>collegeName</th>\n",
       "      <th>position</th>\n",
       "      <th>displayName</th>\n",
       "    </tr>\n",
       "  </thead>\n",
       "  <tbody>\n",
       "    <tr>\n",
       "      <th>315</th>\n",
       "      <td>43335</td>\n",
       "      <td>6-4</td>\n",
       "      <td>330</td>\n",
       "      <td>1995-03-21</td>\n",
       "      <td>Alabama</td>\n",
       "      <td>DT</td>\n",
       "      <td>A'Shawn Robinson</td>\n",
       "    </tr>\n",
       "  </tbody>\n",
       "</table>\n",
       "</div>"
      ],
      "text/plain": [
       "     nflId height  weight   birthDate collegeName position       displayName\n",
       "315  43335    6-4     330  1995-03-21     Alabama       DT  A'Shawn Robinson"
      ]
     },
     "execution_count": 40,
     "metadata": {},
     "output_type": "execute_result"
    }
   ],
   "source": [
    "players[players.displayName == '''A'Shawn Robinson''']"
   ]
  },
  {
   "cell_type": "code",
   "execution_count": null,
   "id": "01fc83ec-7d95-49c7-9291-ae3900b4ea9a",
   "metadata": {},
   "outputs": [],
   "source": []
  }
 ],
 "metadata": {
  "kernelspec": {
   "display_name": "Python 3 (ipykernel)",
   "language": "python",
   "name": "python3"
  },
  "language_info": {
   "codemirror_mode": {
    "name": "ipython",
    "version": 3
   },
   "file_extension": ".py",
   "mimetype": "text/x-python",
   "name": "python",
   "nbconvert_exporter": "python",
   "pygments_lexer": "ipython3",
   "version": "3.10.12"
  }
 },
 "nbformat": 4,
 "nbformat_minor": 5
}
