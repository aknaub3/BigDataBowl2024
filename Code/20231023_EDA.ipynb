{
 "cells": [
  {
   "cell_type": "code",
   "execution_count": 1,
   "id": "1ff784f2-103b-460c-b504-2301e8ce14e0",
   "metadata": {},
   "outputs": [],
   "source": [
    "import pandas as pd\n",
    "import numpy as np\n",
    "import matplotlib.pyplot as plt\n",
    "import seaborn as sns\n",
    "import plotly.express as px\n",
    "from datetime import datetime\n",
    "import math\n",
    "import statsmodels.api as sm\n",
    "import warnings\n",
    "from IPython.core.interactiveshell import InteractiveShell\n",
    "from scipy import stats\n",
    "import multiprocessing as mp\n",
    "mp.set_start_method(\"fork\")\n",
    "\n",
    "\n",
    "InteractiveShell.ast_node_interactivity = \"all\"\n",
    "warnings.filterwarnings('ignore')"
   ]
  },
  {
   "cell_type": "markdown",
   "id": "82960c70-2317-48af-9673-2b05fd0b46d1",
   "metadata": {},
   "source": [
    "### Functions"
   ]
  },
  {
   "cell_type": "code",
   "execution_count": 32,
   "id": "cf3d073c-07d5-45be-9015-342cf74c46ee",
   "metadata": {},
   "outputs": [],
   "source": [
    "def playAnimator(data, GAMEID, PLAYID):\n",
    "    color_mapping = {\n",
    "        'Offense': 'cornsilk',\n",
    "        'Defense': 'lightblue',\n",
    "        'football': 'brown',\n",
    "        'Tackle': 'red',\n",
    "        'MissedTackle': 'gold',\n",
    "        'football':'#825736',\n",
    "        'ballCarrier': 'lime',\n",
    "        'assist':'darkorange',\n",
    "        'forcedFumble':'fuchsia'\n",
    "    }\n",
    "\n",
    "    play_data = plays[(plays.gameId == GAMEID)&(plays.playId == PLAYID)]\n",
    "    \n",
    "    fig = fig = px.scatter(data, x = 'x', y = 'y', range_x = [0,120], range_y = [0, 53.3],\n",
    "              color = 'playerType', animation_frame = 'frameId', hover_name = 'distanceFromCarrier',\n",
    "              color_discrete_map=color_mapping, width=1000, height=565)\n",
    "    \n",
    "    fig = fig.add_vrect(x0=0, x1=10, fillcolor = 'gray')\n",
    "    fig = fig.add_vrect(x0=110, x1=120, fillcolor = 'gray')\n",
    "    fig = fig.add_vline(x = int(play_data['absoluteYardlineNumber']), line_dash=\"dash\", \n",
    "                        line_color=\"blue\", opacity = 0.5)\n",
    "    fig = fig.add_vline(x = int(play_data['absoluteYardlineNumber']) + int(play_data['yardsToGo']),\n",
    "                        line_dash=\"dash\", line_color=\"yellow\", opacity = 0.5)\n",
    "    fig = fig.update_layout(\n",
    "        plot_bgcolor='#567D46'\n",
    "    )\n",
    "    fig = fig.update_yaxes(visible=False)\n",
    "    fig = fig.update_layout(xaxis=dict(\n",
    "        tick0=0,\n",
    "        dtick=10,))\n",
    "    \n",
    "    fig = fig.update_traces(marker=dict(size=12,line=dict(width=2,color='black'), opacity=0.9),\n",
    "                      selector=dict(mode='markers'))\n",
    "    \n",
    "    # Set frame duration to 100ms\n",
    "    fig.layout.updatemenus[0].buttons[0].args[1][\"frame\"][\"duration\"] = 100\n",
    "    \n",
    "    # Set transition xduration between frames to 0ms\n",
    "    fig.layout.updatemenus[0].buttons[0].args[1][\"transition\"][\"duration\"] = 0\n",
    "    \n",
    "    return fig\n",
    "\n",
    "\n",
    "\n",
    "#Calculating Distance from Each Player to the ballCarrier\n",
    "# Step 1: Filter for the ball carrier\n",
    "ball_carrier_df = df[df['playerType'] == 'ballCarrier']\n",
    "ball_carrier_df = ball_carrier_df[['key','frameId','nflId','x','y']]\n",
    "\n",
    "\n",
    "# Function to Calculate Distances from Player to BallCarrier for a Play (Based on the Key)\n",
    "def calculate_distances_from_ballCarrier(key):\n",
    "    key_df = df[df['key'] == key]\n",
    "    key_df = key_df[['key','frameId','x','y','nflId']]\n",
    "\n",
    "    # Create an empty DataFrame to store the distances\n",
    "    distances = []\n",
    "\n",
    "    for frame in key_df['frameId'].unique():\n",
    "        frame_df = key_df[key_df['frameId'] == frame]\n",
    "        ballCarrierdata = ball_carrier_df[(ball_carrier_df['key'] == key) & (ball_carrier_df['frameId'] == frame)]\n",
    "        if ballCarrierdata.empty:\n",
    "            continue\n",
    "\n",
    "        x1, y1 = frame_df['x'].values, frame_df['y'].values\n",
    "        x2, y2 = ballCarrierdata[['x', 'y']].values[0]\n",
    "\n",
    "        distance = np.sqrt((x1 - x2) ** 2 + (y1 - y2) ** 2)\n",
    "        frame_df['distance_to_ballCarrier'] = distance\n",
    "\n",
    "        distances.append(frame_df)\n",
    "    \n",
    "\n",
    "    return pd.concat(distances, ignore_index = True)"
   ]
  },
  {
   "cell_type": "markdown",
   "id": "b3cd5b89-f907-40e1-a470-9a4fe4456c64",
   "metadata": {},
   "source": [
    "### Read Data"
   ]
  },
  {
   "cell_type": "code",
   "execution_count": 3,
   "id": "b8cc4e85-00d1-4cb6-ae5b-5f99f78d7a5d",
   "metadata": {},
   "outputs": [],
   "source": [
    "#Read in Data\n",
    "df = pd.read_csv('AllGames_wAdvancedTracking.csv')\n",
    "df = df[df.nflId.notna()]\n",
    "\n",
    "games = pd.read_csv('games.csv')\n",
    "players = pd.read_csv('players.csv')\n",
    "plays = pd.read_csv('plays.csv')\n",
    "tackles = pd.read_csv('tackles.csv')"
   ]
  },
  {
   "cell_type": "code",
   "execution_count": 4,
   "id": "7eba23e8-93bf-4f73-9bd6-a1a06b245e9c",
   "metadata": {},
   "outputs": [
    {
     "name": "stdout",
     "output_type": "stream",
     "text": [
      "10041  Plays with Tackles in DataSet\n"
     ]
    }
   ],
   "source": [
    "#Creatin a Unique Key for Each Game\n",
    "df['key'] = df['gameId'].astype(str) + df['playId'].astype(str)\n",
    "\n",
    "#Removing all plays that don't involve a Tackle\n",
    "plays_with_tackles = list(df[df.event == 'tackle']['key'].unique())\n",
    "print(len(plays_with_tackles), ' Plays with Tackles in DataSet')\n",
    "df = df[df.key.isin(plays_with_tackles)]"
   ]
  },
  {
   "cell_type": "markdown",
   "id": "17668dbf-8c5f-4877-b40a-bb0bfcc609bc",
   "metadata": {},
   "source": [
    "### Feature Creation"
   ]
  },
  {
   "cell_type": "code",
   "execution_count": 5,
   "id": "810fa6b8-0352-4c68-9a3c-77e1b8c0f922",
   "metadata": {},
   "outputs": [],
   "source": [
    "#Dropping Irrelevant Columns:\n",
    "columns_to_drop = ['jerseyNumber','playDirection','distanceFromCarrier']\n",
    "df = df.drop(columns = columns_to_drop)"
   ]
  },
  {
   "cell_type": "code",
   "execution_count": 6,
   "id": "2fcf866b-6791-4475-b2f8-761f427815a0",
   "metadata": {},
   "outputs": [],
   "source": [
    "#Creating a Play Time Feature to see how long into the play it was. \n",
    "df['playTime'] = df['frameId']*0.1\n",
    "df = df.drop(columns = 'time')"
   ]
  },
  {
   "cell_type": "code",
   "execution_count": 7,
   "id": "b5d35e58-545a-4372-a720-fd80dcfc9fa3",
   "metadata": {},
   "outputs": [],
   "source": [
    "#Adding Player Age\n",
    "players.loc[players.birthDate.str[2] == '/', 'birthDate'] = players['birthDate'].str[-4:]\n",
    "players['year'] = players['birthDate'].str[0:4].astype(float)\n",
    "players['age'] = 2022 - players['year']\n",
    "\n",
    "#Filling Missing Age with Median Age\n",
    "players['age'] = players['age'].fillna(players['age'].median())\n",
    "\n",
    "#Converting height to inches\n",
    "players[['feet','inches']] = players['height'].str.split('-', expand = True)\n",
    "players['feet'] = players['feet'].astype(int)\n",
    "players['inches'] = players['inches'].astype(int)\n",
    "players['height'] = players['feet'] * 12 + players['inches']\n",
    "\n",
    "#Dropping Irrelevant Columns\n",
    "players = players.drop(columns = ['birthDate', 'year','feet','inches', 'collegeName','displayName'])"
   ]
  },
  {
   "cell_type": "code",
   "execution_count": 8,
   "id": "10265dea-5f6e-4c78-bf29-d64527d675d0",
   "metadata": {},
   "outputs": [
    {
     "data": {
      "text/plain": [
       "(9608126, 21)"
      ]
     },
     "execution_count": 8,
     "metadata": {},
     "output_type": "execute_result"
    }
   ],
   "source": [
    "#Merging Player Data and Tracking date\n",
    "df.shape\n",
    "df = pd.merge(df, players, on = 'nflId')"
   ]
  },
  {
   "cell_type": "code",
   "execution_count": 9,
   "id": "94ff100c-a31b-4336-8eb2-9d8bfee5204f",
   "metadata": {},
   "outputs": [],
   "source": [
    "#Giving Every Frame of the ballCarrier the right tag\n",
    "df.loc[df.tag == 'ballCarrier', 'playerType'] = 'ballCarrier'\n",
    "\n",
    "#Mapping the Actual Tackle Location to Each Frame of the Tracking Data\n",
    "tackle_x_dict = dict(zip(df[(df.event == 'tackle')&(df.playerType == 'ballCarrier')]['key'], df[(df.event == 'tackle')&(df.playerType == 'ballCarrier')].x))\n",
    "tackle_y_dict = dict(zip(df[(df.event == 'tackle')&(df.playerType == 'ballCarrier')]['key'], df[(df.event == 'tackle')&(df.playerType == 'ballCarrier')].y))\n",
    "\n",
    "df['tackle_x'] = df['key'].map(tackle_x_dict)\n",
    "df['tackle_y'] = df['key'].map(tackle_y_dict)"
   ]
  },
  {
   "cell_type": "code",
   "execution_count": 10,
   "id": "e5cf3b0d-ac49-460a-b70b-334c713eb6ab",
   "metadata": {},
   "outputs": [],
   "source": [
    "#Considering Assists Similar to Tackles\n",
    "df.loc[df.assist == 1, 'tackle'] = 1\n",
    "#Filling NA Tackles with 0\n",
    "df['tackle'] = df['tackle'].fillna(0)\n",
    "\n",
    "#Dropping Forced Fumbles and Missed Tackles, Tags, displayName\n",
    "df = df.drop(columns = ['forcedFumble','missedTackle','tag', 'displayName', 'assist'])"
   ]
  },
  {
   "cell_type": "code",
   "execution_count": 33,
   "id": "b3c6fbd1-f18c-4d30-8307-59c0f3416d8d",
   "metadata": {},
   "outputs": [],
   "source": [
    "#Calculating Distances in Parallel\n",
    "from concurrent.futures import ProcessPoolExecutor\n",
    "#Calculating Distances in Parallel\n",
    "keys = df['key'].unique()\n",
    "with ProcessPoolExecutor(max_workers = 8) as executor:\n",
    "    play_distances_dfs = list(executor.map(calculate_distances_from_ballCarrier, keys))"
   ]
  },
  {
   "cell_type": "code",
   "execution_count": 36,
   "id": "b383ffff-115c-4aba-b0d0-25ddac4d8251",
   "metadata": {},
   "outputs": [],
   "source": [
    "distances_df = pd.concat(play_distances_dfs)"
   ]
  },
  {
   "cell_type": "code",
   "execution_count": 39,
   "id": "f77dc4f7-8c0c-4e61-9db3-216627e4d06c",
   "metadata": {},
   "outputs": [],
   "source": [
    "df = pd.merge(df, distances_df, on = ['key','frameId','x','y','nflId'], how = 'outer')"
   ]
  },
  {
   "cell_type": "code",
   "execution_count": 48,
   "id": "f5d03799-56f7-4b29-9b5b-d53e0f9bb488",
   "metadata": {},
   "outputs": [],
   "source": [
    "df.to_csv('20231031_AllGames_wAdvancedTracking.csv', index = False)"
   ]
  },
  {
   "cell_type": "markdown",
   "id": "e3cb6126-abca-4fdd-9aa4-7f74c4e8e899",
   "metadata": {},
   "source": [
    "### Data Preprocessing"
   ]
  },
  {
   "cell_type": "code",
   "execution_count": 15,
   "id": "781d173f-885a-4cd6-9acc-f568beec5a04",
   "metadata": {},
   "outputs": [
    {
     "name": "stdout",
     "output_type": "stream",
     "text": [
      "<class 'pandas.core.frame.DataFrame'>\n",
      "RangeIndex: 9608126 entries, 0 to 9608125\n",
      "Data columns (total 22 columns):\n",
      " #   Column      Dtype  \n",
      "---  ------      -----  \n",
      " 0   gameId      int64  \n",
      " 1   playId      int64  \n",
      " 2   nflId       float64\n",
      " 3   frameId     int64  \n",
      " 4   playerType  object \n",
      " 5   x           float64\n",
      " 6   y           float64\n",
      " 7   s           float64\n",
      " 8   a           float64\n",
      " 9   dis         float64\n",
      " 10  o           float64\n",
      " 11  dir         float64\n",
      " 12  event       object \n",
      " 13  tackle      float64\n",
      " 14  key         object \n",
      " 15  playTime    float64\n",
      " 16  height      int64  \n",
      " 17  weight      int64  \n",
      " 18  position    object \n",
      " 19  age         float64\n",
      " 20  tackle_x    float64\n",
      " 21  tackle_y    float64\n",
      "dtypes: float64(13), int64(5), object(4)\n",
      "memory usage: 1.6+ GB\n"
     ]
    }
   ],
   "source": [
    "df.info()"
   ]
  },
  {
   "cell_type": "code",
   "execution_count": 12,
   "id": "71d94268-8b03-47ff-ac0a-9ff5caf44a08",
   "metadata": {},
   "outputs": [],
   "source": [
    "#Sorting by Key and then Frame to have everything be in sequential order\n",
    "df = df.sort_values(by = ['key', 'frameId'])"
   ]
  },
  {
   "cell_type": "code",
   "execution_count": 41,
   "id": "7698866b-289e-4a2d-abe0-1db8f19769f6",
   "metadata": {},
   "outputs": [],
   "source": [
    "#Dropping Bad Vallues\n",
    "df = df.drop(columns = ['gameId','playId','nflId','playerType','key'])\n",
    "\n",
    "#One Hot Encode Positions\n",
    "df = df.join(pd.get_dummies(df['position'], dtype=float))"
   ]
  },
  {
   "cell_type": "code",
   "execution_count": 66,
   "id": "d4680c8b-627a-4a01-8750-04ae0daaca6a",
   "metadata": {},
   "outputs": [],
   "source": [
    "#Splitting into training data and target variables\n",
    "X = df.drop(columns=['tackle', 'tackle_x','tackle_y', 'event', 'position'])\n",
    "y = df[['tackle', 'tackle_x','tackle_y']]\n",
    "y = y.drop(columns = ['tackle_x','tackle_y'])"
   ]
  },
  {
   "cell_type": "code",
   "execution_count": null,
   "id": "8e2402ff-25e9-44bf-8311-15cacb60d58e",
   "metadata": {},
   "outputs": [],
   "source": []
  }
 ],
 "metadata": {
  "kernelspec": {
   "display_name": "Python 3 (ipykernel)",
   "language": "python",
   "name": "python3"
  },
  "language_info": {
   "codemirror_mode": {
    "name": "ipython",
    "version": 3
   },
   "file_extension": ".py",
   "mimetype": "text/x-python",
   "name": "python",
   "nbconvert_exporter": "python",
   "pygments_lexer": "ipython3",
   "version": "3.10.12"
  }
 },
 "nbformat": 4,
 "nbformat_minor": 5
}
