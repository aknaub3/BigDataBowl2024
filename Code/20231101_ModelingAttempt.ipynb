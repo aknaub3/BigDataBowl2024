{
 "cells": [
  {
   "cell_type": "code",
   "execution_count": 1,
   "id": "6d67ae58-7fca-4992-ba30-4510414cad6c",
   "metadata": {},
   "outputs": [],
   "source": [
    "import pandas as pd\n",
    "import numpy as np\n",
    "import matplotlib.pyplot as plt\n",
    "import seaborn as sns\n",
    "import plotly.express as px\n",
    "from datetime import datetime\n",
    "import math\n",
    "import statsmodels.api as sm\n",
    "import warnings\n",
    "from IPython.core.interactiveshell import InteractiveShell\n",
    "from scipy import stats\n",
    "import multiprocessing as mp\n",
    "from matplotlib.colors import LinearSegmentedColormap\n",
    "\n",
    "from sklearn.model_selection import train_test_split\n",
    "import tensorflow as tf, keras\n",
    "from tensorflow.keras.layers import Conv2D, MaxPool2D, BatchNormalization, Dropout, Flatten, Dense\n",
    "from tensorflow.keras.models import Model, Sequential\n",
    "\n",
    "mp.set_start_method(\"fork\")\n",
    "\n",
    "\n",
    "InteractiveShell.ast_node_interactivity = \"all\"\n",
    "warnings.filterwarnings('ignore')"
   ]
  },
  {
   "cell_type": "code",
   "execution_count": 2,
   "id": "205732e1-e11f-4cf3-aad8-1f42f3634929",
   "metadata": {},
   "outputs": [],
   "source": [
    "# Load the .npz file\n",
    "data = np.load('data.npz')\n",
    "\n",
    "# Access X and y from the loaded data\n",
    "X = data['X']\n",
    "y = data['y']"
   ]
  },
  {
   "cell_type": "code",
   "execution_count": 3,
   "id": "a0003c8c-cfbc-465c-baca-d2b485f3c3e6",
   "metadata": {},
   "outputs": [],
   "source": [
    "#Splitting into training and testing data\n",
    "X_train, X_test, y_train, y_test = train_test_split(X, y, test_size = 0.2, random_state = 42)\n",
    "\n",
    "y_train = y_train[:, 0, :]"
   ]
  },
  {
   "cell_type": "markdown",
   "id": "04ad02c3-08ad-41fd-befb-66f1e9bdc230",
   "metadata": {},
   "source": [
    "### Attempt 1: Entire Play (NOT FRAME BY FRAME)"
   ]
  },
  {
   "cell_type": "code",
   "execution_count": 7,
   "id": "68aa0aa8-3646-4126-9cad-f571f7d98cb5",
   "metadata": {},
   "outputs": [
    {
     "name": "stdout",
     "output_type": "stream",
     "text": [
      "Model: \"sequential_3\"\n",
      "_________________________________________________________________\n",
      " Layer (type)                Output Shape              Param #   \n",
      "=================================================================\n",
      " conv2d_8 (Conv2D)           (None, 127, 22, 128)      36992     \n",
      "                                                                 \n",
      " batch_normalization_8 (Batc  (None, 127, 22, 128)     512       \n",
      " hNormalization)                                                 \n",
      "                                                                 \n",
      " conv2d_9 (Conv2D)           (None, 127, 22, 128)      147584    \n",
      "                                                                 \n",
      " batch_normalization_9 (Batc  (None, 127, 22, 128)     512       \n",
      " hNormalization)                                                 \n",
      "                                                                 \n",
      " max_pooling2d_3 (MaxPooling  (None, 63, 11, 128)      0         \n",
      " 2D)                                                             \n",
      "                                                                 \n",
      " dropout_3 (Dropout)         (None, 63, 11, 128)       0         \n",
      "                                                                 \n",
      " conv2d_10 (Conv2D)          (None, 63, 11, 256)       295168    \n",
      "                                                                 \n",
      " batch_normalization_10 (Bat  (None, 63, 11, 256)      1024      \n",
      " chNormalization)                                                \n",
      "                                                                 \n",
      " conv2d_11 (Conv2D)          (None, 63, 11, 256)       590080    \n",
      "                                                                 \n",
      " batch_normalization_11 (Bat  (None, 63, 11, 256)      1024      \n",
      " chNormalization)                                                \n",
      "                                                                 \n",
      " max_pooling2d_4 (MaxPooling  (None, 31, 5, 256)       0         \n",
      " 2D)                                                             \n",
      "                                                                 \n",
      " dropout_4 (Dropout)         (None, 31, 5, 256)        0         \n",
      "                                                                 \n",
      " conv2d_12 (Conv2D)          (None, 31, 5, 512)        1180160   \n",
      "                                                                 \n",
      " batch_normalization_12 (Bat  (None, 31, 5, 512)       2048      \n",
      " chNormalization)                                                \n",
      "                                                                 \n",
      " conv2d_13 (Conv2D)          (None, 31, 5, 512)        2359808   \n",
      "                                                                 \n",
      " batch_normalization_13 (Bat  (None, 31, 5, 512)       2048      \n",
      " chNormalization)                                                \n",
      "                                                                 \n",
      " max_pooling2d_5 (MaxPooling  (None, 15, 2, 512)       0         \n",
      " 2D)                                                             \n",
      "                                                                 \n",
      " dropout_5 (Dropout)         (None, 15, 2, 512)        0         \n",
      "                                                                 \n",
      " flatten_1 (Flatten)         (None, 15360)             0         \n",
      "                                                                 \n",
      " dense_1 (Dense)             (None, 128)               1966208   \n",
      "                                                                 \n",
      " batch_normalization_14 (Bat  (None, 128)              512       \n",
      " chNormalization)                                                \n",
      "                                                                 \n",
      " dropout_6 (Dropout)         (None, 128)               0         \n",
      "                                                                 \n",
      " dense_2 (Dense)             (None, 22)                2838      \n",
      "                                                                 \n",
      "=================================================================\n",
      "Total params: 6,586,518\n",
      "Trainable params: 6,582,678\n",
      "Non-trainable params: 3,840\n",
      "_________________________________________________________________\n"
     ]
    }
   ],
   "source": [
    "#Define the Input Shape (127 frames, 22 players, 32 field of data)\n",
    "input_shape = (127, 22, 32)\n",
    "num_players = 22\n",
    "\n",
    "model = Sequential([\n",
    "    Conv2D(128, (3, 3), activation='relu', kernel_initializer='he_uniform', padding='same', input_shape=input_shape),\n",
    "    BatchNormalization(),\n",
    "    Conv2D(128, (3, 3), activation='relu', kernel_initializer='he_uniform', padding='same'),\n",
    "    BatchNormalization(),\n",
    "    MaxPool2D((2, 2)),\n",
    "    Dropout(0.3),\n",
    "    Conv2D(256, (3, 3), activation='relu', kernel_initializer='he_uniform', padding='same'),\n",
    "    BatchNormalization(),\n",
    "    Conv2D(256, (3, 3), activation='relu', kernel_initializer='he_uniform', padding='same'),\n",
    "    BatchNormalization(),\n",
    "    MaxPool2D((2, 2)),\n",
    "    Dropout(0.4),\n",
    "    Conv2D(512, (3, 3), activation='relu', kernel_initializer='he_uniform', padding='same'),\n",
    "    BatchNormalization(),\n",
    "    Conv2D(512, (3, 3), activation='relu', kernel_initializer='he_uniform', padding='same'),\n",
    "    BatchNormalization(),\n",
    "    MaxPool2D((2, 2)),\n",
    "    Dropout(0.4),\n",
    "    Flatten(),\n",
    "    Dense(128, activation='relu', kernel_initializer='he_uniform',kernel_regularizer=tf.keras.regularizers.L2(0.001)),\n",
    "    BatchNormalization(),\n",
    "    Dropout(0.5),\n",
    "    Dense(num_players, activation='softmax')\n",
    "])\n",
    "\n",
    "#Compile the model\n",
    "model.compile(optimizer = 'adam',\n",
    "              loss = 'binary_crossentropy',\n",
    "              metrics = ['accuracy'])\n",
    "\n",
    "#Summarize the model\n",
    "model.summary()"
   ]
  },
  {
   "cell_type": "code",
   "execution_count": 8,
   "id": "0692e089-1ca2-4963-a7e6-f9abfb2878ab",
   "metadata": {},
   "outputs": [
    {
     "name": "stdout",
     "output_type": "stream",
     "text": [
      "Epoch 1/50\n"
     ]
    },
    {
     "name": "stderr",
     "output_type": "stream",
     "text": [
      "2023-11-01 14:43:36.620235: W tensorflow/core/platform/profile_utils/cpu_utils.cc:128] Failed to get CPU frequency: 0 Hz\n",
      "2023-11-01 14:43:36.987694: I tensorflow/core/grappler/optimizers/custom_graph_optimizer_registry.cc:113] Plugin optimizer for device_type GPU is enabled.\n"
     ]
    },
    {
     "name": "stdout",
     "output_type": "stream",
     "text": [
      "201/201 [==============================] - ETA: 0s - loss: 0.4411 - accuracy: 0.0484"
     ]
    },
    {
     "name": "stderr",
     "output_type": "stream",
     "text": [
      "2023-11-01 14:44:03.364962: I tensorflow/core/grappler/optimizers/custom_graph_optimizer_registry.cc:113] Plugin optimizer for device_type GPU is enabled.\n"
     ]
    },
    {
     "name": "stdout",
     "output_type": "stream",
     "text": [
      "201/201 [==============================] - 29s 134ms/step - loss: 0.4411 - accuracy: 0.0484 - val_loss: 0.5765 - val_accuracy: 0.0292\n",
      "Epoch 2/50\n",
      "201/201 [==============================] - 25s 123ms/step - loss: 0.2916 - accuracy: 0.0504 - val_loss: 0.7019 - val_accuracy: 0.0529\n",
      "Epoch 3/50\n",
      "201/201 [==============================] - 25s 124ms/step - loss: 0.2736 - accuracy: 0.0537 - val_loss: 0.4601 - val_accuracy: 0.0516\n",
      "Epoch 4/50\n",
      "201/201 [==============================] - 25s 123ms/step - loss: 0.2600 - accuracy: 0.0694 - val_loss: 0.4349 - val_accuracy: 0.0622\n",
      "Epoch 5/50\n",
      "201/201 [==============================] - 25s 124ms/step - loss: 0.2495 - accuracy: 0.0837 - val_loss: 0.2848 - val_accuracy: 0.0952\n",
      "Epoch 6/50\n",
      "201/201 [==============================] - 25s 122ms/step - loss: 0.2448 - accuracy: 0.1063 - val_loss: 0.3074 - val_accuracy: 0.1176\n",
      "Epoch 7/50\n",
      "201/201 [==============================] - 25s 122ms/step - loss: 0.2339 - accuracy: 0.1525 - val_loss: 0.3655 - val_accuracy: 0.1500\n",
      "Epoch 8/50\n",
      "201/201 [==============================] - 25s 122ms/step - loss: 0.2204 - accuracy: 0.2571 - val_loss: 0.3619 - val_accuracy: 0.2390\n",
      "Epoch 9/50\n",
      "201/201 [==============================] - 25s 123ms/step - loss: 0.2000 - accuracy: 0.4154 - val_loss: 0.2052 - val_accuracy: 0.5520\n",
      "Epoch 10/50\n",
      "201/201 [==============================] - 25s 123ms/step - loss: 0.1811 - accuracy: 0.5616 - val_loss: 0.1877 - val_accuracy: 0.5899\n",
      "Epoch 11/50\n",
      "201/201 [==============================] - 25s 123ms/step - loss: 0.1626 - accuracy: 0.6120 - val_loss: 0.1632 - val_accuracy: 0.6241\n",
      "Epoch 12/50\n",
      "201/201 [==============================] - 25s 123ms/step - loss: 0.1530 - accuracy: 0.6453 - val_loss: 0.1579 - val_accuracy: 0.6378\n",
      "Epoch 13/50\n",
      "201/201 [==============================] - 25s 123ms/step - loss: 0.1438 - accuracy: 0.6694 - val_loss: 0.1472 - val_accuracy: 0.6266\n",
      "Epoch 14/50\n",
      "201/201 [==============================] - 25s 122ms/step - loss: 0.1349 - accuracy: 0.7005 - val_loss: 0.1498 - val_accuracy: 0.6478\n",
      "Epoch 15/50\n",
      "201/201 [==============================] - 25s 123ms/step - loss: 0.1273 - accuracy: 0.7132 - val_loss: 0.1367 - val_accuracy: 0.6571\n",
      "Epoch 16/50\n",
      "201/201 [==============================] - 25s 122ms/step - loss: 0.1212 - accuracy: 0.7231 - val_loss: 0.1392 - val_accuracy: 0.6092\n",
      "Epoch 17/50\n",
      "201/201 [==============================] - 25s 122ms/step - loss: 0.1113 - accuracy: 0.7407 - val_loss: 0.1560 - val_accuracy: 0.6086\n"
     ]
    }
   ],
   "source": [
    "#Fit the Model\n",
    "history = model.fit(X_train, y_train,\n",
    "                    epochs = 50,\n",
    "                    validation_split = 0.2,\n",
    "                    batch_size = 32,\n",
    "                    callbacks=[keras.callbacks.ModelCheckpoint(\"CNN_model_1.h5\",save_best_only=True,save_weights_only=False),\n",
    "                               keras.callbacks.EarlyStopping(monitor='val_accuracy', patience=2)])"
   ]
  },
  {
   "cell_type": "markdown",
   "id": "cab7eafc-464f-48f2-9d8d-3312977663d5",
   "metadata": {},
   "source": [
    "### Creating New Test Data:"
   ]
  },
  {
   "cell_type": "code",
   "execution_count": 524,
   "id": "07ebc2ad-3b45-473d-b0d6-e8ff12e55e04",
   "metadata": {},
   "outputs": [],
   "source": [
    "#Testing Model\n",
    "#Read-In Data\n",
    "df = pd.read_csv('20231031_AllGames_wAdvancedTracking.csv')"
   ]
  },
  {
   "cell_type": "code",
   "execution_count": 525,
   "id": "4a65a10e-d4bf-4c53-ac80-8f7a852b66a4",
   "metadata": {},
   "outputs": [],
   "source": [
    "#Drop Columns that Can Lead to Memorizaton\n",
    "df = df.drop(columns = ['gameId','playId','event','tackle_x','tackle_y','playTime'])\n",
    "\n",
    "#One-Hot Encode \"Position\" Variable\n",
    "df = df.join(pd.get_dummies(df['position'], dtype=float))\n",
    "df = df.drop(columns = ['position'])\n",
    "\n",
    "#Replacing playerType with defense\n",
    "df.loc[(df.playerType != 'Offense')&(df.playerType != 'ballCarrier'), 'playerType'] = 'Defense'\n",
    "\n",
    "#One-Hot Encode \"playerType\" Variable\n",
    "df = df.join(pd.get_dummies(df['playerType'], dtype=float))\n",
    "df = df.drop(columns = ['playerType'])"
   ]
  },
  {
   "cell_type": "code",
   "execution_count": 526,
   "id": "52d09142-3282-4bf4-862d-2f52b96f4ad6",
   "metadata": {},
   "outputs": [],
   "source": [
    "from sklearn.preprocessing import MinMaxScaler, StandardScaler\n",
    "\n",
    "##Normalize the Data (MINMAX)\n",
    "columns_to_normalize = ['x', 'y', 's', 'a', 'dis', 'o', 'dir','distance_to_ballCarrier']\n",
    "scaler = MinMaxScaler()\n",
    "df[columns_to_normalize] = scaler.fit_transform(df[columns_to_normalize])\n",
    "\n",
    "##Normalize the Data (STANDARD)\n",
    "columns_to_normalize = ['age', 'height','weight']\n",
    "scaler = StandardScaler()\n",
    "df[columns_to_normalize] = scaler.fit_transform(df[columns_to_normalize])"
   ]
  },
  {
   "cell_type": "code",
   "execution_count": 527,
   "id": "a00f1b73-1974-448b-81c1-1e358f069024",
   "metadata": {},
   "outputs": [],
   "source": [
    "df = df[['key', 'nflId', 'frameId', 'tackle', 'x', 'y', 's', 'a', 'dis', 'o', 'dir',\n",
    "       'height', 'weight', 'age', 'distance_to_ballCarrier', 'C', 'CB',\n",
    "       'DB', 'DE', 'DT', 'FB', 'FS', 'G', 'ILB', 'MLB', 'NT', 'OLB', 'QB',\n",
    "       'RB', 'SS', 'T', 'TE', 'WR', 'Defense', 'Offense', 'ballCarrier']]"
   ]
  },
  {
   "cell_type": "code",
   "execution_count": 528,
   "id": "c052dcdf-b0ec-402d-93db-8206667cb4c5",
   "metadata": {},
   "outputs": [
    {
     "data": {
      "text/plain": [
       "(1, 127, 22, 32)"
      ]
     },
     "execution_count": 528,
     "metadata": {},
     "output_type": "execute_result"
    },
    {
     "data": {
      "text/plain": [
       "(1, 127, 22)"
      ]
     },
     "execution_count": 528,
     "metadata": {},
     "output_type": "execute_result"
    }
   ],
   "source": [
    "max_frames = 127\n",
    "#Number of Players per Frame\n",
    "num_players = 22\n",
    "\n",
    "#Empty arrays for Input Data (X) and target data (y)\n",
    "X_test = []\n",
    "y_test = []\n",
    "\n",
    "play_data = df[df.key == int(df.key.sample())]\n",
    "    \n",
    "#List of Frames for this Key\n",
    "frames = np.zeros((max_frames, 22, 32))\n",
    "tackle_labels = np.zeros((max_frames, 22))\n",
    "play_data = play_data.sort_values(by = ['frameId', 'nflId']).reset_index(drop = True)\n",
    "\n",
    "for frame in play_data['frameId'].unique():\n",
    "    frame_data_acc = []\n",
    "    tackle_label_acc = []\n",
    "\n",
    "    frame_data_rows = play_data[play_data['frameId'] == frame]\n",
    "    \n",
    "    for _, row in frame_data_rows.iterrows():\n",
    "        frame_data = row.iloc[4:].values\n",
    "        frame_data_acc.append(frame_data)\n",
    "        tackle_label_acc.append(row['tackle'])\n",
    "\n",
    "    frame_data = np.stack(frame_data_acc, axis = 0)\n",
    "    tackle_label = np.array(tackle_label_acc)\n",
    "    \n",
    "    frames[frame - 1] = frame_data\n",
    "    tackle_labels[frame - 1] = tackle_label\n",
    "\n",
    "\n",
    "    X_test.append(frames)\n",
    "    y_test.append(tackle_labels)\n",
    "\n",
    "X_test = np.array(X_test)\n",
    "y_test = np.array(y_test)\n",
    "\n",
    "X_test = X_test[0:1]\n",
    "y_test = y_test[0:1]\n",
    "\n",
    "X_test.shape\n",
    "y_test.shape"
   ]
  },
  {
   "cell_type": "markdown",
   "id": "d3789d3c-e28f-46ee-89ea-9f1467832127",
   "metadata": {},
   "source": [
    "### Predicting Test Data"
   ]
  },
  {
   "cell_type": "code",
   "execution_count": 529,
   "id": "90e6048f-0a99-4609-b376-2e380c4387ea",
   "metadata": {},
   "outputs": [
    {
     "name": "stdout",
     "output_type": "stream",
     "text": [
      "1/1 [==============================] - 0s 54ms/step\n"
     ]
    },
    {
     "data": {
      "text/plain": [
       "array([[0.  , 0.  , 0.  , 0.98, 0.  , 0.01, 0.  , 0.  , 0.  , 0.  , 0.  ,\n",
       "        0.  , 0.  , 0.  , 0.  , 0.  , 0.  , 0.  , 0.  , 0.  , 0.  , 0.  ]],\n",
       "      dtype=float32)"
      ]
     },
     "execution_count": 529,
     "metadata": {},
     "output_type": "execute_result"
    },
    {
     "data": {
      "text/plain": [
       "(array([0]), array([3]))"
      ]
     },
     "execution_count": 529,
     "metadata": {},
     "output_type": "execute_result"
    },
    {
     "name": "stdout",
     "output_type": "stream",
     "text": [
      "---------------------\n"
     ]
    },
    {
     "data": {
      "text/plain": [
       "(array([3]),)"
      ]
     },
     "execution_count": 529,
     "metadata": {},
     "output_type": "execute_result"
    }
   ],
   "source": [
    "predictions = model.predict(X_test).round(2)\n",
    "predictions\n",
    "np.where(predictions == predictions.max())\n",
    "print('---------------------')\n",
    "np.where(y_test[0][0].round(3) == 1)"
   ]
  },
  {
   "cell_type": "code",
   "execution_count": 530,
   "id": "d069111e-0c4d-4345-b275-7aa3a0704c5f",
   "metadata": {},
   "outputs": [],
   "source": [
    "predictions = []\n",
    "for i in range(play_data['frameId'].max()):\n",
    "    incoming = np.zeros((1, 127, 22, 32))\n",
    "    incoming[0][:i] = X_test[0][:i]\n",
    "\n",
    "    pred = model.predict(incoming, verbose = 0)\n",
    "    predictions.append(pred)"
   ]
  },
  {
   "cell_type": "code",
   "execution_count": 531,
   "id": "a680ad45-b4e0-4fe0-af33-c7ade31ab1af",
   "metadata": {},
   "outputs": [],
   "source": [
    "flat_list = []\n",
    "for sublist in predictions:\n",
    "    for item in sublist:\n",
    "        for value in item:\n",
    "            flat_list.append(value)\n",
    "\n",
    "play_data['Predictions'] = flat_list"
   ]
  },
  {
   "cell_type": "markdown",
   "id": "abeef7bb-9203-447f-bf3b-0899ae6af88c",
   "metadata": {},
   "source": [
    "### Anmiate Predictions"
   ]
  },
  {
   "cell_type": "code",
   "execution_count": 532,
   "id": "6c63739e-eac1-4c74-89f4-d6ff7c11cc98",
   "metadata": {},
   "outputs": [],
   "source": [
    "#Read in Data\n",
    "df = pd.read_csv('20231031_AllGames_wAdvancedTracking.csv')\n",
    "df = df[df.nflId.notna()]"
   ]
  },
  {
   "cell_type": "code",
   "execution_count": 533,
   "id": "e7945c5c-9c7e-4902-a8fd-173f2dfa9171",
   "metadata": {},
   "outputs": [],
   "source": [
    "games = pd.read_csv('games.csv')\n",
    "players = pd.read_csv('players.csv')\n",
    "plays = pd.read_csv('plays.csv')\n",
    "tackles = pd.read_csv('tackles.csv')\n",
    "\n",
    "\n",
    "def playAnimator(data, GAMEID, PLAYID):\n",
    "\n",
    "    colors = [[0, 'lime'],\n",
    "              [0.01, 'gray'],\n",
    "              [0.02, 'black'],\n",
    "              [0.2, 'red'],\n",
    "              [0.4, 'orange'],\n",
    "              [0.6, 'gold'],\n",
    "              [0.8, 'yellow'],\n",
    "              [1, 'white']]\n",
    "    \n",
    "    cmap = LinearSegmentedColormap.from_list('', colors)\n",
    "    \n",
    "    play_data = plays[(plays.gameId == GAMEID)&(plays.playId == PLAYID)]\n",
    "    \n",
    "    fig = fig = px.scatter(data, x = 'x', y = 'y', range_x = [0,120], range_y = [0, 53.3],\n",
    "              color = 'Predictions', animation_frame = 'frameId', width=1000, height=565,\n",
    "                          range_color = [0, 1], color_continuous_scale = colors)\n",
    "    \n",
    "    fig = fig.add_vrect(x0=0, x1=10, fillcolor = 'gray')\n",
    "    fig = fig.add_vrect(x0=110, x1=120, fillcolor = 'gray')\n",
    "    fig = fig.add_vline(x = int(play_data['absoluteYardlineNumber']), line_dash=\"dash\", \n",
    "                        line_color=\"blue\", opacity = 0.5)\n",
    "    # fig = fig.add_vline(x = int(play_data['absoluteYardlineNumber']) - int(play_data['yardsToGo']),\n",
    "    #                     line_dash=\"dash\", line_color=\"gold\", opacity = 0.5)\n",
    "    fig = fig.update_layout(\n",
    "        plot_bgcolor='#567D46'\n",
    "    )\n",
    "    fig = fig.update_yaxes(visible=False)\n",
    "    fig = fig.update_layout(xaxis=dict(\n",
    "        tick0=0,\n",
    "        dtick=10,))\n",
    "    \n",
    "    fig = fig.update_traces(marker=dict(size=12,line=dict(width=2,color='black'), opacity=0.9),\n",
    "                      selector=dict(mode='markers'))\n",
    "    \n",
    "    # Set frame duration to 100ms\n",
    "    fig.layout.updatemenus[0].buttons[0].args[1][\"frame\"][\"duration\"] = 130\n",
    "    \n",
    "    # Set transition xduration between frames to 0ms\n",
    "    fig.layout.updatemenus[0].buttons[0].args[1][\"transition\"][\"duration\"] = 0\n",
    "    \n",
    "    return fig"
   ]
  },
  {
   "cell_type": "code",
   "execution_count": 534,
   "id": "e91da68c-7b3a-4ae2-9675-7927c4b917ab",
   "metadata": {},
   "outputs": [
    {
     "data": {
      "text/plain": [
       "'2022102308'"
      ]
     },
     "execution_count": 534,
     "metadata": {},
     "output_type": "execute_result"
    },
    {
     "data": {
      "text/plain": [
       "'1137'"
      ]
     },
     "execution_count": 534,
     "metadata": {},
     "output_type": "execute_result"
    }
   ],
   "source": [
    "str(play_data.key.unique())[1:11]\n",
    "str(play_data.key.unique())[-5:-1]"
   ]
  },
  {
   "cell_type": "code",
   "execution_count": 535,
   "id": "492e32fe-66b0-4e02-bc16-4fa1c7d86d66",
   "metadata": {},
   "outputs": [],
   "source": [
    "animate = df[(df.gameId == 2022102308)&(df.playId == 1137)]\n",
    "animate.loc[(animate.playerType != 'Offense')&(animate.playerType != 'ballCarrier'), 'playerType'] = 'Defense'\n",
    "tackle_prob = play_data[['nflId','frameId','Predictions']]\n",
    "animate = pd.merge(animate, tackle_prob, on = ['nflId','frameId'])\n",
    "animate = animate.drop(columns = ['distance_to_ballCarrier'])\n",
    "animate.loc[(animate.playerType == 'Defense') & (animate.Predictions <= 0.02), 'Predictions'] =  0.02\n",
    "animate.loc[(animate.playerType == 'Offense'), 'Predictions']  = 0.01\n",
    "animate.loc[(animate.playerType == 'ballCarrier'), 'Predictions'] = 0"
   ]
  },
  {
   "cell_type": "code",
   "execution_count": 536,
   "id": "0fba9c28-6375-4520-9e67-6583c9f25fd3",
   "metadata": {},
   "outputs": [
    {
     "data": {
      "application/vnd.plotly.v1+json": {
       "config": {
        "plotlyServerURL": "https://plot.ly"
       },
       "data": [
        {
         "hovertemplate": "frameId=1<br>x=%{x}<br>y=%{y}<br>Predictions=%{marker.color}<extra></extra>",
         "legendgroup": "",
         "marker": {
          "color": [
           0.02,
           0.02,
           0.02,
           0.03853435441851616,
           0.02,
           0.07095754146575928,
           0.02,
           0.02,
           0.02208409272134304,
           0.09448187053203583,
           0.01,
           0.01,
           0.01,
           0.01,
           0,
           0.01,
           0.01,
           0.01,
           0.01,
           0.01,
           0.17946134507656097,
           0.01
          ],
          "coloraxis": "coloraxis",
          "line": {
           "color": "black",
           "width": 2
          },
          "opacity": 0.9,
          "size": 12,
          "symbol": "circle"
         },
         "mode": "markers",
         "name": "",
         "orientation": "v",
         "showlegend": false,
         "type": "scatter",
         "x": [
          58.94,
          62.43,
          64.14,
          63.42,
          71.18,
          58.66,
          63.86,
          63.67,
          58.77,
          58.49,
          56.62,
          56.91,
          56.9,
          56.65,
          50.92,
          57.46,
          56.88,
          53.21,
          55.99,
          56.77,
          59.2,
          56.85
         ],
         "xaxis": "x",
         "y": [
          21.05,
          21.65,
          15.05,
          24.65,
          24.64,
          26.54,
          36.04,
          29.25,
          29.44,
          23.62,
          23.82,
          34.01,
          17.61,
          27.09,
          24.05,
          23.97,
          25.72,
          21.94,
          28.66,
          20.65,
          18.87,
          22.26
         ],
         "yaxis": "y"
        }
       ],
       "frames": [
        {
         "data": [
          {
           "hovertemplate": "frameId=1<br>x=%{x}<br>y=%{y}<br>Predictions=%{marker.color}<extra></extra>",
           "legendgroup": "",
           "marker": {
            "color": [
             0.02,
             0.02,
             0.02,
             0.03853435441851616,
             0.02,
             0.07095754146575928,
             0.02,
             0.02,
             0.02208409272134304,
             0.09448187053203583,
             0.01,
             0.01,
             0.01,
             0.01,
             0,
             0.01,
             0.01,
             0.01,
             0.01,
             0.01,
             0.17946134507656097,
             0.01
            ],
            "coloraxis": "coloraxis",
            "symbol": "circle"
           },
           "mode": "markers",
           "name": "",
           "orientation": "v",
           "showlegend": false,
           "type": "scatter",
           "x": [
            58.94,
            62.43,
            64.14,
            63.42,
            71.18,
            58.66,
            63.86,
            63.67,
            58.77,
            58.49,
            56.62,
            56.91,
            56.9,
            56.65,
            50.92,
            57.46,
            56.88,
            53.21,
            55.99,
            56.77,
            59.2,
            56.85
           ],
           "xaxis": "x",
           "y": [
            21.05,
            21.65,
            15.05,
            24.65,
            24.64,
            26.54,
            36.04,
            29.25,
            29.44,
            23.62,
            23.82,
            34.01,
            17.61,
            27.09,
            24.05,
            23.97,
            25.72,
            21.94,
            28.66,
            20.65,
            18.87,
            22.26
           ],
           "yaxis": "y"
          }
         ],
         "name": "1"
        },
        {
         "data": [
          {
           "hovertemplate": "frameId=2<br>x=%{x}<br>y=%{y}<br>Predictions=%{marker.color}<extra></extra>",
           "legendgroup": "",
           "marker": {
            "color": [
             0.02,
             0.02,
             0.02,
             0.04113350436091423,
             0.02,
             0.07543333619832993,
             0.02,
             0.02,
             0.022805724292993546,
             0.08888643234968185,
             0.01,
             0.01,
             0.01,
             0.01,
             0,
             0.01,
             0.01,
             0.01,
             0.01,
             0.01,
             0.19528257846832275,
             0.01
            ],
            "coloraxis": "coloraxis",
            "symbol": "circle"
           },
           "mode": "markers",
           "name": "",
           "orientation": "v",
           "showlegend": false,
           "type": "scatter",
           "x": [
            58.94,
            62.39,
            64.08,
            63.42,
            71.19,
            58.66,
            63.92,
            63.66,
            58.77,
            58.49,
            56.6,
            56.91,
            56.9,
            56.66,
            50.92,
            57.47,
            56.89,
            53.23,
            55.99,
            56.77,
            59.19,
            56.85
           ],
           "xaxis": "x",
           "y": [
            21.05,
            21.58,
            15.02,
            24.65,
            24.63,
            26.54,
            36.06,
            29.2,
            29.45,
            23.62,
            23.83,
            34.01,
            17.61,
            27.08,
            24.05,
            23.97,
            25.72,
            21.94,
            28.67,
            20.65,
            18.87,
            22.26
           ],
           "yaxis": "y"
          }
         ],
         "name": "2"
        },
        {
         "data": [
          {
           "hovertemplate": "frameId=3<br>x=%{x}<br>y=%{y}<br>Predictions=%{marker.color}<extra></extra>",
           "legendgroup": "",
           "marker": {
            "color": [
             0.02,
             0.02,
             0.02,
             0.04064199700951576,
             0.02,
             0.07396026700735092,
             0.02,
             0.02,
             0.02,
             0.08154496550559998,
             0.01,
             0.01,
             0.01,
             0.01,
             0,
             0.01,
             0.01,
             0.01,
             0.01,
             0.01,
             0.19222374260425568,
             0.01
            ],
            "coloraxis": "coloraxis",
            "symbol": "circle"
           },
           "mode": "markers",
           "name": "",
           "orientation": "v",
           "showlegend": false,
           "type": "scatter",
           "x": [
            58.94,
            62.34,
            64.03,
            63.42,
            71.19,
            58.66,
            63.96,
            63.67,
            58.77,
            58.49,
            56.58,
            56.91,
            56.9,
            56.66,
            50.92,
            57.48,
            56.89,
            53.25,
            56,
            56.77,
            59.19,
            56.85
           ],
           "xaxis": "x",
           "y": [
            21.06,
            21.52,
            15,
            24.65,
            24.62,
            26.53,
            36.07,
            29.16,
            29.46,
            23.64,
            23.83,
            34.01,
            17.61,
            27.08,
            24.05,
            23.97,
            25.72,
            21.94,
            28.66,
            20.64,
            18.87,
            22.26
           ],
           "yaxis": "y"
          }
         ],
         "name": "3"
        },
        {
         "data": [
          {
           "hovertemplate": "frameId=4<br>x=%{x}<br>y=%{y}<br>Predictions=%{marker.color}<extra></extra>",
           "legendgroup": "",
           "marker": {
            "color": [
             0.02,
             0.02,
             0.02,
             0.042865000665187836,
             0.02,
             0.07748620957136154,
             0.02,
             0.02,
             0.02,
             0.08511552214622498,
             0.01,
             0.01,
             0.01,
             0.01,
             0,
             0.01,
             0.01,
             0.01,
             0.01,
             0.01,
             0.190078467130661,
             0.01
            ],
            "coloraxis": "coloraxis",
            "symbol": "circle"
           },
           "mode": "markers",
           "name": "",
           "orientation": "v",
           "showlegend": false,
           "type": "scatter",
           "x": [
            58.93,
            62.29,
            64,
            63.42,
            71.2,
            58.65,
            64,
            63.67,
            58.76,
            58.5,
            56.57,
            56.92,
            56.9,
            56.67,
            50.92,
            57.5,
            56.9,
            53.27,
            56.02,
            56.78,
            59.19,
            56.85
           ],
           "xaxis": "x",
           "y": [
            21.08,
            21.45,
            14.97,
            24.65,
            24.62,
            26.52,
            36.08,
            29.12,
            29.47,
            23.66,
            23.83,
            34.01,
            17.61,
            27.07,
            24.05,
            23.98,
            25.72,
            21.92,
            28.65,
            20.63,
            18.87,
            22.25
           ],
           "yaxis": "y"
          }
         ],
         "name": "4"
        },
        {
         "data": [
          {
           "hovertemplate": "frameId=5<br>x=%{x}<br>y=%{y}<br>Predictions=%{marker.color}<extra></extra>",
           "legendgroup": "",
           "marker": {
            "color": [
             0.02,
             0.02,
             0.02,
             0.03887472301721573,
             0.02,
             0.07923262566328049,
             0.02,
             0.02,
             0.02,
             0.08805082738399506,
             0.01,
             0.01,
             0.01,
             0.01,
             0,
             0.01,
             0.01,
             0.01,
             0.01,
             0.01,
             0.18972913920879364,
             0.01
            ],
            "coloraxis": "coloraxis",
            "symbol": "circle"
           },
           "mode": "markers",
           "name": "",
           "orientation": "v",
           "showlegend": false,
           "type": "scatter",
           "x": [
            58.9,
            62.21,
            63.97,
            63.42,
            71.22,
            58.63,
            64.04,
            63.67,
            58.73,
            58.51,
            56.53,
            56.92,
            56.91,
            56.69,
            50.92,
            57.55,
            56.92,
            53.3,
            56.03,
            56.8,
            59.19,
            56.87
           ],
           "xaxis": "x",
           "y": [
            21.11,
            21.39,
            14.94,
            24.64,
            24.61,
            26.49,
            36.11,
            29.08,
            29.51,
            23.71,
            23.83,
            34.01,
            17.61,
            27.05,
            24.05,
            24.01,
            25.72,
            21.9,
            28.64,
            20.6,
            18.87,
            22.24
           ],
           "yaxis": "y"
          }
         ],
         "name": "5"
        },
        {
         "data": [
          {
           "hovertemplate": "frameId=6<br>x=%{x}<br>y=%{y}<br>Predictions=%{marker.color}<extra></extra>",
           "legendgroup": "",
           "marker": {
            "color": [
             0.02,
             0.02,
             0.02,
             0.04093059524893761,
             0.02,
             0.08058977872133255,
             0.02,
             0.02,
             0.020595313981175423,
             0.09184868633747101,
             0.01,
             0.01,
             0.01,
             0.01,
             0,
             0.01,
             0.01,
             0.01,
             0.01,
             0.01,
             0.19502298533916473,
             0.01
            ],
            "coloraxis": "coloraxis",
            "symbol": "circle"
           },
           "mode": "markers",
           "name": "",
           "orientation": "v",
           "showlegend": false,
           "type": "scatter",
           "x": [
            58.86,
            62.14,
            63.95,
            63.41,
            71.24,
            58.6,
            64.09,
            63.67,
            58.67,
            58.53,
            56.51,
            56.92,
            56.91,
            56.74,
            50.92,
            57.61,
            56.96,
            53.36,
            56.06,
            56.83,
            59.19,
            56.89
           ],
           "xaxis": "x",
           "y": [
            21.19,
            21.33,
            14.92,
            24.63,
            24.61,
            26.44,
            36.11,
            29.05,
            29.57,
            23.81,
            23.83,
            34.01,
            17.61,
            27,
            24.06,
            24.05,
            25.72,
            21.88,
            28.62,
            20.56,
            18.87,
            22.23
           ],
           "yaxis": "y"
          }
         ],
         "name": "6"
        },
        {
         "data": [
          {
           "hovertemplate": "frameId=7<br>x=%{x}<br>y=%{y}<br>Predictions=%{marker.color}<extra></extra>",
           "legendgroup": "",
           "marker": {
            "color": [
             0.02,
             0.02,
             0.02,
             0.03932621330022812,
             0.02,
             0.07266493886709213,
             0.02,
             0.02,
             0.02,
             0.0944068431854248,
             0.01,
             0.01,
             0.01,
             0.01,
             0,
             0.01,
             0.01,
             0.01,
             0.01,
             0.01,
             0.19051095843315125,
             0.01
            ],
            "coloraxis": "coloraxis",
            "symbol": "circle"
           },
           "mode": "markers",
           "name": "",
           "orientation": "v",
           "showlegend": false,
           "type": "scatter",
           "x": [
            58.8,
            62.04,
            63.93,
            63.39,
            71.27,
            58.56,
            64.16,
            63.67,
            58.55,
            58.55,
            56.47,
            56.93,
            56.92,
            56.83,
            50.92,
            57.68,
            57.02,
            53.44,
            56.08,
            56.86,
            59.18,
            56.94
           ],
           "xaxis": "x",
           "y": [
            21.3,
            21.28,
            14.91,
            24.6,
            24.61,
            26.38,
            36.1,
            29.04,
            29.64,
            23.94,
            23.83,
            34,
            17.61,
            26.92,
            24.07,
            24.11,
            25.7,
            21.84,
            28.61,
            20.5,
            18.87,
            22.24
           ],
           "yaxis": "y"
          }
         ],
         "name": "7"
        },
        {
         "data": [
          {
           "hovertemplate": "frameId=8<br>x=%{x}<br>y=%{y}<br>Predictions=%{marker.color}<extra></extra>",
           "legendgroup": "",
           "marker": {
            "color": [
             0.02,
             0.02,
             0.02,
             0.03866221383213997,
             0.02,
             0.06769686192274094,
             0.02,
             0.02,
             0.02,
             0.10247832536697388,
             0.01,
             0.01,
             0.01,
             0.01,
             0,
             0.01,
             0.01,
             0.01,
             0.01,
             0.01,
             0.17909489572048187,
             0.01
            ],
            "coloraxis": "coloraxis",
            "symbol": "circle"
           },
           "mode": "markers",
           "name": "",
           "orientation": "v",
           "showlegend": false,
           "type": "scatter",
           "x": [
            58.73,
            61.97,
            63.91,
            63.34,
            71.31,
            58.53,
            64.23,
            63.64,
            58.39,
            58.58,
            56.4,
            56.94,
            56.95,
            56.93,
            50.93,
            57.77,
            57.08,
            53.55,
            56.1,
            56.91,
            59.16,
            57.02
           ],
           "xaxis": "x",
           "y": [
            21.46,
            21.23,
            14.89,
            24.54,
            24.62,
            26.31,
            36.1,
            29.02,
            29.72,
            24.11,
            23.84,
            33.99,
            17.62,
            26.83,
            24.09,
            24.18,
            25.68,
            21.8,
            28.6,
            20.43,
            18.87,
            22.26
           ],
           "yaxis": "y"
          }
         ],
         "name": "8"
        },
        {
         "data": [
          {
           "hovertemplate": "frameId=9<br>x=%{x}<br>y=%{y}<br>Predictions=%{marker.color}<extra></extra>",
           "legendgroup": "",
           "marker": {
            "color": [
             0.02,
             0.02,
             0.02,
             0.029343824833631516,
             0.02,
             0.04490446671843529,
             0.02,
             0.02,
             0.02,
             0.11880791187286377,
             0.01,
             0.01,
             0.01,
             0.01,
             0,
             0.01,
             0.01,
             0.01,
             0.01,
             0.01,
             0.1738928109407425,
             0.01
            ],
            "coloraxis": "coloraxis",
            "symbol": "circle"
           },
           "mode": "markers",
           "name": "",
           "orientation": "v",
           "showlegend": false,
           "type": "scatter",
           "x": [
            58.64,
            61.86,
            63.9,
            63.27,
            71.35,
            58.46,
            64.29,
            63.6,
            58.2,
            58.6,
            56.27,
            56.98,
            57.01,
            57.05,
            50.96,
            57.87,
            57.16,
            53.7,
            56.1,
            56.96,
            59.12,
            57.1
           ],
           "xaxis": "x",
           "y": [
            21.65,
            21.19,
            14.87,
            24.45,
            24.64,
            26.24,
            36.09,
            29,
            29.8,
            24.29,
            23.86,
            33.97,
            17.62,
            26.72,
            24.14,
            24.27,
            25.65,
            21.76,
            28.59,
            20.36,
            18.86,
            22.3
           ],
           "yaxis": "y"
          }
         ],
         "name": "9"
        },
        {
         "data": [
          {
           "hovertemplate": "frameId=10<br>x=%{x}<br>y=%{y}<br>Predictions=%{marker.color}<extra></extra>",
           "legendgroup": "",
           "marker": {
            "color": [
             0.02,
             0.02,
             0.02,
             0.029272641986608505,
             0.02,
             0.03467264771461487,
             0.02,
             0.02,
             0.02,
             0.13308565318584442,
             0.01,
             0.01,
             0.01,
             0.01,
             0,
             0.01,
             0.01,
             0.01,
             0.01,
             0.01,
             0.16962642967700958,
             0.01
            ],
            "coloraxis": "coloraxis",
            "symbol": "circle"
           },
           "mode": "markers",
           "name": "",
           "orientation": "v",
           "showlegend": false,
           "type": "scatter",
           "x": [
            58.54,
            61.71,
            63.9,
            63.16,
            71.4,
            58.44,
            64.36,
            63.53,
            57.92,
            58.63,
            56.08,
            57.05,
            57.11,
            57.18,
            51.03,
            57.99,
            57.24,
            53.9,
            56.08,
            57.01,
            59.03,
            57.19
           ],
           "xaxis": "x",
           "y": [
            21.87,
            21.18,
            14.86,
            24.34,
            24.66,
            26.19,
            36.09,
            28.98,
            29.87,
            24.5,
            23.9,
            33.92,
            17.62,
            26.6,
            24.23,
            24.37,
            25.62,
            21.71,
            28.58,
            20.25,
            18.86,
            22.36
           ],
           "yaxis": "y"
          }
         ],
         "name": "10"
        },
        {
         "data": [
          {
           "hovertemplate": "frameId=11<br>x=%{x}<br>y=%{y}<br>Predictions=%{marker.color}<extra></extra>",
           "legendgroup": "",
           "marker": {
            "color": [
             0.02,
             0.02,
             0.02,
             0.031142983585596085,
             0.02,
             0.0268106646835804,
             0.02,
             0.02,
             0.02,
             0.13878163695335388,
             0.01,
             0.01,
             0.01,
             0.01,
             0,
             0.01,
             0.01,
             0.01,
             0.01,
             0.01,
             0.16433711349964142,
             0.01
            ],
            "coloraxis": "coloraxis",
            "symbol": "circle"
           },
           "mode": "markers",
           "name": "",
           "orientation": "v",
           "showlegend": false,
           "type": "scatter",
           "x": [
            58.43,
            61.51,
            63.9,
            63.02,
            71.47,
            58.4,
            64.45,
            63.43,
            57.6,
            58.67,
            55.83,
            57.18,
            57.24,
            57.31,
            51.14,
            58.09,
            57.33,
            54.14,
            56.05,
            57.05,
            58.9,
            57.29
           ],
           "xaxis": "x",
           "y": [
            22.13,
            21.2,
            14.85,
            24.22,
            24.67,
            26.15,
            36.07,
            28.95,
            29.91,
            24.74,
            23.95,
            33.82,
            17.62,
            26.5,
            24.34,
            24.5,
            25.56,
            21.68,
            28.59,
            20.14,
            18.83,
            22.44
           ],
           "yaxis": "y"
          }
         ],
         "name": "11"
        },
        {
         "data": [
          {
           "hovertemplate": "frameId=12<br>x=%{x}<br>y=%{y}<br>Predictions=%{marker.color}<extra></extra>",
           "legendgroup": "",
           "marker": {
            "color": [
             0.02,
             0.02,
             0.02,
             0.03079032525420189,
             0.02,
             0.025243235751986504,
             0.02,
             0.02,
             0.02,
             0.13975979387760162,
             0.01,
             0.01,
             0.01,
             0.01,
             0,
             0.01,
             0.01,
             0.01,
             0.01,
             0.01,
             0.14899125695228577,
             0.01
            ],
            "coloraxis": "coloraxis",
            "symbol": "circle"
           },
           "mode": "markers",
           "name": "",
           "orientation": "v",
           "showlegend": false,
           "type": "scatter",
           "x": [
            58.33,
            61.26,
            63.91,
            62.86,
            71.53,
            58.37,
            64.54,
            63.3,
            57.26,
            58.71,
            55.54,
            57.32,
            57.41,
            57.42,
            51.27,
            58.21,
            57.42,
            54.42,
            55.98,
            57.08,
            58.71,
            57.39
           ],
           "xaxis": "x",
           "y": [
            22.4,
            21.24,
            14.84,
            24.09,
            24.69,
            26.1,
            36.03,
            28.9,
            29.96,
            24.95,
            24.02,
            33.71,
            17.62,
            26.43,
            24.48,
            24.61,
            25.51,
            21.64,
            28.61,
            20,
            18.8,
            22.56
           ],
           "yaxis": "y"
          }
         ],
         "name": "12"
        },
        {
         "data": [
          {
           "hovertemplate": "frameId=13<br>x=%{x}<br>y=%{y}<br>Predictions=%{marker.color}<extra></extra>",
           "legendgroup": "",
           "marker": {
            "color": [
             0.02,
             0.02,
             0.02,
             0.03040814958512783,
             0.02,
             0.021753361448645592,
             0.02,
             0.02,
             0.02,
             0.14986370503902435,
             0.01,
             0.01,
             0.01,
             0.01,
             0,
             0.01,
             0.01,
             0.01,
             0.01,
             0.01,
             0.11711038649082184,
             0.01
            ],
            "coloraxis": "coloraxis",
            "symbol": "circle"
           },
           "mode": "markers",
           "name": "",
           "orientation": "v",
           "showlegend": false,
           "type": "scatter",
           "x": [
            58.25,
            60.97,
            63.9,
            62.68,
            71.6,
            58.36,
            64.65,
            63.14,
            56.87,
            58.75,
            55.21,
            57.5,
            57.62,
            57.53,
            51.44,
            58.34,
            57.51,
            54.74,
            55.89,
            57.11,
            58.49,
            57.49
           ],
           "xaxis": "x",
           "y": [
            22.69,
            21.33,
            14.83,
            23.99,
            24.71,
            26.06,
            35.98,
            28.83,
            29.97,
            25.17,
            24.1,
            33.55,
            17.62,
            26.37,
            24.64,
            24.73,
            25.46,
            21.64,
            28.65,
            19.87,
            18.76,
            22.7
           ],
           "yaxis": "y"
          }
         ],
         "name": "13"
        },
        {
         "data": [
          {
           "hovertemplate": "frameId=14<br>x=%{x}<br>y=%{y}<br>Predictions=%{marker.color}<extra></extra>",
           "legendgroup": "",
           "marker": {
            "color": [
             0.02,
             0.02,
             0.02,
             0.04305744171142578,
             0.02,
             0.02282688021659851,
             0.02,
             0.02,
             0.02,
             0.19409066438674927,
             0.01,
             0.01,
             0.01,
             0.01,
             0,
             0.01,
             0.01,
             0.01,
             0.01,
             0.01,
             0.10966493934392929,
             0.01
            ],
            "coloraxis": "coloraxis",
            "symbol": "circle"
           },
           "mode": "markers",
           "name": "",
           "orientation": "v",
           "showlegend": false,
           "type": "scatter",
           "x": [
            58.16,
            60.65,
            63.91,
            62.47,
            71.67,
            58.35,
            64.75,
            62.96,
            56.44,
            58.8,
            54.84,
            57.71,
            57.86,
            57.64,
            51.67,
            58.47,
            57.6,
            55.08,
            55.77,
            57.11,
            58.23,
            57.6
           ],
           "xaxis": "x",
           "y": [
            22.99,
            21.44,
            14.83,
            23.89,
            24.74,
            26.04,
            35.9,
            28.73,
            29.97,
            25.38,
            24.18,
            33.35,
            17.62,
            26.32,
            24.8,
            24.86,
            25.41,
            21.66,
            28.7,
            19.75,
            18.71,
            22.87
           ],
           "yaxis": "y"
          }
         ],
         "name": "14"
        },
        {
         "data": [
          {
           "hovertemplate": "frameId=15<br>x=%{x}<br>y=%{y}<br>Predictions=%{marker.color}<extra></extra>",
           "legendgroup": "",
           "marker": {
            "color": [
             0.02,
             0.02,
             0.02,
             0.04939648509025574,
             0.02,
             0.02546871453523636,
             0.02,
             0.02,
             0.02,
             0.21573522686958313,
             0.01,
             0.01,
             0.01,
             0.01,
             0,
             0.01,
             0.01,
             0.01,
             0.01,
             0.01,
             0.10337592661380768,
             0.01
            ],
            "coloraxis": "coloraxis",
            "symbol": "circle"
           },
           "mode": "markers",
           "name": "",
           "orientation": "v",
           "showlegend": false,
           "type": "scatter",
           "x": [
            58.09,
            60.31,
            63.93,
            62.26,
            71.73,
            58.37,
            64.84,
            62.75,
            55.99,
            58.84,
            54.45,
            57.92,
            58.14,
            57.73,
            51.95,
            58.59,
            57.68,
            55.44,
            55.63,
            57.11,
            57.95,
            57.69
           ],
           "xaxis": "x",
           "y": [
            23.31,
            21.58,
            14.83,
            23.83,
            24.77,
            26.05,
            35.78,
            28.62,
            29.93,
            25.57,
            24.27,
            33.11,
            17.61,
            26.31,
            24.96,
            24.99,
            25.38,
            21.73,
            28.76,
            19.62,
            18.63,
            23.06
           ],
           "yaxis": "y"
          }
         ],
         "name": "15"
        },
        {
         "data": [
          {
           "hovertemplate": "frameId=16<br>x=%{x}<br>y=%{y}<br>Predictions=%{marker.color}<extra></extra>",
           "legendgroup": "",
           "marker": {
            "color": [
             0.02,
             0.021318411454558372,
             0.02,
             0.04828294366598129,
             0.02,
             0.029610686004161835,
             0.02,
             0.02,
             0.02,
             0.22316953539848328,
             0.01,
             0.01,
             0.01,
             0.01,
             0,
             0.01,
             0.01,
             0.01,
             0.01,
             0.01,
             0.09934175759553909,
             0.01
            ],
            "coloraxis": "coloraxis",
            "symbol": "circle"
           },
           "mode": "markers",
           "name": "",
           "orientation": "v",
           "showlegend": false,
           "type": "scatter",
           "x": [
            58.01,
            59.94,
            63.96,
            62.04,
            71.77,
            58.39,
            64.9,
            62.52,
            55.51,
            58.88,
            54.05,
            58.15,
            58.46,
            57.8,
            52.25,
            58.69,
            57.75,
            55.8,
            55.48,
            57.07,
            57.64,
            57.77
           ],
           "xaxis": "x",
           "y": [
            23.61,
            21.76,
            14.83,
            23.79,
            24.79,
            26.05,
            35.64,
            28.49,
            29.87,
            25.74,
            24.35,
            32.83,
            17.59,
            26.32,
            25.11,
            25.13,
            25.35,
            21.81,
            28.83,
            19.5,
            18.55,
            23.28
           ],
           "yaxis": "y"
          }
         ],
         "name": "16"
        },
        {
         "data": [
          {
           "hovertemplate": "frameId=17<br>x=%{x}<br>y=%{y}<br>Predictions=%{marker.color}<extra></extra>",
           "legendgroup": "",
           "marker": {
            "color": [
             0.02,
             0.02212556265294552,
             0.02,
             0.04002514109015465,
             0.02,
             0.028020210564136505,
             0.02,
             0.02,
             0.02,
             0.22011637687683105,
             0.01,
             0.01,
             0.01,
             0.01,
             0,
             0.01,
             0.01,
             0.01,
             0.01,
             0.01,
             0.09304105490446091,
             0.01
            ],
            "coloraxis": "coloraxis",
            "symbol": "circle"
           },
           "mode": "markers",
           "name": "",
           "orientation": "v",
           "showlegend": false,
           "type": "scatter",
           "x": [
            57.95,
            59.57,
            64.01,
            61.81,
            71.8,
            58.4,
            64.93,
            62.27,
            55.01,
            58.91,
            53.64,
            58.37,
            58.81,
            57.85,
            52.59,
            58.78,
            57.81,
            56.17,
            55.33,
            57.01,
            57.31,
            57.86
           ],
           "xaxis": "x",
           "y": [
            23.89,
            21.97,
            14.85,
            23.78,
            24.81,
            26.07,
            35.46,
            28.36,
            29.77,
            25.9,
            24.44,
            32.52,
            17.58,
            26.34,
            25.25,
            25.25,
            25.35,
            21.92,
            28.92,
            19.37,
            18.46,
            23.53
           ],
           "yaxis": "y"
          }
         ],
         "name": "17"
        },
        {
         "data": [
          {
           "hovertemplate": "frameId=18<br>x=%{x}<br>y=%{y}<br>Predictions=%{marker.color}<extra></extra>",
           "legendgroup": "",
           "marker": {
            "color": [
             0.02,
             0.028232036158442497,
             0.02,
             0.04567323252558708,
             0.02,
             0.02346716821193695,
             0.02,
             0.02,
             0.02,
             0.24670745432376862,
             0.01,
             0.01,
             0.01,
             0.01,
             0,
             0.01,
             0.01,
             0.01,
             0.01,
             0.01,
             0.08690151572227478,
             0.01
            ],
            "coloraxis": "coloraxis",
            "symbol": "circle"
           },
           "mode": "markers",
           "name": "",
           "orientation": "v",
           "showlegend": false,
           "type": "scatter",
           "x": [
            57.88,
            59.21,
            64.08,
            61.6,
            71.82,
            58.43,
            64.93,
            62.01,
            54.5,
            58.93,
            53.24,
            58.58,
            59.2,
            57.9,
            52.96,
            58.86,
            57.84,
            56.53,
            55.18,
            56.92,
            56.96,
            57.92
           ],
           "xaxis": "x",
           "y": [
            24.14,
            22.21,
            14.88,
            23.8,
            24.82,
            26.08,
            35.26,
            28.22,
            29.63,
            26.03,
            24.51,
            32.16,
            17.55,
            26.38,
            25.35,
            25.37,
            25.38,
            22.05,
            28.99,
            19.26,
            18.36,
            23.77
           ],
           "yaxis": "y"
          }
         ],
         "name": "18"
        },
        {
         "data": [
          {
           "hovertemplate": "frameId=19<br>x=%{x}<br>y=%{y}<br>Predictions=%{marker.color}<extra></extra>",
           "legendgroup": "",
           "marker": {
            "color": [
             0.02,
             0.03183465078473091,
             0.02,
             0.04192458093166351,
             0.02,
             0.023732753470540047,
             0.02,
             0.02,
             0.02,
             0.24404320120811462,
             0.01,
             0.01,
             0.01,
             0.01,
             0,
             0.01,
             0.01,
             0.01,
             0.01,
             0.01,
             0.09368289262056351,
             0.01
            ],
            "coloraxis": "coloraxis",
            "symbol": "circle"
           },
           "mode": "markers",
           "name": "",
           "orientation": "v",
           "showlegend": false,
           "type": "scatter",
           "x": [
            57.82,
            58.86,
            64.17,
            61.4,
            71.8,
            58.44,
            64.88,
            61.74,
            54,
            58.96,
            52.84,
            58.77,
            59.62,
            57.92,
            53.35,
            58.93,
            57.86,
            56.86,
            55.04,
            56.8,
            56.6,
            57.97
           ],
           "xaxis": "x",
           "y": [
            24.37,
            22.46,
            14.92,
            23.85,
            24.83,
            26.09,
            35.01,
            28.07,
            29.47,
            26.15,
            24.57,
            31.77,
            17.53,
            26.42,
            25.42,
            25.49,
            25.42,
            22.21,
            29.04,
            19.14,
            18.26,
            24.01
           ],
           "yaxis": "y"
          }
         ],
         "name": "19"
        },
        {
         "data": [
          {
           "hovertemplate": "frameId=20<br>x=%{x}<br>y=%{y}<br>Predictions=%{marker.color}<extra></extra>",
           "legendgroup": "",
           "marker": {
            "color": [
             0.02,
             0.03735163435339928,
             0.02,
             0.03937532752752304,
             0.02,
             0.026903638616204262,
             0.02,
             0.02,
             0.02,
             0.23784169554710388,
             0.01,
             0.01,
             0.01,
             0.01,
             0,
             0.01,
             0.01,
             0.01,
             0.01,
             0.01,
             0.09222893416881561,
             0.01
            ],
            "coloraxis": "coloraxis",
            "symbol": "circle"
           },
           "mode": "markers",
           "name": "",
           "orientation": "v",
           "showlegend": false,
           "type": "scatter",
           "x": [
            57.76,
            58.54,
            64.29,
            61.2,
            71.76,
            58.47,
            64.79,
            61.47,
            53.52,
            58.97,
            52.46,
            58.95,
            60.06,
            57.94,
            53.75,
            58.98,
            57.85,
            57.15,
            54.9,
            56.64,
            56.24,
            58
           ],
           "xaxis": "x",
           "y": [
            24.58,
            22.72,
            14.96,
            23.91,
            24.83,
            26.12,
            34.73,
            27.92,
            29.3,
            26.25,
            24.63,
            31.36,
            17.51,
            26.46,
            25.46,
            25.62,
            25.48,
            22.4,
            29.08,
            19.03,
            18.17,
            24.24
           ],
           "yaxis": "y"
          }
         ],
         "name": "20"
        },
        {
         "data": [
          {
           "hovertemplate": "frameId=21<br>x=%{x}<br>y=%{y}<br>Predictions=%{marker.color}<extra></extra>",
           "legendgroup": "",
           "marker": {
            "color": [
             0.02,
             0.03179597854614258,
             0.02,
             0.028660941869020462,
             0.02,
             0.028439030051231384,
             0.02,
             0.02,
             0.02,
             0.23690390586853027,
             0.01,
             0.01,
             0.01,
             0.01,
             0,
             0.01,
             0.01,
             0.01,
             0.01,
             0.01,
             0.11064716428518295,
             0.01
            ],
            "coloraxis": "coloraxis",
            "symbol": "circle"
           },
           "mode": "markers",
           "name": "",
           "orientation": "v",
           "showlegend": false,
           "type": "scatter",
           "x": [
            57.69,
            58.23,
            64.42,
            61.01,
            71.68,
            58.49,
            64.63,
            61.22,
            53.06,
            58.97,
            52.09,
            59.09,
            60.51,
            57.94,
            54.15,
            59.03,
            57.82,
            57.39,
            54.77,
            56.45,
            55.87,
            58
           ],
           "xaxis": "x",
           "y": [
            24.75,
            23,
            15.02,
            23.96,
            24.82,
            26.13,
            34.41,
            27.76,
            29.1,
            26.35,
            24.67,
            30.94,
            17.47,
            26.5,
            25.45,
            25.75,
            25.55,
            22.61,
            29.09,
            18.94,
            18.1,
            24.47
           ],
           "yaxis": "y"
          }
         ],
         "name": "21"
        },
        {
         "data": [
          {
           "hovertemplate": "frameId=22<br>x=%{x}<br>y=%{y}<br>Predictions=%{marker.color}<extra></extra>",
           "legendgroup": "",
           "marker": {
            "color": [
             0.02,
             0.03152959421277046,
             0.02,
             0.027175404131412506,
             0.02,
             0.025735534727573395,
             0.02,
             0.02,
             0.02,
             0.27906495332717896,
             0.01,
             0.01,
             0.01,
             0.01,
             0,
             0.01,
             0.01,
             0.01,
             0.01,
             0.01,
             0.11193668842315674,
             0.01
            ],
            "coloraxis": "coloraxis",
            "symbol": "circle"
           },
           "mode": "markers",
           "name": "",
           "orientation": "v",
           "showlegend": false,
           "type": "scatter",
           "x": [
            57.62,
            57.93,
            64.58,
            60.84,
            71.55,
            58.5,
            64.42,
            60.97,
            52.65,
            58.97,
            51.74,
            59.23,
            60.97,
            57.93,
            54.53,
            59.07,
            57.76,
            57.56,
            54.65,
            56.22,
            55.5,
            57.99
           ],
           "xaxis": "x",
           "y": [
            24.89,
            23.28,
            15.09,
            24,
            24.79,
            26.13,
            34.06,
            27.59,
            28.86,
            26.44,
            24.72,
            30.51,
            17.44,
            26.54,
            25.38,
            25.86,
            25.63,
            22.84,
            29.08,
            18.87,
            18.06,
            24.66
           ],
           "yaxis": "y"
          }
         ],
         "name": "22"
        },
        {
         "data": [
          {
           "hovertemplate": "frameId=23<br>x=%{x}<br>y=%{y}<br>Predictions=%{marker.color}<extra></extra>",
           "legendgroup": "",
           "marker": {
            "color": [
             0.02,
             0.04133758321404457,
             0.02,
             0.026818489655852318,
             0.02,
             0.027540771290659904,
             0.021464994177222252,
             0.02,
             0.02,
             0.3298875689506531,
             0.01,
             0.01,
             0.01,
             0.01,
             0,
             0.01,
             0.01,
             0.01,
             0.01,
             0.01,
             0.10837239027023315,
             0.01
            ],
            "coloraxis": "coloraxis",
            "symbol": "circle"
           },
           "mode": "markers",
           "name": "",
           "orientation": "v",
           "showlegend": false,
           "type": "scatter",
           "x": [
            57.56,
            57.66,
            64.76,
            60.68,
            71.38,
            58.5,
            64.16,
            60.75,
            52.3,
            58.96,
            51.43,
            59.34,
            61.43,
            57.93,
            54.87,
            59.12,
            57.69,
            57.67,
            54.54,
            55.98,
            55.13,
            57.96
           ],
           "xaxis": "x",
           "y": [
            24.98,
            23.55,
            15.16,
            24.02,
            24.77,
            26.13,
            33.69,
            27.41,
            28.58,
            26.53,
            24.75,
            30.11,
            17.4,
            26.57,
            25.25,
            25.98,
            25.72,
            23.08,
            29.03,
            18.8,
            18.05,
            24.85
           ],
           "yaxis": "y"
          }
         ],
         "name": "23"
        },
        {
         "data": [
          {
           "hovertemplate": "frameId=24<br>x=%{x}<br>y=%{y}<br>Predictions=%{marker.color}<extra></extra>",
           "legendgroup": "",
           "marker": {
            "color": [
             0.02,
             0.050030749291181564,
             0.02,
             0.025596730411052704,
             0.02,
             0.028104867786169052,
             0.022623909637331963,
             0.02,
             0.02,
             0.35999125242233276,
             0.01,
             0.01,
             0.01,
             0.01,
             0,
             0.01,
             0.01,
             0.01,
             0.01,
             0.01,
             0.09555727243423462,
             0.01
            ],
            "coloraxis": "coloraxis",
            "symbol": "circle"
           },
           "mode": "markers",
           "name": "",
           "orientation": "v",
           "showlegend": false,
           "type": "scatter",
           "x": [
            57.5,
            57.41,
            64.94,
            60.52,
            71.17,
            58.5,
            63.85,
            60.56,
            52,
            58.95,
            51.14,
            59.45,
            61.89,
            57.92,
            55.17,
            59.17,
            57.61,
            57.73,
            54.44,
            55.73,
            54.77,
            57.89
           ],
           "xaxis": "x",
           "y": [
            25.05,
            23.79,
            15.23,
            23.99,
            24.74,
            26.13,
            33.32,
            27.21,
            28.29,
            26.61,
            24.78,
            29.72,
            17.37,
            26.59,
            25.07,
            26.1,
            25.82,
            23.32,
            28.95,
            18.75,
            18.1,
            25.01
           ],
           "yaxis": "y"
          }
         ],
         "name": "24"
        },
        {
         "data": [
          {
           "hovertemplate": "frameId=25<br>x=%{x}<br>y=%{y}<br>Predictions=%{marker.color}<extra></extra>",
           "legendgroup": "",
           "marker": {
            "color": [
             0.02,
             0.04544351249933243,
             0.02,
             0.023911764845252037,
             0.02,
             0.025767579674720764,
             0.02,
             0.02,
             0.02,
             0.32747405767440796,
             0.01,
             0.01,
             0.01,
             0.01,
             0,
             0.01,
             0.01,
             0.01,
             0.01,
             0.01,
             0.11079146713018417,
             0.01
            ],
            "coloraxis": "coloraxis",
            "symbol": "circle"
           },
           "mode": "markers",
           "name": "",
           "orientation": "v",
           "showlegend": false,
           "type": "scatter",
           "x": [
            57.45,
            57.15,
            65.09,
            60.35,
            70.92,
            58.49,
            63.51,
            60.41,
            51.77,
            58.94,
            50.89,
            59.56,
            62.34,
            57.91,
            55.43,
            59.21,
            57.5,
            57.74,
            54.36,
            55.42,
            54.45,
            57.8
           ],
           "xaxis": "x",
           "y": [
            25.09,
            23.98,
            15.28,
            23.94,
            24.71,
            26.1,
            32.92,
            26.98,
            27.97,
            26.7,
            24.82,
            29.36,
            17.32,
            26.61,
            24.83,
            26.24,
            25.93,
            23.55,
            28.82,
            18.73,
            18.22,
            25.16
           ],
           "yaxis": "y"
          }
         ],
         "name": "25"
        },
        {
         "data": [
          {
           "hovertemplate": "frameId=26<br>x=%{x}<br>y=%{y}<br>Predictions=%{marker.color}<extra></extra>",
           "legendgroup": "",
           "marker": {
            "color": [
             0.02,
             0.05015147104859352,
             0.02,
             0.02438843995332718,
             0.02,
             0.021522175520658493,
             0.02,
             0.02,
             0.02,
             0.3807626962661743,
             0.01,
             0.01,
             0.01,
             0.01,
             0,
             0.01,
             0.01,
             0.01,
             0.01,
             0.01,
             0.10445034503936768,
             0.01
            ],
            "coloraxis": "coloraxis",
            "symbol": "circle"
           },
           "mode": "markers",
           "name": "",
           "orientation": "v",
           "showlegend": false,
           "type": "scatter",
           "x": [
            57.41,
            56.92,
            65.22,
            60.18,
            70.62,
            58.48,
            63.14,
            60.28,
            51.61,
            58.93,
            50.67,
            59.67,
            62.76,
            57.9,
            55.65,
            59.27,
            57.37,
            57.69,
            54.29,
            55.14,
            54.13,
            57.7
           ],
           "xaxis": "x",
           "y": [
            25.1,
            24.12,
            15.31,
            23.83,
            24.67,
            26.06,
            32.52,
            26.73,
            27.63,
            26.78,
            24.86,
            29.02,
            17.27,
            26.61,
            24.55,
            26.37,
            26.03,
            23.75,
            28.66,
            18.74,
            18.39,
            25.29
           ],
           "yaxis": "y"
          }
         ],
         "name": "26"
        },
        {
         "data": [
          {
           "hovertemplate": "frameId=27<br>x=%{x}<br>y=%{y}<br>Predictions=%{marker.color}<extra></extra>",
           "legendgroup": "",
           "marker": {
            "color": [
             0.02,
             0.06787150353193283,
             0.02,
             0.03207920864224434,
             0.02,
             0.021587228402495384,
             0.02,
             0.02,
             0.02,
             0.33758673071861267,
             0.01,
             0.01,
             0.01,
             0.01,
             0,
             0.01,
             0.01,
             0.01,
             0.01,
             0.01,
             0.11259827017784119,
             0.01
            ],
            "coloraxis": "coloraxis",
            "symbol": "circle"
           },
           "mode": "markers",
           "name": "",
           "orientation": "v",
           "showlegend": false,
           "type": "scatter",
           "x": [
            57.37,
            56.7,
            65.32,
            60.01,
            70.3,
            58.49,
            62.78,
            60.19,
            51.52,
            58.91,
            50.48,
            59.79,
            63.16,
            57.91,
            55.82,
            59.33,
            57.24,
            57.59,
            54.22,
            54.84,
            53.86,
            57.59
           ],
           "xaxis": "x",
           "y": [
            25.08,
            24.19,
            15.32,
            23.69,
            24.61,
            25.99,
            32.09,
            26.44,
            27.27,
            26.86,
            24.89,
            28.7,
            17.21,
            26.59,
            24.23,
            26.52,
            26.12,
            23.93,
            28.44,
            18.77,
            18.61,
            25.39
           ],
           "yaxis": "y"
          }
         ],
         "name": "27"
        },
        {
         "data": [
          {
           "hovertemplate": "frameId=28<br>x=%{x}<br>y=%{y}<br>Predictions=%{marker.color}<extra></extra>",
           "legendgroup": "",
           "marker": {
            "color": [
             0.02,
             0.09649889171123505,
             0.02,
             0.03184644132852554,
             0.02,
             0.021752020344138145,
             0.02,
             0.02,
             0.02,
             0.36417779326438904,
             0.01,
             0.01,
             0.01,
             0.01,
             0,
             0.01,
             0.01,
             0.01,
             0.01,
             0.01,
             0.09241805970668793,
             0.01
            ],
            "coloraxis": "coloraxis",
            "symbol": "circle"
           },
           "mode": "markers",
           "name": "",
           "orientation": "v",
           "showlegend": false,
           "type": "scatter",
           "x": [
            57.36,
            56.48,
            65.38,
            59.81,
            69.95,
            58.5,
            62.41,
            60.12,
            51.49,
            58.91,
            50.32,
            59.92,
            63.53,
            57.93,
            55.97,
            59.41,
            57.11,
            57.46,
            54.16,
            54.56,
            53.62,
            57.47
           ],
           "xaxis": "x",
           "y": [
            25.04,
            24.18,
            15.3,
            23.5,
            24.55,
            25.87,
            31.66,
            26.12,
            26.9,
            26.94,
            24.92,
            28.41,
            17.14,
            26.58,
            23.89,
            26.66,
            26.21,
            24.09,
            28.17,
            18.81,
            18.89,
            25.47
           ],
           "yaxis": "y"
          }
         ],
         "name": "28"
        },
        {
         "data": [
          {
           "hovertemplate": "frameId=29<br>x=%{x}<br>y=%{y}<br>Predictions=%{marker.color}<extra></extra>",
           "legendgroup": "",
           "marker": {
            "color": [
             0.02,
             0.1375928670167923,
             0.02,
             0.03309721499681473,
             0.02,
             0.02116859331727028,
             0.02,
             0.02,
             0.02,
             0.31360897421836853,
             0.01,
             0.01,
             0.01,
             0.01,
             0,
             0.01,
             0.01,
             0.01,
             0.01,
             0.01,
             0.09037856012582779,
             0.01
            ],
            "coloraxis": "coloraxis",
            "symbol": "circle"
           },
           "mode": "markers",
           "name": "",
           "orientation": "v",
           "showlegend": false,
           "type": "scatter",
           "x": [
            57.35,
            56.29,
            65.39,
            59.59,
            69.56,
            58.52,
            62.06,
            60.07,
            51.52,
            58.94,
            50.18,
            60.05,
            63.85,
            57.96,
            56.08,
            59.5,
            56.97,
            57.3,
            54.13,
            54.27,
            53.42,
            57.35
           ],
           "xaxis": "x",
           "y": [
            24.97,
            24.13,
            15.28,
            23.28,
            24.45,
            25.72,
            31.23,
            25.77,
            26.54,
            27.02,
            24.96,
            28.12,
            17.06,
            26.56,
            23.55,
            26.82,
            26.27,
            24.21,
            27.87,
            18.9,
            19.2,
            25.54
           ],
           "yaxis": "y"
          }
         ],
         "name": "29"
        },
        {
         "data": [
          {
           "hovertemplate": "frameId=30<br>x=%{x}<br>y=%{y}<br>Predictions=%{marker.color}<extra></extra>",
           "legendgroup": "",
           "marker": {
            "color": [
             0.02,
             0.21173308789730072,
             0.02,
             0.030132420361042023,
             0.02,
             0.02,
             0.02,
             0.02,
             0.02,
             0.33430105447769165,
             0.01,
             0.01,
             0.01,
             0.01,
             0,
             0.01,
             0.01,
             0.01,
             0.01,
             0.01,
             0.07643947005271912,
             0.01
            ],
            "coloraxis": "coloraxis",
            "symbol": "circle"
           },
           "mode": "markers",
           "name": "",
           "orientation": "v",
           "showlegend": false,
           "type": "scatter",
           "x": [
            57.38,
            56.11,
            65.36,
            59.34,
            69.14,
            58.54,
            61.74,
            60.02,
            51.61,
            58.96,
            50.07,
            60.18,
            64.13,
            58.01,
            56.18,
            59.62,
            56.86,
            57.12,
            54.11,
            54.01,
            53.27,
            57.22
           ],
           "xaxis": "x",
           "y": [
            24.87,
            24.01,
            15.24,
            23.03,
            24.32,
            25.55,
            30.8,
            25.38,
            26.16,
            27.08,
            24.99,
            27.86,
            16.95,
            26.53,
            23.27,
            26.97,
            26.32,
            24.29,
            27.54,
            18.98,
            19.54,
            25.6
           ],
           "yaxis": "y"
          }
         ],
         "name": "30"
        },
        {
         "data": [
          {
           "hovertemplate": "frameId=31<br>x=%{x}<br>y=%{y}<br>Predictions=%{marker.color}<extra></extra>",
           "legendgroup": "",
           "marker": {
            "color": [
             0.02,
             0.45567774772644043,
             0.02,
             0.029336627572774887,
             0.02,
             0.02,
             0.02,
             0.02,
             0.02,
             0.22223258018493652,
             0.01,
             0.01,
             0.01,
             0.01,
             0,
             0.01,
             0.01,
             0.01,
             0.01,
             0.01,
             0.05459005758166313,
             0.01
            ],
            "coloraxis": "coloraxis",
            "symbol": "circle"
           },
           "mode": "markers",
           "name": "",
           "orientation": "v",
           "showlegend": false,
           "type": "scatter",
           "x": [
            57.43,
            55.93,
            65.28,
            59.07,
            68.71,
            58.57,
            61.46,
            59.98,
            51.78,
            58.98,
            49.98,
            60.31,
            64.37,
            58.07,
            56.26,
            59.73,
            56.75,
            56.92,
            54.11,
            53.77,
            53.19,
            57.08
           ],
           "xaxis": "x",
           "y": [
            24.76,
            23.83,
            15.2,
            22.77,
            24.16,
            25.34,
            30.37,
            24.98,
            25.78,
            27.12,
            25.02,
            27.62,
            16.82,
            26.49,
            23,
            27.13,
            26.35,
            24.34,
            27.18,
            19.1,
            19.9,
            25.62
           ],
           "yaxis": "y"
          }
         ],
         "name": "31"
        },
        {
         "data": [
          {
           "hovertemplate": "frameId=32<br>x=%{x}<br>y=%{y}<br>Predictions=%{marker.color}<extra></extra>",
           "legendgroup": "",
           "marker": {
            "color": [
             0.02,
             0.6616325378417969,
             0.02,
             0.020204735919833183,
             0.02,
             0.02,
             0.02,
             0.02,
             0.02,
             0.1516258269548416,
             0.01,
             0.01,
             0.01,
             0.01,
             0,
             0.01,
             0.01,
             0.01,
             0.01,
             0.01,
             0.032454829663038254,
             0.01
            ],
            "coloraxis": "coloraxis",
            "symbol": "circle"
           },
           "mode": "markers",
           "name": "",
           "orientation": "v",
           "showlegend": false,
           "type": "scatter",
           "x": [
            57.49,
            55.82,
            65.17,
            58.77,
            68.27,
            58.61,
            61.24,
            59.94,
            51.99,
            59.01,
            49.91,
            60.44,
            64.55,
            58.13,
            56.32,
            59.86,
            56.66,
            56.72,
            54.12,
            53.56,
            53.18,
            56.95
           ],
           "xaxis": "x",
           "y": [
            24.64,
            23.61,
            15.14,
            22.52,
            23.99,
            25.11,
            29.96,
            24.57,
            25.41,
            27.15,
            25.06,
            27.35,
            16.66,
            26.45,
            22.76,
            27.28,
            26.37,
            24.35,
            26.79,
            19.24,
            20.25,
            25.62
           ],
           "yaxis": "y"
          }
         ],
         "name": "32"
        },
        {
         "data": [
          {
           "hovertemplate": "frameId=33<br>x=%{x}<br>y=%{y}<br>Predictions=%{marker.color}<extra></extra>",
           "legendgroup": "",
           "marker": {
            "color": [
             0.02,
             0.7771596312522888,
             0.02,
             0.02,
             0.02,
             0.02,
             0.02,
             0.02,
             0.02,
             0.09129539132118225,
             0.01,
             0.01,
             0.01,
             0.01,
             0,
             0.01,
             0.01,
             0.01,
             0.01,
             0.01,
             0.025464247912168503,
             0.01
            ],
            "coloraxis": "coloraxis",
            "symbol": "circle"
           },
           "mode": "markers",
           "name": "",
           "orientation": "v",
           "showlegend": false,
           "type": "scatter",
           "x": [
            57.55,
            55.72,
            65.01,
            58.46,
            67.82,
            58.65,
            61.06,
            59.89,
            52.25,
            59.03,
            49.86,
            60.58,
            64.67,
            58.21,
            56.38,
            59.99,
            56.6,
            56.52,
            54.15,
            53.37,
            53.22,
            56.83
           ],
           "xaxis": "x",
           "y": [
            24.49,
            23.35,
            15.08,
            22.29,
            23.81,
            24.86,
            29.56,
            24.15,
            25.06,
            27.13,
            25.09,
            27.1,
            16.47,
            26.39,
            22.58,
            27.45,
            26.36,
            24.31,
            26.39,
            19.41,
            20.6,
            25.6
           ],
           "yaxis": "y"
          }
         ],
         "name": "33"
        },
        {
         "data": [
          {
           "hovertemplate": "frameId=34<br>x=%{x}<br>y=%{y}<br>Predictions=%{marker.color}<extra></extra>",
           "legendgroup": "",
           "marker": {
            "color": [
             0.02,
             0.8612411022186279,
             0.02,
             0.02,
             0.02,
             0.02,
             0.02,
             0.02,
             0.02,
             0.05490267649292946,
             0.01,
             0.01,
             0.01,
             0.01,
             0,
             0.01,
             0.01,
             0.01,
             0.01,
             0.01,
             0.02,
             0.01
            ],
            "coloraxis": "coloraxis",
            "symbol": "circle"
           },
           "mode": "markers",
           "name": "",
           "orientation": "v",
           "showlegend": false,
           "type": "scatter",
           "x": [
            57.63,
            55.67,
            64.83,
            58.15,
            67.37,
            58.7,
            60.96,
            59.83,
            52.54,
            59.05,
            49.83,
            60.71,
            64.73,
            58.28,
            56.41,
            60.12,
            56.57,
            56.34,
            54.2,
            53.22,
            53.3,
            56.72
           ],
           "xaxis": "x",
           "y": [
            24.33,
            23.06,
            15.01,
            22.09,
            23.62,
            24.59,
            29.18,
            23.75,
            24.72,
            27.1,
            25.12,
            26.86,
            16.25,
            26.33,
            22.45,
            27.58,
            26.33,
            24.24,
            25.98,
            19.59,
            20.93,
            25.55
           ],
           "yaxis": "y"
          }
         ],
         "name": "34"
        },
        {
         "data": [
          {
           "hovertemplate": "frameId=35<br>x=%{x}<br>y=%{y}<br>Predictions=%{marker.color}<extra></extra>",
           "legendgroup": "",
           "marker": {
            "color": [
             0.02,
             0.9299752116203308,
             0.02,
             0.02,
             0.02,
             0.02,
             0.02,
             0.02,
             0.02,
             0.022682838141918182,
             0.01,
             0.01,
             0.01,
             0.01,
             0,
             0.01,
             0.01,
             0.01,
             0.01,
             0.01,
             0.02,
             0.01
            ],
            "coloraxis": "coloraxis",
            "symbol": "circle"
           },
           "mode": "markers",
           "name": "",
           "orientation": "v",
           "showlegend": false,
           "type": "scatter",
           "x": [
            57.71,
            55.64,
            64.6,
            57.85,
            66.93,
            58.75,
            60.9,
            59.73,
            52.86,
            59.06,
            49.82,
            60.84,
            64.75,
            58.36,
            56.44,
            60.26,
            56.55,
            56.17,
            54.27,
            53.09,
            53.42,
            56.62
           ],
           "xaxis": "x",
           "y": [
            24.17,
            22.75,
            14.93,
            21.95,
            23.42,
            24.32,
            28.83,
            23.36,
            24.42,
            27.03,
            25.16,
            26.62,
            16.02,
            26.21,
            22.38,
            27.72,
            26.29,
            24.11,
            25.58,
            19.77,
            21.24,
            25.49
           ],
           "yaxis": "y"
          }
         ],
         "name": "35"
        },
        {
         "data": [
          {
           "hovertemplate": "frameId=36<br>x=%{x}<br>y=%{y}<br>Predictions=%{marker.color}<extra></extra>",
           "legendgroup": "",
           "marker": {
            "color": [
             0.02,
             0.9591361880302429,
             0.02,
             0.02,
             0.02,
             0.02,
             0.02,
             0.02,
             0.02,
             0.02,
             0.01,
             0.01,
             0.01,
             0.01,
             0,
             0.01,
             0.01,
             0.01,
             0.01,
             0.01,
             0.02,
             0.01
            ],
            "coloraxis": "coloraxis",
            "symbol": "circle"
           },
           "mode": "markers",
           "name": "",
           "orientation": "v",
           "showlegend": false,
           "type": "scatter",
           "x": [
            57.75,
            55.65,
            64.34,
            57.55,
            66.5,
            58.79,
            60.88,
            59.61,
            53.21,
            59.07,
            49.82,
            60.97,
            64.71,
            58.43,
            56.46,
            60.4,
            56.56,
            56.05,
            54.36,
            53,
            53.59,
            56.54
           ],
           "xaxis": "x",
           "y": [
            24.01,
            22.51,
            14.86,
            21.86,
            23.24,
            24.04,
            28.49,
            23.03,
            24.11,
            26.93,
            25.19,
            26.38,
            15.77,
            26.08,
            22.36,
            27.85,
            26.23,
            23.96,
            25.18,
            19.95,
            21.5,
            25.4
           ],
           "yaxis": "y"
          }
         ],
         "name": "36"
        },
        {
         "data": [
          {
           "hovertemplate": "frameId=37<br>x=%{x}<br>y=%{y}<br>Predictions=%{marker.color}<extra></extra>",
           "legendgroup": "",
           "marker": {
            "color": [
             0.02,
             0.9700025320053101,
             0.02,
             0.02,
             0.02,
             0.02,
             0.02,
             0.02,
             0.02,
             0.02,
             0.01,
             0.01,
             0.01,
             0.01,
             0,
             0.01,
             0.01,
             0.01,
             0.01,
             0.01,
             0.02,
             0.01
            ],
            "coloraxis": "coloraxis",
            "symbol": "circle"
           },
           "mode": "markers",
           "name": "",
           "orientation": "v",
           "showlegend": false,
           "type": "scatter",
           "x": [
            57.76,
            55.68,
            64.06,
            57.27,
            66.09,
            58.83,
            60.9,
            59.47,
            53.55,
            59.04,
            49.84,
            61.07,
            64.63,
            58.5,
            56.48,
            60.53,
            56.57,
            55.96,
            54.46,
            52.94,
            53.81,
            56.45
           ],
           "xaxis": "x",
           "y": [
            23.85,
            22.26,
            14.8,
            21.82,
            23.08,
            23.77,
            28.18,
            22.76,
            23.83,
            26.81,
            25.23,
            26.13,
            15.51,
            25.93,
            22.37,
            27.95,
            26.17,
            23.76,
            24.81,
            20.14,
            21.73,
            25.3
           ],
           "yaxis": "y"
          }
         ],
         "name": "37"
        },
        {
         "data": [
          {
           "hovertemplate": "frameId=38<br>x=%{x}<br>y=%{y}<br>Predictions=%{marker.color}<extra></extra>",
           "legendgroup": "",
           "marker": {
            "color": [
             0.02,
             0.9712440967559814,
             0.02,
             0.02,
             0.02,
             0.02,
             0.02,
             0.02,
             0.02,
             0.02,
             0.01,
             0.01,
             0.01,
             0.01,
             0,
             0.01,
             0.01,
             0.01,
             0.01,
             0.01,
             0.02,
             0.01
            ],
            "coloraxis": "coloraxis",
            "symbol": "circle"
           },
           "mode": "markers",
           "name": "",
           "orientation": "v",
           "showlegend": false,
           "type": "scatter",
           "x": [
            57.75,
            55.72,
            63.76,
            57.01,
            65.69,
            58.86,
            60.95,
            59.31,
            53.9,
            59.01,
            49.87,
            61.16,
            64.49,
            58.58,
            56.48,
            60.66,
            56.62,
            55.91,
            54.57,
            52.92,
            54.07,
            56.38
           ],
           "xaxis": "x",
           "y": [
            23.7,
            22.05,
            14.76,
            21.82,
            22.95,
            23.51,
            27.89,
            22.55,
            23.56,
            26.68,
            25.27,
            25.89,
            15.24,
            25.75,
            22.42,
            28.05,
            26.09,
            23.55,
            24.48,
            20.31,
            21.9,
            25.19
           ],
           "yaxis": "y"
          }
         ],
         "name": "38"
        },
        {
         "data": [
          {
           "hovertemplate": "frameId=39<br>x=%{x}<br>y=%{y}<br>Predictions=%{marker.color}<extra></extra>",
           "legendgroup": "",
           "marker": {
            "color": [
             0.02,
             0.9778190851211548,
             0.02,
             0.02,
             0.02,
             0.02,
             0.02,
             0.02,
             0.02,
             0.02,
             0.01,
             0.01,
             0.01,
             0.01,
             0,
             0.01,
             0.01,
             0.01,
             0.01,
             0.01,
             0.02,
             0.01
            ],
            "coloraxis": "coloraxis",
            "symbol": "circle"
           },
           "mode": "markers",
           "name": "",
           "orientation": "v",
           "showlegend": false,
           "type": "scatter",
           "x": [
            57.74,
            55.79,
            63.46,
            56.82,
            65.3,
            58.86,
            61.01,
            59.14,
            54.23,
            58.96,
            49.91,
            61.23,
            64.32,
            58.64,
            56.48,
            60.77,
            56.69,
            55.93,
            54.68,
            52.91,
            54.36,
            56.32
           ],
           "xaxis": "x",
           "y": [
            23.55,
            21.87,
            14.74,
            21.89,
            22.85,
            23.29,
            27.63,
            22.42,
            23.32,
            26.52,
            25.32,
            25.65,
            14.98,
            25.58,
            22.47,
            28.12,
            26,
            23.34,
            24.18,
            20.48,
            22.03,
            25.08
           ],
           "yaxis": "y"
          }
         ],
         "name": "39"
        },
        {
         "data": [
          {
           "hovertemplate": "frameId=40<br>x=%{x}<br>y=%{y}<br>Predictions=%{marker.color}<extra></extra>",
           "legendgroup": "",
           "marker": {
            "color": [
             0.02,
             0.9817104935646057,
             0.02,
             0.02,
             0.02,
             0.02,
             0.02,
             0.02,
             0.02,
             0.02,
             0.01,
             0.01,
             0.01,
             0.01,
             0,
             0.01,
             0.01,
             0.01,
             0.01,
             0.01,
             0.02,
             0.01
            ],
            "coloraxis": "coloraxis",
            "symbol": "circle"
           },
           "mode": "markers",
           "name": "",
           "orientation": "v",
           "showlegend": false,
           "type": "scatter",
           "x": [
            57.72,
            55.85,
            63.16,
            56.68,
            64.93,
            58.86,
            61.1,
            58.96,
            54.55,
            58.91,
            49.95,
            61.28,
            64.11,
            58.71,
            56.43,
            60.88,
            56.76,
            55.98,
            54.81,
            52.93,
            54.67,
            56.26
           ],
           "xaxis": "x",
           "y": [
            23.41,
            21.7,
            14.74,
            22.02,
            22.79,
            23.11,
            27.38,
            22.33,
            23.08,
            26.36,
            25.37,
            25.42,
            14.74,
            25.39,
            22.53,
            28.18,
            25.9,
            23.13,
            23.91,
            20.65,
            22.1,
            24.96
           ],
           "yaxis": "y"
          }
         ],
         "name": "40"
        },
        {
         "data": [
          {
           "hovertemplate": "frameId=41<br>x=%{x}<br>y=%{y}<br>Predictions=%{marker.color}<extra></extra>",
           "legendgroup": "",
           "marker": {
            "color": [
             0.02,
             0.9861119389533997,
             0.02,
             0.02,
             0.02,
             0.02,
             0.02,
             0.02,
             0.02,
             0.02,
             0.01,
             0.01,
             0.01,
             0.01,
             0,
             0.01,
             0.01,
             0.01,
             0.01,
             0.01,
             0.02,
             0.01
            ],
            "coloraxis": "coloraxis",
            "symbol": "circle"
           },
           "mode": "markers",
           "name": "",
           "orientation": "v",
           "showlegend": false,
           "type": "scatter",
           "x": [
            57.68,
            55.91,
            62.86,
            56.54,
            64.59,
            58.85,
            61.19,
            58.78,
            54.83,
            58.86,
            50.01,
            61.31,
            63.86,
            58.77,
            56.41,
            60.98,
            56.85,
            56.06,
            54.93,
            52.97,
            54.99,
            56.21
           ],
           "xaxis": "x",
           "y": [
            23.3,
            21.61,
            14.77,
            22.16,
            22.77,
            22.95,
            27.16,
            22.29,
            22.88,
            26.19,
            25.41,
            25.19,
            14.51,
            25.17,
            22.62,
            28.21,
            25.8,
            22.92,
            23.69,
            20.8,
            22.13,
            24.85
           ],
           "yaxis": "y"
          }
         ],
         "name": "41"
        },
        {
         "data": [
          {
           "hovertemplate": "frameId=42<br>x=%{x}<br>y=%{y}<br>Predictions=%{marker.color}<extra></extra>",
           "legendgroup": "",
           "marker": {
            "color": [
             0.02,
             0.9881239533424377,
             0.02,
             0.02,
             0.02,
             0.02,
             0.02,
             0.02,
             0.02,
             0.02,
             0.01,
             0.01,
             0.01,
             0.01,
             0,
             0.01,
             0.01,
             0.01,
             0.01,
             0.01,
             0.02,
             0.01
            ],
            "coloraxis": "coloraxis",
            "symbol": "circle"
           },
           "mode": "markers",
           "name": "",
           "orientation": "v",
           "showlegend": false,
           "type": "scatter",
           "x": [
            57.63,
            55.98,
            62.56,
            56.49,
            64.26,
            58.82,
            61.25,
            58.62,
            55.1,
            58.78,
            50.07,
            61.33,
            63.58,
            58.82,
            56.36,
            61.07,
            56.93,
            56.13,
            55.06,
            53.02,
            55.31,
            56.17
           ],
           "xaxis": "x",
           "y": [
            23.2,
            21.5,
            14.82,
            22.28,
            22.77,
            22.82,
            26.97,
            22.29,
            22.7,
            26.02,
            25.46,
            24.97,
            14.3,
            24.96,
            22.71,
            28.23,
            25.7,
            22.83,
            23.51,
            20.93,
            22.14,
            24.75
           ],
           "yaxis": "y"
          }
         ],
         "name": "42"
        },
        {
         "data": [
          {
           "hovertemplate": "frameId=43<br>x=%{x}<br>y=%{y}<br>Predictions=%{marker.color}<extra></extra>",
           "legendgroup": "",
           "marker": {
            "color": [
             0.02,
             0.987456738948822,
             0.02,
             0.02,
             0.02,
             0.02,
             0.02,
             0.02,
             0.02,
             0.02,
             0.01,
             0.01,
             0.01,
             0.01,
             0,
             0.01,
             0.01,
             0.01,
             0.01,
             0.01,
             0.02,
             0.01
            ],
            "coloraxis": "coloraxis",
            "symbol": "circle"
           },
           "mode": "markers",
           "name": "",
           "orientation": "v",
           "showlegend": false,
           "type": "scatter",
           "x": [
            57.57,
            56.02,
            62.28,
            56.44,
            63.94,
            58.79,
            61.3,
            58.47,
            55.34,
            58.7,
            50.13,
            61.34,
            63.27,
            58.87,
            56.31,
            61.15,
            57.02,
            56.22,
            55.18,
            53.07,
            55.63,
            56.13
           ],
           "xaxis": "x",
           "y": [
            23.13,
            21.5,
            14.9,
            22.39,
            22.8,
            22.73,
            26.81,
            22.31,
            22.54,
            25.85,
            25.51,
            24.77,
            14.11,
            24.76,
            22.8,
            28.24,
            25.6,
            22.72,
            23.35,
            21.06,
            22.12,
            24.65
           ],
           "yaxis": "y"
          }
         ],
         "name": "43"
        },
        {
         "data": [
          {
           "hovertemplate": "frameId=44<br>x=%{x}<br>y=%{y}<br>Predictions=%{marker.color}<extra></extra>",
           "legendgroup": "",
           "marker": {
            "color": [
             0.02,
             0.9889046549797058,
             0.02,
             0.02,
             0.02,
             0.02,
             0.02,
             0.02,
             0.02,
             0.02,
             0.01,
             0.01,
             0.01,
             0.01,
             0,
             0.01,
             0.01,
             0.01,
             0.01,
             0.01,
             0.02,
             0.01
            ],
            "coloraxis": "coloraxis",
            "symbol": "circle"
           },
           "mode": "markers",
           "name": "",
           "orientation": "v",
           "showlegend": false,
           "type": "scatter",
           "x": [
            57.52,
            56.09,
            62.01,
            56.44,
            63.65,
            58.75,
            61.33,
            58.34,
            55.55,
            58.62,
            50.2,
            61.33,
            62.94,
            58.91,
            56.27,
            61.21,
            57.09,
            56.32,
            55.27,
            53.13,
            55.93,
            56.1
           ],
           "xaxis": "x",
           "y": [
            23.07,
            21.48,
            15,
            22.53,
            22.85,
            22.65,
            26.66,
            22.36,
            22.4,
            25.69,
            25.55,
            24.58,
            13.94,
            24.55,
            22.78,
            28.24,
            25.51,
            22.63,
            23.22,
            21.17,
            22.06,
            24.58
           ],
           "yaxis": "y"
          }
         ],
         "name": "44"
        },
        {
         "data": [
          {
           "hovertemplate": "frameId=45<br>x=%{x}<br>y=%{y}<br>Predictions=%{marker.color}<extra></extra>",
           "legendgroup": "",
           "marker": {
            "color": [
             0.02,
             0.9911084175109863,
             0.02,
             0.02,
             0.02,
             0.02,
             0.02,
             0.02,
             0.02,
             0.02,
             0.01,
             0.01,
             0.01,
             0.01,
             0,
             0.01,
             0.01,
             0.01,
             0.01,
             0.01,
             0.02,
             0.01
            ],
            "coloraxis": "coloraxis",
            "symbol": "circle"
           },
           "mode": "markers",
           "name": "",
           "orientation": "v",
           "showlegend": false,
           "type": "scatter",
           "x": [
            57.48,
            56.13,
            61.75,
            56.44,
            63.38,
            58.71,
            61.32,
            58.23,
            55.73,
            58.55,
            50.26,
            61.33,
            62.6,
            58.96,
            56.31,
            61.26,
            57.16,
            56.45,
            55.34,
            53.19,
            56.16,
            56.08
           ],
           "xaxis": "x",
           "y": [
            23.04,
            21.56,
            15.13,
            22.66,
            22.91,
            22.6,
            26.54,
            22.38,
            22.29,
            25.54,
            25.57,
            24.42,
            13.79,
            24.35,
            22.84,
            28.23,
            25.41,
            22.55,
            23.12,
            21.27,
            22.03,
            24.51
           ],
           "yaxis": "y"
          }
         ],
         "name": "45"
        },
        {
         "data": [
          {
           "hovertemplate": "frameId=46<br>x=%{x}<br>y=%{y}<br>Predictions=%{marker.color}<extra></extra>",
           "legendgroup": "",
           "marker": {
            "color": [
             0.02,
             0.9898231029510498,
             0.02,
             0.02,
             0.02,
             0.02,
             0.02,
             0.02,
             0.02,
             0.02,
             0.01,
             0.01,
             0.01,
             0.01,
             0,
             0.01,
             0.01,
             0.01,
             0.01,
             0.01,
             0.02,
             0.01
            ],
            "coloraxis": "coloraxis",
            "symbol": "circle"
           },
           "mode": "markers",
           "name": "",
           "orientation": "v",
           "showlegend": false,
           "type": "scatter",
           "x": [
            57.43,
            56.19,
            61.51,
            56.44,
            63.13,
            58.66,
            61.28,
            58.14,
            55.88,
            58.46,
            50.33,
            61.31,
            62.24,
            58.99,
            56.28,
            61.31,
            57.23,
            56.57,
            55.4,
            53.26,
            56.38,
            56.07
           ],
           "xaxis": "x",
           "y": [
            23.03,
            21.6,
            15.27,
            22.76,
            22.97,
            22.57,
            26.43,
            22.4,
            22.19,
            25.4,
            25.58,
            24.27,
            13.66,
            24.16,
            22.87,
            28.22,
            25.31,
            22.5,
            23.03,
            21.36,
            21.98,
            24.46
           ],
           "yaxis": "y"
          }
         ],
         "name": "46"
        }
       ],
       "layout": {
        "coloraxis": {
         "cmax": 1,
         "cmin": 0,
         "colorbar": {
          "title": {
           "text": "Predictions"
          }
         },
         "colorscale": [
          [
           0,
           "lime"
          ],
          [
           0.01,
           "gray"
          ],
          [
           0.02,
           "black"
          ],
          [
           0.2,
           "red"
          ],
          [
           0.4,
           "orange"
          ],
          [
           0.6,
           "gold"
          ],
          [
           0.8,
           "yellow"
          ],
          [
           1,
           "white"
          ]
         ]
        },
        "height": 565,
        "legend": {
         "tracegroupgap": 0
        },
        "margin": {
         "t": 60
        },
        "plot_bgcolor": "#567D46",
        "shapes": [
         {
          "fillcolor": "gray",
          "type": "rect",
          "x0": 0,
          "x1": 10,
          "xref": "x",
          "y0": 0,
          "y1": 1,
          "yref": "y domain"
         },
         {
          "fillcolor": "gray",
          "type": "rect",
          "x0": 110,
          "x1": 120,
          "xref": "x",
          "y0": 0,
          "y1": 1,
          "yref": "y domain"
         },
         {
          "line": {
           "color": "blue",
           "dash": "dash"
          },
          "opacity": 0.5,
          "type": "line",
          "x0": 58,
          "x1": 58,
          "xref": "x",
          "y0": 0,
          "y1": 1,
          "yref": "y domain"
         }
        ],
        "sliders": [
         {
          "active": 0,
          "currentvalue": {
           "prefix": "frameId="
          },
          "len": 0.9,
          "pad": {
           "b": 10,
           "t": 60
          },
          "steps": [
           {
            "args": [
             [
              "1"
             ],
             {
              "frame": {
               "duration": 0,
               "redraw": false
              },
              "fromcurrent": true,
              "mode": "immediate",
              "transition": {
               "duration": 0,
               "easing": "linear"
              }
             }
            ],
            "label": "1",
            "method": "animate"
           },
           {
            "args": [
             [
              "2"
             ],
             {
              "frame": {
               "duration": 0,
               "redraw": false
              },
              "fromcurrent": true,
              "mode": "immediate",
              "transition": {
               "duration": 0,
               "easing": "linear"
              }
             }
            ],
            "label": "2",
            "method": "animate"
           },
           {
            "args": [
             [
              "3"
             ],
             {
              "frame": {
               "duration": 0,
               "redraw": false
              },
              "fromcurrent": true,
              "mode": "immediate",
              "transition": {
               "duration": 0,
               "easing": "linear"
              }
             }
            ],
            "label": "3",
            "method": "animate"
           },
           {
            "args": [
             [
              "4"
             ],
             {
              "frame": {
               "duration": 0,
               "redraw": false
              },
              "fromcurrent": true,
              "mode": "immediate",
              "transition": {
               "duration": 0,
               "easing": "linear"
              }
             }
            ],
            "label": "4",
            "method": "animate"
           },
           {
            "args": [
             [
              "5"
             ],
             {
              "frame": {
               "duration": 0,
               "redraw": false
              },
              "fromcurrent": true,
              "mode": "immediate",
              "transition": {
               "duration": 0,
               "easing": "linear"
              }
             }
            ],
            "label": "5",
            "method": "animate"
           },
           {
            "args": [
             [
              "6"
             ],
             {
              "frame": {
               "duration": 0,
               "redraw": false
              },
              "fromcurrent": true,
              "mode": "immediate",
              "transition": {
               "duration": 0,
               "easing": "linear"
              }
             }
            ],
            "label": "6",
            "method": "animate"
           },
           {
            "args": [
             [
              "7"
             ],
             {
              "frame": {
               "duration": 0,
               "redraw": false
              },
              "fromcurrent": true,
              "mode": "immediate",
              "transition": {
               "duration": 0,
               "easing": "linear"
              }
             }
            ],
            "label": "7",
            "method": "animate"
           },
           {
            "args": [
             [
              "8"
             ],
             {
              "frame": {
               "duration": 0,
               "redraw": false
              },
              "fromcurrent": true,
              "mode": "immediate",
              "transition": {
               "duration": 0,
               "easing": "linear"
              }
             }
            ],
            "label": "8",
            "method": "animate"
           },
           {
            "args": [
             [
              "9"
             ],
             {
              "frame": {
               "duration": 0,
               "redraw": false
              },
              "fromcurrent": true,
              "mode": "immediate",
              "transition": {
               "duration": 0,
               "easing": "linear"
              }
             }
            ],
            "label": "9",
            "method": "animate"
           },
           {
            "args": [
             [
              "10"
             ],
             {
              "frame": {
               "duration": 0,
               "redraw": false
              },
              "fromcurrent": true,
              "mode": "immediate",
              "transition": {
               "duration": 0,
               "easing": "linear"
              }
             }
            ],
            "label": "10",
            "method": "animate"
           },
           {
            "args": [
             [
              "11"
             ],
             {
              "frame": {
               "duration": 0,
               "redraw": false
              },
              "fromcurrent": true,
              "mode": "immediate",
              "transition": {
               "duration": 0,
               "easing": "linear"
              }
             }
            ],
            "label": "11",
            "method": "animate"
           },
           {
            "args": [
             [
              "12"
             ],
             {
              "frame": {
               "duration": 0,
               "redraw": false
              },
              "fromcurrent": true,
              "mode": "immediate",
              "transition": {
               "duration": 0,
               "easing": "linear"
              }
             }
            ],
            "label": "12",
            "method": "animate"
           },
           {
            "args": [
             [
              "13"
             ],
             {
              "frame": {
               "duration": 0,
               "redraw": false
              },
              "fromcurrent": true,
              "mode": "immediate",
              "transition": {
               "duration": 0,
               "easing": "linear"
              }
             }
            ],
            "label": "13",
            "method": "animate"
           },
           {
            "args": [
             [
              "14"
             ],
             {
              "frame": {
               "duration": 0,
               "redraw": false
              },
              "fromcurrent": true,
              "mode": "immediate",
              "transition": {
               "duration": 0,
               "easing": "linear"
              }
             }
            ],
            "label": "14",
            "method": "animate"
           },
           {
            "args": [
             [
              "15"
             ],
             {
              "frame": {
               "duration": 0,
               "redraw": false
              },
              "fromcurrent": true,
              "mode": "immediate",
              "transition": {
               "duration": 0,
               "easing": "linear"
              }
             }
            ],
            "label": "15",
            "method": "animate"
           },
           {
            "args": [
             [
              "16"
             ],
             {
              "frame": {
               "duration": 0,
               "redraw": false
              },
              "fromcurrent": true,
              "mode": "immediate",
              "transition": {
               "duration": 0,
               "easing": "linear"
              }
             }
            ],
            "label": "16",
            "method": "animate"
           },
           {
            "args": [
             [
              "17"
             ],
             {
              "frame": {
               "duration": 0,
               "redraw": false
              },
              "fromcurrent": true,
              "mode": "immediate",
              "transition": {
               "duration": 0,
               "easing": "linear"
              }
             }
            ],
            "label": "17",
            "method": "animate"
           },
           {
            "args": [
             [
              "18"
             ],
             {
              "frame": {
               "duration": 0,
               "redraw": false
              },
              "fromcurrent": true,
              "mode": "immediate",
              "transition": {
               "duration": 0,
               "easing": "linear"
              }
             }
            ],
            "label": "18",
            "method": "animate"
           },
           {
            "args": [
             [
              "19"
             ],
             {
              "frame": {
               "duration": 0,
               "redraw": false
              },
              "fromcurrent": true,
              "mode": "immediate",
              "transition": {
               "duration": 0,
               "easing": "linear"
              }
             }
            ],
            "label": "19",
            "method": "animate"
           },
           {
            "args": [
             [
              "20"
             ],
             {
              "frame": {
               "duration": 0,
               "redraw": false
              },
              "fromcurrent": true,
              "mode": "immediate",
              "transition": {
               "duration": 0,
               "easing": "linear"
              }
             }
            ],
            "label": "20",
            "method": "animate"
           },
           {
            "args": [
             [
              "21"
             ],
             {
              "frame": {
               "duration": 0,
               "redraw": false
              },
              "fromcurrent": true,
              "mode": "immediate",
              "transition": {
               "duration": 0,
               "easing": "linear"
              }
             }
            ],
            "label": "21",
            "method": "animate"
           },
           {
            "args": [
             [
              "22"
             ],
             {
              "frame": {
               "duration": 0,
               "redraw": false
              },
              "fromcurrent": true,
              "mode": "immediate",
              "transition": {
               "duration": 0,
               "easing": "linear"
              }
             }
            ],
            "label": "22",
            "method": "animate"
           },
           {
            "args": [
             [
              "23"
             ],
             {
              "frame": {
               "duration": 0,
               "redraw": false
              },
              "fromcurrent": true,
              "mode": "immediate",
              "transition": {
               "duration": 0,
               "easing": "linear"
              }
             }
            ],
            "label": "23",
            "method": "animate"
           },
           {
            "args": [
             [
              "24"
             ],
             {
              "frame": {
               "duration": 0,
               "redraw": false
              },
              "fromcurrent": true,
              "mode": "immediate",
              "transition": {
               "duration": 0,
               "easing": "linear"
              }
             }
            ],
            "label": "24",
            "method": "animate"
           },
           {
            "args": [
             [
              "25"
             ],
             {
              "frame": {
               "duration": 0,
               "redraw": false
              },
              "fromcurrent": true,
              "mode": "immediate",
              "transition": {
               "duration": 0,
               "easing": "linear"
              }
             }
            ],
            "label": "25",
            "method": "animate"
           },
           {
            "args": [
             [
              "26"
             ],
             {
              "frame": {
               "duration": 0,
               "redraw": false
              },
              "fromcurrent": true,
              "mode": "immediate",
              "transition": {
               "duration": 0,
               "easing": "linear"
              }
             }
            ],
            "label": "26",
            "method": "animate"
           },
           {
            "args": [
             [
              "27"
             ],
             {
              "frame": {
               "duration": 0,
               "redraw": false
              },
              "fromcurrent": true,
              "mode": "immediate",
              "transition": {
               "duration": 0,
               "easing": "linear"
              }
             }
            ],
            "label": "27",
            "method": "animate"
           },
           {
            "args": [
             [
              "28"
             ],
             {
              "frame": {
               "duration": 0,
               "redraw": false
              },
              "fromcurrent": true,
              "mode": "immediate",
              "transition": {
               "duration": 0,
               "easing": "linear"
              }
             }
            ],
            "label": "28",
            "method": "animate"
           },
           {
            "args": [
             [
              "29"
             ],
             {
              "frame": {
               "duration": 0,
               "redraw": false
              },
              "fromcurrent": true,
              "mode": "immediate",
              "transition": {
               "duration": 0,
               "easing": "linear"
              }
             }
            ],
            "label": "29",
            "method": "animate"
           },
           {
            "args": [
             [
              "30"
             ],
             {
              "frame": {
               "duration": 0,
               "redraw": false
              },
              "fromcurrent": true,
              "mode": "immediate",
              "transition": {
               "duration": 0,
               "easing": "linear"
              }
             }
            ],
            "label": "30",
            "method": "animate"
           },
           {
            "args": [
             [
              "31"
             ],
             {
              "frame": {
               "duration": 0,
               "redraw": false
              },
              "fromcurrent": true,
              "mode": "immediate",
              "transition": {
               "duration": 0,
               "easing": "linear"
              }
             }
            ],
            "label": "31",
            "method": "animate"
           },
           {
            "args": [
             [
              "32"
             ],
             {
              "frame": {
               "duration": 0,
               "redraw": false
              },
              "fromcurrent": true,
              "mode": "immediate",
              "transition": {
               "duration": 0,
               "easing": "linear"
              }
             }
            ],
            "label": "32",
            "method": "animate"
           },
           {
            "args": [
             [
              "33"
             ],
             {
              "frame": {
               "duration": 0,
               "redraw": false
              },
              "fromcurrent": true,
              "mode": "immediate",
              "transition": {
               "duration": 0,
               "easing": "linear"
              }
             }
            ],
            "label": "33",
            "method": "animate"
           },
           {
            "args": [
             [
              "34"
             ],
             {
              "frame": {
               "duration": 0,
               "redraw": false
              },
              "fromcurrent": true,
              "mode": "immediate",
              "transition": {
               "duration": 0,
               "easing": "linear"
              }
             }
            ],
            "label": "34",
            "method": "animate"
           },
           {
            "args": [
             [
              "35"
             ],
             {
              "frame": {
               "duration": 0,
               "redraw": false
              },
              "fromcurrent": true,
              "mode": "immediate",
              "transition": {
               "duration": 0,
               "easing": "linear"
              }
             }
            ],
            "label": "35",
            "method": "animate"
           },
           {
            "args": [
             [
              "36"
             ],
             {
              "frame": {
               "duration": 0,
               "redraw": false
              },
              "fromcurrent": true,
              "mode": "immediate",
              "transition": {
               "duration": 0,
               "easing": "linear"
              }
             }
            ],
            "label": "36",
            "method": "animate"
           },
           {
            "args": [
             [
              "37"
             ],
             {
              "frame": {
               "duration": 0,
               "redraw": false
              },
              "fromcurrent": true,
              "mode": "immediate",
              "transition": {
               "duration": 0,
               "easing": "linear"
              }
             }
            ],
            "label": "37",
            "method": "animate"
           },
           {
            "args": [
             [
              "38"
             ],
             {
              "frame": {
               "duration": 0,
               "redraw": false
              },
              "fromcurrent": true,
              "mode": "immediate",
              "transition": {
               "duration": 0,
               "easing": "linear"
              }
             }
            ],
            "label": "38",
            "method": "animate"
           },
           {
            "args": [
             [
              "39"
             ],
             {
              "frame": {
               "duration": 0,
               "redraw": false
              },
              "fromcurrent": true,
              "mode": "immediate",
              "transition": {
               "duration": 0,
               "easing": "linear"
              }
             }
            ],
            "label": "39",
            "method": "animate"
           },
           {
            "args": [
             [
              "40"
             ],
             {
              "frame": {
               "duration": 0,
               "redraw": false
              },
              "fromcurrent": true,
              "mode": "immediate",
              "transition": {
               "duration": 0,
               "easing": "linear"
              }
             }
            ],
            "label": "40",
            "method": "animate"
           },
           {
            "args": [
             [
              "41"
             ],
             {
              "frame": {
               "duration": 0,
               "redraw": false
              },
              "fromcurrent": true,
              "mode": "immediate",
              "transition": {
               "duration": 0,
               "easing": "linear"
              }
             }
            ],
            "label": "41",
            "method": "animate"
           },
           {
            "args": [
             [
              "42"
             ],
             {
              "frame": {
               "duration": 0,
               "redraw": false
              },
              "fromcurrent": true,
              "mode": "immediate",
              "transition": {
               "duration": 0,
               "easing": "linear"
              }
             }
            ],
            "label": "42",
            "method": "animate"
           },
           {
            "args": [
             [
              "43"
             ],
             {
              "frame": {
               "duration": 0,
               "redraw": false
              },
              "fromcurrent": true,
              "mode": "immediate",
              "transition": {
               "duration": 0,
               "easing": "linear"
              }
             }
            ],
            "label": "43",
            "method": "animate"
           },
           {
            "args": [
             [
              "44"
             ],
             {
              "frame": {
               "duration": 0,
               "redraw": false
              },
              "fromcurrent": true,
              "mode": "immediate",
              "transition": {
               "duration": 0,
               "easing": "linear"
              }
             }
            ],
            "label": "44",
            "method": "animate"
           },
           {
            "args": [
             [
              "45"
             ],
             {
              "frame": {
               "duration": 0,
               "redraw": false
              },
              "fromcurrent": true,
              "mode": "immediate",
              "transition": {
               "duration": 0,
               "easing": "linear"
              }
             }
            ],
            "label": "45",
            "method": "animate"
           },
           {
            "args": [
             [
              "46"
             ],
             {
              "frame": {
               "duration": 0,
               "redraw": false
              },
              "fromcurrent": true,
              "mode": "immediate",
              "transition": {
               "duration": 0,
               "easing": "linear"
              }
             }
            ],
            "label": "46",
            "method": "animate"
           }
          ],
          "x": 0.1,
          "xanchor": "left",
          "y": 0,
          "yanchor": "top"
         }
        ],
        "template": {
         "data": {
          "bar": [
           {
            "error_x": {
             "color": "#2a3f5f"
            },
            "error_y": {
             "color": "#2a3f5f"
            },
            "marker": {
             "line": {
              "color": "#E5ECF6",
              "width": 0.5
             },
             "pattern": {
              "fillmode": "overlay",
              "size": 10,
              "solidity": 0.2
             }
            },
            "type": "bar"
           }
          ],
          "barpolar": [
           {
            "marker": {
             "line": {
              "color": "#E5ECF6",
              "width": 0.5
             },
             "pattern": {
              "fillmode": "overlay",
              "size": 10,
              "solidity": 0.2
             }
            },
            "type": "barpolar"
           }
          ],
          "carpet": [
           {
            "aaxis": {
             "endlinecolor": "#2a3f5f",
             "gridcolor": "white",
             "linecolor": "white",
             "minorgridcolor": "white",
             "startlinecolor": "#2a3f5f"
            },
            "baxis": {
             "endlinecolor": "#2a3f5f",
             "gridcolor": "white",
             "linecolor": "white",
             "minorgridcolor": "white",
             "startlinecolor": "#2a3f5f"
            },
            "type": "carpet"
           }
          ],
          "choropleth": [
           {
            "colorbar": {
             "outlinewidth": 0,
             "ticks": ""
            },
            "type": "choropleth"
           }
          ],
          "contour": [
           {
            "colorbar": {
             "outlinewidth": 0,
             "ticks": ""
            },
            "colorscale": [
             [
              0,
              "#0d0887"
             ],
             [
              0.1111111111111111,
              "#46039f"
             ],
             [
              0.2222222222222222,
              "#7201a8"
             ],
             [
              0.3333333333333333,
              "#9c179e"
             ],
             [
              0.4444444444444444,
              "#bd3786"
             ],
             [
              0.5555555555555556,
              "#d8576b"
             ],
             [
              0.6666666666666666,
              "#ed7953"
             ],
             [
              0.7777777777777778,
              "#fb9f3a"
             ],
             [
              0.8888888888888888,
              "#fdca26"
             ],
             [
              1,
              "#f0f921"
             ]
            ],
            "type": "contour"
           }
          ],
          "contourcarpet": [
           {
            "colorbar": {
             "outlinewidth": 0,
             "ticks": ""
            },
            "type": "contourcarpet"
           }
          ],
          "heatmap": [
           {
            "colorbar": {
             "outlinewidth": 0,
             "ticks": ""
            },
            "colorscale": [
             [
              0,
              "#0d0887"
             ],
             [
              0.1111111111111111,
              "#46039f"
             ],
             [
              0.2222222222222222,
              "#7201a8"
             ],
             [
              0.3333333333333333,
              "#9c179e"
             ],
             [
              0.4444444444444444,
              "#bd3786"
             ],
             [
              0.5555555555555556,
              "#d8576b"
             ],
             [
              0.6666666666666666,
              "#ed7953"
             ],
             [
              0.7777777777777778,
              "#fb9f3a"
             ],
             [
              0.8888888888888888,
              "#fdca26"
             ],
             [
              1,
              "#f0f921"
             ]
            ],
            "type": "heatmap"
           }
          ],
          "heatmapgl": [
           {
            "colorbar": {
             "outlinewidth": 0,
             "ticks": ""
            },
            "colorscale": [
             [
              0,
              "#0d0887"
             ],
             [
              0.1111111111111111,
              "#46039f"
             ],
             [
              0.2222222222222222,
              "#7201a8"
             ],
             [
              0.3333333333333333,
              "#9c179e"
             ],
             [
              0.4444444444444444,
              "#bd3786"
             ],
             [
              0.5555555555555556,
              "#d8576b"
             ],
             [
              0.6666666666666666,
              "#ed7953"
             ],
             [
              0.7777777777777778,
              "#fb9f3a"
             ],
             [
              0.8888888888888888,
              "#fdca26"
             ],
             [
              1,
              "#f0f921"
             ]
            ],
            "type": "heatmapgl"
           }
          ],
          "histogram": [
           {
            "marker": {
             "pattern": {
              "fillmode": "overlay",
              "size": 10,
              "solidity": 0.2
             }
            },
            "type": "histogram"
           }
          ],
          "histogram2d": [
           {
            "colorbar": {
             "outlinewidth": 0,
             "ticks": ""
            },
            "colorscale": [
             [
              0,
              "#0d0887"
             ],
             [
              0.1111111111111111,
              "#46039f"
             ],
             [
              0.2222222222222222,
              "#7201a8"
             ],
             [
              0.3333333333333333,
              "#9c179e"
             ],
             [
              0.4444444444444444,
              "#bd3786"
             ],
             [
              0.5555555555555556,
              "#d8576b"
             ],
             [
              0.6666666666666666,
              "#ed7953"
             ],
             [
              0.7777777777777778,
              "#fb9f3a"
             ],
             [
              0.8888888888888888,
              "#fdca26"
             ],
             [
              1,
              "#f0f921"
             ]
            ],
            "type": "histogram2d"
           }
          ],
          "histogram2dcontour": [
           {
            "colorbar": {
             "outlinewidth": 0,
             "ticks": ""
            },
            "colorscale": [
             [
              0,
              "#0d0887"
             ],
             [
              0.1111111111111111,
              "#46039f"
             ],
             [
              0.2222222222222222,
              "#7201a8"
             ],
             [
              0.3333333333333333,
              "#9c179e"
             ],
             [
              0.4444444444444444,
              "#bd3786"
             ],
             [
              0.5555555555555556,
              "#d8576b"
             ],
             [
              0.6666666666666666,
              "#ed7953"
             ],
             [
              0.7777777777777778,
              "#fb9f3a"
             ],
             [
              0.8888888888888888,
              "#fdca26"
             ],
             [
              1,
              "#f0f921"
             ]
            ],
            "type": "histogram2dcontour"
           }
          ],
          "mesh3d": [
           {
            "colorbar": {
             "outlinewidth": 0,
             "ticks": ""
            },
            "type": "mesh3d"
           }
          ],
          "parcoords": [
           {
            "line": {
             "colorbar": {
              "outlinewidth": 0,
              "ticks": ""
             }
            },
            "type": "parcoords"
           }
          ],
          "pie": [
           {
            "automargin": true,
            "type": "pie"
           }
          ],
          "scatter": [
           {
            "fillpattern": {
             "fillmode": "overlay",
             "size": 10,
             "solidity": 0.2
            },
            "type": "scatter"
           }
          ],
          "scatter3d": [
           {
            "line": {
             "colorbar": {
              "outlinewidth": 0,
              "ticks": ""
             }
            },
            "marker": {
             "colorbar": {
              "outlinewidth": 0,
              "ticks": ""
             }
            },
            "type": "scatter3d"
           }
          ],
          "scattercarpet": [
           {
            "marker": {
             "colorbar": {
              "outlinewidth": 0,
              "ticks": ""
             }
            },
            "type": "scattercarpet"
           }
          ],
          "scattergeo": [
           {
            "marker": {
             "colorbar": {
              "outlinewidth": 0,
              "ticks": ""
             }
            },
            "type": "scattergeo"
           }
          ],
          "scattergl": [
           {
            "marker": {
             "colorbar": {
              "outlinewidth": 0,
              "ticks": ""
             }
            },
            "type": "scattergl"
           }
          ],
          "scattermapbox": [
           {
            "marker": {
             "colorbar": {
              "outlinewidth": 0,
              "ticks": ""
             }
            },
            "type": "scattermapbox"
           }
          ],
          "scatterpolar": [
           {
            "marker": {
             "colorbar": {
              "outlinewidth": 0,
              "ticks": ""
             }
            },
            "type": "scatterpolar"
           }
          ],
          "scatterpolargl": [
           {
            "marker": {
             "colorbar": {
              "outlinewidth": 0,
              "ticks": ""
             }
            },
            "type": "scatterpolargl"
           }
          ],
          "scatterternary": [
           {
            "marker": {
             "colorbar": {
              "outlinewidth": 0,
              "ticks": ""
             }
            },
            "type": "scatterternary"
           }
          ],
          "surface": [
           {
            "colorbar": {
             "outlinewidth": 0,
             "ticks": ""
            },
            "colorscale": [
             [
              0,
              "#0d0887"
             ],
             [
              0.1111111111111111,
              "#46039f"
             ],
             [
              0.2222222222222222,
              "#7201a8"
             ],
             [
              0.3333333333333333,
              "#9c179e"
             ],
             [
              0.4444444444444444,
              "#bd3786"
             ],
             [
              0.5555555555555556,
              "#d8576b"
             ],
             [
              0.6666666666666666,
              "#ed7953"
             ],
             [
              0.7777777777777778,
              "#fb9f3a"
             ],
             [
              0.8888888888888888,
              "#fdca26"
             ],
             [
              1,
              "#f0f921"
             ]
            ],
            "type": "surface"
           }
          ],
          "table": [
           {
            "cells": {
             "fill": {
              "color": "#EBF0F8"
             },
             "line": {
              "color": "white"
             }
            },
            "header": {
             "fill": {
              "color": "#C8D4E3"
             },
             "line": {
              "color": "white"
             }
            },
            "type": "table"
           }
          ]
         },
         "layout": {
          "annotationdefaults": {
           "arrowcolor": "#2a3f5f",
           "arrowhead": 0,
           "arrowwidth": 1
          },
          "autotypenumbers": "strict",
          "coloraxis": {
           "colorbar": {
            "outlinewidth": 0,
            "ticks": ""
           }
          },
          "colorscale": {
           "diverging": [
            [
             0,
             "#8e0152"
            ],
            [
             0.1,
             "#c51b7d"
            ],
            [
             0.2,
             "#de77ae"
            ],
            [
             0.3,
             "#f1b6da"
            ],
            [
             0.4,
             "#fde0ef"
            ],
            [
             0.5,
             "#f7f7f7"
            ],
            [
             0.6,
             "#e6f5d0"
            ],
            [
             0.7,
             "#b8e186"
            ],
            [
             0.8,
             "#7fbc41"
            ],
            [
             0.9,
             "#4d9221"
            ],
            [
             1,
             "#276419"
            ]
           ],
           "sequential": [
            [
             0,
             "#0d0887"
            ],
            [
             0.1111111111111111,
             "#46039f"
            ],
            [
             0.2222222222222222,
             "#7201a8"
            ],
            [
             0.3333333333333333,
             "#9c179e"
            ],
            [
             0.4444444444444444,
             "#bd3786"
            ],
            [
             0.5555555555555556,
             "#d8576b"
            ],
            [
             0.6666666666666666,
             "#ed7953"
            ],
            [
             0.7777777777777778,
             "#fb9f3a"
            ],
            [
             0.8888888888888888,
             "#fdca26"
            ],
            [
             1,
             "#f0f921"
            ]
           ],
           "sequentialminus": [
            [
             0,
             "#0d0887"
            ],
            [
             0.1111111111111111,
             "#46039f"
            ],
            [
             0.2222222222222222,
             "#7201a8"
            ],
            [
             0.3333333333333333,
             "#9c179e"
            ],
            [
             0.4444444444444444,
             "#bd3786"
            ],
            [
             0.5555555555555556,
             "#d8576b"
            ],
            [
             0.6666666666666666,
             "#ed7953"
            ],
            [
             0.7777777777777778,
             "#fb9f3a"
            ],
            [
             0.8888888888888888,
             "#fdca26"
            ],
            [
             1,
             "#f0f921"
            ]
           ]
          },
          "colorway": [
           "#636efa",
           "#EF553B",
           "#00cc96",
           "#ab63fa",
           "#FFA15A",
           "#19d3f3",
           "#FF6692",
           "#B6E880",
           "#FF97FF",
           "#FECB52"
          ],
          "font": {
           "color": "#2a3f5f"
          },
          "geo": {
           "bgcolor": "white",
           "lakecolor": "white",
           "landcolor": "#E5ECF6",
           "showlakes": true,
           "showland": true,
           "subunitcolor": "white"
          },
          "hoverlabel": {
           "align": "left"
          },
          "hovermode": "closest",
          "mapbox": {
           "style": "light"
          },
          "paper_bgcolor": "white",
          "plot_bgcolor": "#E5ECF6",
          "polar": {
           "angularaxis": {
            "gridcolor": "white",
            "linecolor": "white",
            "ticks": ""
           },
           "bgcolor": "#E5ECF6",
           "radialaxis": {
            "gridcolor": "white",
            "linecolor": "white",
            "ticks": ""
           }
          },
          "scene": {
           "xaxis": {
            "backgroundcolor": "#E5ECF6",
            "gridcolor": "white",
            "gridwidth": 2,
            "linecolor": "white",
            "showbackground": true,
            "ticks": "",
            "zerolinecolor": "white"
           },
           "yaxis": {
            "backgroundcolor": "#E5ECF6",
            "gridcolor": "white",
            "gridwidth": 2,
            "linecolor": "white",
            "showbackground": true,
            "ticks": "",
            "zerolinecolor": "white"
           },
           "zaxis": {
            "backgroundcolor": "#E5ECF6",
            "gridcolor": "white",
            "gridwidth": 2,
            "linecolor": "white",
            "showbackground": true,
            "ticks": "",
            "zerolinecolor": "white"
           }
          },
          "shapedefaults": {
           "line": {
            "color": "#2a3f5f"
           }
          },
          "ternary": {
           "aaxis": {
            "gridcolor": "white",
            "linecolor": "white",
            "ticks": ""
           },
           "baxis": {
            "gridcolor": "white",
            "linecolor": "white",
            "ticks": ""
           },
           "bgcolor": "#E5ECF6",
           "caxis": {
            "gridcolor": "white",
            "linecolor": "white",
            "ticks": ""
           }
          },
          "title": {
           "x": 0.05
          },
          "xaxis": {
           "automargin": true,
           "gridcolor": "white",
           "linecolor": "white",
           "ticks": "",
           "title": {
            "standoff": 15
           },
           "zerolinecolor": "white",
           "zerolinewidth": 2
          },
          "yaxis": {
           "automargin": true,
           "gridcolor": "white",
           "linecolor": "white",
           "ticks": "",
           "title": {
            "standoff": 15
           },
           "zerolinecolor": "white",
           "zerolinewidth": 2
          }
         }
        },
        "updatemenus": [
         {
          "active": 0,
          "buttons": [
           {
            "args": [
             null,
             {
              "frame": {
               "duration": 130,
               "redraw": false
              },
              "fromcurrent": true,
              "mode": "immediate",
              "transition": {
               "duration": 0,
               "easing": "linear"
              }
             }
            ],
            "label": "&#9654;",
            "method": "animate"
           },
           {
            "args": [
             [
              null
             ],
             {
              "frame": {
               "duration": 0,
               "redraw": false
              },
              "fromcurrent": true,
              "mode": "immediate",
              "transition": {
               "duration": 0,
               "easing": "linear"
              }
             }
            ],
            "label": "&#9724;",
            "method": "animate"
           }
          ],
          "direction": "left",
          "pad": {
           "r": 10,
           "t": 70
          },
          "showactive": false,
          "type": "buttons",
          "x": 0.1,
          "xanchor": "right",
          "y": 0,
          "yanchor": "top"
         }
        ],
        "width": 1000,
        "xaxis": {
         "anchor": "y",
         "domain": [
          0,
          1
         ],
         "dtick": 10,
         "range": [
          0,
          120
         ],
         "tick0": 0,
         "title": {
          "text": "x"
         },
         "type": "linear"
        },
        "yaxis": {
         "anchor": "x",
         "domain": [
          0,
          1
         ],
         "range": [
          0,
          53.3
         ],
         "title": {
          "text": "y"
         },
         "type": "linear",
         "visible": false
        }
       }
      },
      "image/png": "[encoded data removed]",
      "text/html": [
       "<div>                            <div id=\"40c0caa6-79e9-44c4-9d0b-5c9ce8e03dca\" class=\"plotly-graph-div\" style=\"height:565px; width:1000px;\"></div>            <script type=\"text/javascript\">                require([\"plotly\"], function(Plotly) {                    window.PLOTLYENV=window.PLOTLYENV || {};                                    if (document.getElementById(\"40c0caa6-79e9-44c4-9d0b-5c9ce8e03dca\")) {                    Plotly.newPlot(                        \"40c0caa6-79e9-44c4-9d0b-5c9ce8e03dca\",                        [{\"hovertemplate\":\"frameId=1\\u003cbr\\u003ex=%{x}\\u003cbr\\u003ey=%{y}\\u003cbr\\u003ePredictions=%{marker.color}\\u003cextra\\u003e\\u003c\\u002fextra\\u003e\",\"legendgroup\":\"\",\"marker\":{\"color\":[0.02,0.02,0.02,0.03853435441851616,0.02,0.07095754146575928,0.02,0.02,0.02208409272134304,0.09448187053203583,0.01,0.01,0.01,0.01,0.0,0.01,0.01,0.01,0.01,0.01,0.17946134507656097,0.01],\"coloraxis\":\"coloraxis\",\"symbol\":\"circle\",\"line\":{\"color\":\"black\",\"width\":2},\"opacity\":0.9,\"size\":12},\"mode\":\"markers\",\"name\":\"\",\"orientation\":\"v\",\"showlegend\":false,\"x\":[58.94,62.43,64.14,63.42,71.18,58.66,63.86,63.67,58.77,58.49,56.62,56.91,56.9,56.65,50.92,57.46,56.88,53.21,55.99,56.77,59.2,56.85],\"xaxis\":\"x\",\"y\":[21.05,21.65,15.05,24.65,24.64,26.54,36.04,29.25,29.44,23.62,23.82,34.01,17.61,27.09,24.05,23.97,25.72,21.94,28.66,20.65,18.87,22.26],\"yaxis\":\"y\",\"type\":\"scatter\"}],                        {\"template\":{\"data\":{\"histogram2dcontour\":[{\"type\":\"histogram2dcontour\",\"colorbar\":{\"outlinewidth\":0,\"ticks\":\"\"},\"colorscale\":[[0.0,\"#0d0887\"],[0.1111111111111111,\"#46039f\"],[0.2222222222222222,\"#7201a8\"],[0.3333333333333333,\"#9c179e\"],[0.4444444444444444,\"#bd3786\"],[0.5555555555555556,\"#d8576b\"],[0.6666666666666666,\"#ed7953\"],[0.7777777777777778,\"#fb9f3a\"],[0.8888888888888888,\"#fdca26\"],[1.0,\"#f0f921\"]]}],\"choropleth\":[{\"type\":\"choropleth\",\"colorbar\":{\"outlinewidth\":0,\"ticks\":\"\"}}],\"histogram2d\":[{\"type\":\"histogram2d\",\"colorbar\":{\"outlinewidth\":0,\"ticks\":\"\"},\"colorscale\":[[0.0,\"#0d0887\"],[0.1111111111111111,\"#46039f\"],[0.2222222222222222,\"#7201a8\"],[0.3333333333333333,\"#9c179e\"],[0.4444444444444444,\"#bd3786\"],[0.5555555555555556,\"#d8576b\"],[0.6666666666666666,\"#ed7953\"],[0.7777777777777778,\"#fb9f3a\"],[0.8888888888888888,\"#fdca26\"],[1.0,\"#f0f921\"]]}],\"heatmap\":[{\"type\":\"heatmap\",\"colorbar\":{\"outlinewidth\":0,\"ticks\":\"\"},\"colorscale\":[[0.0,\"#0d0887\"],[0.1111111111111111,\"#46039f\"],[0.2222222222222222,\"#7201a8\"],[0.3333333333333333,\"#9c179e\"],[0.4444444444444444,\"#bd3786\"],[0.5555555555555556,\"#d8576b\"],[0.6666666666666666,\"#ed7953\"],[0.7777777777777778,\"#fb9f3a\"],[0.8888888888888888,\"#fdca26\"],[1.0,\"#f0f921\"]]}],\"heatmapgl\":[{\"type\":\"heatmapgl\",\"colorbar\":{\"outlinewidth\":0,\"ticks\":\"\"},\"colorscale\":[[0.0,\"#0d0887\"],[0.1111111111111111,\"#46039f\"],[0.2222222222222222,\"#7201a8\"],[0.3333333333333333,\"#9c179e\"],[0.4444444444444444,\"#bd3786\"],[0.5555555555555556,\"#d8576b\"],[0.6666666666666666,\"#ed7953\"],[0.7777777777777778,\"#fb9f3a\"],[0.8888888888888888,\"#fdca26\"],[1.0,\"#f0f921\"]]}],\"contourcarpet\":[{\"type\":\"contourcarpet\",\"colorbar\":{\"outlinewidth\":0,\"ticks\":\"\"}}],\"contour\":[{\"type\":\"contour\",\"colorbar\":{\"outlinewidth\":0,\"ticks\":\"\"},\"colorscale\":[[0.0,\"#0d0887\"],[0.1111111111111111,\"#46039f\"],[0.2222222222222222,\"#7201a8\"],[0.3333333333333333,\"#9c179e\"],[0.4444444444444444,\"#bd3786\"],[0.5555555555555556,\"#d8576b\"],[0.6666666666666666,\"#ed7953\"],[0.7777777777777778,\"#fb9f3a\"],[0.8888888888888888,\"#fdca26\"],[1.0,\"#f0f921\"]]}],\"surface\":[{\"type\":\"surface\",\"colorbar\":{\"outlinewidth\":0,\"ticks\":\"\"},\"colorscale\":[[0.0,\"#0d0887\"],[0.1111111111111111,\"#46039f\"],[0.2222222222222222,\"#7201a8\"],[0.3333333333333333,\"#9c179e\"],[0.4444444444444444,\"#bd3786\"],[0.5555555555555556,\"#d8576b\"],[0.6666666666666666,\"#ed7953\"],[0.7777777777777778,\"#fb9f3a\"],[0.8888888888888888,\"#fdca26\"],[1.0,\"#f0f921\"]]}],\"mesh3d\":[{\"type\":\"mesh3d\",\"colorbar\":{\"outlinewidth\":0,\"ticks\":\"\"}}],\"scatter\":[{\"fillpattern\":{\"fillmode\":\"overlay\",\"size\":10,\"solidity\":0.2},\"type\":\"scatter\"}],\"parcoords\":[{\"type\":\"parcoords\",\"line\":{\"colorbar\":{\"outlinewidth\":0,\"ticks\":\"\"}}}],\"scatterpolargl\":[{\"type\":\"scatterpolargl\",\"marker\":{\"colorbar\":{\"outlinewidth\":0,\"ticks\":\"\"}}}],\"bar\":[{\"error_x\":{\"color\":\"#2a3f5f\"},\"error_y\":{\"color\":\"#2a3f5f\"},\"marker\":{\"line\":{\"color\":\"#E5ECF6\",\"width\":0.5},\"pattern\":{\"fillmode\":\"overlay\",\"size\":10,\"solidity\":0.2}},\"type\":\"bar\"}],\"scattergeo\":[{\"type\":\"scattergeo\",\"marker\":{\"colorbar\":{\"outlinewidth\":0,\"ticks\":\"\"}}}],\"scatterpolar\":[{\"type\":\"scatterpolar\",\"marker\":{\"colorbar\":{\"outlinewidth\":0,\"ticks\":\"\"}}}],\"histogram\":[{\"marker\":{\"pattern\":{\"fillmode\":\"overlay\",\"size\":10,\"solidity\":0.2}},\"type\":\"histogram\"}],\"scattergl\":[{\"type\":\"scattergl\",\"marker\":{\"colorbar\":{\"outlinewidth\":0,\"ticks\":\"\"}}}],\"scatter3d\":[{\"type\":\"scatter3d\",\"line\":{\"colorbar\":{\"outlinewidth\":0,\"ticks\":\"\"}},\"marker\":{\"colorbar\":{\"outlinewidth\":0,\"ticks\":\"\"}}}],\"scattermapbox\":[{\"type\":\"scattermapbox\",\"marker\":{\"colorbar\":{\"outlinewidth\":0,\"ticks\":\"\"}}}],\"scatterternary\":[{\"type\":\"scatterternary\",\"marker\":{\"colorbar\":{\"outlinewidth\":0,\"ticks\":\"\"}}}],\"scattercarpet\":[{\"type\":\"scattercarpet\",\"marker\":{\"colorbar\":{\"outlinewidth\":0,\"ticks\":\"\"}}}],\"carpet\":[{\"aaxis\":{\"endlinecolor\":\"#2a3f5f\",\"gridcolor\":\"white\",\"linecolor\":\"white\",\"minorgridcolor\":\"white\",\"startlinecolor\":\"#2a3f5f\"},\"baxis\":{\"endlinecolor\":\"#2a3f5f\",\"gridcolor\":\"white\",\"linecolor\":\"white\",\"minorgridcolor\":\"white\",\"startlinecolor\":\"#2a3f5f\"},\"type\":\"carpet\"}],\"table\":[{\"cells\":{\"fill\":{\"color\":\"#EBF0F8\"},\"line\":{\"color\":\"white\"}},\"header\":{\"fill\":{\"color\":\"#C8D4E3\"},\"line\":{\"color\":\"white\"}},\"type\":\"table\"}],\"barpolar\":[{\"marker\":{\"line\":{\"color\":\"#E5ECF6\",\"width\":0.5},\"pattern\":{\"fillmode\":\"overlay\",\"size\":10,\"solidity\":0.2}},\"type\":\"barpolar\"}],\"pie\":[{\"automargin\":true,\"type\":\"pie\"}]},\"layout\":{\"autotypenumbers\":\"strict\",\"colorway\":[\"#636efa\",\"#EF553B\",\"#00cc96\",\"#ab63fa\",\"#FFA15A\",\"#19d3f3\",\"#FF6692\",\"#B6E880\",\"#FF97FF\",\"#FECB52\"],\"font\":{\"color\":\"#2a3f5f\"},\"hovermode\":\"closest\",\"hoverlabel\":{\"align\":\"left\"},\"paper_bgcolor\":\"white\",\"plot_bgcolor\":\"#E5ECF6\",\"polar\":{\"bgcolor\":\"#E5ECF6\",\"angularaxis\":{\"gridcolor\":\"white\",\"linecolor\":\"white\",\"ticks\":\"\"},\"radialaxis\":{\"gridcolor\":\"white\",\"linecolor\":\"white\",\"ticks\":\"\"}},\"ternary\":{\"bgcolor\":\"#E5ECF6\",\"aaxis\":{\"gridcolor\":\"white\",\"linecolor\":\"white\",\"ticks\":\"\"},\"baxis\":{\"gridcolor\":\"white\",\"linecolor\":\"white\",\"ticks\":\"\"},\"caxis\":{\"gridcolor\":\"white\",\"linecolor\":\"white\",\"ticks\":\"\"}},\"coloraxis\":{\"colorbar\":{\"outlinewidth\":0,\"ticks\":\"\"}},\"colorscale\":{\"sequential\":[[0.0,\"#0d0887\"],[0.1111111111111111,\"#46039f\"],[0.2222222222222222,\"#7201a8\"],[0.3333333333333333,\"#9c179e\"],[0.4444444444444444,\"#bd3786\"],[0.5555555555555556,\"#d8576b\"],[0.6666666666666666,\"#ed7953\"],[0.7777777777777778,\"#fb9f3a\"],[0.8888888888888888,\"#fdca26\"],[1.0,\"#f0f921\"]],\"sequentialminus\":[[0.0,\"#0d0887\"],[0.1111111111111111,\"#46039f\"],[0.2222222222222222,\"#7201a8\"],[0.3333333333333333,\"#9c179e\"],[0.4444444444444444,\"#bd3786\"],[0.5555555555555556,\"#d8576b\"],[0.6666666666666666,\"#ed7953\"],[0.7777777777777778,\"#fb9f3a\"],[0.8888888888888888,\"#fdca26\"],[1.0,\"#f0f921\"]],\"diverging\":[[0,\"#8e0152\"],[0.1,\"#c51b7d\"],[0.2,\"#de77ae\"],[0.3,\"#f1b6da\"],[0.4,\"#fde0ef\"],[0.5,\"#f7f7f7\"],[0.6,\"#e6f5d0\"],[0.7,\"#b8e186\"],[0.8,\"#7fbc41\"],[0.9,\"#4d9221\"],[1,\"#276419\"]]},\"xaxis\":{\"gridcolor\":\"white\",\"linecolor\":\"white\",\"ticks\":\"\",\"title\":{\"standoff\":15},\"zerolinecolor\":\"white\",\"automargin\":true,\"zerolinewidth\":2},\"yaxis\":{\"gridcolor\":\"white\",\"linecolor\":\"white\",\"ticks\":\"\",\"title\":{\"standoff\":15},\"zerolinecolor\":\"white\",\"automargin\":true,\"zerolinewidth\":2},\"scene\":{\"xaxis\":{\"backgroundcolor\":\"#E5ECF6\",\"gridcolor\":\"white\",\"linecolor\":\"white\",\"showbackground\":true,\"ticks\":\"\",\"zerolinecolor\":\"white\",\"gridwidth\":2},\"yaxis\":{\"backgroundcolor\":\"#E5ECF6\",\"gridcolor\":\"white\",\"linecolor\":\"white\",\"showbackground\":true,\"ticks\":\"\",\"zerolinecolor\":\"white\",\"gridwidth\":2},\"zaxis\":{\"backgroundcolor\":\"#E5ECF6\",\"gridcolor\":\"white\",\"linecolor\":\"white\",\"showbackground\":true,\"ticks\":\"\",\"zerolinecolor\":\"white\",\"gridwidth\":2}},\"shapedefaults\":{\"line\":{\"color\":\"#2a3f5f\"}},\"annotationdefaults\":{\"arrowcolor\":\"#2a3f5f\",\"arrowhead\":0,\"arrowwidth\":1},\"geo\":{\"bgcolor\":\"white\",\"landcolor\":\"#E5ECF6\",\"subunitcolor\":\"white\",\"showland\":true,\"showlakes\":true,\"lakecolor\":\"white\"},\"title\":{\"x\":0.05},\"mapbox\":{\"style\":\"light\"}}},\"xaxis\":{\"anchor\":\"y\",\"domain\":[0.0,1.0],\"title\":{\"text\":\"x\"},\"range\":[0,120],\"tick0\":0,\"dtick\":10},\"yaxis\":{\"anchor\":\"x\",\"domain\":[0.0,1.0],\"title\":{\"text\":\"y\"},\"range\":[0,53.3],\"visible\":false},\"coloraxis\":{\"colorbar\":{\"title\":{\"text\":\"Predictions\"}},\"colorscale\":[[0,\"lime\"],[0.01,\"gray\"],[0.02,\"black\"],[0.2,\"red\"],[0.4,\"orange\"],[0.6,\"gold\"],[0.8,\"yellow\"],[1,\"white\"]],\"cmin\":0,\"cmax\":1},\"legend\":{\"tracegroupgap\":0},\"margin\":{\"t\":60},\"height\":565,\"width\":1000,\"updatemenus\":[{\"buttons\":[{\"args\":[null,{\"frame\":{\"duration\":130,\"redraw\":false},\"mode\":\"immediate\",\"fromcurrent\":true,\"transition\":{\"duration\":0,\"easing\":\"linear\"}}],\"label\":\"&#9654;\",\"method\":\"animate\"},{\"args\":[[null],{\"frame\":{\"duration\":0,\"redraw\":false},\"mode\":\"immediate\",\"fromcurrent\":true,\"transition\":{\"duration\":0,\"easing\":\"linear\"}}],\"label\":\"&#9724;\",\"method\":\"animate\"}],\"direction\":\"left\",\"pad\":{\"r\":10,\"t\":70},\"showactive\":false,\"type\":\"buttons\",\"x\":0.1,\"xanchor\":\"right\",\"y\":0,\"yanchor\":\"top\"}],\"sliders\":[{\"active\":0,\"currentvalue\":{\"prefix\":\"frameId=\"},\"len\":0.9,\"pad\":{\"b\":10,\"t\":60},\"steps\":[{\"args\":[[\"1\"],{\"frame\":{\"duration\":0,\"redraw\":false},\"mode\":\"immediate\",\"fromcurrent\":true,\"transition\":{\"duration\":0,\"easing\":\"linear\"}}],\"label\":\"1\",\"method\":\"animate\"},{\"args\":[[\"2\"],{\"frame\":{\"duration\":0,\"redraw\":false},\"mode\":\"immediate\",\"fromcurrent\":true,\"transition\":{\"duration\":0,\"easing\":\"linear\"}}],\"label\":\"2\",\"method\":\"animate\"},{\"args\":[[\"3\"],{\"frame\":{\"duration\":0,\"redraw\":false},\"mode\":\"immediate\",\"fromcurrent\":true,\"transition\":{\"duration\":0,\"easing\":\"linear\"}}],\"label\":\"3\",\"method\":\"animate\"},{\"args\":[[\"4\"],{\"frame\":{\"duration\":0,\"redraw\":false},\"mode\":\"immediate\",\"fromcurrent\":true,\"transition\":{\"duration\":0,\"easing\":\"linear\"}}],\"label\":\"4\",\"method\":\"animate\"},{\"args\":[[\"5\"],{\"frame\":{\"duration\":0,\"redraw\":false},\"mode\":\"immediate\",\"fromcurrent\":true,\"transition\":{\"duration\":0,\"easing\":\"linear\"}}],\"label\":\"5\",\"method\":\"animate\"},{\"args\":[[\"6\"],{\"frame\":{\"duration\":0,\"redraw\":false},\"mode\":\"immediate\",\"fromcurrent\":true,\"transition\":{\"duration\":0,\"easing\":\"linear\"}}],\"label\":\"6\",\"method\":\"animate\"},{\"args\":[[\"7\"],{\"frame\":{\"duration\":0,\"redraw\":false},\"mode\":\"immediate\",\"fromcurrent\":true,\"transition\":{\"duration\":0,\"easing\":\"linear\"}}],\"label\":\"7\",\"method\":\"animate\"},{\"args\":[[\"8\"],{\"frame\":{\"duration\":0,\"redraw\":false},\"mode\":\"immediate\",\"fromcurrent\":true,\"transition\":{\"duration\":0,\"easing\":\"linear\"}}],\"label\":\"8\",\"method\":\"animate\"},{\"args\":[[\"9\"],{\"frame\":{\"duration\":0,\"redraw\":false},\"mode\":\"immediate\",\"fromcurrent\":true,\"transition\":{\"duration\":0,\"easing\":\"linear\"}}],\"label\":\"9\",\"method\":\"animate\"},{\"args\":[[\"10\"],{\"frame\":{\"duration\":0,\"redraw\":false},\"mode\":\"immediate\",\"fromcurrent\":true,\"transition\":{\"duration\":0,\"easing\":\"linear\"}}],\"label\":\"10\",\"method\":\"animate\"},{\"args\":[[\"11\"],{\"frame\":{\"duration\":0,\"redraw\":false},\"mode\":\"immediate\",\"fromcurrent\":true,\"transition\":{\"duration\":0,\"easing\":\"linear\"}}],\"label\":\"11\",\"method\":\"animate\"},{\"args\":[[\"12\"],{\"frame\":{\"duration\":0,\"redraw\":false},\"mode\":\"immediate\",\"fromcurrent\":true,\"transition\":{\"duration\":0,\"easing\":\"linear\"}}],\"label\":\"12\",\"method\":\"animate\"},{\"args\":[[\"13\"],{\"frame\":{\"duration\":0,\"redraw\":false},\"mode\":\"immediate\",\"fromcurrent\":true,\"transition\":{\"duration\":0,\"easing\":\"linear\"}}],\"label\":\"13\",\"method\":\"animate\"},{\"args\":[[\"14\"],{\"frame\":{\"duration\":0,\"redraw\":false},\"mode\":\"immediate\",\"fromcurrent\":true,\"transition\":{\"duration\":0,\"easing\":\"linear\"}}],\"label\":\"14\",\"method\":\"animate\"},{\"args\":[[\"15\"],{\"frame\":{\"duration\":0,\"redraw\":false},\"mode\":\"immediate\",\"fromcurrent\":true,\"transition\":{\"duration\":0,\"easing\":\"linear\"}}],\"label\":\"15\",\"method\":\"animate\"},{\"args\":[[\"16\"],{\"frame\":{\"duration\":0,\"redraw\":false},\"mode\":\"immediate\",\"fromcurrent\":true,\"transition\":{\"duration\":0,\"easing\":\"linear\"}}],\"label\":\"16\",\"method\":\"animate\"},{\"args\":[[\"17\"],{\"frame\":{\"duration\":0,\"redraw\":false},\"mode\":\"immediate\",\"fromcurrent\":true,\"transition\":{\"duration\":0,\"easing\":\"linear\"}}],\"label\":\"17\",\"method\":\"animate\"},{\"args\":[[\"18\"],{\"frame\":{\"duration\":0,\"redraw\":false},\"mode\":\"immediate\",\"fromcurrent\":true,\"transition\":{\"duration\":0,\"easing\":\"linear\"}}],\"label\":\"18\",\"method\":\"animate\"},{\"args\":[[\"19\"],{\"frame\":{\"duration\":0,\"redraw\":false},\"mode\":\"immediate\",\"fromcurrent\":true,\"transition\":{\"duration\":0,\"easing\":\"linear\"}}],\"label\":\"19\",\"method\":\"animate\"},{\"args\":[[\"20\"],{\"frame\":{\"duration\":0,\"redraw\":false},\"mode\":\"immediate\",\"fromcurrent\":true,\"transition\":{\"duration\":0,\"easing\":\"linear\"}}],\"label\":\"20\",\"method\":\"animate\"},{\"args\":[[\"21\"],{\"frame\":{\"duration\":0,\"redraw\":false},\"mode\":\"immediate\",\"fromcurrent\":true,\"transition\":{\"duration\":0,\"easing\":\"linear\"}}],\"label\":\"21\",\"method\":\"animate\"},{\"args\":[[\"22\"],{\"frame\":{\"duration\":0,\"redraw\":false},\"mode\":\"immediate\",\"fromcurrent\":true,\"transition\":{\"duration\":0,\"easing\":\"linear\"}}],\"label\":\"22\",\"method\":\"animate\"},{\"args\":[[\"23\"],{\"frame\":{\"duration\":0,\"redraw\":false},\"mode\":\"immediate\",\"fromcurrent\":true,\"transition\":{\"duration\":0,\"easing\":\"linear\"}}],\"label\":\"23\",\"method\":\"animate\"},{\"args\":[[\"24\"],{\"frame\":{\"duration\":0,\"redraw\":false},\"mode\":\"immediate\",\"fromcurrent\":true,\"transition\":{\"duration\":0,\"easing\":\"linear\"}}],\"label\":\"24\",\"method\":\"animate\"},{\"args\":[[\"25\"],{\"frame\":{\"duration\":0,\"redraw\":false},\"mode\":\"immediate\",\"fromcurrent\":true,\"transition\":{\"duration\":0,\"easing\":\"linear\"}}],\"label\":\"25\",\"method\":\"animate\"},{\"args\":[[\"26\"],{\"frame\":{\"duration\":0,\"redraw\":false},\"mode\":\"immediate\",\"fromcurrent\":true,\"transition\":{\"duration\":0,\"easing\":\"linear\"}}],\"label\":\"26\",\"method\":\"animate\"},{\"args\":[[\"27\"],{\"frame\":{\"duration\":0,\"redraw\":false},\"mode\":\"immediate\",\"fromcurrent\":true,\"transition\":{\"duration\":0,\"easing\":\"linear\"}}],\"label\":\"27\",\"method\":\"animate\"},{\"args\":[[\"28\"],{\"frame\":{\"duration\":0,\"redraw\":false},\"mode\":\"immediate\",\"fromcurrent\":true,\"transition\":{\"duration\":0,\"easing\":\"linear\"}}],\"label\":\"28\",\"method\":\"animate\"},{\"args\":[[\"29\"],{\"frame\":{\"duration\":0,\"redraw\":false},\"mode\":\"immediate\",\"fromcurrent\":true,\"transition\":{\"duration\":0,\"easing\":\"linear\"}}],\"label\":\"29\",\"method\":\"animate\"},{\"args\":[[\"30\"],{\"frame\":{\"duration\":0,\"redraw\":false},\"mode\":\"immediate\",\"fromcurrent\":true,\"transition\":{\"duration\":0,\"easing\":\"linear\"}}],\"label\":\"30\",\"method\":\"animate\"},{\"args\":[[\"31\"],{\"frame\":{\"duration\":0,\"redraw\":false},\"mode\":\"immediate\",\"fromcurrent\":true,\"transition\":{\"duration\":0,\"easing\":\"linear\"}}],\"label\":\"31\",\"method\":\"animate\"},{\"args\":[[\"32\"],{\"frame\":{\"duration\":0,\"redraw\":false},\"mode\":\"immediate\",\"fromcurrent\":true,\"transition\":{\"duration\":0,\"easing\":\"linear\"}}],\"label\":\"32\",\"method\":\"animate\"},{\"args\":[[\"33\"],{\"frame\":{\"duration\":0,\"redraw\":false},\"mode\":\"immediate\",\"fromcurrent\":true,\"transition\":{\"duration\":0,\"easing\":\"linear\"}}],\"label\":\"33\",\"method\":\"animate\"},{\"args\":[[\"34\"],{\"frame\":{\"duration\":0,\"redraw\":false},\"mode\":\"immediate\",\"fromcurrent\":true,\"transition\":{\"duration\":0,\"easing\":\"linear\"}}],\"label\":\"34\",\"method\":\"animate\"},{\"args\":[[\"35\"],{\"frame\":{\"duration\":0,\"redraw\":false},\"mode\":\"immediate\",\"fromcurrent\":true,\"transition\":{\"duration\":0,\"easing\":\"linear\"}}],\"label\":\"35\",\"method\":\"animate\"},{\"args\":[[\"36\"],{\"frame\":{\"duration\":0,\"redraw\":false},\"mode\":\"immediate\",\"fromcurrent\":true,\"transition\":{\"duration\":0,\"easing\":\"linear\"}}],\"label\":\"36\",\"method\":\"animate\"},{\"args\":[[\"37\"],{\"frame\":{\"duration\":0,\"redraw\":false},\"mode\":\"immediate\",\"fromcurrent\":true,\"transition\":{\"duration\":0,\"easing\":\"linear\"}}],\"label\":\"37\",\"method\":\"animate\"},{\"args\":[[\"38\"],{\"frame\":{\"duration\":0,\"redraw\":false},\"mode\":\"immediate\",\"fromcurrent\":true,\"transition\":{\"duration\":0,\"easing\":\"linear\"}}],\"label\":\"38\",\"method\":\"animate\"},{\"args\":[[\"39\"],{\"frame\":{\"duration\":0,\"redraw\":false},\"mode\":\"immediate\",\"fromcurrent\":true,\"transition\":{\"duration\":0,\"easing\":\"linear\"}}],\"label\":\"39\",\"method\":\"animate\"},{\"args\":[[\"40\"],{\"frame\":{\"duration\":0,\"redraw\":false},\"mode\":\"immediate\",\"fromcurrent\":true,\"transition\":{\"duration\":0,\"easing\":\"linear\"}}],\"label\":\"40\",\"method\":\"animate\"},{\"args\":[[\"41\"],{\"frame\":{\"duration\":0,\"redraw\":false},\"mode\":\"immediate\",\"fromcurrent\":true,\"transition\":{\"duration\":0,\"easing\":\"linear\"}}],\"label\":\"41\",\"method\":\"animate\"},{\"args\":[[\"42\"],{\"frame\":{\"duration\":0,\"redraw\":false},\"mode\":\"immediate\",\"fromcurrent\":true,\"transition\":{\"duration\":0,\"easing\":\"linear\"}}],\"label\":\"42\",\"method\":\"animate\"},{\"args\":[[\"43\"],{\"frame\":{\"duration\":0,\"redraw\":false},\"mode\":\"immediate\",\"fromcurrent\":true,\"transition\":{\"duration\":0,\"easing\":\"linear\"}}],\"label\":\"43\",\"method\":\"animate\"},{\"args\":[[\"44\"],{\"frame\":{\"duration\":0,\"redraw\":false},\"mode\":\"immediate\",\"fromcurrent\":true,\"transition\":{\"duration\":0,\"easing\":\"linear\"}}],\"label\":\"44\",\"method\":\"animate\"},{\"args\":[[\"45\"],{\"frame\":{\"duration\":0,\"redraw\":false},\"mode\":\"immediate\",\"fromcurrent\":true,\"transition\":{\"duration\":0,\"easing\":\"linear\"}}],\"label\":\"45\",\"method\":\"animate\"},{\"args\":[[\"46\"],{\"frame\":{\"duration\":0,\"redraw\":false},\"mode\":\"immediate\",\"fromcurrent\":true,\"transition\":{\"duration\":0,\"easing\":\"linear\"}}],\"label\":\"46\",\"method\":\"animate\"}],\"x\":0.1,\"xanchor\":\"left\",\"y\":0,\"yanchor\":\"top\"}],\"shapes\":[{\"fillcolor\":\"gray\",\"type\":\"rect\",\"x0\":0,\"x1\":10,\"xref\":\"x\",\"y0\":0,\"y1\":1,\"yref\":\"y domain\"},{\"fillcolor\":\"gray\",\"type\":\"rect\",\"x0\":110,\"x1\":120,\"xref\":\"x\",\"y0\":0,\"y1\":1,\"yref\":\"y domain\"},{\"line\":{\"color\":\"blue\",\"dash\":\"dash\"},\"opacity\":0.5,\"type\":\"line\",\"x0\":58,\"x1\":58,\"xref\":\"x\",\"y0\":0,\"y1\":1,\"yref\":\"y domain\"}],\"plot_bgcolor\":\"#567D46\"},                        {\"responsive\": true}                    ).then(function(){\n",
       "                            Plotly.addFrames('40c0caa6-79e9-44c4-9d0b-5c9ce8e03dca', [{\"data\":[{\"hovertemplate\":\"frameId=1\\u003cbr\\u003ex=%{x}\\u003cbr\\u003ey=%{y}\\u003cbr\\u003ePredictions=%{marker.color}\\u003cextra\\u003e\\u003c\\u002fextra\\u003e\",\"legendgroup\":\"\",\"marker\":{\"color\":[0.02,0.02,0.02,0.03853435441851616,0.02,0.07095754146575928,0.02,0.02,0.02208409272134304,0.09448187053203583,0.01,0.01,0.01,0.01,0.0,0.01,0.01,0.01,0.01,0.01,0.17946134507656097,0.01],\"coloraxis\":\"coloraxis\",\"symbol\":\"circle\"},\"mode\":\"markers\",\"name\":\"\",\"orientation\":\"v\",\"showlegend\":false,\"x\":[58.94,62.43,64.14,63.42,71.18,58.66,63.86,63.67,58.77,58.49,56.62,56.91,56.9,56.65,50.92,57.46,56.88,53.21,55.99,56.77,59.2,56.85],\"xaxis\":\"x\",\"y\":[21.05,21.65,15.05,24.65,24.64,26.54,36.04,29.25,29.44,23.62,23.82,34.01,17.61,27.09,24.05,23.97,25.72,21.94,28.66,20.65,18.87,22.26],\"yaxis\":\"y\",\"type\":\"scatter\"}],\"name\":\"1\"},{\"data\":[{\"hovertemplate\":\"frameId=2\\u003cbr\\u003ex=%{x}\\u003cbr\\u003ey=%{y}\\u003cbr\\u003ePredictions=%{marker.color}\\u003cextra\\u003e\\u003c\\u002fextra\\u003e\",\"legendgroup\":\"\",\"marker\":{\"color\":[0.02,0.02,0.02,0.04113350436091423,0.02,0.07543333619832993,0.02,0.02,0.022805724292993546,0.08888643234968185,0.01,0.01,0.01,0.01,0.0,0.01,0.01,0.01,0.01,0.01,0.19528257846832275,0.01],\"coloraxis\":\"coloraxis\",\"symbol\":\"circle\"},\"mode\":\"markers\",\"name\":\"\",\"orientation\":\"v\",\"showlegend\":false,\"x\":[58.94,62.39,64.08,63.42,71.19,58.66,63.92,63.66,58.77,58.49,56.6,56.91,56.9,56.66,50.92,57.47,56.89,53.23,55.99,56.77,59.19,56.85],\"xaxis\":\"x\",\"y\":[21.05,21.58,15.02,24.65,24.63,26.54,36.06,29.2,29.45,23.62,23.83,34.01,17.61,27.08,24.05,23.97,25.72,21.94,28.67,20.65,18.87,22.26],\"yaxis\":\"y\",\"type\":\"scatter\"}],\"name\":\"2\"},{\"data\":[{\"hovertemplate\":\"frameId=3\\u003cbr\\u003ex=%{x}\\u003cbr\\u003ey=%{y}\\u003cbr\\u003ePredictions=%{marker.color}\\u003cextra\\u003e\\u003c\\u002fextra\\u003e\",\"legendgroup\":\"\",\"marker\":{\"color\":[0.02,0.02,0.02,0.04064199700951576,0.02,0.07396026700735092,0.02,0.02,0.02,0.08154496550559998,0.01,0.01,0.01,0.01,0.0,0.01,0.01,0.01,0.01,0.01,0.19222374260425568,0.01],\"coloraxis\":\"coloraxis\",\"symbol\":\"circle\"},\"mode\":\"markers\",\"name\":\"\",\"orientation\":\"v\",\"showlegend\":false,\"x\":[58.94,62.34,64.03,63.42,71.19,58.66,63.96,63.67,58.77,58.49,56.58,56.91,56.9,56.66,50.92,57.48,56.89,53.25,56.0,56.77,59.19,56.85],\"xaxis\":\"x\",\"y\":[21.06,21.52,15.0,24.65,24.62,26.53,36.07,29.16,29.46,23.64,23.83,34.01,17.61,27.08,24.05,23.97,25.72,21.94,28.66,20.64,18.87,22.26],\"yaxis\":\"y\",\"type\":\"scatter\"}],\"name\":\"3\"},{\"data\":[{\"hovertemplate\":\"frameId=4\\u003cbr\\u003ex=%{x}\\u003cbr\\u003ey=%{y}\\u003cbr\\u003ePredictions=%{marker.color}\\u003cextra\\u003e\\u003c\\u002fextra\\u003e\",\"legendgroup\":\"\",\"marker\":{\"color\":[0.02,0.02,0.02,0.042865000665187836,0.02,0.07748620957136154,0.02,0.02,0.02,0.08511552214622498,0.01,0.01,0.01,0.01,0.0,0.01,0.01,0.01,0.01,0.01,0.190078467130661,0.01],\"coloraxis\":\"coloraxis\",\"symbol\":\"circle\"},\"mode\":\"markers\",\"name\":\"\",\"orientation\":\"v\",\"showlegend\":false,\"x\":[58.93,62.29,64.0,63.42,71.2,58.65,64.0,63.67,58.76,58.5,56.57,56.92,56.9,56.67,50.92,57.5,56.9,53.27,56.02,56.78,59.19,56.85],\"xaxis\":\"x\",\"y\":[21.08,21.45,14.97,24.65,24.62,26.52,36.08,29.12,29.47,23.66,23.83,34.01,17.61,27.07,24.05,23.98,25.72,21.92,28.65,20.63,18.87,22.25],\"yaxis\":\"y\",\"type\":\"scatter\"}],\"name\":\"4\"},{\"data\":[{\"hovertemplate\":\"frameId=5\\u003cbr\\u003ex=%{x}\\u003cbr\\u003ey=%{y}\\u003cbr\\u003ePredictions=%{marker.color}\\u003cextra\\u003e\\u003c\\u002fextra\\u003e\",\"legendgroup\":\"\",\"marker\":{\"color\":[0.02,0.02,0.02,0.03887472301721573,0.02,0.07923262566328049,0.02,0.02,0.02,0.08805082738399506,0.01,0.01,0.01,0.01,0.0,0.01,0.01,0.01,0.01,0.01,0.18972913920879364,0.01],\"coloraxis\":\"coloraxis\",\"symbol\":\"circle\"},\"mode\":\"markers\",\"name\":\"\",\"orientation\":\"v\",\"showlegend\":false,\"x\":[58.9,62.21,63.97,63.42,71.22,58.63,64.04,63.67,58.73,58.51,56.53,56.92,56.91,56.69,50.92,57.55,56.92,53.3,56.03,56.8,59.19,56.87],\"xaxis\":\"x\",\"y\":[21.11,21.39,14.94,24.64,24.61,26.49,36.11,29.08,29.51,23.71,23.83,34.01,17.61,27.05,24.05,24.01,25.72,21.9,28.64,20.6,18.87,22.24],\"yaxis\":\"y\",\"type\":\"scatter\"}],\"name\":\"5\"},{\"data\":[{\"hovertemplate\":\"frameId=6\\u003cbr\\u003ex=%{x}\\u003cbr\\u003ey=%{y}\\u003cbr\\u003ePredictions=%{marker.color}\\u003cextra\\u003e\\u003c\\u002fextra\\u003e\",\"legendgroup\":\"\",\"marker\":{\"color\":[0.02,0.02,0.02,0.04093059524893761,0.02,0.08058977872133255,0.02,0.02,0.020595313981175423,0.09184868633747101,0.01,0.01,0.01,0.01,0.0,0.01,0.01,0.01,0.01,0.01,0.19502298533916473,0.01],\"coloraxis\":\"coloraxis\",\"symbol\":\"circle\"},\"mode\":\"markers\",\"name\":\"\",\"orientation\":\"v\",\"showlegend\":false,\"x\":[58.86,62.14,63.95,63.41,71.24,58.6,64.09,63.67,58.67,58.53,56.51,56.92,56.91,56.74,50.92,57.61,56.96,53.36,56.06,56.83,59.19,56.89],\"xaxis\":\"x\",\"y\":[21.19,21.33,14.92,24.63,24.61,26.44,36.11,29.05,29.57,23.81,23.83,34.01,17.61,27.0,24.06,24.05,25.72,21.88,28.62,20.56,18.87,22.23],\"yaxis\":\"y\",\"type\":\"scatter\"}],\"name\":\"6\"},{\"data\":[{\"hovertemplate\":\"frameId=7\\u003cbr\\u003ex=%{x}\\u003cbr\\u003ey=%{y}\\u003cbr\\u003ePredictions=%{marker.color}\\u003cextra\\u003e\\u003c\\u002fextra\\u003e\",\"legendgroup\":\"\",\"marker\":{\"color\":[0.02,0.02,0.02,0.03932621330022812,0.02,0.07266493886709213,0.02,0.02,0.02,0.0944068431854248,0.01,0.01,0.01,0.01,0.0,0.01,0.01,0.01,0.01,0.01,0.19051095843315125,0.01],\"coloraxis\":\"coloraxis\",\"symbol\":\"circle\"},\"mode\":\"markers\",\"name\":\"\",\"orientation\":\"v\",\"showlegend\":false,\"x\":[58.8,62.04,63.93,63.39,71.27,58.56,64.16,63.67,58.55,58.55,56.47,56.93,56.92,56.83,50.92,57.68,57.02,53.44,56.08,56.86,59.18,56.94],\"xaxis\":\"x\",\"y\":[21.3,21.28,14.91,24.6,24.61,26.38,36.1,29.04,29.64,23.94,23.83,34.0,17.61,26.92,24.07,24.11,25.7,21.84,28.61,20.5,18.87,22.24],\"yaxis\":\"y\",\"type\":\"scatter\"}],\"name\":\"7\"},{\"data\":[{\"hovertemplate\":\"frameId=8\\u003cbr\\u003ex=%{x}\\u003cbr\\u003ey=%{y}\\u003cbr\\u003ePredictions=%{marker.color}\\u003cextra\\u003e\\u003c\\u002fextra\\u003e\",\"legendgroup\":\"\",\"marker\":{\"color\":[0.02,0.02,0.02,0.03866221383213997,0.02,0.06769686192274094,0.02,0.02,0.02,0.10247832536697388,0.01,0.01,0.01,0.01,0.0,0.01,0.01,0.01,0.01,0.01,0.17909489572048187,0.01],\"coloraxis\":\"coloraxis\",\"symbol\":\"circle\"},\"mode\":\"markers\",\"name\":\"\",\"orientation\":\"v\",\"showlegend\":false,\"x\":[58.73,61.97,63.91,63.34,71.31,58.53,64.23,63.64,58.39,58.58,56.4,56.94,56.95,56.93,50.93,57.77,57.08,53.55,56.1,56.91,59.16,57.02],\"xaxis\":\"x\",\"y\":[21.46,21.23,14.89,24.54,24.62,26.31,36.1,29.02,29.72,24.11,23.84,33.99,17.62,26.83,24.09,24.18,25.68,21.8,28.6,20.43,18.87,22.26],\"yaxis\":\"y\",\"type\":\"scatter\"}],\"name\":\"8\"},{\"data\":[{\"hovertemplate\":\"frameId=9\\u003cbr\\u003ex=%{x}\\u003cbr\\u003ey=%{y}\\u003cbr\\u003ePredictions=%{marker.color}\\u003cextra\\u003e\\u003c\\u002fextra\\u003e\",\"legendgroup\":\"\",\"marker\":{\"color\":[0.02,0.02,0.02,0.029343824833631516,0.02,0.04490446671843529,0.02,0.02,0.02,0.11880791187286377,0.01,0.01,0.01,0.01,0.0,0.01,0.01,0.01,0.01,0.01,0.1738928109407425,0.01],\"coloraxis\":\"coloraxis\",\"symbol\":\"circle\"},\"mode\":\"markers\",\"name\":\"\",\"orientation\":\"v\",\"showlegend\":false,\"x\":[58.64,61.86,63.9,63.27,71.35,58.46,64.29,63.6,58.2,58.6,56.27,56.98,57.01,57.05,50.96,57.87,57.16,53.7,56.1,56.96,59.12,57.1],\"xaxis\":\"x\",\"y\":[21.65,21.19,14.87,24.45,24.64,26.24,36.09,29.0,29.8,24.29,23.86,33.97,17.62,26.72,24.14,24.27,25.65,21.76,28.59,20.36,18.86,22.3],\"yaxis\":\"y\",\"type\":\"scatter\"}],\"name\":\"9\"},{\"data\":[{\"hovertemplate\":\"frameId=10\\u003cbr\\u003ex=%{x}\\u003cbr\\u003ey=%{y}\\u003cbr\\u003ePredictions=%{marker.color}\\u003cextra\\u003e\\u003c\\u002fextra\\u003e\",\"legendgroup\":\"\",\"marker\":{\"color\":[0.02,0.02,0.02,0.029272641986608505,0.02,0.03467264771461487,0.02,0.02,0.02,0.13308565318584442,0.01,0.01,0.01,0.01,0.0,0.01,0.01,0.01,0.01,0.01,0.16962642967700958,0.01],\"coloraxis\":\"coloraxis\",\"symbol\":\"circle\"},\"mode\":\"markers\",\"name\":\"\",\"orientation\":\"v\",\"showlegend\":false,\"x\":[58.54,61.71,63.9,63.16,71.4,58.44,64.36,63.53,57.92,58.63,56.08,57.05,57.11,57.18,51.03,57.99,57.24,53.9,56.08,57.01,59.03,57.19],\"xaxis\":\"x\",\"y\":[21.87,21.18,14.86,24.34,24.66,26.19,36.09,28.98,29.87,24.5,23.9,33.92,17.62,26.6,24.23,24.37,25.62,21.71,28.58,20.25,18.86,22.36],\"yaxis\":\"y\",\"type\":\"scatter\"}],\"name\":\"10\"},{\"data\":[{\"hovertemplate\":\"frameId=11\\u003cbr\\u003ex=%{x}\\u003cbr\\u003ey=%{y}\\u003cbr\\u003ePredictions=%{marker.color}\\u003cextra\\u003e\\u003c\\u002fextra\\u003e\",\"legendgroup\":\"\",\"marker\":{\"color\":[0.02,0.02,0.02,0.031142983585596085,0.02,0.0268106646835804,0.02,0.02,0.02,0.13878163695335388,0.01,0.01,0.01,0.01,0.0,0.01,0.01,0.01,0.01,0.01,0.16433711349964142,0.01],\"coloraxis\":\"coloraxis\",\"symbol\":\"circle\"},\"mode\":\"markers\",\"name\":\"\",\"orientation\":\"v\",\"showlegend\":false,\"x\":[58.43,61.51,63.9,63.02,71.47,58.4,64.45,63.43,57.6,58.67,55.83,57.18,57.24,57.31,51.14,58.09,57.33,54.14,56.05,57.05,58.9,57.29],\"xaxis\":\"x\",\"y\":[22.13,21.2,14.85,24.22,24.67,26.15,36.07,28.95,29.91,24.74,23.95,33.82,17.62,26.5,24.34,24.5,25.56,21.68,28.59,20.14,18.83,22.44],\"yaxis\":\"y\",\"type\":\"scatter\"}],\"name\":\"11\"},{\"data\":[{\"hovertemplate\":\"frameId=12\\u003cbr\\u003ex=%{x}\\u003cbr\\u003ey=%{y}\\u003cbr\\u003ePredictions=%{marker.color}\\u003cextra\\u003e\\u003c\\u002fextra\\u003e\",\"legendgroup\":\"\",\"marker\":{\"color\":[0.02,0.02,0.02,0.03079032525420189,0.02,0.025243235751986504,0.02,0.02,0.02,0.13975979387760162,0.01,0.01,0.01,0.01,0.0,0.01,0.01,0.01,0.01,0.01,0.14899125695228577,0.01],\"coloraxis\":\"coloraxis\",\"symbol\":\"circle\"},\"mode\":\"markers\",\"name\":\"\",\"orientation\":\"v\",\"showlegend\":false,\"x\":[58.33,61.26,63.91,62.86,71.53,58.37,64.54,63.3,57.26,58.71,55.54,57.32,57.41,57.42,51.27,58.21,57.42,54.42,55.98,57.08,58.71,57.39],\"xaxis\":\"x\",\"y\":[22.4,21.24,14.84,24.09,24.69,26.1,36.03,28.9,29.96,24.95,24.02,33.71,17.62,26.43,24.48,24.61,25.51,21.64,28.61,20.0,18.8,22.56],\"yaxis\":\"y\",\"type\":\"scatter\"}],\"name\":\"12\"},{\"data\":[{\"hovertemplate\":\"frameId=13\\u003cbr\\u003ex=%{x}\\u003cbr\\u003ey=%{y}\\u003cbr\\u003ePredictions=%{marker.color}\\u003cextra\\u003e\\u003c\\u002fextra\\u003e\",\"legendgroup\":\"\",\"marker\":{\"color\":[0.02,0.02,0.02,0.03040814958512783,0.02,0.021753361448645592,0.02,0.02,0.02,0.14986370503902435,0.01,0.01,0.01,0.01,0.0,0.01,0.01,0.01,0.01,0.01,0.11711038649082184,0.01],\"coloraxis\":\"coloraxis\",\"symbol\":\"circle\"},\"mode\":\"markers\",\"name\":\"\",\"orientation\":\"v\",\"showlegend\":false,\"x\":[58.25,60.97,63.9,62.68,71.6,58.36,64.65,63.14,56.87,58.75,55.21,57.5,57.62,57.53,51.44,58.34,57.51,54.74,55.89,57.11,58.49,57.49],\"xaxis\":\"x\",\"y\":[22.69,21.33,14.83,23.99,24.71,26.06,35.98,28.83,29.97,25.17,24.1,33.55,17.62,26.37,24.64,24.73,25.46,21.64,28.65,19.87,18.76,22.7],\"yaxis\":\"y\",\"type\":\"scatter\"}],\"name\":\"13\"},{\"data\":[{\"hovertemplate\":\"frameId=14\\u003cbr\\u003ex=%{x}\\u003cbr\\u003ey=%{y}\\u003cbr\\u003ePredictions=%{marker.color}\\u003cextra\\u003e\\u003c\\u002fextra\\u003e\",\"legendgroup\":\"\",\"marker\":{\"color\":[0.02,0.02,0.02,0.04305744171142578,0.02,0.02282688021659851,0.02,0.02,0.02,0.19409066438674927,0.01,0.01,0.01,0.01,0.0,0.01,0.01,0.01,0.01,0.01,0.10966493934392929,0.01],\"coloraxis\":\"coloraxis\",\"symbol\":\"circle\"},\"mode\":\"markers\",\"name\":\"\",\"orientation\":\"v\",\"showlegend\":false,\"x\":[58.16,60.65,63.91,62.47,71.67,58.35,64.75,62.96,56.44,58.8,54.84,57.71,57.86,57.64,51.67,58.47,57.6,55.08,55.77,57.11,58.23,57.6],\"xaxis\":\"x\",\"y\":[22.99,21.44,14.83,23.89,24.74,26.04,35.9,28.73,29.97,25.38,24.18,33.35,17.62,26.32,24.8,24.86,25.41,21.66,28.7,19.75,18.71,22.87],\"yaxis\":\"y\",\"type\":\"scatter\"}],\"name\":\"14\"},{\"data\":[{\"hovertemplate\":\"frameId=15\\u003cbr\\u003ex=%{x}\\u003cbr\\u003ey=%{y}\\u003cbr\\u003ePredictions=%{marker.color}\\u003cextra\\u003e\\u003c\\u002fextra\\u003e\",\"legendgroup\":\"\",\"marker\":{\"color\":[0.02,0.02,0.02,0.04939648509025574,0.02,0.02546871453523636,0.02,0.02,0.02,0.21573522686958313,0.01,0.01,0.01,0.01,0.0,0.01,0.01,0.01,0.01,0.01,0.10337592661380768,0.01],\"coloraxis\":\"coloraxis\",\"symbol\":\"circle\"},\"mode\":\"markers\",\"name\":\"\",\"orientation\":\"v\",\"showlegend\":false,\"x\":[58.09,60.31,63.93,62.26,71.73,58.37,64.84,62.75,55.99,58.84,54.45,57.92,58.14,57.73,51.95,58.59,57.68,55.44,55.63,57.11,57.95,57.69],\"xaxis\":\"x\",\"y\":[23.31,21.58,14.83,23.83,24.77,26.05,35.78,28.62,29.93,25.57,24.27,33.11,17.61,26.31,24.96,24.99,25.38,21.73,28.76,19.62,18.63,23.06],\"yaxis\":\"y\",\"type\":\"scatter\"}],\"name\":\"15\"},{\"data\":[{\"hovertemplate\":\"frameId=16\\u003cbr\\u003ex=%{x}\\u003cbr\\u003ey=%{y}\\u003cbr\\u003ePredictions=%{marker.color}\\u003cextra\\u003e\\u003c\\u002fextra\\u003e\",\"legendgroup\":\"\",\"marker\":{\"color\":[0.02,0.021318411454558372,0.02,0.04828294366598129,0.02,0.029610686004161835,0.02,0.02,0.02,0.22316953539848328,0.01,0.01,0.01,0.01,0.0,0.01,0.01,0.01,0.01,0.01,0.09934175759553909,0.01],\"coloraxis\":\"coloraxis\",\"symbol\":\"circle\"},\"mode\":\"markers\",\"name\":\"\",\"orientation\":\"v\",\"showlegend\":false,\"x\":[58.01,59.94,63.96,62.04,71.77,58.39,64.9,62.52,55.51,58.88,54.05,58.15,58.46,57.8,52.25,58.69,57.75,55.8,55.48,57.07,57.64,57.77],\"xaxis\":\"x\",\"y\":[23.61,21.76,14.83,23.79,24.79,26.05,35.64,28.49,29.87,25.74,24.35,32.83,17.59,26.32,25.11,25.13,25.35,21.81,28.83,19.5,18.55,23.28],\"yaxis\":\"y\",\"type\":\"scatter\"}],\"name\":\"16\"},{\"data\":[{\"hovertemplate\":\"frameId=17\\u003cbr\\u003ex=%{x}\\u003cbr\\u003ey=%{y}\\u003cbr\\u003ePredictions=%{marker.color}\\u003cextra\\u003e\\u003c\\u002fextra\\u003e\",\"legendgroup\":\"\",\"marker\":{\"color\":[0.02,0.02212556265294552,0.02,0.04002514109015465,0.02,0.028020210564136505,0.02,0.02,0.02,0.22011637687683105,0.01,0.01,0.01,0.01,0.0,0.01,0.01,0.01,0.01,0.01,0.09304105490446091,0.01],\"coloraxis\":\"coloraxis\",\"symbol\":\"circle\"},\"mode\":\"markers\",\"name\":\"\",\"orientation\":\"v\",\"showlegend\":false,\"x\":[57.95,59.57,64.01,61.81,71.8,58.4,64.93,62.27,55.01,58.91,53.64,58.37,58.81,57.85,52.59,58.78,57.81,56.17,55.33,57.01,57.31,57.86],\"xaxis\":\"x\",\"y\":[23.89,21.97,14.85,23.78,24.81,26.07,35.46,28.36,29.77,25.9,24.44,32.52,17.58,26.34,25.25,25.25,25.35,21.92,28.92,19.37,18.46,23.53],\"yaxis\":\"y\",\"type\":\"scatter\"}],\"name\":\"17\"},{\"data\":[{\"hovertemplate\":\"frameId=18\\u003cbr\\u003ex=%{x}\\u003cbr\\u003ey=%{y}\\u003cbr\\u003ePredictions=%{marker.color}\\u003cextra\\u003e\\u003c\\u002fextra\\u003e\",\"legendgroup\":\"\",\"marker\":{\"color\":[0.02,0.028232036158442497,0.02,0.04567323252558708,0.02,0.02346716821193695,0.02,0.02,0.02,0.24670745432376862,0.01,0.01,0.01,0.01,0.0,0.01,0.01,0.01,0.01,0.01,0.08690151572227478,0.01],\"coloraxis\":\"coloraxis\",\"symbol\":\"circle\"},\"mode\":\"markers\",\"name\":\"\",\"orientation\":\"v\",\"showlegend\":false,\"x\":[57.88,59.21,64.08,61.6,71.82,58.43,64.93,62.01,54.5,58.93,53.24,58.58,59.2,57.9,52.96,58.86,57.84,56.53,55.18,56.92,56.96,57.92],\"xaxis\":\"x\",\"y\":[24.14,22.21,14.88,23.8,24.82,26.08,35.26,28.22,29.63,26.03,24.51,32.16,17.55,26.38,25.35,25.37,25.38,22.05,28.99,19.26,18.36,23.77],\"yaxis\":\"y\",\"type\":\"scatter\"}],\"name\":\"18\"},{\"data\":[{\"hovertemplate\":\"frameId=19\\u003cbr\\u003ex=%{x}\\u003cbr\\u003ey=%{y}\\u003cbr\\u003ePredictions=%{marker.color}\\u003cextra\\u003e\\u003c\\u002fextra\\u003e\",\"legendgroup\":\"\",\"marker\":{\"color\":[0.02,0.03183465078473091,0.02,0.04192458093166351,0.02,0.023732753470540047,0.02,0.02,0.02,0.24404320120811462,0.01,0.01,0.01,0.01,0.0,0.01,0.01,0.01,0.01,0.01,0.09368289262056351,0.01],\"coloraxis\":\"coloraxis\",\"symbol\":\"circle\"},\"mode\":\"markers\",\"name\":\"\",\"orientation\":\"v\",\"showlegend\":false,\"x\":[57.82,58.86,64.17,61.4,71.8,58.44,64.88,61.74,54.0,58.96,52.84,58.77,59.62,57.92,53.35,58.93,57.86,56.86,55.04,56.8,56.6,57.97],\"xaxis\":\"x\",\"y\":[24.37,22.46,14.92,23.85,24.83,26.09,35.01,28.07,29.47,26.15,24.57,31.77,17.53,26.42,25.42,25.49,25.42,22.21,29.04,19.14,18.26,24.01],\"yaxis\":\"y\",\"type\":\"scatter\"}],\"name\":\"19\"},{\"data\":[{\"hovertemplate\":\"frameId=20\\u003cbr\\u003ex=%{x}\\u003cbr\\u003ey=%{y}\\u003cbr\\u003ePredictions=%{marker.color}\\u003cextra\\u003e\\u003c\\u002fextra\\u003e\",\"legendgroup\":\"\",\"marker\":{\"color\":[0.02,0.03735163435339928,0.02,0.03937532752752304,0.02,0.026903638616204262,0.02,0.02,0.02,0.23784169554710388,0.01,0.01,0.01,0.01,0.0,0.01,0.01,0.01,0.01,0.01,0.09222893416881561,0.01],\"coloraxis\":\"coloraxis\",\"symbol\":\"circle\"},\"mode\":\"markers\",\"name\":\"\",\"orientation\":\"v\",\"showlegend\":false,\"x\":[57.76,58.54,64.29,61.2,71.76,58.47,64.79,61.47,53.52,58.97,52.46,58.95,60.06,57.94,53.75,58.98,57.85,57.15,54.9,56.64,56.24,58.0],\"xaxis\":\"x\",\"y\":[24.58,22.72,14.96,23.91,24.83,26.12,34.73,27.92,29.3,26.25,24.63,31.36,17.51,26.46,25.46,25.62,25.48,22.4,29.08,19.03,18.17,24.24],\"yaxis\":\"y\",\"type\":\"scatter\"}],\"name\":\"20\"},{\"data\":[{\"hovertemplate\":\"frameId=21\\u003cbr\\u003ex=%{x}\\u003cbr\\u003ey=%{y}\\u003cbr\\u003ePredictions=%{marker.color}\\u003cextra\\u003e\\u003c\\u002fextra\\u003e\",\"legendgroup\":\"\",\"marker\":{\"color\":[0.02,0.03179597854614258,0.02,0.028660941869020462,0.02,0.028439030051231384,0.02,0.02,0.02,0.23690390586853027,0.01,0.01,0.01,0.01,0.0,0.01,0.01,0.01,0.01,0.01,0.11064716428518295,0.01],\"coloraxis\":\"coloraxis\",\"symbol\":\"circle\"},\"mode\":\"markers\",\"name\":\"\",\"orientation\":\"v\",\"showlegend\":false,\"x\":[57.69,58.23,64.42,61.01,71.68,58.49,64.63,61.22,53.06,58.97,52.09,59.09,60.51,57.94,54.15,59.03,57.82,57.39,54.77,56.45,55.87,58.0],\"xaxis\":\"x\",\"y\":[24.75,23.0,15.02,23.96,24.82,26.13,34.41,27.76,29.1,26.35,24.67,30.94,17.47,26.5,25.45,25.75,25.55,22.61,29.09,18.94,18.1,24.47],\"yaxis\":\"y\",\"type\":\"scatter\"}],\"name\":\"21\"},{\"data\":[{\"hovertemplate\":\"frameId=22\\u003cbr\\u003ex=%{x}\\u003cbr\\u003ey=%{y}\\u003cbr\\u003ePredictions=%{marker.color}\\u003cextra\\u003e\\u003c\\u002fextra\\u003e\",\"legendgroup\":\"\",\"marker\":{\"color\":[0.02,0.03152959421277046,0.02,0.027175404131412506,0.02,0.025735534727573395,0.02,0.02,0.02,0.27906495332717896,0.01,0.01,0.01,0.01,0.0,0.01,0.01,0.01,0.01,0.01,0.11193668842315674,0.01],\"coloraxis\":\"coloraxis\",\"symbol\":\"circle\"},\"mode\":\"markers\",\"name\":\"\",\"orientation\":\"v\",\"showlegend\":false,\"x\":[57.62,57.93,64.58,60.84,71.55,58.5,64.42,60.97,52.65,58.97,51.74,59.23,60.97,57.93,54.53,59.07,57.76,57.56,54.65,56.22,55.5,57.99],\"xaxis\":\"x\",\"y\":[24.89,23.28,15.09,24.0,24.79,26.13,34.06,27.59,28.86,26.44,24.72,30.51,17.44,26.54,25.38,25.86,25.63,22.84,29.08,18.87,18.06,24.66],\"yaxis\":\"y\",\"type\":\"scatter\"}],\"name\":\"22\"},{\"data\":[{\"hovertemplate\":\"frameId=23\\u003cbr\\u003ex=%{x}\\u003cbr\\u003ey=%{y}\\u003cbr\\u003ePredictions=%{marker.color}\\u003cextra\\u003e\\u003c\\u002fextra\\u003e\",\"legendgroup\":\"\",\"marker\":{\"color\":[0.02,0.04133758321404457,0.02,0.026818489655852318,0.02,0.027540771290659904,0.021464994177222252,0.02,0.02,0.3298875689506531,0.01,0.01,0.01,0.01,0.0,0.01,0.01,0.01,0.01,0.01,0.10837239027023315,0.01],\"coloraxis\":\"coloraxis\",\"symbol\":\"circle\"},\"mode\":\"markers\",\"name\":\"\",\"orientation\":\"v\",\"showlegend\":false,\"x\":[57.56,57.66,64.76,60.68,71.38,58.5,64.16,60.75,52.3,58.96,51.43,59.34,61.43,57.93,54.87,59.12,57.69,57.67,54.54,55.98,55.13,57.96],\"xaxis\":\"x\",\"y\":[24.98,23.55,15.16,24.02,24.77,26.13,33.69,27.41,28.58,26.53,24.75,30.11,17.4,26.57,25.25,25.98,25.72,23.08,29.03,18.8,18.05,24.85],\"yaxis\":\"y\",\"type\":\"scatter\"}],\"name\":\"23\"},{\"data\":[{\"hovertemplate\":\"frameId=24\\u003cbr\\u003ex=%{x}\\u003cbr\\u003ey=%{y}\\u003cbr\\u003ePredictions=%{marker.color}\\u003cextra\\u003e\\u003c\\u002fextra\\u003e\",\"legendgroup\":\"\",\"marker\":{\"color\":[0.02,0.050030749291181564,0.02,0.025596730411052704,0.02,0.028104867786169052,0.022623909637331963,0.02,0.02,0.35999125242233276,0.01,0.01,0.01,0.01,0.0,0.01,0.01,0.01,0.01,0.01,0.09555727243423462,0.01],\"coloraxis\":\"coloraxis\",\"symbol\":\"circle\"},\"mode\":\"markers\",\"name\":\"\",\"orientation\":\"v\",\"showlegend\":false,\"x\":[57.5,57.41,64.94,60.52,71.17,58.5,63.85,60.56,52.0,58.95,51.14,59.45,61.89,57.92,55.17,59.17,57.61,57.73,54.44,55.73,54.77,57.89],\"xaxis\":\"x\",\"y\":[25.05,23.79,15.23,23.99,24.74,26.13,33.32,27.21,28.29,26.61,24.78,29.72,17.37,26.59,25.07,26.1,25.82,23.32,28.95,18.75,18.1,25.01],\"yaxis\":\"y\",\"type\":\"scatter\"}],\"name\":\"24\"},{\"data\":[{\"hovertemplate\":\"frameId=25\\u003cbr\\u003ex=%{x}\\u003cbr\\u003ey=%{y}\\u003cbr\\u003ePredictions=%{marker.color}\\u003cextra\\u003e\\u003c\\u002fextra\\u003e\",\"legendgroup\":\"\",\"marker\":{\"color\":[0.02,0.04544351249933243,0.02,0.023911764845252037,0.02,0.025767579674720764,0.02,0.02,0.02,0.32747405767440796,0.01,0.01,0.01,0.01,0.0,0.01,0.01,0.01,0.01,0.01,0.11079146713018417,0.01],\"coloraxis\":\"coloraxis\",\"symbol\":\"circle\"},\"mode\":\"markers\",\"name\":\"\",\"orientation\":\"v\",\"showlegend\":false,\"x\":[57.45,57.15,65.09,60.35,70.92,58.49,63.51,60.41,51.77,58.94,50.89,59.56,62.34,57.91,55.43,59.21,57.5,57.74,54.36,55.42,54.45,57.8],\"xaxis\":\"x\",\"y\":[25.09,23.98,15.28,23.94,24.71,26.1,32.92,26.98,27.97,26.7,24.82,29.36,17.32,26.61,24.83,26.24,25.93,23.55,28.82,18.73,18.22,25.16],\"yaxis\":\"y\",\"type\":\"scatter\"}],\"name\":\"25\"},{\"data\":[{\"hovertemplate\":\"frameId=26\\u003cbr\\u003ex=%{x}\\u003cbr\\u003ey=%{y}\\u003cbr\\u003ePredictions=%{marker.color}\\u003cextra\\u003e\\u003c\\u002fextra\\u003e\",\"legendgroup\":\"\",\"marker\":{\"color\":[0.02,0.05015147104859352,0.02,0.02438843995332718,0.02,0.021522175520658493,0.02,0.02,0.02,0.3807626962661743,0.01,0.01,0.01,0.01,0.0,0.01,0.01,0.01,0.01,0.01,0.10445034503936768,0.01],\"coloraxis\":\"coloraxis\",\"symbol\":\"circle\"},\"mode\":\"markers\",\"name\":\"\",\"orientation\":\"v\",\"showlegend\":false,\"x\":[57.41,56.92,65.22,60.18,70.62,58.48,63.14,60.28,51.61,58.93,50.67,59.67,62.76,57.9,55.65,59.27,57.37,57.69,54.29,55.14,54.13,57.7],\"xaxis\":\"x\",\"y\":[25.1,24.12,15.31,23.83,24.67,26.06,32.52,26.73,27.63,26.78,24.86,29.02,17.27,26.61,24.55,26.37,26.03,23.75,28.66,18.74,18.39,25.29],\"yaxis\":\"y\",\"type\":\"scatter\"}],\"name\":\"26\"},{\"data\":[{\"hovertemplate\":\"frameId=27\\u003cbr\\u003ex=%{x}\\u003cbr\\u003ey=%{y}\\u003cbr\\u003ePredictions=%{marker.color}\\u003cextra\\u003e\\u003c\\u002fextra\\u003e\",\"legendgroup\":\"\",\"marker\":{\"color\":[0.02,0.06787150353193283,0.02,0.03207920864224434,0.02,0.021587228402495384,0.02,0.02,0.02,0.33758673071861267,0.01,0.01,0.01,0.01,0.0,0.01,0.01,0.01,0.01,0.01,0.11259827017784119,0.01],\"coloraxis\":\"coloraxis\",\"symbol\":\"circle\"},\"mode\":\"markers\",\"name\":\"\",\"orientation\":\"v\",\"showlegend\":false,\"x\":[57.37,56.7,65.32,60.01,70.3,58.49,62.78,60.19,51.52,58.91,50.48,59.79,63.16,57.91,55.82,59.33,57.24,57.59,54.22,54.84,53.86,57.59],\"xaxis\":\"x\",\"y\":[25.08,24.19,15.32,23.69,24.61,25.99,32.09,26.44,27.27,26.86,24.89,28.7,17.21,26.59,24.23,26.52,26.12,23.93,28.44,18.77,18.61,25.39],\"yaxis\":\"y\",\"type\":\"scatter\"}],\"name\":\"27\"},{\"data\":[{\"hovertemplate\":\"frameId=28\\u003cbr\\u003ex=%{x}\\u003cbr\\u003ey=%{y}\\u003cbr\\u003ePredictions=%{marker.color}\\u003cextra\\u003e\\u003c\\u002fextra\\u003e\",\"legendgroup\":\"\",\"marker\":{\"color\":[0.02,0.09649889171123505,0.02,0.03184644132852554,0.02,0.021752020344138145,0.02,0.02,0.02,0.36417779326438904,0.01,0.01,0.01,0.01,0.0,0.01,0.01,0.01,0.01,0.01,0.09241805970668793,0.01],\"coloraxis\":\"coloraxis\",\"symbol\":\"circle\"},\"mode\":\"markers\",\"name\":\"\",\"orientation\":\"v\",\"showlegend\":false,\"x\":[57.36,56.48,65.38,59.81,69.95,58.5,62.41,60.12,51.49,58.91,50.32,59.92,63.53,57.93,55.97,59.41,57.11,57.46,54.16,54.56,53.62,57.47],\"xaxis\":\"x\",\"y\":[25.04,24.18,15.3,23.5,24.55,25.87,31.66,26.12,26.9,26.94,24.92,28.41,17.14,26.58,23.89,26.66,26.21,24.09,28.17,18.81,18.89,25.47],\"yaxis\":\"y\",\"type\":\"scatter\"}],\"name\":\"28\"},{\"data\":[{\"hovertemplate\":\"frameId=29\\u003cbr\\u003ex=%{x}\\u003cbr\\u003ey=%{y}\\u003cbr\\u003ePredictions=%{marker.color}\\u003cextra\\u003e\\u003c\\u002fextra\\u003e\",\"legendgroup\":\"\",\"marker\":{\"color\":[0.02,0.1375928670167923,0.02,0.03309721499681473,0.02,0.02116859331727028,0.02,0.02,0.02,0.31360897421836853,0.01,0.01,0.01,0.01,0.0,0.01,0.01,0.01,0.01,0.01,0.09037856012582779,0.01],\"coloraxis\":\"coloraxis\",\"symbol\":\"circle\"},\"mode\":\"markers\",\"name\":\"\",\"orientation\":\"v\",\"showlegend\":false,\"x\":[57.35,56.29,65.39,59.59,69.56,58.52,62.06,60.07,51.52,58.94,50.18,60.05,63.85,57.96,56.08,59.5,56.97,57.3,54.13,54.27,53.42,57.35],\"xaxis\":\"x\",\"y\":[24.97,24.13,15.28,23.28,24.45,25.72,31.23,25.77,26.54,27.02,24.96,28.12,17.06,26.56,23.55,26.82,26.27,24.21,27.87,18.9,19.2,25.54],\"yaxis\":\"y\",\"type\":\"scatter\"}],\"name\":\"29\"},{\"data\":[{\"hovertemplate\":\"frameId=30\\u003cbr\\u003ex=%{x}\\u003cbr\\u003ey=%{y}\\u003cbr\\u003ePredictions=%{marker.color}\\u003cextra\\u003e\\u003c\\u002fextra\\u003e\",\"legendgroup\":\"\",\"marker\":{\"color\":[0.02,0.21173308789730072,0.02,0.030132420361042023,0.02,0.02,0.02,0.02,0.02,0.33430105447769165,0.01,0.01,0.01,0.01,0.0,0.01,0.01,0.01,0.01,0.01,0.07643947005271912,0.01],\"coloraxis\":\"coloraxis\",\"symbol\":\"circle\"},\"mode\":\"markers\",\"name\":\"\",\"orientation\":\"v\",\"showlegend\":false,\"x\":[57.38,56.11,65.36,59.34,69.14,58.54,61.74,60.02,51.61,58.96,50.07,60.18,64.13,58.01,56.18,59.62,56.86,57.12,54.11,54.01,53.27,57.22],\"xaxis\":\"x\",\"y\":[24.87,24.01,15.24,23.03,24.32,25.55,30.8,25.38,26.16,27.08,24.99,27.86,16.95,26.53,23.27,26.97,26.32,24.29,27.54,18.98,19.54,25.6],\"yaxis\":\"y\",\"type\":\"scatter\"}],\"name\":\"30\"},{\"data\":[{\"hovertemplate\":\"frameId=31\\u003cbr\\u003ex=%{x}\\u003cbr\\u003ey=%{y}\\u003cbr\\u003ePredictions=%{marker.color}\\u003cextra\\u003e\\u003c\\u002fextra\\u003e\",\"legendgroup\":\"\",\"marker\":{\"color\":[0.02,0.45567774772644043,0.02,0.029336627572774887,0.02,0.02,0.02,0.02,0.02,0.22223258018493652,0.01,0.01,0.01,0.01,0.0,0.01,0.01,0.01,0.01,0.01,0.05459005758166313,0.01],\"coloraxis\":\"coloraxis\",\"symbol\":\"circle\"},\"mode\":\"markers\",\"name\":\"\",\"orientation\":\"v\",\"showlegend\":false,\"x\":[57.43,55.93,65.28,59.07,68.71,58.57,61.46,59.98,51.78,58.98,49.98,60.31,64.37,58.07,56.26,59.73,56.75,56.92,54.11,53.77,53.19,57.08],\"xaxis\":\"x\",\"y\":[24.76,23.83,15.2,22.77,24.16,25.34,30.37,24.98,25.78,27.12,25.02,27.62,16.82,26.49,23.0,27.13,26.35,24.34,27.18,19.1,19.9,25.62],\"yaxis\":\"y\",\"type\":\"scatter\"}],\"name\":\"31\"},{\"data\":[{\"hovertemplate\":\"frameId=32\\u003cbr\\u003ex=%{x}\\u003cbr\\u003ey=%{y}\\u003cbr\\u003ePredictions=%{marker.color}\\u003cextra\\u003e\\u003c\\u002fextra\\u003e\",\"legendgroup\":\"\",\"marker\":{\"color\":[0.02,0.6616325378417969,0.02,0.020204735919833183,0.02,0.02,0.02,0.02,0.02,0.1516258269548416,0.01,0.01,0.01,0.01,0.0,0.01,0.01,0.01,0.01,0.01,0.032454829663038254,0.01],\"coloraxis\":\"coloraxis\",\"symbol\":\"circle\"},\"mode\":\"markers\",\"name\":\"\",\"orientation\":\"v\",\"showlegend\":false,\"x\":[57.49,55.82,65.17,58.77,68.27,58.61,61.24,59.94,51.99,59.01,49.91,60.44,64.55,58.13,56.32,59.86,56.66,56.72,54.12,53.56,53.18,56.95],\"xaxis\":\"x\",\"y\":[24.64,23.61,15.14,22.52,23.99,25.11,29.96,24.57,25.41,27.15,25.06,27.35,16.66,26.45,22.76,27.28,26.37,24.35,26.79,19.24,20.25,25.62],\"yaxis\":\"y\",\"type\":\"scatter\"}],\"name\":\"32\"},{\"data\":[{\"hovertemplate\":\"frameId=33\\u003cbr\\u003ex=%{x}\\u003cbr\\u003ey=%{y}\\u003cbr\\u003ePredictions=%{marker.color}\\u003cextra\\u003e\\u003c\\u002fextra\\u003e\",\"legendgroup\":\"\",\"marker\":{\"color\":[0.02,0.7771596312522888,0.02,0.02,0.02,0.02,0.02,0.02,0.02,0.09129539132118225,0.01,0.01,0.01,0.01,0.0,0.01,0.01,0.01,0.01,0.01,0.025464247912168503,0.01],\"coloraxis\":\"coloraxis\",\"symbol\":\"circle\"},\"mode\":\"markers\",\"name\":\"\",\"orientation\":\"v\",\"showlegend\":false,\"x\":[57.55,55.72,65.01,58.46,67.82,58.65,61.06,59.89,52.25,59.03,49.86,60.58,64.67,58.21,56.38,59.99,56.6,56.52,54.15,53.37,53.22,56.83],\"xaxis\":\"x\",\"y\":[24.49,23.35,15.08,22.29,23.81,24.86,29.56,24.15,25.06,27.13,25.09,27.1,16.47,26.39,22.58,27.45,26.36,24.31,26.39,19.41,20.6,25.6],\"yaxis\":\"y\",\"type\":\"scatter\"}],\"name\":\"33\"},{\"data\":[{\"hovertemplate\":\"frameId=34\\u003cbr\\u003ex=%{x}\\u003cbr\\u003ey=%{y}\\u003cbr\\u003ePredictions=%{marker.color}\\u003cextra\\u003e\\u003c\\u002fextra\\u003e\",\"legendgroup\":\"\",\"marker\":{\"color\":[0.02,0.8612411022186279,0.02,0.02,0.02,0.02,0.02,0.02,0.02,0.05490267649292946,0.01,0.01,0.01,0.01,0.0,0.01,0.01,0.01,0.01,0.01,0.02,0.01],\"coloraxis\":\"coloraxis\",\"symbol\":\"circle\"},\"mode\":\"markers\",\"name\":\"\",\"orientation\":\"v\",\"showlegend\":false,\"x\":[57.63,55.67,64.83,58.15,67.37,58.7,60.96,59.83,52.54,59.05,49.83,60.71,64.73,58.28,56.41,60.12,56.57,56.34,54.2,53.22,53.3,56.72],\"xaxis\":\"x\",\"y\":[24.33,23.06,15.01,22.09,23.62,24.59,29.18,23.75,24.72,27.1,25.12,26.86,16.25,26.33,22.45,27.58,26.33,24.24,25.98,19.59,20.93,25.55],\"yaxis\":\"y\",\"type\":\"scatter\"}],\"name\":\"34\"},{\"data\":[{\"hovertemplate\":\"frameId=35\\u003cbr\\u003ex=%{x}\\u003cbr\\u003ey=%{y}\\u003cbr\\u003ePredictions=%{marker.color}\\u003cextra\\u003e\\u003c\\u002fextra\\u003e\",\"legendgroup\":\"\",\"marker\":{\"color\":[0.02,0.9299752116203308,0.02,0.02,0.02,0.02,0.02,0.02,0.02,0.022682838141918182,0.01,0.01,0.01,0.01,0.0,0.01,0.01,0.01,0.01,0.01,0.02,0.01],\"coloraxis\":\"coloraxis\",\"symbol\":\"circle\"},\"mode\":\"markers\",\"name\":\"\",\"orientation\":\"v\",\"showlegend\":false,\"x\":[57.71,55.64,64.6,57.85,66.93,58.75,60.9,59.73,52.86,59.06,49.82,60.84,64.75,58.36,56.44,60.26,56.55,56.17,54.27,53.09,53.42,56.62],\"xaxis\":\"x\",\"y\":[24.17,22.75,14.93,21.95,23.42,24.32,28.83,23.36,24.42,27.03,25.16,26.62,16.02,26.21,22.38,27.72,26.29,24.11,25.58,19.77,21.24,25.49],\"yaxis\":\"y\",\"type\":\"scatter\"}],\"name\":\"35\"},{\"data\":[{\"hovertemplate\":\"frameId=36\\u003cbr\\u003ex=%{x}\\u003cbr\\u003ey=%{y}\\u003cbr\\u003ePredictions=%{marker.color}\\u003cextra\\u003e\\u003c\\u002fextra\\u003e\",\"legendgroup\":\"\",\"marker\":{\"color\":[0.02,0.9591361880302429,0.02,0.02,0.02,0.02,0.02,0.02,0.02,0.02,0.01,0.01,0.01,0.01,0.0,0.01,0.01,0.01,0.01,0.01,0.02,0.01],\"coloraxis\":\"coloraxis\",\"symbol\":\"circle\"},\"mode\":\"markers\",\"name\":\"\",\"orientation\":\"v\",\"showlegend\":false,\"x\":[57.75,55.65,64.34,57.55,66.5,58.79,60.88,59.61,53.21,59.07,49.82,60.97,64.71,58.43,56.46,60.4,56.56,56.05,54.36,53.0,53.59,56.54],\"xaxis\":\"x\",\"y\":[24.01,22.51,14.86,21.86,23.24,24.04,28.49,23.03,24.11,26.93,25.19,26.38,15.77,26.08,22.36,27.85,26.23,23.96,25.18,19.95,21.5,25.4],\"yaxis\":\"y\",\"type\":\"scatter\"}],\"name\":\"36\"},{\"data\":[{\"hovertemplate\":\"frameId=37\\u003cbr\\u003ex=%{x}\\u003cbr\\u003ey=%{y}\\u003cbr\\u003ePredictions=%{marker.color}\\u003cextra\\u003e\\u003c\\u002fextra\\u003e\",\"legendgroup\":\"\",\"marker\":{\"color\":[0.02,0.9700025320053101,0.02,0.02,0.02,0.02,0.02,0.02,0.02,0.02,0.01,0.01,0.01,0.01,0.0,0.01,0.01,0.01,0.01,0.01,0.02,0.01],\"coloraxis\":\"coloraxis\",\"symbol\":\"circle\"},\"mode\":\"markers\",\"name\":\"\",\"orientation\":\"v\",\"showlegend\":false,\"x\":[57.76,55.68,64.06,57.27,66.09,58.83,60.9,59.47,53.55,59.04,49.84,61.07,64.63,58.5,56.48,60.53,56.57,55.96,54.46,52.94,53.81,56.45],\"xaxis\":\"x\",\"y\":[23.85,22.26,14.8,21.82,23.08,23.77,28.18,22.76,23.83,26.81,25.23,26.13,15.51,25.93,22.37,27.95,26.17,23.76,24.81,20.14,21.73,25.3],\"yaxis\":\"y\",\"type\":\"scatter\"}],\"name\":\"37\"},{\"data\":[{\"hovertemplate\":\"frameId=38\\u003cbr\\u003ex=%{x}\\u003cbr\\u003ey=%{y}\\u003cbr\\u003ePredictions=%{marker.color}\\u003cextra\\u003e\\u003c\\u002fextra\\u003e\",\"legendgroup\":\"\",\"marker\":{\"color\":[0.02,0.9712440967559814,0.02,0.02,0.02,0.02,0.02,0.02,0.02,0.02,0.01,0.01,0.01,0.01,0.0,0.01,0.01,0.01,0.01,0.01,0.02,0.01],\"coloraxis\":\"coloraxis\",\"symbol\":\"circle\"},\"mode\":\"markers\",\"name\":\"\",\"orientation\":\"v\",\"showlegend\":false,\"x\":[57.75,55.72,63.76,57.01,65.69,58.86,60.95,59.31,53.9,59.01,49.87,61.16,64.49,58.58,56.48,60.66,56.62,55.91,54.57,52.92,54.07,56.38],\"xaxis\":\"x\",\"y\":[23.7,22.05,14.76,21.82,22.95,23.51,27.89,22.55,23.56,26.68,25.27,25.89,15.24,25.75,22.42,28.05,26.09,23.55,24.48,20.31,21.9,25.19],\"yaxis\":\"y\",\"type\":\"scatter\"}],\"name\":\"38\"},{\"data\":[{\"hovertemplate\":\"frameId=39\\u003cbr\\u003ex=%{x}\\u003cbr\\u003ey=%{y}\\u003cbr\\u003ePredictions=%{marker.color}\\u003cextra\\u003e\\u003c\\u002fextra\\u003e\",\"legendgroup\":\"\",\"marker\":{\"color\":[0.02,0.9778190851211548,0.02,0.02,0.02,0.02,0.02,0.02,0.02,0.02,0.01,0.01,0.01,0.01,0.0,0.01,0.01,0.01,0.01,0.01,0.02,0.01],\"coloraxis\":\"coloraxis\",\"symbol\":\"circle\"},\"mode\":\"markers\",\"name\":\"\",\"orientation\":\"v\",\"showlegend\":false,\"x\":[57.74,55.79,63.46,56.82,65.3,58.86,61.01,59.14,54.23,58.96,49.91,61.23,64.32,58.64,56.48,60.77,56.69,55.93,54.68,52.91,54.36,56.32],\"xaxis\":\"x\",\"y\":[23.55,21.87,14.74,21.89,22.85,23.29,27.63,22.42,23.32,26.52,25.32,25.65,14.98,25.58,22.47,28.12,26.0,23.34,24.18,20.48,22.03,25.08],\"yaxis\":\"y\",\"type\":\"scatter\"}],\"name\":\"39\"},{\"data\":[{\"hovertemplate\":\"frameId=40\\u003cbr\\u003ex=%{x}\\u003cbr\\u003ey=%{y}\\u003cbr\\u003ePredictions=%{marker.color}\\u003cextra\\u003e\\u003c\\u002fextra\\u003e\",\"legendgroup\":\"\",\"marker\":{\"color\":[0.02,0.9817104935646057,0.02,0.02,0.02,0.02,0.02,0.02,0.02,0.02,0.01,0.01,0.01,0.01,0.0,0.01,0.01,0.01,0.01,0.01,0.02,0.01],\"coloraxis\":\"coloraxis\",\"symbol\":\"circle\"},\"mode\":\"markers\",\"name\":\"\",\"orientation\":\"v\",\"showlegend\":false,\"x\":[57.72,55.85,63.16,56.68,64.93,58.86,61.1,58.96,54.55,58.91,49.95,61.28,64.11,58.71,56.43,60.88,56.76,55.98,54.81,52.93,54.67,56.26],\"xaxis\":\"x\",\"y\":[23.41,21.7,14.74,22.02,22.79,23.11,27.38,22.33,23.08,26.36,25.37,25.42,14.74,25.39,22.53,28.18,25.9,23.13,23.91,20.65,22.1,24.96],\"yaxis\":\"y\",\"type\":\"scatter\"}],\"name\":\"40\"},{\"data\":[{\"hovertemplate\":\"frameId=41\\u003cbr\\u003ex=%{x}\\u003cbr\\u003ey=%{y}\\u003cbr\\u003ePredictions=%{marker.color}\\u003cextra\\u003e\\u003c\\u002fextra\\u003e\",\"legendgroup\":\"\",\"marker\":{\"color\":[0.02,0.9861119389533997,0.02,0.02,0.02,0.02,0.02,0.02,0.02,0.02,0.01,0.01,0.01,0.01,0.0,0.01,0.01,0.01,0.01,0.01,0.02,0.01],\"coloraxis\":\"coloraxis\",\"symbol\":\"circle\"},\"mode\":\"markers\",\"name\":\"\",\"orientation\":\"v\",\"showlegend\":false,\"x\":[57.68,55.91,62.86,56.54,64.59,58.85,61.19,58.78,54.83,58.86,50.01,61.31,63.86,58.77,56.41,60.98,56.85,56.06,54.93,52.97,54.99,56.21],\"xaxis\":\"x\",\"y\":[23.3,21.61,14.77,22.16,22.77,22.95,27.16,22.29,22.88,26.19,25.41,25.19,14.51,25.17,22.62,28.21,25.8,22.92,23.69,20.8,22.13,24.85],\"yaxis\":\"y\",\"type\":\"scatter\"}],\"name\":\"41\"},{\"data\":[{\"hovertemplate\":\"frameId=42\\u003cbr\\u003ex=%{x}\\u003cbr\\u003ey=%{y}\\u003cbr\\u003ePredictions=%{marker.color}\\u003cextra\\u003e\\u003c\\u002fextra\\u003e\",\"legendgroup\":\"\",\"marker\":{\"color\":[0.02,0.9881239533424377,0.02,0.02,0.02,0.02,0.02,0.02,0.02,0.02,0.01,0.01,0.01,0.01,0.0,0.01,0.01,0.01,0.01,0.01,0.02,0.01],\"coloraxis\":\"coloraxis\",\"symbol\":\"circle\"},\"mode\":\"markers\",\"name\":\"\",\"orientation\":\"v\",\"showlegend\":false,\"x\":[57.63,55.98,62.56,56.49,64.26,58.82,61.25,58.62,55.1,58.78,50.07,61.33,63.58,58.82,56.36,61.07,56.93,56.13,55.06,53.02,55.31,56.17],\"xaxis\":\"x\",\"y\":[23.2,21.5,14.82,22.28,22.77,22.82,26.97,22.29,22.7,26.02,25.46,24.97,14.3,24.96,22.71,28.23,25.7,22.83,23.51,20.93,22.14,24.75],\"yaxis\":\"y\",\"type\":\"scatter\"}],\"name\":\"42\"},{\"data\":[{\"hovertemplate\":\"frameId=43\\u003cbr\\u003ex=%{x}\\u003cbr\\u003ey=%{y}\\u003cbr\\u003ePredictions=%{marker.color}\\u003cextra\\u003e\\u003c\\u002fextra\\u003e\",\"legendgroup\":\"\",\"marker\":{\"color\":[0.02,0.987456738948822,0.02,0.02,0.02,0.02,0.02,0.02,0.02,0.02,0.01,0.01,0.01,0.01,0.0,0.01,0.01,0.01,0.01,0.01,0.02,0.01],\"coloraxis\":\"coloraxis\",\"symbol\":\"circle\"},\"mode\":\"markers\",\"name\":\"\",\"orientation\":\"v\",\"showlegend\":false,\"x\":[57.57,56.02,62.28,56.44,63.94,58.79,61.3,58.47,55.34,58.7,50.13,61.34,63.27,58.87,56.31,61.15,57.02,56.22,55.18,53.07,55.63,56.13],\"xaxis\":\"x\",\"y\":[23.13,21.5,14.9,22.39,22.8,22.73,26.81,22.31,22.54,25.85,25.51,24.77,14.11,24.76,22.8,28.24,25.6,22.72,23.35,21.06,22.12,24.65],\"yaxis\":\"y\",\"type\":\"scatter\"}],\"name\":\"43\"},{\"data\":[{\"hovertemplate\":\"frameId=44\\u003cbr\\u003ex=%{x}\\u003cbr\\u003ey=%{y}\\u003cbr\\u003ePredictions=%{marker.color}\\u003cextra\\u003e\\u003c\\u002fextra\\u003e\",\"legendgroup\":\"\",\"marker\":{\"color\":[0.02,0.9889046549797058,0.02,0.02,0.02,0.02,0.02,0.02,0.02,0.02,0.01,0.01,0.01,0.01,0.0,0.01,0.01,0.01,0.01,0.01,0.02,0.01],\"coloraxis\":\"coloraxis\",\"symbol\":\"circle\"},\"mode\":\"markers\",\"name\":\"\",\"orientation\":\"v\",\"showlegend\":false,\"x\":[57.52,56.09,62.01,56.44,63.65,58.75,61.33,58.34,55.55,58.62,50.2,61.33,62.94,58.91,56.27,61.21,57.09,56.32,55.27,53.13,55.93,56.1],\"xaxis\":\"x\",\"y\":[23.07,21.48,15.0,22.53,22.85,22.65,26.66,22.36,22.4,25.69,25.55,24.58,13.94,24.55,22.78,28.24,25.51,22.63,23.22,21.17,22.06,24.58],\"yaxis\":\"y\",\"type\":\"scatter\"}],\"name\":\"44\"},{\"data\":[{\"hovertemplate\":\"frameId=45\\u003cbr\\u003ex=%{x}\\u003cbr\\u003ey=%{y}\\u003cbr\\u003ePredictions=%{marker.color}\\u003cextra\\u003e\\u003c\\u002fextra\\u003e\",\"legendgroup\":\"\",\"marker\":{\"color\":[0.02,0.9911084175109863,0.02,0.02,0.02,0.02,0.02,0.02,0.02,0.02,0.01,0.01,0.01,0.01,0.0,0.01,0.01,0.01,0.01,0.01,0.02,0.01],\"coloraxis\":\"coloraxis\",\"symbol\":\"circle\"},\"mode\":\"markers\",\"name\":\"\",\"orientation\":\"v\",\"showlegend\":false,\"x\":[57.48,56.13,61.75,56.44,63.38,58.71,61.32,58.23,55.73,58.55,50.26,61.33,62.6,58.96,56.31,61.26,57.16,56.45,55.34,53.19,56.16,56.08],\"xaxis\":\"x\",\"y\":[23.04,21.56,15.13,22.66,22.91,22.6,26.54,22.38,22.29,25.54,25.57,24.42,13.79,24.35,22.84,28.23,25.41,22.55,23.12,21.27,22.03,24.51],\"yaxis\":\"y\",\"type\":\"scatter\"}],\"name\":\"45\"},{\"data\":[{\"hovertemplate\":\"frameId=46\\u003cbr\\u003ex=%{x}\\u003cbr\\u003ey=%{y}\\u003cbr\\u003ePredictions=%{marker.color}\\u003cextra\\u003e\\u003c\\u002fextra\\u003e\",\"legendgroup\":\"\",\"marker\":{\"color\":[0.02,0.9898231029510498,0.02,0.02,0.02,0.02,0.02,0.02,0.02,0.02,0.01,0.01,0.01,0.01,0.0,0.01,0.01,0.01,0.01,0.01,0.02,0.01],\"coloraxis\":\"coloraxis\",\"symbol\":\"circle\"},\"mode\":\"markers\",\"name\":\"\",\"orientation\":\"v\",\"showlegend\":false,\"x\":[57.43,56.19,61.51,56.44,63.13,58.66,61.28,58.14,55.88,58.46,50.33,61.31,62.24,58.99,56.28,61.31,57.23,56.57,55.4,53.26,56.38,56.07],\"xaxis\":\"x\",\"y\":[23.03,21.6,15.27,22.76,22.97,22.57,26.43,22.4,22.19,25.4,25.58,24.27,13.66,24.16,22.87,28.22,25.31,22.5,23.03,21.36,21.98,24.46],\"yaxis\":\"y\",\"type\":\"scatter\"}],\"name\":\"46\"}]);\n",
       "                        }).then(function(){\n",
       "                            \n",
       "var gd = document.getElementById('40c0caa6-79e9-44c4-9d0b-5c9ce8e03dca');\n",
       "var x = new MutationObserver(function (mutations, observer) {{\n",
       "        var display = window.getComputedStyle(gd).display;\n",
       "        if (!display || display === 'none') {{\n",
       "            console.log([gd, 'removed!']);\n",
       "            Plotly.purge(gd);\n",
       "            observer.disconnect();\n",
       "        }}\n",
       "}});\n",
       "\n",
       "// Listen for the removal of the full notebook cells\n",
       "var notebookContainer = gd.closest('#notebook-container');\n",
       "if (notebookContainer) {{\n",
       "    x.observe(notebookContainer, {childList: true});\n",
       "}}\n",
       "\n",
       "// Listen for the clearing of the current output cell\n",
       "var outputEl = gd.closest('.output');\n",
       "if (outputEl) {{\n",
       "    x.observe(outputEl, {childList: true});\n",
       "}}\n",
       "\n",
       "                        })                };                });            </script>        </div>"
      ]
     },
     "metadata": {},
     "output_type": "display_data"
    }
   ],
   "source": [
    "playAnimator(animate, 2022102308, 1137)"
   ]
  },
  {
   "cell_type": "code",
   "execution_count": null,
   "id": "47017df3-08c2-45cc-bf87-1c4393ad1b62",
   "metadata": {},
   "outputs": [],
   "source": []
  },
  {
   "cell_type": "code",
   "execution_count": null,
   "id": "0d0bf75b-25af-4744-88eb-4d9197b5db30",
   "metadata": {},
   "outputs": [],
   "source": []
  },
  {
   "cell_type": "code",
   "execution_count": null,
   "id": "e0d5ad85-ecab-4e10-ad88-b9415b8ac8f7",
   "metadata": {},
   "outputs": [],
   "source": []
  }
 ],
 "metadata": {
  "kernelspec": {
   "display_name": "Python 3 (ipykernel)",
   "language": "python",
   "name": "python3"
  },
  "language_info": {
   "codemirror_mode": {
    "name": "ipython",
    "version": 3
   },
   "file_extension": ".py",
   "mimetype": "text/x-python",
   "name": "python",
   "nbconvert_exporter": "python",
   "pygments_lexer": "ipython3",
   "version": "3.10.12"
  }
 },
 "nbformat": 4,
 "nbformat_minor": 5
}
